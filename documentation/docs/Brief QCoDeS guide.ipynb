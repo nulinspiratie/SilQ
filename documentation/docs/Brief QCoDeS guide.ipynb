{
 "cells": [
  {
   "cell_type": "markdown",
   "metadata": {},
   "source": [
    "# Brief QCoDeS guide"
   ]
  },
  {
   "cell_type": "markdown",
   "metadata": {},
   "source": [
    "Since QCoDeS is at the foundation of SilQ, we will first give a brief guide\n",
    "on the main concepts of QCoDeS.\n",
    "This page is intended to be a short guide that gets the reader introduced to\n",
    "the most important principles of QCoDeS, and is by no means intended to\n",
    "be a comprehensive guide.\n",
    "For more information, please see the documentation website of \n",
    "[QCoDeS](http://qcodes.github.io/Qcodes/).\n",
    "However, please remember that our group uses a version of QCoDeS that has\n",
    "diverged from the main QCoDeS, and so some sections are not relevant to us\n",
    "(in particular the new DataSet and measuring method).\n",
    "Additionally, the [in-depth guides](in-depth guides/index) section contains\n",
    "information about specific parts of QCoDeS."
   ]
  },
  {
   "cell_type": "code",
   "execution_count": null,
   "metadata": {},
   "outputs": [],
   "source": []
  }
 ],
 "metadata": {
  "kernelspec": {
   "display_name": "Python 3",
   "language": "python",
   "name": "python3"
  },
  "language_info": {
   "codemirror_mode": {
    "name": "ipython",
    "version": 3
   },
   "file_extension": ".py",
   "mimetype": "text/x-python",
   "name": "python",
   "nbconvert_exporter": "python",
   "pygments_lexer": "ipython3",
   "version": "3.6.3"
  }
 },
 "nbformat": 4,
 "nbformat_minor": 2
}
