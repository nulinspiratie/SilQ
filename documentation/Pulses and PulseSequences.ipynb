{
 "cells": [
  {
   "cell_type": "markdown",
   "metadata": {},
   "source": [
    "# Introduction\n",
    "\n",
    "A PulseSequence consists of pulses and defines a measurement.\n",
    "It can consist of two types of pulses:\n",
    "- (generic) Pulse, which are not specific to a certain Interface/instrument. Users should use these pulses to create their PulseSequence.\n",
    "- PulseImplementations, which are specific to an Interface. Aside from being a Pulse, a PulseImplementation has a `PulseImplementation.implement()` function, which performs commands to implement the pulse for a specific Instrument. Each Interface has an `Interface.PulseSequence` that contains PulseImplementations.\n",
    "\n",
    "In this notebook, we will focus on (generic) pulses.\n",
    "\n",
    "# Pulse\n",
    "Every type of `Pulse` has its own class (e.g. SinePulse, TriggerPulse), and is a child of the `Pulse` class.\n",
    "All pulses are defined in [silq\\pulses\\pulse_types.py](..\\silq\\pulses\\pulse_types.py).\n",
    "\n",
    "### Common Pulse attributes:\n",
    "- **name** (str)\n",
    "- **t_start** (float): start time of pulse (if not defined, equal to end of previous pulse when added to PulseSequence).\n",
    "- **duration** (float): pulse duration (if not defined, equal to t_stop - t_start).\n",
    "- **t_stop** (float): stop time (if not defined, equal to t_start + duration).\n",
    "- **acquire** (bool): acquire pulse by acquisition instrument.\n",
    "- **enabled** (bool): enable pulse (if not, it is not distributed by Layout).\n",
    "- **initialize\n",
    "- **connection** (Connection): Connection where it belongs to after targeting (None by default)\n",
    "- **connection_requirements** (dict): properties a connection should satisfy (such as being triggering instrument of other instrument). This can be used to direct a pulse to a specific connection. \n",
    "\n",
    "Additionally, pulses can have specific\n",
    "\n",
    "### Common Pulse functions:\n",
    "- **copy**: Create a copy of the Pulse object. You can optionally fix all the variables (i.e. they do not depend on other Pulses anymore).\n",
    "- **get_voltage**: Get voltage of pulse at a specific time, or a list of times.\n",
    "- **satisfies_conditions**: Check if a pulse satisfies conditions. Used for filtering a pulse out of a PulseSequence."
   ]
  },
  {
   "cell_type": "markdown",
   "metadata": {},
   "source": [
    "### Future work\n",
    "- Conditional operations, such as deciding what pulses to apply depending on a measurement outcome.\n",
    "- Efficient implementation of subroutines (a PulseSequence within a PulseSequence)\n",
    "- Easy handling of cases when pulses need to be directed to different lines (e.g. two connections both can implement sine pulses, and sinepulse1 needs to be directed to connection1, and sinepulse2 to connection2)."
   ]
  }
 ],
 "metadata": {
  "kernelspec": {
   "display_name": "Python 3",
   "language": "python",
   "name": "python3"
  },
  "language_info": {
   "codemirror_mode": {
    "name": "ipython",
    "version": 3
   },
   "file_extension": ".py",
   "mimetype": "text/x-python",
   "name": "python",
   "nbconvert_exporter": "python",
   "pygments_lexer": "ipython3",
   "version": "3.6.0"
  }
 },
 "nbformat": 4,
 "nbformat_minor": 2
}
