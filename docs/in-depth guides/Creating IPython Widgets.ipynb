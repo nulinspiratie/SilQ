{
 "cells": [
  {
   "cell_type": "markdown",
   "metadata": {},
   "source": [
    "# Creating IPython Widgets (IPywidgets)\n",
    "**ipywidgets is a Python package that can be installed using `pip install ipywidgets`.  \n",
    "Be sure to have the latest version of ipywidgets (at least 7.0).**\n",
    "## Introduction\n",
    "IPython widgets can be used to enhance the interactivity of Jupyter notebooks.\n",
    "They allow adding GUI-like elements, such as buttons, textboxes, tabs, that can be linked to Python code execution.\n",
    "Widgets can be further linked to Javascript code, an important feature as it allows modification of the Javascript front-end.\n",
    "This enables:\n",
    "- Adding new elements using Javascript.\n",
    "- Cell manipulation (creating/deleting/moving/executing cells)\n",
    "- Linking keyboard shortcuts to code execution\n",
    "- Changing/adding CSS to change the page style\n",
    "\n",
    "IPywidgets can be used to create very interesting interactive features. As an example, one could create a sidebar with buttons that, when pressed, execute specific notebook cells.\n",
    "\n",
    "For more information, please read:\n",
    "- IPywidgets documentation: https://ipywidgets.readthedocs.io/en/stable/. In particular:\n",
    "    - List of standard IPywidgets: https://ipywidgets.readthedocs.io/en/stable/examples/Widget%20List.html\n",
    "    - IPywidget interaction with Javascript: https://ipywidgets.readthedocs.io/en/stable/examples/Widget%20Custom.html\n",
    "- Jupyter notebook extensions https://github.com/ipython-contrib/jupyter_contrib_nbextensions\n",
    "    These extensions are written in Javascript, and so the code can also be used for IPywidgets.\n",
    "    The big difference is that a notebook extension is always executed when a notebook starts (if it's enabled), while an IPywidget needs to be created in Python. Furthermore, an extension is limited to Javascript, but an IPywidget can have both Python and Javascript, and can interact between the two. \n",
    "    It contains many good examples; for a good overview, install https://github.com/Jupyter-contrib/jupyter_nbextensions_configurator\n",
    "- QCoDeS used to have widgets as well, which showed an interesting way of using them.  Check version 1.3 (hash fb3c964c8c64cc81af6e9dee181ba0b3ab45a0c0)\n"
   ]
  },
  {
   "cell_type": "markdown",
   "metadata": {},
   "source": [
    "## Creating an IPywidget\n",
    "There are four ways (that I know of) to create an IPywidget.\n",
    "Each of these ways is explained below"
   ]
  },
  {
   "cell_type": "markdown",
   "metadata": {
    "collapsed": true
   },
   "source": [
    "### Standard IPywidgets (no Javascript)"
   ]
  },
  {
   "cell_type": "markdown",
   "metadata": {},
   "source": [
    "The simplest method to use widgets is to import ipywidgets and use its standard widget objects.\n",
    "As an example, we create a button that, when presed, will print some text."
   ]
  },
  {
   "cell_type": "code",
   "execution_count": 39,
   "metadata": {},
   "outputs": [
    {
     "data": {
      "text/plain": [
       "A Jupyter Widget"
      ]
     },
     "metadata": {},
     "output_type": "display_data"
    }
   ],
   "source": [
    "from ipywidgets import widgets\n",
    "from IPython.display import display\n",
    "button = widgets.Button(description='click me')\n",
    "# Attach callback when pressed\n",
    "button.on_click(lambda event: print('You clicked me'))\n",
    "\n",
    "# Display button\n",
    "display(button)"
   ]
  },
  {
   "cell_type": "markdown",
   "metadata": {},
   "source": [
    "This already provides quite some interactivity, as it allows execution of Python code when events occur.\n",
    "The advantage is that the code is very simple, and so it's easy to create such widgets.\n",
    "There are several disadvantages though:\n",
    "- It is difficult to interact these elements with Javascript (you would need to subclass it)\n",
    "- The widgets can only be modified by a limited amount (no real css modification)\n",
    "\n",
    "Therefore, this method is only useful for very simple widgets.\n",
    "However, you can add these widgets as part of larger widgets created using the methods described below.\n",
    "\n",
    "More info: https://ipywidgets.readthedocs.io/en/stable/examples/Widget%20Basics.html"
   ]
  },
  {
   "cell_type": "markdown",
   "metadata": {},
   "source": [
    "### Method 1: Creating Javascript cell"
   ]
  },
  {
   "cell_type": "markdown",
   "metadata": {
    "collapsed": true
   },
   "source": [
    "Jupyter notebook allows direct execution of javascript code by starting the code with `%%javascript`. As an example, the code below sends a message to the console"
   ]
  },
  {
   "cell_type": "code",
   "execution_count": 6,
   "metadata": {},
   "outputs": [
    {
     "data": {
      "text/plain": [
       "<IPython.core.display.Javascript object>"
      ]
     },
     "metadata": {},
     "output_type": "display_data"
    }
   ],
   "source": [
    "%%javascript\n",
    "console.log('this is a console message.')"
   ]
  },
  {
   "cell_type": "markdown",
   "metadata": {},
   "source": [
    "Console messages can be read by going to the browser console, usually in developer tools (press F12 for chrome in windows).\n",
    "\n",
    "We will go through a small example of a custom widget. This shows the interaction between the Javascript front-end and the Python back-end.\n",
    "The example is based on the IPywidgets documentation, and shows additional information: https://ipywidgets.readthedocs.io/en/stable/examples/Widget%20Custom.html\n",
    "\n",
    "#### Javascript front-end\n",
    "Python widgets can be linked to a Javascript module.\n",
    "These module use the AMD mechanism, used to load modules asynchronously.\n",
    "These AMD modules are defined with the `define` command, where the first argument is the name, and the second is the list of required packages.\n",
    "These packages are passed as arguments to the function (in this case widgets).\n",
    "\n",
    "An IPywidget is connected to a specific view within a single module (in the example below HelloView in the hello module)."
   ]
  },
  {
   "cell_type": "code",
   "execution_count": 38,
   "metadata": {},
   "outputs": [
    {
     "data": {
      "text/plain": [
       "<IPython.core.display.Javascript object>"
      ]
     },
     "metadata": {},
     "output_type": "display_data"
    }
   ],
   "source": [
    "%%javascript\n",
    "// This line is needed to ensure that the module does not already exist\n",
    "require.undef('hello');\n",
    "\n",
    "define('hello', [\"@jupyter-widgets/base\"], function(widgets) {\n",
    "\n",
    "    var HelloView = widgets.DOMWidgetView.extend({\n",
    "\n",
    "        render: function() {\n",
    "            this.value_changed();\n",
    "            // We specify a Javascript callback when the `value` attribute changes value\n",
    "            this.model.on('change:value', this.value_changed, this);\n",
    "        },\n",
    "\n",
    "        value_changed: function() {\n",
    "            // Change the text output every time the value attribute changes\n",
    "            this.el.textContent = this.model.get('value');\n",
    "        },\n",
    "    });\n",
    "\n",
    "    return {\n",
    "        HelloView : HelloView\n",
    "    };\n",
    "});"
   ]
  },
  {
   "cell_type": "markdown",
   "metadata": {},
   "source": [
    "Some packages are already automatically loaded, and therefore don't need to be explicitly passed.\n",
    "For instance, `Jupyter` can be used to interact with the Jupyter notebook (create cells etc.), and `$` is used for jQuery"
   ]
  },
  {
   "cell_type": "markdown",
   "metadata": {},
   "source": [
    "#### Python back-end\n",
    "A custom Ipywidget can be created by inheriting from widgets.DOMWidget.\n",
    "Below, we see one such widget, which three attributes.\n",
    "These are special attributes, as they are traitlet instances.\n",
    "The tag sync=True ensures that they are linked to the Javascript front-end, allowing communication between the two.\n",
    "\n",
    "The `_view_module` attribute specifies the widget module, and the `_view_name` specifies the Javascript View within the module. The `value` attribute is used to interact between the Python backend and the Javascript front-end"
   ]
  },
  {
   "cell_type": "code",
   "execution_count": 34,
   "metadata": {
    "collapsed": true
   },
   "outputs": [],
   "source": [
    "from traitlets import Unicode\n",
    "class HelloWidget(widgets.DOMWidget):\n",
    "    _view_name = Unicode('HelloView').tag(sync=True)\n",
    "    _view_module = Unicode('hello').tag(sync=True)\n",
    "    value = Unicode('Hello World!').tag(sync=True)"
   ]
  },
  {
   "cell_type": "code",
   "execution_count": 41,
   "metadata": {},
   "outputs": [
    {
     "data": {
      "text/plain": [
       "A Jupyter Widget"
      ]
     },
     "metadata": {},
     "output_type": "display_data"
    }
   ],
   "source": [
    "# Here we instantiate the widget and display it\n",
    "hello_widget = HelloWidget()\n",
    "display(hello_widget)"
   ]
  },
  {
   "cell_type": "code",
   "execution_count": 44,
   "metadata": {},
   "outputs": [
    {
     "name": "stdout",
     "output_type": "stream",
     "text": [
      "event changed\n"
     ]
    }
   ],
   "source": [
    "# When we change the value attribute, this immediately changes the text above (via Javascript)\n",
    "hello_widget.value = 'Newer text'"
   ]
  },
  {
   "cell_type": "markdown",
   "metadata": {},
   "source": [
    "We've seen above that a change in value can trigger a Javascript callback. We can also register a Python callback as follow:"
   ]
  },
  {
   "cell_type": "code",
   "execution_count": 45,
   "metadata": {
    "collapsed": true
   },
   "outputs": [],
   "source": [
    "hello_widget.observe(lambda event: print('event changed'))"
   ]
  },
  {
   "cell_type": "code",
   "execution_count": 46,
   "metadata": {},
   "outputs": [
    {
     "name": "stdout",
     "output_type": "stream",
     "text": [
      "event changed\n",
      "event changed\n"
     ]
    }
   ],
   "source": [
    "# Changing the value now also emits a print statement\n",
    "hello_widget.value = 'Newest text'"
   ]
  },
  {
   "cell_type": "markdown",
   "metadata": {},
   "source": [
    "#### CSS\n",
    "It's worth mentioning that the Javascript front-end can be combined with CSS.\n",
    "I really don't know much about CSS, but the sidebar_toc repository contains an example.\n",
    "\n",
    "Also important is that anything created with Javascript/CSS (such as buttons) allows much more customizability. For more complex widgets, it's therefore recommended to create all the buttons etc. in javascript+CSS, and only have the Python backend to allow the user to interact with it through Python code."
   ]
  },
  {
   "cell_type": "markdown",
   "metadata": {},
   "source": [
    "### Creating and executing files"
   ]
  },
  {
   "cell_type": "markdown",
   "metadata": {},
   "source": [
    "Although the above method provides an easy way to create a new widget and test it, once it is working you don't want all this code remaining in your notebook.\n",
    "A better approach is to create files for Javascript, Python, (and possibly CSS).\n",
    "IPython allows you to execute arbitrary chunks of Javascript, HTML (including CSS), and others:"
   ]
  },
  {
   "cell_type": "code",
   "execution_count": 47,
   "metadata": {
    "collapsed": true
   },
   "outputs": [],
   "source": [
    "from IPython.display import Javascript, HTML"
   ]
  },
  {
   "cell_type": "markdown",
   "metadata": {},
   "source": [
    "QCoDeS contains a piece of code that allows easy execution of Javascript/CSS/HTML files, if they are placed within the QCoDeS folder.\n",
    "For instance, the following code would execute all the Javascript within qcodes/widgets/sidebar_widget.js"
   ]
  },
  {
   "cell_type": "code",
   "execution_count": 48,
   "metadata": {
    "collapsed": true
   },
   "outputs": [],
   "source": [
    "from qcodes.widgets.display import display_auto\n",
    "display_auto('widgets/sidebar_widget.js')"
   ]
  },
  {
   "cell_type": "markdown",
   "metadata": {},
   "source": [
    "For QCoDeS-specific widgets, it is therefore recommended to place the widgets inside the qcodes/widgets folder, and execute it this way. See the sidebar widget for an example."
   ]
  },
  {
   "cell_type": "markdown",
   "metadata": {},
   "source": [
    "### Creating custom package"
   ]
  },
  {
   "cell_type": "markdown",
   "metadata": {},
   "source": [
    "If you have a widget that would be useful outside of QCoDeS as well, you could decide to create a package for it that you can import. This does take some time and effort, and is not recommended for things QCoDeS related.\n",
    "\n",
    "There is a template for such packages here: https://github.com/jupyter-widgets/widget-cookiecutter\n",
    "There are a few annoying differences when using this template.\n",
    "Most importantly, the template does not use the AMD define method.\n",
    "Also, installing a widget package can be complicated, as it requires installation of npm\n",
    "\n",
    "If you want an example of making a custom widget package, see https://github.com/nulinspiratie/cell-tab-widget"
   ]
  },
  {
   "cell_type": "markdown",
   "metadata": {},
   "source": [
    "## Jupyter notebook extensions"
   ]
  },
  {
   "cell_type": "markdown",
   "metadata": {},
   "source": [
    "Although not a widget, a notebook extension does allow adding arbitrary javascript code.\n",
    "Therefore, if you don't need any communication with the Python backend, it might be worthwhile to create an extension instead."
   ]
  }
 ],
 "metadata": {
  "kernelspec": {
   "display_name": "Python 3",
   "language": "python",
   "name": "python3"
  },
  "language_info": {
   "codemirror_mode": {
    "name": "ipython",
    "version": 3
   },
   "file_extension": ".py",
   "mimetype": "text/x-python",
   "name": "python",
   "nbconvert_exporter": "python",
   "pygments_lexer": "ipython3",
   "version": "3.6.0"
  },
  "toc": {
   "hide_others": true,
   "nav_menu": {},
   "number_sections": true,
   "sideBar": true,
   "skip_h1_title": false,
   "toc_position": {},
   "toc_section_display": "block",
   "toc_window_display": false
  }
 },
 "nbformat": 4,
 "nbformat_minor": 2
}
