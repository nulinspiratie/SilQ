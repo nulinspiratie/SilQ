{
 "cells": [
  {
   "cell_type": "code",
   "execution_count": 1,
   "metadata": {},
   "outputs": [],
   "source": [
    "import numpy as np\n",
    "from matplotlib import pyplot as plt\n",
    "\n",
    "# Initialize the pulse config (used later)\n",
    "from qcodes import config\n",
    "config['user']['pulses'] = {}\n",
    "pulse_config = config['user']['pulses'] \n",
    "\n",
    "%matplotlib notebook"
   ]
  },
  {
   "cell_type": "markdown",
   "metadata": {},
   "source": [
    "# Introduction\n",
    "\n",
    "There are two types of pulses:\n",
    "- (generic) Pulse, which are not specific to a certain Interface/instrument. Users should use these pulses to create their PulseSequence.\n",
    "- PulseImplementations, which are specific to an Interface. Aside from being a Pulse, a PulseImplementation also has a `PulseImplementation.implement()` function, which performs commands to implement the pulse for a specific Instrument. Each Interface has an `Interface.PulseSequence` that contains PulseImplementations.\n",
    "\n",
    "In this notebook, we will focus on (generic) pulses.\n",
    "In the example below, we add two pulses to create a PulseSequence: a DC pulse, and a sine pulse."
   ]
  },
  {
   "cell_type": "code",
   "execution_count": 2,
   "metadata": {},
   "outputs": [
    {
     "name": "stdout",
     "output_type": "stream",
     "text": [
      "PulseSequence with 2 pulses, duration: 0.03\n"
     ]
    },
    {
     "data": {
      "image/png": "[encoded data removed]",
      "text/plain": [
       "<matplotlib.figure.Figure at 0x20db532fe48>"
      ]
     },
     "metadata": {},
     "output_type": "display_data"
    }
   ],
   "source": [
    "from silq.pulses.pulse_modules import PulseSequence\n",
    "from silq.pulses.pulse_types import DCPulse, SinePulse\n",
    "\n",
    "# Create two pulses\n",
    "pulses = [DCPulse(name='dc', amplitude=0, t_start=0, duration=10e-3),\n",
    "          SinePulse(name='sine', power=1.5, t_start=10e-3, duration=20e-3, frequency=100, phase=0)]\n",
    "# Combine pulses into a PulseSequence\n",
    "pulse_sequence = PulseSequence(pulses=pulses)\n",
    "\n",
    "# Display pulse sequence    \n",
    "print(pulse_sequence)\n",
    "\n",
    "# Plot pulses\n",
    "plt.figure(figsize=(6,3))\n",
    "for pulse in pulse_sequence:\n",
    "    t_list = np.linspace(pulse.t_start, pulse.t_stop, 101)\n",
    "    plt.plot(t_list, pulse.get_voltage(t_list))"
   ]
  },
  {
   "cell_type": "markdown",
   "metadata": {},
   "source": [
    "It should be noted that it is usually not necessary to specify `Pulse.t_start`, but is usually inferred.\n",
    "If a Pulse without explicit `t_start` is added to an empty PulseSequence, `t_start=0`\n",
    "If a Pulse without explicit `t_start` is added to a non-empty PulseSequence, the pulse will be linked to the previous pulse in the PulseSequence (through `Pulse.previous_pulse`).\n",
    "In this case, `Pulse.t_start = previous_pulse.t_stop`.\n",
    "\n",
    "This is illustrated in the following example:"
   ]
  },
  {
   "cell_type": "code",
   "execution_count": 3,
   "metadata": {},
   "outputs": [
    {
     "data": {
      "text/plain": [
       "PulseSequence with 2 pulses, duration: 0.03\n",
       "\tDCPulse(dc, A=0, t_start=0, duration=0.01)\n",
       "\tSinePulse(sine, f=100 Hz, power=1.5 dBm, t_start=0.01, duration=0.02)"
      ]
     },
     "execution_count": 3,
     "metadata": {},
     "output_type": "execute_result"
    }
   ],
   "source": [
    "# Create two pulses without t_start\n",
    "pulses = [DCPulse(name='dc', amplitude=0, duration=10e-3),\n",
    "          SinePulse(name='sine', power=1.5, duration=20e-3, frequency=100, phase=0)]\n",
    "\n",
    "# Combine pulses into a PulseSequence\n",
    "pulse_sequence = PulseSequence(pulses=pulses)\n",
    "pulse_sequence"
   ]
  },
  {
   "cell_type": "markdown",
   "metadata": {},
   "source": [
    "Even though t_start is not explicitly specified, they still have the same values as before.\n",
    "Furthermore, since the second pulse is linked to the first pulse, changing the duration of the first pulse automatically updates the second pulse:"
   ]
  },
  {
   "cell_type": "code",
   "execution_count": 4,
   "metadata": {},
   "outputs": [
    {
     "data": {
      "text/plain": [
       "PulseSequence with 2 pulses, duration: 0.04\n",
       "\tDCPulse(dc, A=0, t_start=0, duration=0.02)\n",
       "\tSinePulse(sine, f=100 Hz, power=1.5 dBm, t_start=0.02, duration=0.02)"
      ]
     },
     "execution_count": 4,
     "metadata": {},
     "output_type": "execute_result"
    }
   ],
   "source": [
    "pulse_sequence['dc'].duration = 20e-3\n",
    "pulse_sequence"
   ]
  },
  {
   "cell_type": "markdown",
   "metadata": {},
   "source": [
    "# Pulse attributes from config\n",
    "Different measurements often contain identical pulses, for instance a pi pulse, which requires a specific frequency, amplitude and duration.\n",
    "If these properties were hardcoded for each measurement, each time one of the properties would change, it would have to be updated in each measurement code.\n",
    "To solve this issue, properties of common pulses can be stored in the QCoDeS config.\n",
    "If a Pulse property is not explicitly defined for a pulse, it will check if it has a value in the config, and use that value instead.\n",
    "\n",
    "As an example, we add properties of a pulse with name `pi` to the pulse_config (defined above)"
   ]
  },
  {
   "cell_type": "code",
   "execution_count": 5,
   "metadata": {},
   "outputs": [],
   "source": [
    "pulse_config['pi'] = {'duration': 2.5e-3, 'frequency': 1.2e6, 'power': 0.5}"
   ]
  },
  {
   "cell_type": "markdown",
   "metadata": {},
   "source": [
    "For many of the measurements (defined in [acquisition_parameters.py](..\\silq\\parameters\\acquisition_parameters.py)), the associated PulseSequences only contain names of pulses.\n",
    "It is assumed that the relevant properties of those pulses are already stored in the QCoDeS config, as they are dependent on the experimental setup. It should be noted that the QcoDeS config can be stored and loaded from hard drive, and so does not need to be created each time."
   ]
  },
  {
   "cell_type": "markdown",
   "metadata": {},
   "source": [
    "### Future work\n",
    "- Conditional operations, such as deciding what pulses to apply depending on a measurement outcome.\n",
    "- Efficient implementation of subroutines (a PulseSequence within a PulseSequence)\n",
    "- Easy handling of cases when pulses need to be directed to different lines (e.g. two connections both can implement sine pulses, and sinepulse1 needs to be directed to connection1, and sinepulse2 to connection2)."
   ]
  },
  {
   "cell_type": "markdown",
   "metadata": {},
   "source": [
    "# Attributes and methods\n",
    "\n",
    "## Pulse\n",
    "Every type of `Pulse` has its own class (e.g. SinePulse, TriggerPulse), and is a child of the `Pulse` class.\n",
    "All pulses are defined in [silq\\pulses\\pulse_types.py](..\\silq\\pulses\\pulse_types.py).\n",
    "\n",
    "### Common Pulse attributes:\n",
    "- **name** (str): name of pulse, can be used to extract default attribute values from config (see below)\n",
    "- **t_start** (float): start time of pulse (if not defined, equal to end of previous pulse when added to PulseSequence).\n",
    "- **duration** (float): pulse duration (if not defined, equal to t_stop - t_start).\n",
    "- **t_stop** (float): stop time (if not defined, equal to t_start + duration).\n",
    "- **acquire** (bool): acquire pulse by acquisition instrument.\n",
    "- **enabled** (bool): enable pulse (if not, it is not distributed by Layout).\n",
    "- **initialize** (bool) pulse is an initialization pulse, i.e. before the actual start of the PulseSequence (e.g. SteeredInitializationPulse)\n",
    "- **connection** (Connection): Connection where it belongs to after targeting (None by default)\n",
    "- **connection_requirements** (dict): properties a connection should satisfy (such as being triggering instrument of other instrument). This can be used to direct a pulse to a specific connection. \n",
    "\n",
    "Additionally, pulses can have additional attributes, such as **frequency**, depending on the pulse type\n",
    "\n",
    "### Common Pulse methods:\n",
    "- **copy**: Create a copy of the Pulse object. You can optionally fix all the variables (i.e. they do not depend on other Pulses anymore).\n",
    "- **get_voltage**: Get voltage of pulse at a specific time, or a list of times.\n",
    "- **satisfies_conditions**: Check if a pulse satisfies conditions. Used for filtering a pulse out of a PulseSequence.\n",
    "- **target_pulse** (only for pulseImplementation): Tailors a pulseImplementation to a specific pulse. At this stage a copy of the untargeted pulse is returned, but with an intstrument-specific implementation.\n",
    "- **implement** (only for PulseImplementation): Implements the pulse for a specific instrument.\n",
    "\n",
    "## PulseSequence\n",
    "\n",
    "A PulseSequence consists of pulses and defines a measurement.\n",
    "\n",
    "### PulseSequence attributes\n",
    "- **pulses** (Pulse list): List of pulses in the PulseSequence\n",
    "- **allow_untargeted_pulses** (bool): Allow untargeted (generic) pulses into the PulseSequence\n",
    "- **allow_targeted_pulses** (bool): Allow targeted pulses (PulseImplementations) into the PulseSequence\n",
    "- **allow_pulse_overlap** (bool): Allow pulses to overlap in time (if pulses are bound to connections they must also share the same connection to be overlapping)\n",
    "- **duration** (float): Duration of the entire PulseSequence (by default equal to `t_stop` of final pulse)\n",
    "\n",
    "### PulseSequence methods\n",
    "- **add**: Add pulse(s) to PulseSequence\n",
    "- **remove**: Remove pulse(s) to PulseSequence\n",
    "- **sort**: Internally sort the pulses by `t_start`\n",
    "- **clear**: Clear all pulses\n",
    "- **copy**: Create a copy of PulseSequence (separate object)\n",
    "- **pulses_overlap**: Check if two pulses overlap in time (and connection if defined)\n",
    "- **get_pulse(s)**: Get pulse(s) matching certain conditions\n",
    "- **get_connection**: Get connection of pulse matching certain conditions\n",
    "- **get_transition_voltages**: Get transition voltage betweeen two pulses\n"
   ]
  }
 ],
 "metadata": {
  "kernelspec": {
   "display_name": "Python 3",
   "language": "python",
   "name": "python3"
  },
  "language_info": {
   "codemirror_mode": {
    "name": "ipython",
    "version": 3
   },
   "file_extension": ".py",
   "mimetype": "text/x-python",
   "name": "python",
   "nbconvert_exporter": "python",
   "pygments_lexer": "ipython3",
   "version": "3.6.3"
  }
 },
 "nbformat": 4,
 "nbformat_minor": 2
}
