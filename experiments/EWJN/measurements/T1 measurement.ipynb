{
 "cells": [
  {
   "cell_type": "markdown",
   "metadata": {
    "code_folding": [
     8
    ]
   },
   "source": [
    "# Initialization"
   ]
  },
  {
   "cell_type": "code",
   "execution_count": 1,
   "metadata": {
    "collapsed": false,
    "init_cell": true,
    "scrolled": false
   },
   "outputs": [
    {
     "name": "stdout",
     "output_type": "stream",
     "text": [
      "Initializing imports\n"
     ]
    },
    {
     "data": {
      "application/javascript": [
       "/*\r\n",
       " * Qcodes Jupyter/IPython widgets\r\n",
       " */\r\n",
       "require([\r\n",
       "    'nbextensions/widgets/widgets/js/widget',\r\n",
       "    'nbextensions/widgets/widgets/js/manager'\r\n",
       "], function (widget, manager) {\r\n",
       "\r\n",
       "    var UpdateView = widget.DOMWidgetView.extend({\r\n",
       "        render: function() {\r\n",
       "            window.MYWIDGET = this;\r\n",
       "            this._interval = 0;\r\n",
       "            this.update();\r\n",
       "        },\r\n",
       "        update: function() {\r\n",
       "            this.display(this.model.get('_message'));\r\n",
       "            this.setInterval();\r\n",
       "        },\r\n",
       "        display: function(message) {\r\n",
       "            /*\r\n",
       "             * display method: override this for custom display logic\r\n",
       "             */\r\n",
       "            this.el.innerHTML = message;\r\n",
       "        },\r\n",
       "        remove: function() {\r\n",
       "            clearInterval(this._updater);\r\n",
       "        },\r\n",
       "        setInterval: function(newInterval) {\r\n",
       "            var me = this;\r\n",
       "            if(newInterval===undefined) newInterval = me.model.get('interval');\r\n",
       "            if(newInterval===me._interval) return;\r\n",
       "\r\n",
       "            me._interval = newInterval;\r\n",
       "\r\n",
       "            if(me._updater) clearInterval(me._updater);\r\n",
       "\r\n",
       "            if(me._interval) {\r\n",
       "                me._updater = setInterval(function() {\r\n",
       "                    me.send({myupdate: true});\r\n",
       "                    if(!me.model.comm_live) {\r\n",
       "                        console.log('missing comm, canceling widget updates', me);\r\n",
       "                        clearInterval(me._updater);\r\n",
       "                    }\r\n",
       "                }, me._interval * 1000);\r\n",
       "            }\r\n",
       "        }\r\n",
       "    });\r\n",
       "    manager.WidgetManager.register_widget_view('UpdateView', UpdateView);\r\n",
       "\r\n",
       "    var HiddenUpdateView = UpdateView.extend({\r\n",
       "        display: function(message) {\r\n",
       "            this.$el.hide();\r\n",
       "        }\r\n",
       "    });\r\n",
       "    manager.WidgetManager.register_widget_view('HiddenUpdateView', HiddenUpdateView);\r\n",
       "\r\n",
       "    var SubprocessView = UpdateView.extend({\r\n",
       "        render: function() {\r\n",
       "            var me = this;\r\n",
       "            me._interval = 0;\r\n",
       "            me._minimize = '<i class=\"fa-minus fa\"></i>';\r\n",
       "            me._restore = '<i class=\"fa-plus fa\"></i>';\r\n",
       "\r\n",
       "            // max lines of output to show\r\n",
       "            me.maxOutputLength = 500;\r\n",
       "\r\n",
       "            // in case there is already an outputView present,\r\n",
       "            // like from before restarting the kernel\r\n",
       "            $('.qcodes-output-view').not(me.$el).remove();\r\n",
       "\r\n",
       "            me.$el\r\n",
       "                .addClass('qcodes-output-view')\r\n",
       "                .attr('qcodes-state', 'docked')\r\n",
       "                .html(\r\n",
       "                    '<div class=\"qcodes-output-header toolbar\">' +\r\n",
       "                        '<div class=\"qcodes-process-list\"></div>' +\r\n",
       "                        '<button class=\"btn qcodes-processlines\"><i class=\"fa-list fa\"></i></button>' +\r\n",
       "                        '<button class=\"btn qcodes-abort-loop disabled\">Abort</button>' +\r\n",
       "                        '<button class=\"btn qcodes-clear-output disabled qcodes-content\">Clear</button>' +\r\n",
       "                        '<button class=\"btn js-state qcodes-minimized\"><i class=\"fa-minus fa\"></i></button>' +\r\n",
       "                        '<button class=\"btn js-state qcodes-docked\"><i class=\"fa-toggle-up fa\"></i></button>' +\r\n",
       "                        '<button class=\"btn js-state qcodes-floated\"><i class=\"fa-arrows fa\"></i></button>' +\r\n",
       "                    '</div>' +\r\n",
       "                    '<pre class=\"qcodes-content\"></pre>'\r\n",
       "                );\r\n",
       "\r\n",
       "            me.clearButton = me.$el.find('.qcodes-clear-output');\r\n",
       "            me.minButton = me.$el.find('.qcodes-minimize');\r\n",
       "            me.outputArea = me.$el.find('pre');\r\n",
       "            me.subprocessList = me.$el.find('.qcodes-process-list');\r\n",
       "            me.abortButton = me.$el.find('.qcodes-abort-loop');\r\n",
       "            me.processLinesButton = me.$el.find('.qcodes-processlines')\r\n",
       "\r\n",
       "            me.outputLines = [];\r\n",
       "\r\n",
       "            me.clearButton.click(function() {\r\n",
       "                me.outputArea.html('');\r\n",
       "                me.clearButton.addClass('disabled');\r\n",
       "            });\r\n",
       "\r\n",
       "            me.abortButton.click(function() {\r\n",
       "                me.send({abort: true});\r\n",
       "            });\r\n",
       "\r\n",
       "            me.processLinesButton.click(function() {\r\n",
       "                // toggle multiline process list display\r\n",
       "                me.subprocessesMultiline = !me.subprocessesMultiline;\r\n",
       "                me.showSubprocesses();\r\n",
       "            });\r\n",
       "\r\n",
       "            me.$el.find('.js-state').click(function() {\r\n",
       "                var state = this.className.substr(this.className.indexOf('qcodes'))\r\n",
       "                        .split('-')[1].split(' ')[0];\r\n",
       "                me.model.set('_state', state);\r\n",
       "            });\r\n",
       "\r\n",
       "            $(window)\r\n",
       "                .off('resize.qcodes')\r\n",
       "                .on('resize.qcodes', function() {me.clipBounds();});\r\n",
       "\r\n",
       "            me.update();\r\n",
       "        },\r\n",
       "\r\n",
       "        updateState: function() {\r\n",
       "            var me = this,\r\n",
       "                oldState = me.$el.attr('qcodes-state'),\r\n",
       "                state = me.model.get('_state');\r\n",
       "\r\n",
       "            if(state === oldState) return;\r\n",
       "\r\n",
       "            setTimeout(function() {\r\n",
       "                // not sure why I can't pop it out of the widgetarea in render, but it seems that\r\n",
       "                // some other bit of code resets the parent after render if I do it there.\r\n",
       "                // To be safe, just do it on every state click.\r\n",
       "                me.$el.appendTo('body');\r\n",
       "\r\n",
       "                if(oldState === 'floated') {\r\n",
       "                    console.log('here');\r\n",
       "                    me.$el.draggable('destroy').css({left:'', top: ''});\r\n",
       "                }\r\n",
       "\r\n",
       "                me.$el.attr('qcodes-state', state);\r\n",
       "\r\n",
       "                if(state === 'floated') {\r\n",
       "                    me.$el\r\n",
       "                        .draggable({stop: function() { me.clipBounds(); }})\r\n",
       "                        .css({\r\n",
       "                            left: window.innerWidth - me.$el.width() - 15,\r\n",
       "                            top: window.innerHeight - me.$el.height() - 10\r\n",
       "                        });\r\n",
       "                }\r\n",
       "\r\n",
       "                // any previous highlighting is now moot\r\n",
       "                me.$el.removeClass('qcodes-highlight');\r\n",
       "            }, 0);\r\n",
       "\r\n",
       "        },\r\n",
       "\r\n",
       "        clipBounds: function() {\r\n",
       "            var me = this;\r\n",
       "            if(me.$el.attr('qcodes-state') === 'floated') {\r\n",
       "                var bounds = me.$el[0].getBoundingClientRect(),\r\n",
       "                    minVis = 40,\r\n",
       "                    maxLeft = window.innerWidth - minVis,\r\n",
       "                    minLeft = minVis - bounds.width,\r\n",
       "                    maxTop = window.innerHeight - minVis;\r\n",
       "\r\n",
       "                if(bounds.left > maxLeft) me.$el.css('left', maxLeft);\r\n",
       "                else if(bounds.left < minLeft) me.$el.css('left', minLeft);\r\n",
       "\r\n",
       "                if(bounds.top > maxTop) me.$el.css('top', maxTop);\r\n",
       "                else if(bounds.top < 0) me.$el.css('top', 0);\r\n",
       "            }\r\n",
       "        },\r\n",
       "\r\n",
       "        display: function(message) {\r\n",
       "            var me = this;\r\n",
       "            if(message) {\r\n",
       "                var initialScroll = me.outputArea.scrollTop();\r\n",
       "                me.outputArea.scrollTop(me.outputArea.prop('scrollHeight'));\r\n",
       "                var scrollBottom = me.outputArea.scrollTop();\r\n",
       "\r\n",
       "                if(me.$el.attr('qcodes-state') === 'minimized') {\r\n",
       "                    // if we add text and the box is minimized, highlight the\r\n",
       "                    // title bar to alert the user that there are new messages.\r\n",
       "                    // remove then add the class, so we get the animation again\r\n",
       "                    // if it's already highlighted\r\n",
       "                    me.$el.removeClass('qcodes-highlight');\r\n",
       "                    setTimeout(function(){\r\n",
       "                        me.$el.addClass('qcodes-highlight');\r\n",
       "                    }, 0);\r\n",
       "                }\r\n",
       "\r\n",
       "                var newLines = message.split('\\n'),\r\n",
       "                    out = me.outputLines,\r\n",
       "                    outLen = out.length;\r\n",
       "                if(outLen) out[outLen - 1] += newLines[0];\r\n",
       "                else out.push(newLines[0]);\r\n",
       "\r\n",
       "                for(var i = 1; i < newLines.length; i++) {\r\n",
       "                    out.push(newLines[i]);\r\n",
       "                }\r\n",
       "\r\n",
       "                if(out.length > me.maxOutputLength) {\r\n",
       "                    out.splice(0, out.length - me.maxOutputLength + 1,\r\n",
       "                        '<<< Output clipped >>>');\r\n",
       "                }\r\n",
       "\r\n",
       "                me.outputArea.text(out.join('\\n'));\r\n",
       "                me.clearButton.removeClass('disabled');\r\n",
       "\r\n",
       "                // if we were scrolled to the bottom initially, make sure\r\n",
       "                // we stay that way.\r\n",
       "                me.outputArea.scrollTop(initialScroll === scrollBottom ?\r\n",
       "                    me.outputArea.prop('scrollHeight') : initialScroll);\r\n",
       "            }\r\n",
       "\r\n",
       "            me.showSubprocesses();\r\n",
       "            me.updateState();\r\n",
       "        },\r\n",
       "\r\n",
       "        showSubprocesses: function() {\r\n",
       "            var me = this,\r\n",
       "                replacer = me.subprocessesMultiline ? '<br>' : ', ',\r\n",
       "                processes = (me.model.get('_processes') || '')\r\n",
       "                    .replace(/\\n/g, '&gt;' + replacer + '&lt;');\r\n",
       "\r\n",
       "            if(processes) processes = '&lt;' + processes + '&gt;';\r\n",
       "            else processes = 'No subprocesses';\r\n",
       "\r\n",
       "            me.abortButton.toggleClass('disabled', processes.indexOf('Measurement')===-1);\r\n",
       "\r\n",
       "            me.subprocessList.html(processes);\r\n",
       "        }\r\n",
       "    });\r\n",
       "    manager.WidgetManager.register_widget_view('SubprocessView', SubprocessView);\r\n",
       "});\r\n"
      ],
      "text/plain": [
       "<IPython.core.display.Javascript object>"
      ]
     },
     "metadata": {},
     "output_type": "display_data"
    },
    {
     "data": {
      "text/html": [
       "<style>.qcodes-output-view:not(.ui-draggable) {\r\n",
       "    bottom: 0;\r\n",
       "    right: 5px;\r\n",
       "}\r\n",
       ".qcodes-output-view {\r\n",
       "    position: fixed;\r\n",
       "    z-index: 999;\r\n",
       "    background-color: #fff;\r\n",
       "    box-shadow: 0 0 12px 1px rgba(87, 87, 87, 0.2);\r\n",
       "}\r\n",
       "\r\n",
       ".qcodes-output-header {\r\n",
       "    float: right;\r\n",
       "}\r\n",
       "\r\n",
       ".qcodes-highlight {\r\n",
       "    animation: pulse 1s linear;\r\n",
       "    background-color: #fa4;\r\n",
       "}\r\n",
       "\r\n",
       "@keyframes pulse {\r\n",
       "    0% {\r\n",
       "        background-color: #f00;\r\n",
       "    }\r\n",
       "    100% {\r\n",
       "        background-color: #fa4;\r\n",
       "    }\r\n",
       "}\r\n",
       "\r\n",
       ".qcodes-process-list {\r\n",
       "    float: left;\r\n",
       "    max-width: 780px;\r\n",
       "    margin: 3px 5px 3px 10px;\r\n",
       "    overflow: hidden;\r\n",
       "    white-space: nowrap;\r\n",
       "    text-overflow: ellipsis;\r\n",
       "}\r\n",
       "\r\n",
       ".qcodes-output-view[qcodes-state=minimized] .qcodes-process-list {\r\n",
       "    max-width: 300px;\r\n",
       "}\r\n",
       "\r\n",
       ".qcodes-output-view span {\r\n",
       "    padding: 2px 6px 3px 12px;\r\n",
       "}\r\n",
       "\r\n",
       ".qcodes-output-view .btn {\r\n",
       "    margin: 0 3px 0 0;\r\n",
       "}\r\n",
       "\r\n",
       ".qcodes-output-view[qcodes-state=docked] .qcodes-docked,\r\n",
       ".qcodes-output-view[qcodes-state=floated] .qcodes-floated,\r\n",
       ".qcodes-output-view[qcodes-state=minimized] .qcodes-minimized,\r\n",
       ".qcodes-output-view[qcodes-state=minimized] .qcodes-content {\r\n",
       "    display: none;\r\n",
       "}\r\n",
       "\r\n",
       ".qcodes-output-view .disabled {\r\n",
       "    opacity: 0.4;\r\n",
       "}\r\n",
       "\r\n",
       ".qcodes-abort-loop {\r\n",
       "    background-color: #844;\r\n",
       "    color: #fff;\r\n",
       "}\r\n",
       "\r\n",
       ".qcodes-output-view pre {\r\n",
       "    clear: both;\r\n",
       "    margin: 0;\r\n",
       "    border: 0;\r\n",
       "    border-top: 1px solid #ccc;\r\n",
       "    background-color: #ffe;\r\n",
       "    min-height: 50px;\r\n",
       "    max-height: 400px;\r\n",
       "    min-width: 400px;\r\n",
       "    max-width: 1000px;\r\n",
       "}</style>"
      ],
      "text/plain": [
       "<IPython.core.display.HTML object>"
      ]
     },
     "metadata": {},
     "output_type": "display_data"
    },
    {
     "name": "stdout",
     "output_type": "stream",
     "text": [
      "Initializing functions\n",
      "Initializing instruments\n",
      "Initializing layout\n",
      "Initializing data\n",
      "Initializing analysis\n",
      "Initializing parameters\n",
      "Initializing plotting\n",
      "Initializing slack\n",
      "Initialization complete\n",
      "No loop running\n"
     ]
    }
   ],
   "source": [
    "USE_MP = True\n",
    "import silq\n",
    "silq.initialize(\"EWJN\")\n",
    "\n",
    "qc.show_subprocess_widget()"
   ]
  },
  {
   "cell_type": "markdown",
   "metadata": {},
   "source": [
    "## ramp voltages"
   ]
  },
  {
   "cell_type": "code",
   "execution_count": null,
   "metadata": {
    "collapsed": true
   },
   "outputs": [],
   "source": [
    "gates = ['TG', 'LB', 'RB', 'TGAC', 'SRC', 'DS', 'DF']\n",
    "{param: data.parameter_info(param)[param] for param in gates}"
   ]
  },
  {
   "cell_type": "code",
   "execution_count": 6,
   "metadata": {
    "collapsed": true
   },
   "outputs": [],
   "source": [
    "\n",
    "vals = {'DF': 0.47375,\n",
    " 'DS': 0.47382,\n",
    " 'LB': 0.98,\n",
    " 'RB': 0.98,\n",
    " 'SRC': 0.275,\n",
    " 'TG': 2.06,\n",
    " 'TGAC': 0.4222}\n",
    "\n",
    "ramp_to_voltages(vals)"
   ]
  },
  {
   "cell_type": "markdown",
   "metadata": {
    "collapsed": false,
    "scrolled": false
   },
   "source": [
    "slack = Slack()\n",
    "\n",
    "slack.commands['df_ds'] = DF_DS\n",
    "slack.commands['tgac'] = TGAC\n",
    "slack.commands['run'] = run_code\n",
    "slack.commands['halt'] = qc.halt_bg"
   ]
  },
  {
   "cell_type": "code",
   "execution_count": 27,
   "metadata": {
    "collapsed": false
   },
   "outputs": [
    {
     "data": {
      "text/plain": [
       "PulseSequence with 5 pulses, duration: 42\n",
       "\tSteeredInitialization(steered_initialization (long), t_no_blip=200 ms, t_max_wait=1000, t_buffer=30, V_th=0.3333333333333333)\n",
       "\tDCPulse(plunge, A=0.08, t_start=0, t_stop=20)\n",
       "\tDCPulse(read, A=0, t_start=20, t_stop=40)\n",
       "\tDCPulse(final, A=0, t_start=40, t_stop=42)\n",
       "\t\n",
       "\tDisabled pulses:\n",
       "\tFrequencyRampPulse(adiabatic (ESR), f_center=27951.00 MHz, f_dev=0.50, power=0, t_start=3, t_stop=3.2)"
      ]
     },
     "execution_count": 27,
     "metadata": {},
     "output_type": "execute_result"
    }
   ],
   "source": [
    "dark_counts_plunge_parameter = acquisition_parameters.T1Parameter(mode='ESR')\n",
    "\n",
    "dark_counts_plunge_parameter.pulse_sequence['adiabatic'].enabled = False\n",
    "dark_counts_plunge_parameter.pulse_sequence['steered_initialization'].enabled = True\n",
    "dark_counts_plunge_parameter.pulse_sequence['steered_initialization'].mode = 'long'\n",
    "dark_counts_plunge_parameter.pulse_sequence['plunge'].duration = 20\n",
    "dark_counts_plunge_parameter.pulse_sequence"
   ]
  },
  {
   "cell_type": "markdown",
   "metadata": {
    "heading_collapsed": true
   },
   "source": [
    "## Register code run commands"
   ]
  },
  {
   "cell_type": "code",
   "execution_count": 2,
   "metadata": {
    "code_folding": [],
    "collapsed": true,
    "hidden": true,
    "init_cell": true
   },
   "outputs": [],
   "source": [
    "%%label adiabatic\n",
    "samples = 100\n",
    "points = 7\n",
    "steps = 10\n",
    "\n",
    "y_sweep, x_sweep = create_set_vals(2, step_percentage=steps, points=points)\n",
    "adiabatic_ESR_parameter.samples = samples\n",
    "data = qc.Loop(\n",
    "    y_sweep).loop(\n",
    "        x_sweep).each(\n",
    "            adiabatic_ESR_parameter).run(\n",
    "    name='adiabatic_calibration', progress_interval=True)\n",
    "CalibrationPlot(data)"
   ]
  },
  {
   "cell_type": "code",
   "execution_count": 3,
   "metadata": {
    "collapsed": true,
    "hidden": true,
    "init_cell": true
   },
   "outputs": [],
   "source": [
    "%%label dc\n",
    "points = 30\n",
    "steps = 25\n",
    "\n",
    "y_sweep, x_sweep = create_set_vals(2, step_percentages=steps, points=points)\n",
    "DC_parameter.setup()\n",
    "data = qc.Loop(\n",
    "    y_sweep).loop(\n",
    "    x_sweep).each(\n",
    "    DC_parameter).then(\n",
    "    qc.Task(layout.stop)).run(\n",
    "    name='DC_{}_vs_{}_scan'.format(y_sweep.name, x_sweep.name),\n",
    "    progress_interval=True)\n",
    "\n",
    "plot = qc.MatPlot(data.DC_voltage)"
   ]
  },
  {
   "cell_type": "markdown",
   "metadata": {
    "heading_collapsed": true
   },
   "source": [
    "## Threshold voltage"
   ]
  },
  {
   "cell_type": "code",
   "execution_count": 176,
   "metadata": {
    "collapsed": false,
    "hidden": true
   },
   "outputs": [
    {
     "name": "stdout",
     "output_type": "stream",
     "text": [
      "Threshold voltage found at 0.49 V\n"
     ]
    }
   ],
   "source": [
    "EPR_parameter.single_settings(samples=50)\n",
    "EPR_parameter.setup()\n",
    "voltage_difference = EPR_parameter()[-1]\n",
    "\n",
    "assert voltage_difference, \"Couldn't find accurate threshold\"\n",
    "readout_threshold_voltage = voltage_difference / 2\n",
    "\n",
    "print('Threshold voltage found at {:.2f} V'.format(readout_threshold_voltage))\n",
    "properties_config['readout_threshold_voltage'] = readout_threshold_voltage"
   ]
  },
  {
   "cell_type": "markdown",
   "metadata": {
    "heading_collapsed": true
   },
   "source": [
    "## ESR frequency"
   ]
  },
  {
   "cell_type": "code",
   "execution_count": null,
   "metadata": {
    "collapsed": false,
    "hidden": true
   },
   "outputs": [],
   "source": [
    "select_ESR_parameter.single_settings(samples=30, silent=False)\n",
    "select_ESR_parameter();"
   ]
  },
  {
   "cell_type": "markdown",
   "metadata": {},
   "source": [
    "# DC Measurements"
   ]
  },
  {
   "cell_type": "markdown",
   "metadata": {
    "heading_collapsed": true
   },
   "source": [
    "## DC - Turnon\n",
    "Here several gates are combined to the parameter turnon_param."
   ]
  },
  {
   "cell_type": "code",
   "execution_count": null,
   "metadata": {
    "collapsed": true,
    "hidden": true
   },
   "outputs": [],
   "source": [
    "turnon_vals = turnon_parameter[list(np.linspace(1, 1.6, 100))]"
   ]
  },
  {
   "cell_type": "code",
   "execution_count": null,
   "metadata": {
    "collapsed": false,
    "hidden": true
   },
   "outputs": [],
   "source": [
    "DC_parameter.setup()\n",
    "data = qc.Loop(turnon_vals\n",
    "# data = qc.Loop(dummy_parameter[0:1000:1], delay=1\n",
    "               ).each(DC_parameter\n",
    "                      ).then(qc.Task(layout.stop)\n",
    "                             ).run(name='turnon',\n",
    "                                   progress_interval=True)\n",
    "plot = qc.MatPlot(data.DC_voltage)"
   ]
  },
  {
   "cell_type": "markdown",
   "metadata": {
    "heading_collapsed": true
   },
   "source": [
    "## DC - Pinchoff\n",
    "This code pinches off one gate, while keeping the other gates fixed"
   ]
  },
  {
   "cell_type": "code",
   "execution_count": null,
   "metadata": {
    "collapsed": false,
    "hidden": true
   },
   "outputs": [],
   "source": [
    "turnon_voltage = 1.6\n",
    "pinchoff_vals = list(np.linspace(turnon_voltage, 0, 100))\n",
    "gate = TG\n",
    "\n",
    "turnon_parameter(turnon_voltage)\n",
    "DC_parameter.setup()\n",
    "data = qc.Loop(gate[pinchoff_vals]\n",
    "               ).each(DC_parameter\n",
    "                      ).then(qc.Task(layout.stop)\n",
    "                             ).run(name='Pinchoff_{}'.format(gate.name),\n",
    "                                   progress_interval=True)\n",
    "plot = qc.MatPlot(data.DC_voltage)"
   ]
  },
  {
   "cell_type": "code",
   "execution_count": null,
   "metadata": {
    "collapsed": false,
    "hidden": true
   },
   "outputs": [],
   "source": [
    "turnon_voltage = 1.3\n",
    "pinchoff_vals = list(np.linspace(turnon_voltage, 0.7, 40))\n",
    "gatex=LB\n",
    "gatey=RB\n",
    "\n",
    "turnon_parameter(turnon_voltage)\n",
    "DC_parameter.setup()\n",
    "data = qc.Loop(gatey[pinchoff_vals]\n",
    "               ).loop(gatex[pinchoff_vals]\n",
    "                      ).each(DC_parameter\n",
    "                      ).then(qc.Task(layout.stop)\n",
    "                             ).run(name='2D_Pinchoff_{}'.format(gate.name),\n",
    "                                   progress_interval=True)\n",
    "plot = qc.MatPlot(data.DC_voltage)\n"
   ]
  },
  {
   "cell_type": "markdown",
   "metadata": {
    "heading_collapsed": true
   },
   "source": [
    "## DC - 1D scan\n",
    "This script performs a 1D DC scan"
   ]
  },
  {
   "cell_type": "code",
   "execution_count": null,
   "metadata": {
    "collapsed": false,
    "hidden": true
   },
   "outputs": [],
   "source": [
    "gate = DF_DS[list(np.linspace(0.28,0.6, 50))]\n",
    "\n",
    "DC_parameter.setup()\n",
    "data = qc.Loop(gate\n",
    "              ).each(DC_parameter\n",
    "                    ).then(qc.Task(layout.stop)\n",
    "                          ).run(name='DC_{}_scan'.format(gate.name),\n",
    "                                progress_interval=True)\n",
    "\n",
    "plot = qc.MatPlot(data.DC_voltage)"
   ]
  },
  {
   "cell_type": "code",
   "execution_count": 33,
   "metadata": {
    "collapsed": false,
    "hidden": true
   },
   "outputs": [
    {
     "data": {
      "text/plain": [
       "0.4725"
      ]
     },
     "execution_count": 33,
     "metadata": {},
     "output_type": "execute_result"
    }
   ],
   "source": [
    "DS()"
   ]
  },
  {
   "cell_type": "markdown",
   "metadata": {},
   "source": [
    "## DC - 2D scan"
   ]
  },
  {
   "cell_type": "markdown",
   "metadata": {},
   "source": [
    "This measurement performs a 2D DC scan"
   ]
  },
  {
   "cell_type": "code",
   "execution_count": 71,
   "metadata": {
    "collapsed": false
   },
   "outputs": [],
   "source": [
    "SIM900.reset_slot(7)"
   ]
  },
  {
   "cell_type": "code",
   "execution_count": 7,
   "metadata": {
    "collapsed": false
   },
   "outputs": [
    {
     "data": {
      "text/plain": [
       "0.47375"
      ]
     },
     "execution_count": 7,
     "metadata": {},
     "output_type": "execute_result"
    }
   ],
   "source": [
    "DS()"
   ]
  },
  {
   "cell_type": "code",
   "execution_count": 8,
   "metadata": {
    "collapsed": false
   },
   "outputs": [],
   "source": [
    "y_sweep, x_sweep = create_set_vals(2, step_percentage=35, points=30)\n",
    "DC_parameter.setup()"
   ]
  },
  {
   "cell_type": "code",
   "execution_count": 9,
   "metadata": {
    "collapsed": false
   },
   "outputs": [
    {
     "name": "stdout",
     "output_type": "stream",
     "text": [
      "DataSet:\n",
      "data = qc.load_data('2017-02-13/#001_DC_TGAC_vs_DF_DS_scan_10-08-34')\n",
      "   mode = DataMode.PULL_FROM_SERVER\n",
      "   <Type>   | <array_id> | <array.name> | <array.shape>\n",
      "   Setpoint | TGAC_set   | TGAC         | (30,)\n",
      "   Setpoint | DF_DS_set  | DF_DS        | (30, 30)\n",
      "   Measured | DC_voltage | DC_voltage   | (30, 30)\n",
      "started at 2017-02-13 10:08:38\n"
     ]
    }
   ],
   "source": [
    "#y_sweep = TGAC[list(np.arange(0.05, 0.55, 0.0025))]\n",
    "#x_sweep = DF[list(np.arange(0.2,0.61,0.0025))]\n",
    "\n",
    "\n",
    "data = Loop(\n",
    "    y_sweep).loop(\n",
    "        x_sweep).each(\n",
    "            DC_parameter).then(\n",
    "                qc.Task(layout.stop)).run(\n",
    "    name='DC_{}_vs_{}_scan'.format(y_sweep.name, x_sweep.name),\n",
    "    progress_interval=True)"
   ]
  },
  {
   "cell_type": "code",
   "execution_count": 10,
   "metadata": {
    "collapsed": false
   },
   "outputs": [
    {
     "data": {
      "text/plain": [
       "<__main__.DCPlot at 0x49e8240>"
      ]
     },
     "execution_count": 10,
     "metadata": {},
     "output_type": "execute_result"
    },
    {
     "data": {
      "application/javascript": [
       "\n",
       "        var current_cell = Jupyter.notebook.get_selected_cell();\n",
       "        var current_index = Jupyter.notebook.find_cell_index(current_cell);\n",
       "        var new_cell = Jupyter.notebook.insert_cell_below('code', current_index);\n",
       "        new_cell.set_text('DF_DS(0.47091)\\nTGAC(0.41542)');\n",
       "        current_cell.unselect();\n",
       "        new_cell.select();"
      ]
     },
     "metadata": {},
     "output_type": "display_data"
    }
   ],
   "source": [
    "DCPlot(data)"
   ]
  },
  {
   "cell_type": "code",
   "execution_count": 11,
   "metadata": {
    "collapsed": true
   },
   "outputs": [],
   "source": [
    "DF_DS(0.47091)\n",
    "TGAC(0.41542)"
   ]
  },
  {
   "cell_type": "code",
   "execution_count": 51,
   "metadata": {
    "collapsed": false
   },
   "outputs": [
    {
     "name": "stdout",
     "output_type": "stream",
     "text": [
      "DataSet:\n",
      "data = qc.load_data('2017-02-09/#001_repeat_DC_TGAC_vs_DF_DS_scan_00-22-29')\n",
      "   mode = DataMode.PULL_FROM_SERVER\n",
      "   <Type>   | <array_id> | <array.name> | <array.shape>\n",
      "   Setpoint | dummy_set  | dummy        | (50,)\n",
      "   Setpoint | TGAC_set   | TGAC         | (50, 60)\n",
      "   Setpoint | DF_DS_set  | DF_DS        | (50, 60, 60)\n",
      "   Measured | DC_voltage | DC_voltage   | (50, 60, 60)\n",
      "started at 2017-02-09 00:22:33\n"
     ]
    }
   ],
   "source": [
    "data = Loop(\n",
    "    dummy_parameter[0:50:1]).loop(\n",
    "    y_sweep).loop(\n",
    "        x_sweep).each(\n",
    "            DC_parameter).then(\n",
    "                qc.Task(layout.stop)).run(\n",
    "    name='repeat_DC_{}_vs_{}_scan'.format(y_sweep.name, x_sweep.name),\n",
    "    progress_interval=True)"
   ]
  },
  {
   "cell_type": "markdown",
   "metadata": {},
   "source": [
    "## DC - 2D scan with arbstudio"
   ]
  },
  {
   "cell_type": "code",
   "execution_count": 287,
   "metadata": {
    "collapsed": false
   },
   "outputs": [],
   "source": [
    "#ATTENTION: this is still additional voltage on the sim voltages!!!\n",
    "#arbstudio are divided by 25(?)/20(?)\n",
    "df_voltages = list(np.linspace(-0.23, 0.23, 150))\n",
    "tgac_voltages = list(np.linspace(-0.23, 0.23, 150))\n",
    "df_duration = 20\n",
    "\n",
    "DC_pulse_sweep_parameter = acquisition_parameters.DCPulseSweepParameter(sweep_name='DF')\n",
    "DC_pulse_sweep_parameter.pulse_settings = {'duration': df_duration, \n",
    "                                           'connection_requirements': {'input_arg': 'chip.DF'}}\n",
    "DC_pulse_sweep_parameter.additional_pulses = [DCPulse(name='TGAC', amplitude=0, t_start=0, duration=len(df_voltages)*df_duration+2, \n",
    "                                                      connection_requirements={'input_arg': 'chip.TGAC'})]\n",
    "\n",
    "DC_pulse_sweep_parameter.sweep_voltages = df_voltages\n",
    "\n",
    "tgac_step_parameter = general_parameters.AttributeParameter(DC_pulse_sweep_parameter.pulse_sequence['TGAC'], 'amplitude')"
   ]
  },
  {
   "cell_type": "markdown",
   "metadata": {},
   "source": [
    "### 2D scan"
   ]
  },
  {
   "cell_type": "code",
   "execution_count": 288,
   "metadata": {
    "collapsed": false
   },
   "outputs": [
    {
     "name": "stdout",
     "output_type": "stream",
     "text": [
      "DataSet:\n",
      "data = qc.load_data('2017-01-31/#007_DC_2D_arb_sweep_14-23-12')\n",
      "   mode = DataMode.PULL_FROM_SERVER\n",
      "   <Type>   | <array_id>    | <array.name> | <array.shape>\n",
      "   Setpoint | amplitude_set | amplitude    | (150,)\n",
      "   Measured | DC_voltage    | DC_voltage   | (150, 150)\n",
      "started at 2017-01-31 14:23:16\n"
     ]
    }
   ],
   "source": [
    "data = qc.Loop(\n",
    "    tgac_step_parameter[tgac_voltages]).each(\n",
    "        DC_pulse_sweep_parameter).run(\n",
    "    name='DC_2D_arb_sweep')"
   ]
  },
  {
   "cell_type": "code",
   "execution_count": 289,
   "metadata": {
    "collapsed": false
   },
   "outputs": [
    {
     "data": {
      "text/plain": [
       "<qcodes.plots.qcmatplotlib.MatPlot at 0x3df35470>"
      ]
     },
     "execution_count": 289,
     "metadata": {},
     "output_type": "execute_result"
    }
   ],
   "source": [
    "qc.MatPlot(data.DC_voltage)"
   ]
  },
  {
   "cell_type": "markdown",
   "metadata": {},
   "source": [
    "### 4D scan (sweep simrack TGAC and DF)"
   ]
  },
  {
   "cell_type": "code",
   "execution_count": 7,
   "metadata": {
    "collapsed": false,
    "scrolled": false
   },
   "outputs": [
    {
     "name": "stdout",
     "output_type": "stream",
     "text": [
      "DataSet:\n",
      "data = qc.load_data('2017-01-18/#002_DC_2D_arb_sweep_13-39-57')\n",
      "   mode = DataMode.PULL_FROM_SERVER\n",
      "   <Type>   | <array_id>    | <array.name> | <array.shape>\n",
      "   Setpoint | TGAC_set      | TGAC         | (6,)\n",
      "   Setpoint | DF_set        | DF           | (6, 6)\n",
      "   Setpoint | amplitude_set | amplitude    | (6, 6, 100)\n",
      "   Measured | DC_voltage    | DC_voltage   | (6, 6, 100, 100)\n",
      "started at 2017-01-18 13:40:04\n"
     ]
    }
   ],
   "source": [
    "data = qc.Loop(\n",
    "    TGAC[0.2:0.71:0.1]).loop(\n",
    "    DF[0.2:0.71:0.1]).loop(\n",
    "    tgac_step_parameter[tgac_voltages]).each(\n",
    "        DC_pulse_sweep_parameter).run(\n",
    "        #qc.Task(partial(print_attr, DC_pulse_sweep_parameter, 'pulse_sequence'))).run(\n",
    "    name='DC_2D_arb_sweep')"
   ]
  },
  {
   "cell_type": "code",
   "execution_count": 4,
   "metadata": {
    "collapsed": false
   },
   "outputs": [
    {
     "name": "stdout",
     "output_type": "stream",
     "text": [
      "is parameter array\n",
      "here\n",
      "also here\n",
      "DataSet:\n",
      "data = qc.load_data('2017-01-17/#004_test_11-32-41')\n",
      "   mode = DataMode.LOCAL\n",
      "   <Type>   | <array_id> | <array.name> | <array.shape>\n",
      "   Setpoint | dummy_set  | dummy        | (10,)\n",
      "   Setpoint | dummy2_set | dummy2       | (10, 10)\n",
      "   Measured | dummy      | dummy        | (10, 10)\n",
      "started at 2017-01-17 11:32:43\n"
     ]
    },
    {
     "data": {
      "text/plain": [
       "DataSet:\n",
       "data = qc.load_data('2017-01-17/#004_test_11-32-41')\n",
       "   mode = DataMode.LOCAL\n",
       "   <Type>   | <array_id> | <array.name> | <array.shape>\n",
       "   Setpoint | dummy_set  | dummy        | (10,)\n",
       "   Setpoint | dummy2_set | dummy2       | (10, 10)\n",
       "   Measured | dummy      | dummy        | (10, 10)"
      ]
     },
     "execution_count": 4,
     "metadata": {},
     "output_type": "execute_result"
    }
   ],
   "source": [
    "dummy_parameter = ManualParameter(name='dummy')\n",
    "dummy_parameters = ManualParameter(name='dummy2')\n",
    "\n",
    "qc.Loop(dummy_parameter[0:10:1]).loop(\n",
    "    dummy_parameters[0:10:1]).each(dummy_parameter).run(name='test', background=False)"
   ]
  },
  {
   "cell_type": "markdown",
   "metadata": {
    "heading_collapsed": true
   },
   "source": [
    "## Tracking a peak"
   ]
  },
  {
   "cell_type": "code",
   "execution_count": 4,
   "metadata": {
    "collapsed": false,
    "hidden": true
   },
   "outputs": [],
   "source": [
    "y_sweep = create_set_vals(step_percentage=30, min_val=TGAC(), max_val=0.5, set_parameter=TGAC)"
   ]
  },
  {
   "cell_type": "code",
   "execution_count": 82,
   "metadata": {
    "collapsed": true,
    "hidden": true
   },
   "outputs": [],
   "source": [
    "y_sweep = TG[2.05:2.06:0.001]"
   ]
  },
  {
   "cell_type": "code",
   "execution_count": 83,
   "metadata": {
    "collapsed": false,
    "hidden": true
   },
   "outputs": [],
   "source": [
    "from silq.parameters.measurement_parameters import TrackPeakParameter\n",
    "track_peak_parameter = TrackPeakParameter('track_peak', set_parameter=DF_DS, \n",
    "                                          acquisition_parameter=DC_parameter, \n",
    "                                          step_percentage=20, peak_width=0.015)"
   ]
  },
  {
   "cell_type": "code",
   "execution_count": 84,
   "metadata": {
    "collapsed": false,
    "hidden": true
   },
   "outputs": [
    {
     "name": "stdout",
     "output_type": "stream",
     "text": [
      "DataSet:\n",
      "data = qc.load_data('2017-01-05/#003_track_peak_12-20-12')\n",
      "   mode = DataMode.PULL_FROM_SERVER\n",
      "   <Type>   | <array_id>       | <array.name>     | <array.shape>\n",
      "   Setpoint | TG_set           | TG               | (10,)\n",
      "   Measured | index0           | index0           | (10, 14)\n",
      "   Measured | optimal_set_vals | optimal_set_vals | (10,)\n",
      "   Measured | DF_DS_set        | DF_DS_set        | (10, 14)\n",
      "   Measured | DC_voltage       | DC_voltage       | (10, 14)\n",
      "started at 2017-01-05 12:20:16\n"
     ]
    }
   ],
   "source": [
    "DC_parameter.setup()\n",
    "data = qc.Loop(\n",
    "    y_sweep).each(\n",
    "        track_peak_parameter).then(\n",
    "                qc.Task(layout.stop)).run(\n",
    "    name='track_peak', progress_interval=True)"
   ]
  },
  {
   "cell_type": "code",
   "execution_count": 85,
   "metadata": {
    "collapsed": false,
    "hidden": true
   },
   "outputs": [],
   "source": [
    "data.sync()\n",
    "plot = qc.MatPlot(subplots=2)\n",
    "plot[0].add(data.DC_voltage)\n",
    "plot[1].add(data.optimal_set_vals)"
   ]
  },
  {
   "cell_type": "code",
   "execution_count": null,
   "metadata": {
    "collapsed": true,
    "hidden": true
   },
   "outputs": [],
   "source": [
    "data.parameter_info[]"
   ]
  },
  {
   "cell_type": "code",
   "execution_count": 7,
   "metadata": {
    "collapsed": false,
    "hidden": true,
    "scrolled": false
   },
   "outputs": [
    {
     "data": {
      "text/plain": [
       "[<matplotlib.lines.Line2D at 0xd9cbda0>]"
      ]
     },
     "execution_count": 7,
     "metadata": {},
     "output_type": "execute_result"
    }
   ],
   "source": [
    "DC_parameter.setup()\n",
    "track_peak_parameter()\n",
    "layout.stop()\n",
    "plt.figure()\n",
    "plt.plot(track_peak_parameter.result[1], track_peak_parameter.result[2])"
   ]
  },
  {
   "cell_type": "markdown",
   "metadata": {
    "heading_collapsed": true
   },
   "source": [
    "# EPR measurements (no steering/ESR)"
   ]
  },
  {
   "cell_type": "markdown",
   "metadata": {
    "hidden": true
   },
   "source": [
    "This is a calibration routine to find a point with high contrast (difference in signal between up state and down state). \n",
    "This measurement consists of three stages: empty, load, and read.\n",
    "In the empty stage, the donor atom is ionized. \n",
    "It is then loaded with an electron in a random state.\n",
    "Finally the state is read out for a long duration.\n",
    "The contrast is found by looking if blips occured at the beginning of the read trace and at the end of the read trace.\n",
    "The contrast is the difference in percentage of blips occuring at the beginning versus at the end.\n",
    "The end part of the read trace is related to the number of dark counts, since we assume that an up-state electron will have had enough time to have tunneled off and on again."
   ]
  },
  {
   "cell_type": "markdown",
   "metadata": {
    "hidden": true
   },
   "source": [
    "## EPR - 2D scan"
   ]
  },
  {
   "cell_type": "code",
   "execution_count": null,
   "metadata": {
    "collapsed": true,
    "hidden": true
   },
   "outputs": [],
   "source": [
    "DF_DS(0.546)\n",
    "TGAC(0.219)"
   ]
  },
  {
   "cell_type": "code",
   "execution_count": 208,
   "metadata": {
    "collapsed": false,
    "hidden": true
   },
   "outputs": [],
   "source": [
    "y_sweep, x_sweep = create_set_vals(2, step_percentage=30, points=7)\n",
    "#y_sweep, x_sweep = create_set_vals('2D', spans=0, nums=5)"
   ]
  },
  {
   "cell_type": "code",
   "execution_count": null,
   "metadata": {
    "collapsed": false,
    "hidden": true
   },
   "outputs": [],
   "source": [
    "EPR_parameter.settings(samples=150)\n",
    "data = qc.Loop(\n",
    "    y_sweep).loop(\n",
    "    x_sweep).each(\n",
    "    EPR_parameter).run(\n",
    "    name='EPR_calibration', progress_interval=True)"
   ]
  },
  {
   "cell_type": "code",
   "execution_count": null,
   "metadata": {
    "collapsed": false,
    "hidden": true
   },
   "outputs": [],
   "source": [
    "plot = qc.MatPlot(subplots=(1, 3), figsize=(12, 4))\n",
    "plot.add(data.contrast, subplot=1)\n",
    "plot.add(data.dark_counts, subplot=2)\n",
    "plot.add(data.voltage_difference, subplot=3)\n",
    "plt.tight_layout()"
   ]
  },
  {
   "cell_type": "markdown",
   "metadata": {
    "hidden": true
   },
   "source": [
    "## EPR - Single point"
   ]
  },
  {
   "cell_type": "code",
   "execution_count": null,
   "metadata": {
    "collapsed": false,
    "hidden": true
   },
   "outputs": [],
   "source": [
    "EPR_parameter.single_settings(samples=150, silent=False)\n",
    "EPR_parameter();"
   ]
  },
  {
   "cell_type": "markdown",
   "metadata": {},
   "source": [
    "# Adiabatic sweep measurements"
   ]
  },
  {
   "cell_type": "markdown",
   "metadata": {
    "heading_collapsed": true
   },
   "source": [
    "## ESR Adiabatic - Center frequency scan"
   ]
  },
  {
   "cell_type": "markdown",
   "metadata": {
    "hidden": true
   },
   "source": [
    "This code sweeps over the adiabatic sweep center frequency to find the ESR frequency.\n",
    "\n",
    "To find the ESR frequency, use 28GHz * B0 as starting point, and search around that frequency.\n",
    "Use a big initial frequency_deviation (around 60 MHz) and long duration (0.5 ms)\n",
    "Once you see a spike in contrast, center around there and decrease both deviation and duration."
   ]
  },
  {
   "cell_type": "code",
   "execution_count": 111,
   "metadata": {
    "collapsed": false,
    "hidden": true
   },
   "outputs": [
    {
     "data": {
      "text/plain": [
       "FrequencyRampPulse(adiabatic (ESR), f_center=27951.00 MHz, f_dev=1.00, power=0, t_start=3, t_stop=3.15)"
      ]
     },
     "execution_count": 111,
     "metadata": {},
     "output_type": "execute_result"
    }
   ],
   "source": [
    "adiabatic_ESR_parameter.pulse_sequence['adiabatic'].duration=0.15\n",
    "adiabatic_ESR_parameter.pulse_sequence['adiabatic'].frequency_deviation = 1e6\n",
    "adiabatic_ESR_parameter.pulse_sequence['adiabatic']"
   ]
  },
  {
   "cell_type": "code",
   "execution_count": 112,
   "metadata": {
    "collapsed": false,
    "hidden": true
   },
   "outputs": [
    {
     "name": "stdout",
     "output_type": "stream",
     "text": [
      "Sweep vals: 50\n"
     ]
    }
   ],
   "source": [
    "f_center = properties_config['frequency_ESR']\n",
    "f_span = 10e6\n",
    "f_step = 0.2e6\n",
    "adiabatic_sweep_vals = list(np.arange(f_center-f_span/2, f_center+f_span/2, f_step))\n",
    "print('Sweep vals: {}'.format(len(adiabatic_sweep_vals)))"
   ]
  },
  {
   "cell_type": "code",
   "execution_count": 113,
   "metadata": {
    "collapsed": false,
    "hidden": true
   },
   "outputs": [
    {
     "name": "stdout",
     "output_type": "stream",
     "text": [
      "DataSet:\n",
      "data = qc.load_data('2017-01-24/#016_adiabatic_ESR_f_center_16-43-10')\n",
      "   mode = DataMode.PULL_FROM_SERVER\n",
      "   <Type>   | <array_id>         | <array.name>       | <array.shape>\n",
      "   Setpoint | adiabatic_ESR_set  | adiabatic_ESR      | (50,)\n",
      "   Measured | contrast           | contrast           | (50,)\n",
      "   Measured | dark_counts        | dark_counts        | (50,)\n",
      "   Measured | voltage_difference | voltage_difference | (50,)\n",
      "started at 2017-01-24 16:43:13\n"
     ]
    }
   ],
   "source": [
    "adiabatic_ESR_parameter.samples=40\n",
    "data = qc.Loop(\n",
    "    adiabatic_ESR_parameter[adiabatic_sweep_vals]).each(\n",
    "    qc.Task(partial(print_attr, adiabatic_ESR_parameter, 'pulse_sequence')),\n",
    "    adiabatic_ESR_parameter).run(\n",
    "    name='adiabatic_ESR_f_center', progress_interval=True)\n",
    "plot = qc.MatPlot(data.contrast, use_offset=False)"
   ]
  },
  {
   "cell_type": "markdown",
   "metadata": {
    "heading_collapsed": true
   },
   "source": [
    "## NMR adiabatic frequency scan"
   ]
  },
  {
   "cell_type": "code",
   "execution_count": null,
   "metadata": {
    "collapsed": false,
    "hidden": true
   },
   "outputs": [],
   "source": [
    "#NMR sweep frequencies\n",
    "f_center = 66.82e6\n",
    "f_span = 3e6\n",
    "f_step = 20e3\n",
    "NMR_vals = list(np.arange(f_center-f_span/2, f_center+f_span/2, f_step))\n",
    "print('Sweep vals: {}'.format(len(NMR_vals)))"
   ]
  },
  {
   "cell_type": "code",
   "execution_count": null,
   "metadata": {
    "collapsed": false,
    "hidden": true
   },
   "outputs": [],
   "source": [
    "data = qc.Loop(adiabatic_NMR_parameter[NMR_vals]\n",
    "              ).each(qc.Task(adiabatic_NMR_parameter.setup),\n",
    "                     adiabatic_NMR_parameter,\n",
    "                     qc.Task(partial(adiabatic_ESR_parameter, frequency_center_ESR['up'])),\n",
    "                     adiabatic_ESR_parameter,\n",
    "                     qc.Task(partial(adiabatic_ESR_parameter, frequency_center_ESR['down'])),\n",
    "                     adiabatic_ESR_parameter,\n",
    "                    ).run(name='NMR_adiabatic_sweep', progress_interval=True)"
   ]
  },
  {
   "cell_type": "code",
   "execution_count": null,
   "metadata": {
    "collapsed": false,
    "hidden": true
   },
   "outputs": [],
   "source": [
    "plot = qc.MatPlot(data.contrast_3_4)\n",
    "plot.add(data.contrast_5_4)"
   ]
  },
  {
   "cell_type": "markdown",
   "metadata": {
    "heading_collapsed": true
   },
   "source": [
    "## Adiabatic - frequency deviation versus ESR duration"
   ]
  },
  {
   "cell_type": "markdown",
   "metadata": {
    "hidden": true
   },
   "source": [
    "This is a 2D scan of frequency deviation versus duration.\n",
    "From this measurement, the minimum acceptable values for frequency deviation and ESR duration can be extracted."
   ]
  },
  {
   "cell_type": "code",
   "execution_count": 44,
   "metadata": {
    "collapsed": false,
    "hidden": true
   },
   "outputs": [],
   "source": [
    "pulse = adiabatic_ESR_parameter.pulse_sequence['adiabatic']\n",
    "adiabatic_deviation_parameter = general_parameters.AttributeParameter(object=pulse, attribute='frequency_deviation')\n",
    "adiabatic_duration_parameter = general_parameters.AttributeParameter(object=pulse, attribute='duration')\n",
    "\n",
    "adiabatic_deviation_vals = list(np.arange(0.5e6, 2.1e6, 0.25e6))\n",
    "adiabatic_duration_vals = list(np.arange(0.075, 0.251, 0.025))"
   ]
  },
  {
   "cell_type": "code",
   "execution_count": 50,
   "metadata": {
    "collapsed": false,
    "hidden": true
   },
   "outputs": [
    {
     "name": "stdout",
     "output_type": "stream",
     "text": [
      "DataSet:\n",
      "   mode     = DataMode.PULL_FROM_SERVER\n",
      "   location = '2016-12-24/#034_adiabatic_deviation_vs_duration_17-17-26'\n",
      "   <Type>   | <array_id>              | <array.name>        | <array.shape>\n",
      "   Setpoint | frequency_deviation_set | frequency_deviation | (7,)\n",
      "   Setpoint | duration_set            | duration            | (7, 8)\n",
      "   Measured | contrast                | contrast            | (7, 8)\n",
      "   Measured | dark_counts             | dark_counts         | (7, 8)\n",
      "   Measured | voltage_difference      | voltage_difference  | (7, 8)\n",
      "started at 2016-12-24 17:17:28\n"
     ]
    }
   ],
   "source": [
    "adiabatic_ESR_parameter.samples = 400\n",
    "data = qc.Loop(\n",
    "    adiabatic_deviation_parameter[adiabatic_deviation_vals]).loop(\n",
    "    adiabatic_duration_parameter[adiabatic_duration_vals]).each(\n",
    "    qc.Task(partial(print_attr, adiabatic_ESR_parameter, 'pulse_sequence')),\n",
    "    adiabatic_ESR_parameter).run(\n",
    "    name='adiabatic_deviation_vs_duration', progress_interval=True)"
   ]
  },
  {
   "cell_type": "code",
   "execution_count": 51,
   "metadata": {
    "collapsed": false,
    "hidden": true,
    "scrolled": false
   },
   "outputs": [],
   "source": [
    "plot = qc.MatPlot(subplots=(1,2), figsize=(12,5), interval=10)\n",
    "plot.add(data.contrast, subplot=1, nticks=6)\n",
    "plot.add(data.dark_counts, subplot=2, nticks=6)\n",
    "# for ax in plot.subplots:\n",
    "#     ax.set_xscale('log')\n",
    "#     ax.set_yscale('log')\n",
    "plot.fig.tight_layout(rect=[0, 0.03, 1, 0.95])"
   ]
  },
  {
   "cell_type": "code",
   "execution_count": null,
   "metadata": {
    "collapsed": true,
    "hidden": true
   },
   "outputs": [],
   "source": []
  },
  {
   "cell_type": "markdown",
   "metadata": {},
   "source": [
    "## Adiabatic - 2D scan"
   ]
  },
  {
   "cell_type": "code",
   "execution_count": 27,
   "metadata": {
    "collapsed": true
   },
   "outputs": [],
   "source": [
    "y_sweep, x_sweep = create_set_vals(2, step_percentage=10, points=7)"
   ]
  },
  {
   "cell_type": "code",
   "execution_count": 23,
   "metadata": {
    "collapsed": false
   },
   "outputs": [
    {
     "name": "stdout",
     "output_type": "stream",
     "text": [
      "DataSet:\n",
      "data = qc.load_data('2017-02-13/#006_adiabatic_calibration_10-37-22')\n",
      "   mode = DataMode.PULL_FROM_SERVER\n",
      "   <Type>   | <array_id>         | <array.name>       | <array.shape>\n",
      "   Setpoint | TGAC_set           | TGAC               | (7,)\n",
      "   Setpoint | DF_DS_set          | DF_DS              | (7, 7)\n",
      "   Measured | contrast           | contrast           | (7, 7)\n",
      "   Measured | dark_counts        | dark_counts        | (7, 7)\n",
      "   Measured | voltage_difference | voltage_difference | (7, 7)\n",
      "started at 2017-02-13 10:37:26\n"
     ]
    },
    {
     "data": {
      "text/plain": [
       "<__main__.CalibrationPlot at 0x10997240>"
      ]
     },
     "execution_count": 23,
     "metadata": {},
     "output_type": "execute_result"
    },
    {
     "data": {
      "application/javascript": [
       "\n",
       "        var current_cell = Jupyter.notebook.get_selected_cell();\n",
       "        var current_index = Jupyter.notebook.find_cell_index(current_cell);\n",
       "        var new_cell = Jupyter.notebook.insert_cell_below('code', current_index);\n",
       "        new_cell.set_text('DF_DS(0.47677)\\nTGAC(0.41777)');\n",
       "        current_cell.unselect();\n",
       "        new_cell.select();"
      ]
     },
     "metadata": {},
     "output_type": "display_data"
    }
   ],
   "source": [
    "adiabatic_ESR_parameter.settings(samples=200)\n",
    "data = qc.Loop(\n",
    "    y_sweep).loop(\n",
    "    x_sweep).each(\n",
    "    adiabatic_ESR_parameter).run(\n",
    "    name='adiabatic_calibration', progress_interval=True)\n",
    "CalibrationPlot(data)"
   ]
  },
  {
   "cell_type": "code",
   "execution_count": 26,
   "metadata": {
    "collapsed": true
   },
   "outputs": [],
   "source": [
    "DF_DS(0.47677)\n",
    "TGAC(0.41777)"
   ]
  },
  {
   "cell_type": "code",
   "execution_count": 28,
   "metadata": {
    "collapsed": false
   },
   "outputs": [
    {
     "name": "stdout",
     "output_type": "stream",
     "text": [
      "DataSet:\n",
      "data = qc.load_data('2017-02-13/#007_continuos_adiabatic_calibration_10-50-31')\n",
      "   mode = DataMode.PULL_FROM_SERVER\n",
      "   <Type>   | <array_id>                 | <array.name>       | <array.shape>\n",
      "   Setpoint | dummy_set                  | dummy              | (40,)\n",
      "   Measured | contrast_2_0               | contrast           | (40,)\n",
      "   Measured | dark_counts_2_1            | dark_counts        | (40,)\n",
      "   Measured | voltage_difference_2_2     | voltage_difference | (40,)\n",
      "   Setpoint | TGAC_set                   | TGAC               | (40, 7)\n",
      "   Setpoint | DF_DS_set                  | DF_DS              | (40, 7, 7)\n",
      "   Measured | contrast_3_0_0_0           | contrast           | (40, 7, 7)\n",
      "   Measured | dark_counts_3_0_0_1        | dark_counts        | (40, 7, 7)\n",
      "   Measured | voltage_difference_3_0_0_2 | voltage_difference | (40, 7, 7)\n",
      "started at 2017-02-13 10:50:34\n"
     ]
    }
   ],
   "source": [
    "adiabatic_ESR_parameter.settings(samples=200)\n",
    "data = Loop(\n",
    "    dummy_parameter[0:40:1]).each(\n",
    "        qc.Task(DF_DS, 0.47677),\n",
    "        qc.Task(TGAC, 0.41777),\n",
    "        adiabatic_ESR_parameter,\n",
    "        Loop(\n",
    "        y_sweep).loop(\n",
    "            x_sweep).each(\n",
    "                adiabatic_ESR_parameter),\n",
    "        qc.Task(sleep, 600)).run(\n",
    "    name='continuos_adiabatic_calibration', progress_interval=True)"
   ]
  },
  {
   "cell_type": "code",
   "execution_count": 91,
   "metadata": {
    "collapsed": false
   },
   "outputs": [
    {
     "data": {
      "text/plain": [
       "PulseSequence with 5 pulses, duration: 127\n",
       "\tDCPulse(plunge, A=0.08, t_start=0, t_stop=5)\n",
       "\tFrequencyRampPulse(adiabatic (ESR), f_center=27951.00 MHz, f_dev=0.50, power=0, t_start=3, t_stop=3.2)\n",
       "\tDCPulse(read (long), A=0, t_start=5, t_stop=125)\n",
       "\tDCPulse(final, A=0, t_start=125, t_stop=127)\n",
       "\t\n",
       "\tDisabled pulses:\n",
       "\tSteeredInitialization(steered_initialization, t_no_blip=120 ms, t_max_wait=400, t_buffer=30, V_th=0.3333333333333333)"
      ]
     },
     "execution_count": 91,
     "metadata": {},
     "output_type": "execute_result"
    }
   ],
   "source": [
    "adiabatic_ESR_parameter.pulse_sequence"
   ]
  },
  {
   "cell_type": "code",
   "execution_count": 25,
   "metadata": {
    "collapsed": false
   },
   "outputs": [
    {
     "data": {
      "text/plain": [
       "[0.59510204081632645, 0.16, 0.79742210424635562]"
      ]
     },
     "execution_count": 25,
     "metadata": {},
     "output_type": "execute_result"
    }
   ],
   "source": [
    "adiabatic_ESR_parameter()"
   ]
  },
  {
   "cell_type": "markdown",
   "metadata": {
    "heading_collapsed": true
   },
   "source": [
    "## Adiabatic - 2D deviation versus duration"
   ]
  },
  {
   "cell_type": "code",
   "execution_count": null,
   "metadata": {
    "collapsed": false,
    "hidden": true,
    "scrolled": true
   },
   "outputs": [],
   "source": [
    "pulse = adiabatic_ESR_parameter.pulse_sequence['adiabatic_sweep']\n",
    "adiabatic_deviation_parameter = general_parameters.AttributeParameter(object=pulse, attribute='frequency_deviation')\n",
    "adiabatic_duration_parameter = general_parameters.AttributeParameter(object=pulse, attribute='duration')\n",
    "\n",
    "\n",
    "adiabatic_ESR_parameter.setup(samples=250, readout_threshold_voltage=readout_threshold_voltage,\n",
    "                                save_traces=False)\n",
    "data = qc.Loop(dummy_parameter[0:100:1]\n",
    "              ).each(qc.Task(adiabatic_deviation_parameter, 5e6),\n",
    "                     qc.Task(adiabatic_duration_parameter, .15),\n",
    "                     qc.Task(adiabatic_ESR_parameter.setup),\n",
    "                     adiabatic_ESR_parameter,\n",
    "                     qc.Task(adiabatic_deviation_parameter, 15e6),\n",
    "                     qc.Task(adiabatic_duration_parameter, .35),\n",
    "                     qc.Task(adiabatic_ESR_parameter.setup),\n",
    "                     adiabatic_ESR_parameter,\n",
    "                    ).run(name='adiabatic_calibration',\n",
    "                          progress_interval=True)"
   ]
  },
  {
   "cell_type": "code",
   "execution_count": null,
   "metadata": {
    "collapsed": false,
    "hidden": true
   },
   "outputs": [],
   "source": [
    "plot = qc.MatPlot(data.contrast_3_4);\n",
    "plot.add(data.contrast_7_4)"
   ]
  },
  {
   "cell_type": "markdown",
   "metadata": {
    "heading_collapsed": true
   },
   "source": [
    "## Flip nucleus"
   ]
  },
  {
   "cell_type": "code",
   "execution_count": null,
   "metadata": {
    "collapsed": false,
    "hidden": true
   },
   "outputs": [],
   "source": [
    "# Try to flip the nucleus\n",
    "adiabatic_NMR_parameter(frequency_center_NMR)\n",
    "adiabatic_NMR_parameter.samples = 1\n",
    "adiabatic_NMR_parameter();"
   ]
  },
  {
   "cell_type": "markdown",
   "metadata": {
    "heading_collapsed": true
   },
   "source": [
    "## Find ESR frequency"
   ]
  },
  {
   "cell_type": "code",
   "execution_count": null,
   "metadata": {
    "collapsed": false,
    "hidden": true
   },
   "outputs": [],
   "source": [
    "select_ESR_parameter.setup(samples=50, print_results=True, readout_threshold_voltage=readout_threshold_voltage)\n",
    "data = qc.Loop(dummy_parameter[0:100:1]).each(qc.Task(adiabatic_NMR_parameter.setup),\n",
    "                                             adiabatic_NMR_parameter,\n",
    "                                             qc.Task(select_ESR_parameter.setup),\n",
    "                                             select_ESR_parameter,\n",
    "                                             qc.Task(adiabatic_ESR_parameter, partial(getattr, select_ESR_parameter, 'frequency_ESR')),\n",
    "                                             qc.Task(adiabatic_deviation_parameter, 5e6),\n",
    "                                             qc.Task(adiabatic_duration_parameter, .15),\n",
    "                                             qc.Task(adiabatic_ESR_parameter.setup),\n",
    "                                             adiabatic_ESR_parameter,\n",
    "                                             qc.Task(adiabatic_deviation_parameter, 15e6),\n",
    "                                             qc.Task(adiabatic_duration_parameter, .35),\n",
    "                                             qc.Task(adiabatic_ESR_parameter.setup),\n",
    "                                             adiabatic_ESR_parameter,\n",
    "                                            ).run(name='test_find_ESR',\n",
    "                                                 progress_interval=True)"
   ]
  },
  {
   "cell_type": "code",
   "execution_count": null,
   "metadata": {
    "collapsed": false,
    "hidden": true
   },
   "outputs": [],
   "source": [
    "plot = qc.MatPlot(data.contrast_up, label='nucleus up')\n",
    "plot.add(data.contrast_down, label='nucleus down')\n",
    "plot.add(data.contrast_8_4, label='ESR narrow')\n",
    "plot.add(data.contrast_12_4, label='ESR wide')"
   ]
  },
  {
   "cell_type": "markdown",
   "metadata": {
    "heading_collapsed": true
   },
   "source": [
    "# Rabis"
   ]
  },
  {
   "cell_type": "markdown",
   "metadata": {
    "heading_collapsed": true,
    "hidden": true
   },
   "source": [
    "## Find Rabi frequency"
   ]
  },
  {
   "cell_type": "code",
   "execution_count": 27,
   "metadata": {
    "collapsed": false,
    "hidden": true
   },
   "outputs": [
    {
     "name": "stdout",
     "output_type": "stream",
     "text": [
      "Sweep vals: 500\n"
     ]
    },
    {
     "data": {
      "text/plain": [
       "PulseSequence with 5 pulses, duration: 27\n",
       "\tDCPulse(plunge, A=2, t_start=0, t_stop=5)\n",
       "\tSinePulse(rabi (ESR), f=27950.88 MHz, power=0, t_start=3, t_stop=3.1)\n",
       "\tDCPulse(read, A=0, t_start=5, t_stop=25)\n",
       "\tDCPulse(final, A=0, t_start=25, t_stop=27)\n",
       "\t\n",
       "\tDisabled pulses:\n",
       "\tSteeredInitialization(steered_initialization, t_no_blip=120 ms, t_max_wait=400, t_buffer=30, V_th=0.3333333333333333)"
      ]
     },
     "execution_count": 27,
     "metadata": {},
     "output_type": "execute_result"
    }
   ],
   "source": [
    "#determine Rabi frequency\n",
    "rabi_ESR_parameter.pulse_sequence['rabi'].duration=0.1\n",
    "rabi_ESR_parameter.pulse_sequence['rabi'].power=0\n",
    "rabi_ESR_parameter.pulse_sequence['rabi'].t_start=3\n",
    "\n",
    "f_center = 27.950885000e9 #properties_config['frequency_ESR']\n",
    "rabi_ESR_parameter.pulse_sequence['rabi'].frequency = f_center\n",
    "f_span = 5e6\n",
    "f_step = 0.01e6\n",
    "rabi_sweep_vals = list(np.arange(f_center-f_span/2, f_center+f_span/2, f_step))\n",
    "print('Sweep vals: {}'.format(len(rabi_sweep_vals)))\n",
    "rabi_ESR_parameter.pulse_sequence"
   ]
  },
  {
   "cell_type": "code",
   "execution_count": 28,
   "metadata": {
    "collapsed": false,
    "hidden": true,
    "scrolled": true
   },
   "outputs": [
    {
     "name": "stdout",
     "output_type": "stream",
     "text": [
      "DataSet:\n",
      "data = qc.load_data('2017-01-13/#019_rabi_ESR_f_center_22-58-19')\n",
      "   mode = DataMode.PULL_FROM_SERVER\n",
      "   <Type>   | <array_id>         | <array.name>       | <array.shape>\n",
      "   Setpoint | rabi_ESR_set       | rabi_ESR           | (500,)\n",
      "   Measured | contrast           | contrast           | (500,)\n",
      "   Measured | dark_counts        | dark_counts        | (500,)\n",
      "   Measured | voltage_difference | voltage_difference | (500,)\n",
      "started at 2017-01-13 22:58:23\n"
     ]
    }
   ],
   "source": [
    "rabi_ESR_parameter.samples=50\n",
    "data = qc.Loop(\n",
    "    rabi_ESR_parameter[rabi_sweep_vals]).each(\n",
    "    rabi_ESR_parameter).run(\n",
    "    name='rabi_ESR_f_center', progress_interval=True)\n",
    "plot = qc.MatPlot(data.contrast, use_offset=False)"
   ]
  },
  {
   "cell_type": "code",
   "execution_count": 28,
   "metadata": {
    "collapsed": false,
    "hidden": true
   },
   "outputs": [
    {
     "data": {
      "text/plain": [
       "27950885000.0"
      ]
     },
     "execution_count": 28,
     "metadata": {},
     "output_type": "execute_result"
    }
   ],
   "source": [
    "max_val = data.contrast.argmax()\n",
    "rabi_sweep_vals[max_val]"
   ]
  },
  {
   "cell_type": "code",
   "execution_count": 16,
   "metadata": {
    "collapsed": true,
    "hidden": true
   },
   "outputs": [],
   "source": [
    "rabi_frequency = 27950885000.0"
   ]
  },
  {
   "cell_type": "markdown",
   "metadata": {
    "heading_collapsed": true,
    "hidden": true
   },
   "source": [
    "## Rabi drive"
   ]
  },
  {
   "cell_type": "code",
   "execution_count": 19,
   "metadata": {
    "collapsed": false,
    "hidden": true
   },
   "outputs": [
    {
     "name": "stdout",
     "output_type": "stream",
     "text": [
      "Sweep vals: 200\n"
     ]
    },
    {
     "data": {
      "text/plain": [
       "PulseSequence with 5 pulses, duration: 27\n",
       "\tDCPulse(plunge, A=2, t_start=0, t_stop=5)\n",
       "\tSinePulse(rabi (ESR), f=27950.88 MHz, power=0, t_start=3, t_stop=3.1)\n",
       "\tDCPulse(read, A=0, t_start=5, t_stop=25)\n",
       "\tDCPulse(final, A=0, t_start=25, t_stop=27)\n",
       "\t\n",
       "\tDisabled pulses:\n",
       "\tSteeredInitialization(steered_initialization, t_no_blip=120 ms, t_max_wait=400, t_buffer=30, V_th=0.3333333333333333)"
      ]
     },
     "execution_count": 19,
     "metadata": {},
     "output_type": "execute_result"
    }
   ],
   "source": [
    "rabi_drive_ESR_parameter.pulse_sequence['rabi'].duration=0.1\n",
    "rabi_drive_ESR_parameter.pulse_sequence['rabi'].power=0\n",
    "rabi_drive_ESR_parameter.pulse_sequence['rabi'].t_start=3\n",
    "\n",
    "f_center = rabi_frequency #properties_config['frequency_ESR']\n",
    "rabi_drive_ESR_parameter.pulse_sequence['rabi'].frequency = f_center\n",
    "drive_duration_start = 0\n",
    "drive_duration_stop = 0.1\n",
    "drive_duration_step = 0.0005\n",
    "drive_duration_sweep_vals = list(np.arange(drive_duration_start, drive_duration_stop, drive_duration_step))\n",
    "print('Sweep vals: {}'.format(len(drive_duration_sweep_vals)))\n",
    "rabi_drive_ESR_parameter.pulse_sequence"
   ]
  },
  {
   "cell_type": "code",
   "execution_count": 31,
   "metadata": {
    "collapsed": false,
    "hidden": true
   },
   "outputs": [
    {
     "name": "stdout",
     "output_type": "stream",
     "text": [
      "DataSet:\n",
      "data = qc.load_data('2017-01-13/#005_rabi_drive_ESR_13-07-36')\n",
      "   mode = DataMode.PULL_FROM_SERVER\n",
      "   <Type>   | <array_id>         | <array.name>       | <array.shape>\n",
      "   Setpoint | rabi_drive_ESR_set | rabi_drive_ESR     | (100,)\n",
      "   Measured | contrast           | contrast           | (100,)\n",
      "   Measured | dark_counts        | dark_counts        | (100,)\n",
      "   Measured | voltage_difference | voltage_difference | (100,)\n",
      "started at 2017-01-13 13:07:39\n"
     ]
    }
   ],
   "source": [
    "rabi_drive_ESR_parameter.samples=80\n",
    "data = qc.Loop(\n",
    "    rabi_drive_ESR_parameter[drive_duration_sweep_vals]).each(\n",
    "    rabi_drive_ESR_parameter).run(\n",
    "    name='rabi_drive_ESR', progress_interval=True)\n",
    "plot = qc.MatPlot(data.contrast, use_offset=False)"
   ]
  },
  {
   "cell_type": "code",
   "execution_count": 36,
   "metadata": {
    "collapsed": false,
    "hidden": true
   },
   "outputs": [
    {
     "data": {
      "text/plain": [
       "0.010999999999999999"
      ]
     },
     "execution_count": 36,
     "metadata": {},
     "output_type": "execute_result"
    }
   ],
   "source": [
    "max_val = data.contrast.argmax()\n",
    "pulse_length = drive_duration_sweep_vals[max_val]\n",
    "pi_pulse_length =0.007\n",
    "pulse_length/2\n"
   ]
  },
  {
   "cell_type": "markdown",
   "metadata": {
    "heading_collapsed": true
   },
   "source": [
    "# Dark counts"
   ]
  },
  {
   "cell_type": "code",
   "execution_count": null,
   "metadata": {
    "collapsed": false,
    "hidden": true
   },
   "outputs": [],
   "source": [
    "dark_counts_parameter.single_settings(samples=150, silent=True)\n",
    "dark_counts_parameter();"
   ]
  },
  {
   "cell_type": "markdown",
   "metadata": {
    "heading_collapsed": true,
    "hidden": true
   },
   "source": [
    "## Dark counts vs plunge voltage"
   ]
  },
  {
   "cell_type": "code",
   "execution_count": 13,
   "metadata": {
    "collapsed": false,
    "hidden": true
   },
   "outputs": [
    {
     "name": "stdout",
     "output_type": "stream",
     "text": [
      "DataSet:\n",
      "   mode     = DataMode.PULL_FROM_SERVER\n",
      "   location = '2016-12-29/#026_T1_plunge_voltage_15-36-23'\n",
      "   <Type>   | <array_id>           | <array.name>       | <array.shape>\n",
      "   Setpoint | dummy_set            | dummy              | (20,)\n",
      "   Setpoint | plunge_amplitude_set | plunge_amplitude   | (20, 15)\n",
      "   Measured | up_proportion        | up_proportion      | (20, 15)\n",
      "   Measured | num_traces           | num_traces         | (20, 15)\n",
      "   Measured | contrast             | contrast           | (20, 15)\n",
      "   Measured | dark_counts          | dark_counts        | (20, 15)\n",
      "   Measured | voltage_difference   | voltage_difference | (20, 15)\n",
      "started at 2016-12-29 15:36:25\n"
     ]
    }
   ],
   "source": [
    "dark_counts_plunge_parameter.samples=50\n",
    "adiabatic_ESR_parameter.samples=50\n",
    "\n",
    "T1_parameter(10)\n",
    "data = qc.Loop(\n",
    "    dummy_parameter[0:20:1]).loop(\n",
    "        plunge_voltage_parameter[1:2.5:0.1]).each(\n",
    "            dark_counts_plunge_parameter,\n",
    "            adiabatic_ESR_parameter).run(\n",
    "    name='T1_plunge_voltage', progress_interval=True)"
   ]
  },
  {
   "cell_type": "code",
   "execution_count": 22,
   "metadata": {
    "collapsed": false,
    "hidden": true
   },
   "outputs": [],
   "source": [
    "plot = qc.MatPlot(subplots=(1,3), figsize=(12,4))\n",
    "plot.add(data.up_proportion, subplot=0)\n",
    "plot.add(data.contrast, subplot=1)\n",
    "plot.add(np.nanmean(data.contrast, 0), x=data.plunge_amplitude_set[0], subplot=2, label='contrast')\n",
    "plot.add(np.nanmean(data.up_proportion, 0), x=data.plunge_amplitude_set[0], subplot=2, label='dark counts')\n",
    "plot[2].set_xlabel('plunge_amplitude')\n",
    "plot[2].legend()\n",
    "plot.tight_layout()"
   ]
  },
  {
   "cell_type": "markdown",
   "metadata": {
    "collapsed": true,
    "heading_collapsed": true
   },
   "source": [
    "# Read level sweep (to be fixed)"
   ]
  },
  {
   "cell_type": "code",
   "execution_count": null,
   "metadata": {
    "collapsed": true,
    "hidden": true
   },
   "outputs": [],
   "source": [
    "variable_read_parameter.setup(samples=100)\n",
    "data = qc.Loop(variable_read_parameter[-1.5:2.5:0.04]\n",
    "                     ).each(variable_read_parameter\n",
    "                           ).run(name='variable_read',\n",
    "                                progress_interval=True)"
   ]
  },
  {
   "cell_type": "code",
   "execution_count": null,
   "metadata": {
    "collapsed": false,
    "hidden": true,
    "scrolled": true
   },
   "outputs": [],
   "source": [
    "plotQ = qc.QtPlot()\n",
    "plotQ.add(data.Channel_A_signal)\n",
    "\n",
    "plotQ = qc.QtPlot()\n",
    "plotQ.add(data.Channel_C_signal)"
   ]
  },
  {
   "cell_type": "markdown",
   "metadata": {},
   "source": [
    "# T1 measurement"
   ]
  },
  {
   "cell_type": "markdown",
   "metadata": {
    "heading_collapsed": true
   },
   "source": [
    "## T1 - Single point"
   ]
  },
  {
   "cell_type": "code",
   "execution_count": null,
   "metadata": {
    "collapsed": false,
    "hidden": true,
    "scrolled": false
   },
   "outputs": [],
   "source": [
    "T1_parameter(20000)\n",
    "T1_parameter.single_settings(samples=50)\n",
    "%time up_proportion, num_traces = T1_parameter()"
   ]
  },
  {
   "cell_type": "code",
   "execution_count": null,
   "metadata": {
    "collapsed": false,
    "hidden": true
   },
   "outputs": [],
   "source": [
    "up_proportion"
   ]
  },
  {
   "cell_type": "code",
   "execution_count": null,
   "metadata": {
    "collapsed": false,
    "hidden": true
   },
   "outputs": [],
   "source": [
    "plot_traces(T1_parameter.trace_segments['output']['read'])"
   ]
  },
  {
   "cell_type": "markdown",
   "metadata": {
    "heading_collapsed": true
   },
   "source": [
    "## T1 - single scan"
   ]
  },
  {
   "cell_type": "code",
   "execution_count": 5,
   "metadata": {
    "collapsed": false,
    "hidden": true
   },
   "outputs": [
    {
     "name": "stdout",
     "output_type": "stream",
     "text": [
      "Shuffled T1 wait times: [10.0, 18.957356524063755, 35.938136638046274, 68.129206905796153, 129.15496650148839, 244.84367468222268, 464.15888336127819, 879.92254356910746, 1668.1005372000591, 3162.2776601683795]\n"
     ]
    }
   ],
   "source": [
    "# Calculate T1 durations\n",
    "T1_wait_times = list(np.logspace(1, 3.5, num=10, base=10))\n",
    "\n",
    "# Shuffle times\n",
    "#np.random.shuffle(T1_wait_times)\n",
    "print('Shuffled T1 wait times: {}'.format(T1_wait_times))"
   ]
  },
  {
   "cell_type": "code",
   "execution_count": 6,
   "metadata": {
    "collapsed": false,
    "hidden": true,
    "scrolled": false
   },
   "outputs": [
    {
     "name": "stdout",
     "output_type": "stream",
     "text": [
      "DataSet:\n",
      "data = qc.load_data('2017-01-09/#010_T1_single_sweep_17-07-22')\n",
      "   mode = DataMode.PULL_FROM_SERVER\n",
      "   <Type>   | <array_id>           | <array.name>     | <array.shape>\n",
      "   Setpoint | T1_wait_time_ESR_set | T1_wait_time_ESR | (10,)\n",
      "   Measured | up_proportion        | up_proportion    | (10,)\n",
      "   Measured | num_traces           | num_traces       | (10,)\n",
      "started at 2017-01-09 17:07:26\n"
     ]
    },
    {
     "name": "stderr",
     "output_type": "stream",
     "text": [
      "C:\\Users\\lab.BluG12Meas\\Anaconda3\\lib\\site-packages\\matplotlib\\axes\\_base.py:2899: UserWarning: Attempting to set identical left==right results\n",
      "in singular transformations; automatically expanding.\n",
      "left=10.0, right=10.0\n",
      "  'left=%s, right=%s') % (left, right))\n"
     ]
    }
   ],
   "source": [
    "# Single T1 sweep\n",
    "T1_parameter.samples=50\n",
    "data = qc.Loop(\n",
    "    T1_parameter[T1_wait_times]).each(\n",
    "    T1_parameter).run(name='T1_single_sweep')\n",
    "\n",
    "plot = qc.MatPlot()\n",
    "plot.add(data.up_proportion)\n",
    "plot[0].set_xscale('log')"
   ]
  },
  {
   "cell_type": "markdown",
   "metadata": {
    "collapsed": true,
    "heading_collapsed": true
   },
   "source": [
    "## T1 - single free/uncompensated scan"
   ]
  },
  {
   "cell_type": "code",
   "execution_count": 14,
   "metadata": {
    "collapsed": false,
    "hidden": true
   },
   "outputs": [
    {
     "name": "stdout",
     "output_type": "stream",
     "text": [
      "Shuffled T1 wait times: [10.0, 17.782794100389228, 31.622776601683793, 56.234132519034908, 100.0]\n"
     ]
    }
   ],
   "source": [
    "# Calculate T1 durations\n",
    "T1_wait_times = list(np.logspace(1, 2, num=5, base=10))\n",
    "# Shuffle times\n",
    "#np.random.shuffle(T1_wait_times)\n",
    "print('Shuffled T1 wait times: {}'.format(T1_wait_times))\n",
    "# Single T1 sweep\n",
    "T1_parameter = acquisition_parameters.T1Parameter(mode='ESR')\n",
    "T1_parameter.samples=50\n"
   ]
  },
  {
   "cell_type": "code",
   "execution_count": 128,
   "metadata": {
    "collapsed": false,
    "hidden": true
   },
   "outputs": [
    {
     "data": {
      "text/plain": [
       "PulseSequence with 5 pulses, duration: 27\n",
       "\tDCPulse(plunge, A=(0.08, 0.042666666666666665), t_start=0, t_stop=5)\n",
       "\tFrequencyRampPulse(adiabatic (ESR), f_center=27951.00 MHz, f_dev=0.50, power=0, t_start=3, t_stop=3.2)\n",
       "\tDCPulse(read, A=0, t_start=5, t_stop=25)\n",
       "\tDCPulse(final, A=0, t_start=25, t_stop=27)\n",
       "\t\n",
       "\tDisabled pulses:\n",
       "\tSteeredInitialization(steered_initialization, t_no_blip=120 ms, t_max_wait=400, t_buffer=30, V_th=0.3333333333333333)"
      ]
     },
     "execution_count": 128,
     "metadata": {},
     "output_type": "execute_result"
    }
   ],
   "source": [
    "#T1_parameter.pulse_sequence['plunge'].amplitude #= (0.1,0.2)\n",
    "#T1_parameter.pulse_sequence\n",
    "T1_parameter.pulse_sequence['steered_initialization'].enabled = False\n",
    "T1_parameter.pulse_sequence"
   ]
  },
  {
   "cell_type": "code",
   "execution_count": 124,
   "metadata": {
    "collapsed": false,
    "hidden": true
   },
   "outputs": [],
   "source": [
    "#layout.target_pulse_sequence(T1_parameter.pulse_sequence)\n",
    "#arbstudio_interface.pulse_sequence()"
   ]
  },
  {
   "cell_type": "code",
   "execution_count": 129,
   "metadata": {
    "collapsed": false,
    "hidden": true
   },
   "outputs": [
    {
     "name": "stdout",
     "output_type": "stream",
     "text": [
      "DataSet:\n",
      "data = qc.load_data('2017-01-24/#020_T1_single_sweep_17-10-21')\n",
      "   mode = DataMode.PULL_FROM_SERVER\n",
      "   <Type>   | <array_id>           | <array.name>     | <array.shape>\n",
      "   Setpoint | T1_wait_time_ESR_set | T1_wait_time_ESR | (5,)\n",
      "   Measured | up_proportion        | up_proportion    | (5,)\n",
      "   Measured | num_traces           | num_traces       | (5,)\n",
      "started at 2017-01-24 17:10:25\n"
     ]
    },
    {
     "name": "stderr",
     "output_type": "stream",
     "text": [
      "C:\\Users\\lab.BluG12Meas\\Anaconda3\\lib\\site-packages\\matplotlib\\axes\\_base.py:2899: UserWarning: Attempting to set identical left==right results\n",
      "in singular transformations; automatically expanding.\n",
      "left=10.0, right=10.0\n",
      "  'left=%s, right=%s') % (left, right))\n"
     ]
    }
   ],
   "source": [
    "T1_wait_times = list(np.logspace(1, 3, num=5, base=10))\n",
    "T1_parameter.samples=30\n",
    "data = qc.Loop(\n",
    "    T1_parameter[T1_wait_times]).each(\n",
    "    T1_parameter).run(name='T1_single_sweep')\n",
    "\n",
    "plot = qc.MatPlot()\n",
    "plot.add(data.up_proportion)\n",
    "plot[0].set_xscale('log')"
   ]
  },
  {
   "cell_type": "markdown",
   "metadata": {
    "heading_collapsed": true
   },
   "source": [
    "## T1 - Multiple scans"
   ]
  },
  {
   "cell_type": "code",
   "execution_count": 90,
   "metadata": {
    "collapsed": false,
    "hidden": true
   },
   "outputs": [
    {
     "name": "stdout",
     "output_type": "stream",
     "text": [
      "Shuffled T1 wait times: [19.539304046896113, 4151.2780027522995, 74.598015234879369, 38.178440263705077, 15848.931924611141, 10.0, 1087.3356727196567, 145.75933009692972, 8111.3083078968812, 284.80358684358049, 556.48638769832951, 2124.5782310305694]\n"
     ]
    }
   ],
   "source": [
    "# Calculate T1 durations (shuffled)\n",
    "T1_wait_times = list(np.logspace(1, 4.2, num=12, base=10))\n",
    "np.random.shuffle(T1_wait_times)\n",
    "print('Shuffled T1 wait times: {}'.format(T1_wait_times))"
   ]
  },
  {
   "cell_type": "code",
   "execution_count": 93,
   "metadata": {
    "collapsed": false,
    "hidden": true
   },
   "outputs": [
    {
     "name": "stdout",
     "output_type": "stream",
     "text": [
      "DataSet:\n",
      "   mode = DataMode.PULL_FROM_SERVER\n",
      "   data = qc.load_data('2016-12-30/#053_T1_data_23-04-20')\n",
      "   <Type>   | <array_id>           | <array.name>       | <array.shape>\n",
      "   Setpoint | dummy_set            | dummy              | (80,)\n",
      "   Measured | contrast             | contrast           | (80,)\n",
      "   Measured | dark_counts_0_1      | dark_counts        | (80,)\n",
      "   Measured | voltage_difference   | voltage_difference | (80,)\n",
      "   Measured | dark_counts_1        | dark_counts        | (80,)\n",
      "   Setpoint | T1_wait_time_ESR_set | T1_wait_time_ESR   | (80, 12)\n",
      "   Measured | up_proportion        | up_proportion      | (80, 12)\n",
      "   Measured | num_traces           | num_traces         | (80, 12)\n",
      "started at 2016-12-30 23:04:25\n"
     ]
    }
   ],
   "source": [
    "T1_parameter.samples = 50\n",
    "dark_counts_parameter.samples = 100\n",
    "adiabatic_ESR_parameter.samples = 100\n",
    "data = qc.Loop(\n",
    "    dummy_parameter[0:80:1]).each(\n",
    "    adiabatic_ESR_parameter,\n",
    "    dark_counts_parameter,\n",
    "    qc.Loop(T1_parameter[T1_wait_times]).each(T1_parameter),\n",
    "                    ).run(name='T1_data', progress_interval=True)"
   ]
  },
  {
   "cell_type": "code",
   "execution_count": 99,
   "metadata": {
    "collapsed": false,
    "hidden": true
   },
   "outputs": [],
   "source": [
    "plot = qc.MatPlot(subplots=(1,3), figsize=(12,3.5))\n",
    "plot.add(data.up_proportion, subplot=0)\n",
    "# plot.subplots[0].set_xscale('log')\n",
    "# plot.add(data.T1_wait_time_set[0], np.nanmean(data.up_proportion_5_0_0, axis=0), subplot=2)\n",
    "# plot.subplots[1].set_xscale('log')\n",
    "# plot.subplots[1].set_xlim(10, 13000)\n",
    "plot.add(data.contrast, subplot=1)\n",
    "plot.add(data.dark_counts_1, subplot=2)\n",
    "# plot.add(data.dark_counts_0_1, subplot=3)\n",
    "plt.tight_layout()"
   ]
  },
  {
   "cell_type": "markdown",
   "metadata": {},
   "source": [
    "## T1 - Plunge voltage scan\n",
    "This scan measures the contrast for a fixed wait time as the plunge voltage is varied"
   ]
  },
  {
   "cell_type": "markdown",
   "metadata": {
    "heading_collapsed": true
   },
   "source": [
    "### Fixed-tau plunge voltage scan"
   ]
  },
  {
   "cell_type": "code",
   "execution_count": 90,
   "metadata": {
    "collapsed": false,
    "hidden": true
   },
   "outputs": [
    {
     "name": "stdout",
     "output_type": "stream",
     "text": [
      "DataSet:\n",
      "   mode = DataMode.PULL_FROM_SERVER\n",
      "   data = qc.load_data('2016-12-30/#026_T1_plunge_voltage_17-01-15')\n",
      "   <Type>   | <array_id>           | <array.name>       | <array.shape>\n",
      "   Setpoint | dummy_set            | dummy              | (10,)\n",
      "   Measured | contrast             | contrast           | (10,)\n",
      "   Measured | dark_counts          | dark_counts        | (10,)\n",
      "   Measured | voltage_difference   | voltage_difference | (10,)\n",
      "   Setpoint | plunge_amplitude_set | plunge_amplitude   | (10, 7)\n",
      "   Measured | up_proportion        | up_proportion      | (10, 7)\n",
      "   Measured | num_traces           | num_traces         | (10, 7)\n",
      "started at 2016-12-30 17:01:19\n"
     ]
    }
   ],
   "source": [
    "T1_parameter.samples=50\n",
    "\n",
    "T1_parameter(2500)\n",
    "data = Loop(\n",
    "    dummy_parameter[0:10:1]).each(\n",
    "        adiabatic_ESR_parameter,\n",
    "        Loop(plunge_voltage_parameter[1:2.6:0.25]).each(\n",
    "            T1_parameter)).run(\n",
    "    name='T1_plunge_voltage', progress_interval=True)"
   ]
  },
  {
   "cell_type": "code",
   "execution_count": 91,
   "metadata": {
    "collapsed": false,
    "hidden": true
   },
   "outputs": [
    {
     "name": "stderr",
     "output_type": "stream",
     "text": [
      "C:\\Users\\lab.BluG12Meas\\Anaconda3\\lib\\site-packages\\numpy\\lib\\nanfunctions.py:675: RuntimeWarning: Mean of empty slice\n",
      "  warnings.warn(\"Mean of empty slice\", RuntimeWarning)\n"
     ]
    },
    {
     "data": {
      "text/plain": [
       "<matplotlib.legend.Legend at 0x143d25c0>"
      ]
     },
     "execution_count": 91,
     "metadata": {},
     "output_type": "execute_result"
    }
   ],
   "source": [
    "plot = qc.MatPlot(subplots=3)\n",
    "plot.add(data.up_proportion, subplot=0)\n",
    "plot.add(np.nanmean(data.up_proportion, 0), x=data.plunge_amplitude_set[0], subplot=1)\n",
    "plot[1].set_xlabel('amplitude')\n",
    "plot.add(data.contrast, subplot=2, label='contrast')\n",
    "plot.add(data.dark_counts, subplot=2, label='dark counts')\n",
    "plot[2].legend()"
   ]
  },
  {
   "cell_type": "markdown",
   "metadata": {},
   "source": [
    "### Detailed plunge voltage scan"
   ]
  },
  {
   "cell_type": "code",
   "execution_count": 109,
   "metadata": {
    "collapsed": false
   },
   "outputs": [
    {
     "name": "stdout",
     "output_type": "stream",
     "text": [
      "T1 wait times: [10.0, 19.134546859970403, 36.613088353640322, 70.057485479096783, 134.05182387914726, 256.50209056800458, 490.80512716538561, 939.13337048598044, 1796.9891485325938, 3438.4573069455232, 6579.3322465756755, 12589.254117941662]\n"
     ]
    }
   ],
   "source": [
    "# Calculate T1 durations\n",
    "T1_wait_times = list(np.logspace(1, 4.1, num=12, base=10))\n",
    "print('T1 wait times: {}'.format(T1_wait_times))"
   ]
  },
  {
   "cell_type": "code",
   "execution_count": 110,
   "metadata": {
    "collapsed": false
   },
   "outputs": [],
   "source": [
    "T1_parameter.samples = 25\n",
    "dark_counts_plunge_parameter.samples = 100\n",
    "adiabatic_ESR_parameter.samples = 100"
   ]
  },
  {
   "cell_type": "code",
   "execution_count": 111,
   "metadata": {
    "collapsed": false
   },
   "outputs": [
    {
     "name": "stdout",
     "output_type": "stream",
     "text": [
      "DataSet:\n",
      "data = qc.load_data('2017-02-10/#007_T1_plunge_voltage_14-57-38')\n",
      "   mode = DataMode.PULL_FROM_SERVER\n",
      "   <Type>   | <array_id>           | <array.name>       | <array.shape>\n",
      "   Setpoint | dummy_set            | dummy              | (30,)\n",
      "   Setpoint | plunge_amplitude_set | plunge_amplitude   | (30, 9)\n",
      "   Measured | up_proportion_0_0    | up_proportion      | (30, 9)\n",
      "   Measured | num_traces_0_1       | num_traces         | (30, 9)\n",
      "   Measured | contrast             | contrast           | (30, 9)\n",
      "   Measured | dark_counts          | dark_counts        | (30, 9)\n",
      "   Measured | voltage_difference   | voltage_difference | (30, 9)\n",
      "   Setpoint | T1_wait_time_ESR_set | T1_wait_time_ESR   | (30, 9, 12)\n",
      "   Measured | up_proportion_2_0_0  | up_proportion      | (30, 9, 12)\n",
      "   Measured | num_traces_2_0_1     | num_traces         | (30, 9, 12)\n",
      "started at 2017-02-10 14:57:41\n"
     ]
    }
   ],
   "source": [
    "data = Loop(\n",
    "    dummy_parameter[0:30:1]).loop(\n",
    "        plunge_voltage_parameter[0.1:0.221:0.015]).each(\n",
    "            dark_counts_plunge_parameter,\n",
    "            adiabatic_ESR_parameter,\n",
    "            Loop(T1_parameter[T1_wait_times]).each(\n",
    "                T1_parameter)).run(\n",
    "    name='T1_plunge_voltage', progress_interval=True)"
   ]
  },
  {
   "cell_type": "code",
   "execution_count": 119,
   "metadata": {
    "collapsed": false
   },
   "outputs": [
    {
     "name": "stderr",
     "output_type": "stream",
     "text": [
      "C:\\Users\\lab.BluG12Meas\\Anaconda3\\lib\\site-packages\\numpy\\lib\\nanfunctions.py:675: RuntimeWarning: Mean of empty slice\n",
      "  warnings.warn(\"Mean of empty slice\", RuntimeWarning)\n"
     ]
    }
   ],
   "source": [
    "plot = qc.MatPlot(subplots=(1,3), figsize=(12,4))\n",
    "# plot.add(data.up_proportion, subplot=1)\n",
    "plot.add(np.nanmean(data.up_proportion_2_0_0, 0),subplot=0)\n",
    "plot.add(data.contrast, subplot=1)\n",
    "plot.add(data.dark_counts, subplot=2)"
   ]
  },
  {
   "cell_type": "markdown",
   "metadata": {},
   "source": [
    "## Free/Uncompensated plunge sweep T1"
   ]
  },
  {
   "cell_type": "code",
   "execution_count": 20,
   "metadata": {
    "collapsed": false
   },
   "outputs": [
    {
     "name": "stdout",
     "output_type": "stream",
     "text": [
      "T1 wait times: [10.0, 19.134546859970403, 36.613088353640322, 70.057485479096783, 134.05182387914726, 256.50209056800458, 490.80512716538561, 939.13337048598044, 1796.9891485325938, 3438.4573069455232, 6579.3322465756755, 12589.254117941662]\n"
     ]
    }
   ],
   "source": [
    "# Calculate T1 durations\n",
    "T1_wait_times = list(np.logspace(1, 4.1, num=12, base=10))\n",
    "print('T1 wait times: {}'.format(T1_wait_times))\n"
   ]
  },
  {
   "cell_type": "code",
   "execution_count": 21,
   "metadata": {
    "collapsed": true
   },
   "outputs": [],
   "source": [
    "free_plunge_parameter = general_parameters.AttributeParameter(T1_parameter.pulse_sequence['plunge'], 'amplitude', scale = [1, 2])\n",
    "#free_plunge_parameter(0.08)\n",
    "#T1_parameter.pulse_sequence['plunge'].amplitude "
   ]
  },
  {
   "cell_type": "code",
   "execution_count": 188,
   "metadata": {
    "collapsed": true
   },
   "outputs": [],
   "source": [
    "free_plunge_parameter(0.22)\n"
   ]
  },
  {
   "cell_type": "code",
   "execution_count": 22,
   "metadata": {
    "collapsed": false
   },
   "outputs": [
    {
     "data": {
      "text/plain": [
       "PulseSequence with 5 pulses, duration: 27\n",
       "\tSteeredInitialization(steered_initialization, t_no_blip=120 ms, t_max_wait=400, t_buffer=30, V_th=0.3333333333333333)\n",
       "\tDCPulse(plunge, A=0.08, t_start=0, t_stop=5)\n",
       "\tFrequencyRampPulse(adiabatic (ESR), f_center=27951.00 MHz, f_dev=0.50, power=0, t_start=3, t_stop=3.2)\n",
       "\tDCPulse(read, A=0, t_start=5, t_stop=25)\n",
       "\tDCPulse(final, A=0, t_start=25, t_stop=27)"
      ]
     },
     "execution_count": 22,
     "metadata": {},
     "output_type": "execute_result"
    }
   ],
   "source": [
    "T1_parameter.pulse_sequence['steered_initialization'].enabled = True\n",
    "T1_parameter.pulse_sequence"
   ]
  },
  {
   "cell_type": "code",
   "execution_count": 28,
   "metadata": {
    "collapsed": false
   },
   "outputs": [
    {
     "data": {
      "text/plain": [
       "PulseSequence with 5 pulses, duration: 42\n",
       "\tSteeredInitialization(steered_initialization (long), t_no_blip=200 ms, t_max_wait=1000, t_buffer=30, V_th=0.3333333333333333)\n",
       "\tDCPulse(plunge, A=0.08, t_start=0, t_stop=20)\n",
       "\tDCPulse(read, A=0, t_start=20, t_stop=40)\n",
       "\tDCPulse(final, A=0, t_start=40, t_stop=42)\n",
       "\t\n",
       "\tDisabled pulses:\n",
       "\tFrequencyRampPulse(adiabatic (ESR), f_center=27951.00 MHz, f_dev=0.50, power=0, t_start=3, t_stop=3.2)"
      ]
     },
     "execution_count": 28,
     "metadata": {},
     "output_type": "execute_result"
    }
   ],
   "source": [
    "dark_counts_plunge_parameter.pulse_sequence"
   ]
  },
  {
   "cell_type": "code",
   "execution_count": 321,
   "metadata": {
    "collapsed": false
   },
   "outputs": [
    {
     "data": {
      "text/plain": [
       "{'adiabatic_ESR': {'duration': 0.2,\n",
       "  'frequency_deviation': 500000.0,\n",
       "  'power': 0,\n",
       "  't_start': 3},\n",
       " 'adiabatic_NMR': {'duration': 0.5,\n",
       "  'frequency_deviation': 100000.0,\n",
       "  'power': 0,\n",
       "  't_start': 3},\n",
       " 'empty': {'amplitude': -0.06, 'duration': 5},\n",
       " 'final': {'amplitude': 0, 'duration': 2},\n",
       " 'plunge': {'amplitude': 0.08, 'duration': 5},\n",
       " 'read': {'amplitude': 0, 'duration': 20},\n",
       " 'read_long': {'duration': 120},\n",
       " 'steered_initialization': {'enabled': False,\n",
       "  't_buffer': 30,\n",
       "  't_max_wait': 400,\n",
       "  't_no_blip': 120},\n",
       " 'steered_initialization_long': {'t_max_wait': 1000, 't_no_blip': 200}}"
      ]
     },
     "execution_count": 321,
     "metadata": {},
     "output_type": "execute_result"
    }
   ],
   "source": [
    "pulse_config"
   ]
  },
  {
   "cell_type": "code",
   "execution_count": 24,
   "metadata": {
    "collapsed": false
   },
   "outputs": [
    {
     "name": "stdout",
     "output_type": "stream",
     "text": [
      "DataSet:\n",
      "data = qc.load_data('2017-02-08/#009_T1_free_plunge_voltage_17-42-18')\n",
      "   mode = DataMode.PULL_FROM_SERVER\n",
      "   <Type>   | <array_id>           | <array.name>       | <array.shape>\n",
      "   Setpoint | dummy_set            | dummy              | (30,)\n",
      "   Setpoint | amplitude_set        | amplitude          | (30, 14)\n",
      "   Measured | dark_counts_0        | dark_counts        | (30, 14)\n",
      "   Measured | contrast             | contrast           | (30, 14)\n",
      "   Measured | dark_counts_1_1      | dark_counts        | (30, 14)\n",
      "   Measured | voltage_difference   | voltage_difference | (30, 14)\n",
      "   Setpoint | T1_wait_time_ESR_set | T1_wait_time_ESR   | (30, 14, 12)\n",
      "   Measured | up_proportion        | up_proportion      | (30, 14, 12)\n",
      "   Measured | num_traces           | num_traces         | (30, 14, 12)\n",
      "started at 2017-02-08 17:42:21\n"
     ]
    }
   ],
   "source": [
    "T1_parameter.samples = 25\n",
    "dark_counts_parameter.samples = 100\n",
    "adiabatic_ESR_parameter.samples = 100\n",
    "\n",
    "data = Loop(\n",
    "    dummy_parameter[0:30:1]).loop(\n",
    "        free_plunge_parameter[0.015:0.221:0.015]).each(\n",
    "            dark_counts_plunge_parameter,\n",
    "            adiabatic_ESR_parameter,\n",
    "            Loop(T1_parameter[T1_wait_times]).each(\n",
    "                T1_parameter)).run(\n",
    "    name='T1_free_plunge_voltage', progress_interval=True)"
   ]
  },
  {
   "cell_type": "code",
   "execution_count": 309,
   "metadata": {
    "collapsed": false
   },
   "outputs": [],
   "source": [
    "data.sync()\n",
    "plot = qc.MatPlot(subplots=2)\n",
    "plot[0].plot(data.contrast);\n",
    "plot[1].plot(data.dark_counts_0);"
   ]
  },
  {
   "cell_type": "markdown",
   "metadata": {
    "heading_collapsed": true
   },
   "source": [
    "# Notes"
   ]
  },
  {
   "cell_type": "markdown",
   "metadata": {
    "heading_collapsed": true,
    "hidden": true
   },
   "source": [
    "## Acquisition parameters"
   ]
  },
  {
   "cell_type": "markdown",
   "metadata": {
    "hidden": true
   },
   "source": [
    "Acquisition parameters are used to perform simple measurements containing a single pulse sequence.\n",
    "Examples are DCParameter, AdiabaticSweepParameter, DarkCountsParameter, etc.\n",
    "\n",
    "Acquisition parameters are run by performing by calling the parameter (parameter(), which performs a parameter.get() command).\n",
    "At the start of a get(), the pulse sequence is sent to the Layout, which sets up all the instruments.\n",
    "The exception to this is the DC parameter, which needs a separate setup at the start of a measurement."
   ]
  },
  {
   "cell_type": "markdown",
   "metadata": {
    "heading_collapsed": true,
    "hidden": true
   },
   "source": [
    "## Config settings"
   ]
  },
  {
   "cell_type": "markdown",
   "metadata": {
    "hidden": true
   },
   "source": [
    "In many cases, settings for parameters and pulses are setup-specific.\n",
    "To keep the SilQ software general, these settings have been moved to the QCoDeS config.\n",
    "The config is imported as \n",
    "\n",
    "`from qcodes import config`\n",
    "\n",
    "The config is saved to a file, and has several save locations. We usually used the current working directory (cwd) for saving/loading.\n",
    "For more info see config in qcodes/docs/examples.\n",
    "\n",
    "Special care must be taken when combining the config with multiprocessing.\n",
    "When a new process is started, it will load the config from the physical file.\n",
    "When changing settings in the config, it is therefore necessary to perform a config.save_to_cwd() if you want the changes to be reflected in any multiprocessing measurements.\n",
    "\n",
    "Several objects (including AcquisitionParameters and pulses) are subclasses of SettingsClass.\n",
    "The SettingsClass overrides `__getattribute__`, which means that when requesting an attribute (obj.attr), the following steps are undertaken.\n",
    "1. If attr is a key in either `obj._single_settings`, or `obj._temporary_settings`, return that value (see below for more information).\n",
    "2. If obj.attr does not exist, raise an AttributeError as usual.\n",
    "3. If the attribute exists and is not equal to None, return that value.\n",
    "4. If the attribute exists but is equal to None, search for its value in the respective config*:\n",
    "    1. If obj.mode is not None and 1{attr}_{mode}1 is a key in the config, return value\n",
    "    2. If attr is key in the config, return that value\n",
    "    \n",
    "By default, the respective config is `config['user']['properties']`. \n",
    "However, for pulses, the respective config is `config['user']['pulses'][{pulse_name}]`\n",
    "\n",
    "Attributes can be temporarily overriden through `obj.single_settings(attr1=val1, ...)` and `obj.temporary_settings(attr1=val1, ...)`.\n",
    "Single settings are always cleared after an obj.get() command, and so are useful when you for instance want to do a single measurement with different settings than usual. Temporary settings are in effect until you perform an obj.clear_settings() command."
   ]
  },
  {
   "cell_type": "markdown",
   "metadata": {
    "hidden": true
   },
   "source": [
    "To enable/disable steered initialization, use:\n",
    "\n",
    "adiabatic_sweep_parameter.steered_intialization = True/False\n",
    "\n",
    "This adds/removes the steered initialization \"pulse\" from the EPR_parameter.pulse_sequence\n",
    "If steered_initialization is enabled, you can access and modify its properties via\n",
    "\n",
    "steered_initialization = adiabatic_sweep_parameter.pulse_sequence['steered_initialization']\n",
    "\n",
    "Note that steered initialization is currently only implemented for the adiabatic sweep, but is easy to add for other parameters, such as T1_parameter (just add the pulse)"
   ]
  },
  {
   "cell_type": "markdown",
   "metadata": {
    "hidden": true
   },
   "source": [
    "steered_controller is the acquisition controller specifically for steered initialization\n",
    "You can look at the initialization traces when using steered initialization.\n",
    "\n",
    "First set the flag \n",
    "steered_controller.record_initialization_traces(True)\n",
    "\n",
    "The initialization traces can then be accessed\n",
    "steered_controller.initialization_traces()\n",
    "\n",
    "You can also look at the first buffer after the pulseblaster.start() command has been set via\n",
    "steered_controller.post_initialization_traces()\n",
    "This can be useful for checking the delay between sending the command and plunging\n",
    "\n",
    "To setup a parameter where steered initialization is enabled, you must pass it a readout threshold voltage every time.\n",
    "\n",
    "adiabatic_sweep_parameter.setup(readout_threshold_voltage=threshold_voltage)\n",
    "\n",
    "This threshold voltage can be obtained from an EPR scan (see T1_measurement):\n",
    "\n",
    "EPR_parameter.setup(samples=30)\n",
    "EPR_parameter()\n",
    "traces_read = EPR_parameter.trace_segments['output']['read']\n",
    "_, _, readout_threshold_voltage = analysis.find_high_low(traces_read)"
   ]
  },
  {
   "cell_type": "code",
   "execution_count": null,
   "metadata": {
    "collapsed": true,
    "hidden": true
   },
   "outputs": [],
   "source": [
    "adiabatic_sweep_parameter.pulse_sequence.add(adiabatic_sweep_parameter._steered_initialization)\n",
    "adiabatic_sweep_parameter.pulse_sequence.remove(adiabatic_sweep_parameter._steered_initialization)"
   ]
  },
  {
   "cell_type": "markdown",
   "metadata": {
    "hidden": true
   },
   "source": [
    "To save raw traces, use:\n",
    "\n",
    "EPR_parameter.setup(save_traces=True, data_manager=data_manager_raw)"
   ]
  },
  {
   "cell_type": "code",
   "execution_count": null,
   "metadata": {
    "collapsed": true,
    "hidden": true
   },
   "outputs": [],
   "source": [
    "plot = CalibrationPlot(data)"
   ]
  },
  {
   "cell_type": "markdown",
   "metadata": {},
   "source": [
    "# Measurements run from Slack"
   ]
  }
 ],
 "metadata": {
  "anaconda-cloud": {},
  "kernelspec": {
   "display_name": "Python [Root]",
   "language": "python",
   "name": "Python [Root]"
  },
  "language_info": {
   "codemirror_mode": {
    "name": "ipython",
    "version": 3
   },
   "file_extension": ".py",
   "mimetype": "text/x-python",
   "name": "python",
   "nbconvert_exporter": "python",
   "pygments_lexer": "ipython3",
   "version": "3.5.2"
  },
  "nav_menu": {},
  "toc": {
   "navigate_menu": true,
   "number_sections": true,
   "sideBar": false,
   "threshold": 6,
   "toc_cell": false,
   "toc_section_display": "block",
   "toc_window_display": false
  },
  "toc_position": {
   "height": "640px",
   "left": "1327.88px",
   "right": "1080.23px",
   "top": "10.9219px",
   "width": "382px"
  }
 },
 "nbformat": 4,
 "nbformat_minor": 0
}
