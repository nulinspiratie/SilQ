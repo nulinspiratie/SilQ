{
 "cells": [
  {
   "cell_type": "markdown",
   "metadata": {
    "code_folding": [
     8
    ]
   },
   "source": [
    "# Initialization"
   ]
  },
  {
   "cell_type": "code",
   "execution_count": 3,
   "metadata": {
    "collapsed": false
   },
   "outputs": [
    {
     "name": "stdout",
     "output_type": "stream",
     "text": [
      "Initializing imports\n",
      "Initializing functions\n",
      "Initializing instruments\n"
     ]
    },
    {
     "name": "stderr",
     "output_type": "stream",
     "text": [
      "C:\\Users\\lab.BluG12Meas\\Anaconda3\\lib\\site-packages\\matplotlib\\__init__.py:1398: UserWarning:  This call to matplotlib.use() has no effect\n",
      "because the backend has already been chosen;\n",
      "matplotlib.use() must be called *before* pylab, matplotlib.pyplot,\n",
      "or matplotlib.backends is imported for the first time.\n",
      "\n",
      "  warnings.warn(_use_error_msg)\n"
     ]
    },
    {
     "name": "stdout",
     "output_type": "stream",
     "text": [
      "Connected to: Agilent Technologies E8267D (serial:SG53400039, firmware:C.06.22) in 0.03s\n",
      "Initializing layout\n",
      "Initializing data\n",
      "Initializing analysis\n",
      "Initializing parameters\n",
      "Initializing plotting\n",
      "Initializing slack\n",
      "Initialization complete\n"
     ]
    }
   ],
   "source": [
    "%matplotlib nbagg\n",
    "USE_MP = False\n",
    "import silq\n",
    "silq.initialize(\"EWJN\")\n",
    "\n",
    "# qc.show_subprocess_widget()"
   ]
  },
  {
   "cell_type": "markdown",
   "metadata": {
    "heading_collapsed": true
   },
   "source": [
    "## ramp voltages"
   ]
  },
  {
   "cell_type": "code",
   "execution_count": null,
   "metadata": {
    "collapsed": true,
    "hidden": true
   },
   "outputs": [],
   "source": [
    "gates = ['TG', 'LB', 'RB', 'TGAC', 'SRC', 'DS', 'DF']\n",
    "{param: data.parameter_info(param)[param] for param in gates}"
   ]
  },
  {
   "cell_type": "code",
   "execution_count": 6,
   "metadata": {
    "collapsed": true,
    "hidden": true
   },
   "outputs": [],
   "source": [
    "\n",
    "vals = {'DF': 0.47375,\n",
    " 'DS': 0.47382,\n",
    " 'LB': 0.98,\n",
    " 'RB': 0.98,\n",
    " 'SRC': 0.275,\n",
    " 'TG': 2.06,\n",
    " 'TGAC': 0.4222}\n",
    "\n",
    "ramp_to_voltages(vals)"
   ]
  },
  {
   "cell_type": "markdown",
   "metadata": {
    "collapsed": false,
    "hidden": true,
    "scrolled": false
   },
   "source": [
    "slack = Slack()\n",
    "\n",
    "slack.commands['df_ds'] = DF_DS\n",
    "slack.commands['tgac'] = TGAC\n",
    "slack.commands['run'] = run_code\n",
    "slack.commands['halt'] = qc.halt_bg"
   ]
  },
  {
   "cell_type": "code",
   "execution_count": 27,
   "metadata": {
    "collapsed": false,
    "hidden": true
   },
   "outputs": [
    {
     "data": {
      "text/plain": [
       "PulseSequence with 5 pulses, duration: 42\n",
       "\tSteeredInitialization(steered_initialization (long), t_no_blip=200 ms, t_max_wait=1000, t_buffer=30, V_th=0.3333333333333333)\n",
       "\tDCPulse(plunge, A=0.08, t_start=0, t_stop=20)\n",
       "\tDCPulse(read, A=0, t_start=20, t_stop=40)\n",
       "\tDCPulse(final, A=0, t_start=40, t_stop=42)\n",
       "\t\n",
       "\tDisabled pulses:\n",
       "\tFrequencyRampPulse(adiabatic (ESR), f_center=27951.00 MHz, f_dev=0.50, power=0, t_start=3, t_stop=3.2)"
      ]
     },
     "execution_count": 27,
     "metadata": {},
     "output_type": "execute_result"
    }
   ],
   "source": [
    "dark_counts_plunge_parameter = acquisition_parameters.T1Parameter(mode='ESR')\n",
    "\n",
    "dark_counts_plunge_parameter.pulse_sequence['adiabatic'].enabled = False\n",
    "dark_counts_plunge_parameter.pulse_sequence['steered_initialization'].enabled = True\n",
    "dark_counts_plunge_parameter.pulse_sequence['steered_initialization'].mode = 'long'\n",
    "dark_counts_plunge_parameter.pulse_sequence['plunge'].duration = 20\n",
    "dark_counts_plunge_parameter.pulse_sequence"
   ]
  },
  {
   "cell_type": "markdown",
   "metadata": {
    "heading_collapsed": true
   },
   "source": [
    "## Register code run commands"
   ]
  },
  {
   "cell_type": "code",
   "execution_count": 1,
   "metadata": {
    "code_folding": [],
    "collapsed": false,
    "hidden": true,
    "init_cell": true
   },
   "outputs": [
    {
     "name": "stderr",
     "output_type": "stream",
     "text": [
      "ERROR:root:Cell magic `%%label` not found.\n"
     ]
    }
   ],
   "source": [
    "%%label adiabatic\n",
    "samples = 100\n",
    "points = 7\n",
    "steps = 10\n",
    "\n",
    "y_sweep, x_sweep = create_set_vals(2, step_percentage=steps, points=points)\n",
    "adiabatic_ESR_parameter.samples = samples\n",
    "data = qc.Loop(\n",
    "    y_sweep).loop(\n",
    "        x_sweep).each(\n",
    "            adiabatic_ESR_parameter).run(\n",
    "    name='adiabatic_calibration', progress_interval=True)\n",
    "CalibrationPlot(data)"
   ]
  },
  {
   "cell_type": "code",
   "execution_count": 2,
   "metadata": {
    "collapsed": false,
    "hidden": true,
    "init_cell": true
   },
   "outputs": [
    {
     "name": "stderr",
     "output_type": "stream",
     "text": [
      "ERROR:root:Cell magic `%%label` not found.\n"
     ]
    }
   ],
   "source": [
    "%%label dc\n",
    "points = 30\n",
    "steps = 25\n",
    "\n",
    "y_sweep, x_sweep = create_set_vals(2, step_percentages=steps, points=points)\n",
    "DC_parameter.setup()\n",
    "data = qc.Loop(\n",
    "    y_sweep).loop(\n",
    "    x_sweep).each(\n",
    "    DC_parameter).then(\n",
    "    qc.Task(layout.stop)).run(\n",
    "    name='DC_{}_vs_{}_scan'.format(y_sweep.name, x_sweep.name),\n",
    "    progress_interval=True)\n",
    "\n",
    "plot = qc.MatPlot(data.DC_voltage)"
   ]
  },
  {
   "cell_type": "markdown",
   "metadata": {
    "heading_collapsed": true
   },
   "source": [
    "## Threshold voltage"
   ]
  },
  {
   "cell_type": "code",
   "execution_count": 176,
   "metadata": {
    "collapsed": false,
    "hidden": true
   },
   "outputs": [
    {
     "name": "stdout",
     "output_type": "stream",
     "text": [
      "Threshold voltage found at 0.49 V\n"
     ]
    }
   ],
   "source": [
    "EPR_parameter.single_settings(samples=50)\n",
    "EPR_parameter.setup()\n",
    "voltage_difference = EPR_parameter()[-1]\n",
    "\n",
    "assert voltage_difference, \"Couldn't find accurate threshold\"\n",
    "readout_threshold_voltage = voltage_difference / 2\n",
    "\n",
    "print('Threshold voltage found at {:.2f} V'.format(readout_threshold_voltage))\n",
    "properties_config['readout_threshold_voltage'] = readout_threshold_voltage"
   ]
  },
  {
   "cell_type": "markdown",
   "metadata": {
    "heading_collapsed": true
   },
   "source": [
    "## ESR frequency"
   ]
  },
  {
   "cell_type": "code",
   "execution_count": null,
   "metadata": {
    "collapsed": false,
    "hidden": true
   },
   "outputs": [],
   "source": [
    "select_ESR_parameter.single_settings(samples=30, silent=False)\n",
    "select_ESR_parameter();"
   ]
  },
  {
   "cell_type": "markdown",
   "metadata": {},
   "source": [
    "# DC Measurements"
   ]
  },
  {
   "cell_type": "markdown",
   "metadata": {
    "heading_collapsed": true
   },
   "source": [
    "## DC - Turnon\n",
    "Here several gates are combined to the parameter turnon_param."
   ]
  },
  {
   "cell_type": "code",
   "execution_count": null,
   "metadata": {
    "collapsed": true,
    "hidden": true
   },
   "outputs": [],
   "source": [
    "turnon_vals = turnon_parameter[list(np.linspace(1, 1.6, 100))]"
   ]
  },
  {
   "cell_type": "code",
   "execution_count": null,
   "metadata": {
    "collapsed": false,
    "hidden": true
   },
   "outputs": [],
   "source": [
    "DC_parameter.setup()\n",
    "data = qc.Loop(turnon_vals\n",
    "# data = qc.Loop(dummy_parameter[0:1000:1], delay=1\n",
    "               ).each(DC_parameter\n",
    "                      ).then(qc.Task(layout.stop)\n",
    "                             ).run(name='turnon',\n",
    "                                   progress_interval=True)\n",
    "plot = qc.MatPlot(data.DC_voltage)"
   ]
  },
  {
   "cell_type": "markdown",
   "metadata": {
    "heading_collapsed": true
   },
   "source": [
    "## DC - Pinchoff\n",
    "This code pinches off one gate, while keeping the other gates fixed"
   ]
  },
  {
   "cell_type": "code",
   "execution_count": null,
   "metadata": {
    "collapsed": false,
    "hidden": true
   },
   "outputs": [],
   "source": [
    "turnon_voltage = 1.6\n",
    "pinchoff_vals = list(np.linspace(turnon_voltage, 0, 100))\n",
    "gate = TG\n",
    "\n",
    "turnon_parameter(turnon_voltage)\n",
    "DC_parameter.setup()\n",
    "data = qc.Loop(gate[pinchoff_vals]\n",
    "               ).each(DC_parameter\n",
    "                      ).then(qc.Task(layout.stop)\n",
    "                             ).run(name='Pinchoff_{}'.format(gate.name),\n",
    "                                   progress_interval=True)\n",
    "plot = qc.MatPlot(data.DC_voltage)"
   ]
  },
  {
   "cell_type": "code",
   "execution_count": null,
   "metadata": {
    "collapsed": false,
    "hidden": true
   },
   "outputs": [],
   "source": [
    "turnon_voltage = 1.3\n",
    "pinchoff_vals = list(np.linspace(turnon_voltage, 0.7, 40))\n",
    "gatex=LB\n",
    "gatey=RB\n",
    "\n",
    "turnon_parameter(turnon_voltage)\n",
    "DC_parameter.setup()\n",
    "data = qc.Loop(gatey[pinchoff_vals]\n",
    "               ).loop(gatex[pinchoff_vals]\n",
    "                      ).each(DC_parameter\n",
    "                      ).then(qc.Task(layout.stop)\n",
    "                             ).run(name='2D_Pinchoff_{}'.format(gate.name),\n",
    "                                   progress_interval=True)\n",
    "plot = qc.MatPlot(data.DC_voltage)\n"
   ]
  },
  {
   "cell_type": "markdown",
   "metadata": {
    "heading_collapsed": true
   },
   "source": [
    "## DC - 1D scan\n",
    "This script performs a 1D DC scan"
   ]
  },
  {
   "cell_type": "code",
   "execution_count": null,
   "metadata": {
    "collapsed": false,
    "hidden": true
   },
   "outputs": [],
   "source": [
    "gate = DF_DS[list(np.linspace(0.28,0.6, 50))]\n",
    "\n",
    "DC_parameter.setup()\n",
    "data = qc.Loop(gate\n",
    "              ).each(DC_parameter\n",
    "                    ).then(qc.Task(layout.stop)\n",
    "                          ).run(name='DC_{}_scan'.format(gate.name),\n",
    "                                progress_interval=True)\n",
    "\n",
    "plot = qc.MatPlot(data.DC_voltage)"
   ]
  },
  {
   "cell_type": "code",
   "execution_count": 33,
   "metadata": {
    "collapsed": false,
    "hidden": true
   },
   "outputs": [
    {
     "data": {
      "text/plain": [
       "0.4725"
      ]
     },
     "execution_count": 33,
     "metadata": {},
     "output_type": "execute_result"
    }
   ],
   "source": [
    "DS()"
   ]
  },
  {
   "cell_type": "markdown",
   "metadata": {},
   "source": [
    "## DC - 2D scan"
   ]
  },
  {
   "cell_type": "markdown",
   "metadata": {},
   "source": [
    "This measurement performs a 2D DC scan"
   ]
  },
  {
   "cell_type": "code",
   "execution_count": 4,
   "metadata": {
    "collapsed": false
   },
   "outputs": [],
   "source": [
    "TGAC(0.3382)\n",
    "DF_DS(0.5035)"
   ]
  },
  {
   "cell_type": "code",
   "execution_count": 5,
   "metadata": {
    "collapsed": false
   },
   "outputs": [],
   "source": [
    "y_sweep, x_sweep = create_set_vals(2, step_percentage=25, points=20)\n",
    "DC_parameter.setup()"
   ]
  },
  {
   "cell_type": "code",
   "execution_count": null,
   "metadata": {
    "collapsed": false
   },
   "outputs": [
    {
     "data": {
      "application/javascript": [
       "/* Put everything inside the global mpl namespace */\n",
       "window.mpl = {};\n",
       "\n",
       "\n",
       "mpl.get_websocket_type = function() {\n",
       "    if (typeof(WebSocket) !== 'undefined') {\n",
       "        return WebSocket;\n",
       "    } else if (typeof(MozWebSocket) !== 'undefined') {\n",
       "        return MozWebSocket;\n",
       "    } else {\n",
       "        alert('Your browser does not have WebSocket support.' +\n",
       "              'Please try Chrome, Safari or Firefox ≥ 6. ' +\n",
       "              'Firefox 4 and 5 are also supported but you ' +\n",
       "              'have to enable WebSockets in about:config.');\n",
       "    };\n",
       "}\n",
       "\n",
       "mpl.figure = function(figure_id, websocket, ondownload, parent_element) {\n",
       "    this.id = figure_id;\n",
       "\n",
       "    this.ws = websocket;\n",
       "\n",
       "    this.supports_binary = (this.ws.binaryType != undefined);\n",
       "\n",
       "    if (!this.supports_binary) {\n",
       "        var warnings = document.getElementById(\"mpl-warnings\");\n",
       "        if (warnings) {\n",
       "            warnings.style.display = 'block';\n",
       "            warnings.textContent = (\n",
       "                \"This browser does not support binary websocket messages. \" +\n",
       "                    \"Performance may be slow.\");\n",
       "        }\n",
       "    }\n",
       "\n",
       "    this.imageObj = new Image();\n",
       "\n",
       "    this.context = undefined;\n",
       "    this.message = undefined;\n",
       "    this.canvas = undefined;\n",
       "    this.rubberband_canvas = undefined;\n",
       "    this.rubberband_context = undefined;\n",
       "    this.format_dropdown = undefined;\n",
       "\n",
       "    this.image_mode = 'full';\n",
       "\n",
       "    this.root = $('<div/>');\n",
       "    this._root_extra_style(this.root)\n",
       "    this.root.attr('style', 'display: inline-block');\n",
       "\n",
       "    $(parent_element).append(this.root);\n",
       "\n",
       "    this._init_header(this);\n",
       "    this._init_canvas(this);\n",
       "    this._init_toolbar(this);\n",
       "\n",
       "    var fig = this;\n",
       "\n",
       "    this.waiting = false;\n",
       "\n",
       "    this.ws.onopen =  function () {\n",
       "            fig.send_message(\"supports_binary\", {value: fig.supports_binary});\n",
       "            fig.send_message(\"send_image_mode\", {});\n",
       "            if (mpl.ratio != 1) {\n",
       "                fig.send_message(\"set_dpi_ratio\", {'dpi_ratio': mpl.ratio});\n",
       "            }\n",
       "            fig.send_message(\"refresh\", {});\n",
       "        }\n",
       "\n",
       "    this.imageObj.onload = function() {\n",
       "            if (fig.image_mode == 'full') {\n",
       "                // Full images could contain transparency (where diff images\n",
       "                // almost always do), so we need to clear the canvas so that\n",
       "                // there is no ghosting.\n",
       "                fig.context.clearRect(0, 0, fig.canvas.width, fig.canvas.height);\n",
       "            }\n",
       "            fig.context.drawImage(fig.imageObj, 0, 0);\n",
       "        };\n",
       "\n",
       "    this.imageObj.onunload = function() {\n",
       "        this.ws.close();\n",
       "    }\n",
       "\n",
       "    this.ws.onmessage = this._make_on_message_function(this);\n",
       "\n",
       "    this.ondownload = ondownload;\n",
       "}\n",
       "\n",
       "mpl.figure.prototype._init_header = function() {\n",
       "    var titlebar = $(\n",
       "        '<div class=\"ui-dialog-titlebar ui-widget-header ui-corner-all ' +\n",
       "        'ui-helper-clearfix\"/>');\n",
       "    var titletext = $(\n",
       "        '<div class=\"ui-dialog-title\" style=\"width: 100%; ' +\n",
       "        'text-align: center; padding: 3px;\"/>');\n",
       "    titlebar.append(titletext)\n",
       "    this.root.append(titlebar);\n",
       "    this.header = titletext[0];\n",
       "}\n",
       "\n",
       "\n",
       "\n",
       "mpl.figure.prototype._canvas_extra_style = function(canvas_div) {\n",
       "\n",
       "}\n",
       "\n",
       "\n",
       "mpl.figure.prototype._root_extra_style = function(canvas_div) {\n",
       "\n",
       "}\n",
       "\n",
       "mpl.figure.prototype._init_canvas = function() {\n",
       "    var fig = this;\n",
       "\n",
       "    var canvas_div = $('<div/>');\n",
       "\n",
       "    canvas_div.attr('style', 'position: relative; clear: both; outline: 0');\n",
       "\n",
       "    function canvas_keyboard_event(event) {\n",
       "        return fig.key_event(event, event['data']);\n",
       "    }\n",
       "\n",
       "    canvas_div.keydown('key_press', canvas_keyboard_event);\n",
       "    canvas_div.keyup('key_release', canvas_keyboard_event);\n",
       "    this.canvas_div = canvas_div\n",
       "    this._canvas_extra_style(canvas_div)\n",
       "    this.root.append(canvas_div);\n",
       "\n",
       "    var canvas = $('<canvas/>');\n",
       "    canvas.addClass('mpl-canvas');\n",
       "    canvas.attr('style', \"left: 0; top: 0; z-index: 0; outline: 0\")\n",
       "\n",
       "    this.canvas = canvas[0];\n",
       "    this.context = canvas[0].getContext(\"2d\");\n",
       "\n",
       "    var backingStore = this.context.backingStorePixelRatio ||\n",
       "\tthis.context.webkitBackingStorePixelRatio ||\n",
       "\tthis.context.mozBackingStorePixelRatio ||\n",
       "\tthis.context.msBackingStorePixelRatio ||\n",
       "\tthis.context.oBackingStorePixelRatio ||\n",
       "\tthis.context.backingStorePixelRatio || 1;\n",
       "\n",
       "    mpl.ratio = (window.devicePixelRatio || 1) / backingStore;\n",
       "\n",
       "    var rubberband = $('<canvas/>');\n",
       "    rubberband.attr('style', \"position: absolute; left: 0; top: 0; z-index: 1;\")\n",
       "\n",
       "    var pass_mouse_events = true;\n",
       "\n",
       "    canvas_div.resizable({\n",
       "        start: function(event, ui) {\n",
       "            pass_mouse_events = false;\n",
       "        },\n",
       "        resize: function(event, ui) {\n",
       "            fig.request_resize(ui.size.width, ui.size.height);\n",
       "        },\n",
       "        stop: function(event, ui) {\n",
       "            pass_mouse_events = true;\n",
       "            fig.request_resize(ui.size.width, ui.size.height);\n",
       "        },\n",
       "    });\n",
       "\n",
       "    function mouse_event_fn(event) {\n",
       "        if (pass_mouse_events)\n",
       "            return fig.mouse_event(event, event['data']);\n",
       "    }\n",
       "\n",
       "    rubberband.mousedown('button_press', mouse_event_fn);\n",
       "    rubberband.mouseup('button_release', mouse_event_fn);\n",
       "    // Throttle sequential mouse events to 1 every 20ms.\n",
       "    rubberband.mousemove('motion_notify', mouse_event_fn);\n",
       "\n",
       "    rubberband.mouseenter('figure_enter', mouse_event_fn);\n",
       "    rubberband.mouseleave('figure_leave', mouse_event_fn);\n",
       "\n",
       "    canvas_div.on(\"wheel\", function (event) {\n",
       "        event = event.originalEvent;\n",
       "        event['data'] = 'scroll'\n",
       "        if (event.deltaY < 0) {\n",
       "            event.step = 1;\n",
       "        } else {\n",
       "            event.step = -1;\n",
       "        }\n",
       "        mouse_event_fn(event);\n",
       "    });\n",
       "\n",
       "    canvas_div.append(canvas);\n",
       "    canvas_div.append(rubberband);\n",
       "\n",
       "    this.rubberband = rubberband;\n",
       "    this.rubberband_canvas = rubberband[0];\n",
       "    this.rubberband_context = rubberband[0].getContext(\"2d\");\n",
       "    this.rubberband_context.strokeStyle = \"#000000\";\n",
       "\n",
       "    this._resize_canvas = function(width, height) {\n",
       "        // Keep the size of the canvas, canvas container, and rubber band\n",
       "        // canvas in synch.\n",
       "        canvas_div.css('width', width)\n",
       "        canvas_div.css('height', height)\n",
       "\n",
       "        canvas.attr('width', width * mpl.ratio);\n",
       "        canvas.attr('height', height * mpl.ratio);\n",
       "        canvas.attr('style', 'width: ' + width + 'px; height: ' + height + 'px;');\n",
       "\n",
       "        rubberband.attr('width', width);\n",
       "        rubberband.attr('height', height);\n",
       "    }\n",
       "\n",
       "    // Set the figure to an initial 600x600px, this will subsequently be updated\n",
       "    // upon first draw.\n",
       "    this._resize_canvas(600, 600);\n",
       "\n",
       "    // Disable right mouse context menu.\n",
       "    $(this.rubberband_canvas).bind(\"contextmenu\",function(e){\n",
       "        return false;\n",
       "    });\n",
       "\n",
       "    function set_focus () {\n",
       "        canvas.focus();\n",
       "        canvas_div.focus();\n",
       "    }\n",
       "\n",
       "    window.setTimeout(set_focus, 100);\n",
       "}\n",
       "\n",
       "mpl.figure.prototype._init_toolbar = function() {\n",
       "    var fig = this;\n",
       "\n",
       "    var nav_element = $('<div/>')\n",
       "    nav_element.attr('style', 'width: 100%');\n",
       "    this.root.append(nav_element);\n",
       "\n",
       "    // Define a callback function for later on.\n",
       "    function toolbar_event(event) {\n",
       "        return fig.toolbar_button_onclick(event['data']);\n",
       "    }\n",
       "    function toolbar_mouse_event(event) {\n",
       "        return fig.toolbar_button_onmouseover(event['data']);\n",
       "    }\n",
       "\n",
       "    for(var toolbar_ind in mpl.toolbar_items) {\n",
       "        var name = mpl.toolbar_items[toolbar_ind][0];\n",
       "        var tooltip = mpl.toolbar_items[toolbar_ind][1];\n",
       "        var image = mpl.toolbar_items[toolbar_ind][2];\n",
       "        var method_name = mpl.toolbar_items[toolbar_ind][3];\n",
       "\n",
       "        if (!name) {\n",
       "            // put a spacer in here.\n",
       "            continue;\n",
       "        }\n",
       "        var button = $('<button/>');\n",
       "        button.addClass('ui-button ui-widget ui-state-default ui-corner-all ' +\n",
       "                        'ui-button-icon-only');\n",
       "        button.attr('role', 'button');\n",
       "        button.attr('aria-disabled', 'false');\n",
       "        button.click(method_name, toolbar_event);\n",
       "        button.mouseover(tooltip, toolbar_mouse_event);\n",
       "\n",
       "        var icon_img = $('<span/>');\n",
       "        icon_img.addClass('ui-button-icon-primary ui-icon');\n",
       "        icon_img.addClass(image);\n",
       "        icon_img.addClass('ui-corner-all');\n",
       "\n",
       "        var tooltip_span = $('<span/>');\n",
       "        tooltip_span.addClass('ui-button-text');\n",
       "        tooltip_span.html(tooltip);\n",
       "\n",
       "        button.append(icon_img);\n",
       "        button.append(tooltip_span);\n",
       "\n",
       "        nav_element.append(button);\n",
       "    }\n",
       "\n",
       "    var fmt_picker_span = $('<span/>');\n",
       "\n",
       "    var fmt_picker = $('<select/>');\n",
       "    fmt_picker.addClass('mpl-toolbar-option ui-widget ui-widget-content');\n",
       "    fmt_picker_span.append(fmt_picker);\n",
       "    nav_element.append(fmt_picker_span);\n",
       "    this.format_dropdown = fmt_picker[0];\n",
       "\n",
       "    for (var ind in mpl.extensions) {\n",
       "        var fmt = mpl.extensions[ind];\n",
       "        var option = $(\n",
       "            '<option/>', {selected: fmt === mpl.default_extension}).html(fmt);\n",
       "        fmt_picker.append(option)\n",
       "    }\n",
       "\n",
       "    // Add hover states to the ui-buttons\n",
       "    $( \".ui-button\" ).hover(\n",
       "        function() { $(this).addClass(\"ui-state-hover\");},\n",
       "        function() { $(this).removeClass(\"ui-state-hover\");}\n",
       "    );\n",
       "\n",
       "    var status_bar = $('<span class=\"mpl-message\"/>');\n",
       "    nav_element.append(status_bar);\n",
       "    this.message = status_bar[0];\n",
       "}\n",
       "\n",
       "mpl.figure.prototype.request_resize = function(x_pixels, y_pixels) {\n",
       "    // Request matplotlib to resize the figure. Matplotlib will then trigger a resize in the client,\n",
       "    // which will in turn request a refresh of the image.\n",
       "    this.send_message('resize', {'width': x_pixels, 'height': y_pixels});\n",
       "}\n",
       "\n",
       "mpl.figure.prototype.send_message = function(type, properties) {\n",
       "    properties['type'] = type;\n",
       "    properties['figure_id'] = this.id;\n",
       "    this.ws.send(JSON.stringify(properties));\n",
       "}\n",
       "\n",
       "mpl.figure.prototype.send_draw_message = function() {\n",
       "    if (!this.waiting) {\n",
       "        this.waiting = true;\n",
       "        this.ws.send(JSON.stringify({type: \"draw\", figure_id: this.id}));\n",
       "    }\n",
       "}\n",
       "\n",
       "\n",
       "mpl.figure.prototype.handle_save = function(fig, msg) {\n",
       "    var format_dropdown = fig.format_dropdown;\n",
       "    var format = format_dropdown.options[format_dropdown.selectedIndex].value;\n",
       "    fig.ondownload(fig, format);\n",
       "}\n",
       "\n",
       "\n",
       "mpl.figure.prototype.handle_resize = function(fig, msg) {\n",
       "    var size = msg['size'];\n",
       "    if (size[0] != fig.canvas.width || size[1] != fig.canvas.height) {\n",
       "        fig._resize_canvas(size[0], size[1]);\n",
       "        fig.send_message(\"refresh\", {});\n",
       "    };\n",
       "}\n",
       "\n",
       "mpl.figure.prototype.handle_rubberband = function(fig, msg) {\n",
       "    var x0 = msg['x0'] / mpl.ratio;\n",
       "    var y0 = (fig.canvas.height - msg['y0']) / mpl.ratio;\n",
       "    var x1 = msg['x1'] / mpl.ratio;\n",
       "    var y1 = (fig.canvas.height - msg['y1']) / mpl.ratio;\n",
       "    x0 = Math.floor(x0) + 0.5;\n",
       "    y0 = Math.floor(y0) + 0.5;\n",
       "    x1 = Math.floor(x1) + 0.5;\n",
       "    y1 = Math.floor(y1) + 0.5;\n",
       "    var min_x = Math.min(x0, x1);\n",
       "    var min_y = Math.min(y0, y1);\n",
       "    var width = Math.abs(x1 - x0);\n",
       "    var height = Math.abs(y1 - y0);\n",
       "\n",
       "    fig.rubberband_context.clearRect(\n",
       "        0, 0, fig.canvas.width, fig.canvas.height);\n",
       "\n",
       "    fig.rubberband_context.strokeRect(min_x, min_y, width, height);\n",
       "}\n",
       "\n",
       "mpl.figure.prototype.handle_figure_label = function(fig, msg) {\n",
       "    // Updates the figure title.\n",
       "    fig.header.textContent = msg['label'];\n",
       "}\n",
       "\n",
       "mpl.figure.prototype.handle_cursor = function(fig, msg) {\n",
       "    var cursor = msg['cursor'];\n",
       "    switch(cursor)\n",
       "    {\n",
       "    case 0:\n",
       "        cursor = 'pointer';\n",
       "        break;\n",
       "    case 1:\n",
       "        cursor = 'default';\n",
       "        break;\n",
       "    case 2:\n",
       "        cursor = 'crosshair';\n",
       "        break;\n",
       "    case 3:\n",
       "        cursor = 'move';\n",
       "        break;\n",
       "    }\n",
       "    fig.rubberband_canvas.style.cursor = cursor;\n",
       "}\n",
       "\n",
       "mpl.figure.prototype.handle_message = function(fig, msg) {\n",
       "    fig.message.textContent = msg['message'];\n",
       "}\n",
       "\n",
       "mpl.figure.prototype.handle_draw = function(fig, msg) {\n",
       "    // Request the server to send over a new figure.\n",
       "    fig.send_draw_message();\n",
       "}\n",
       "\n",
       "mpl.figure.prototype.handle_image_mode = function(fig, msg) {\n",
       "    fig.image_mode = msg['mode'];\n",
       "}\n",
       "\n",
       "mpl.figure.prototype.updated_canvas_event = function() {\n",
       "    // Called whenever the canvas gets updated.\n",
       "    this.send_message(\"ack\", {});\n",
       "}\n",
       "\n",
       "// A function to construct a web socket function for onmessage handling.\n",
       "// Called in the figure constructor.\n",
       "mpl.figure.prototype._make_on_message_function = function(fig) {\n",
       "    return function socket_on_message(evt) {\n",
       "        if (evt.data instanceof Blob) {\n",
       "            /* FIXME: We get \"Resource interpreted as Image but\n",
       "             * transferred with MIME type text/plain:\" errors on\n",
       "             * Chrome.  But how to set the MIME type?  It doesn't seem\n",
       "             * to be part of the websocket stream */\n",
       "            evt.data.type = \"image/png\";\n",
       "\n",
       "            /* Free the memory for the previous frames */\n",
       "            if (fig.imageObj.src) {\n",
       "                (window.URL || window.webkitURL).revokeObjectURL(\n",
       "                    fig.imageObj.src);\n",
       "            }\n",
       "\n",
       "            fig.imageObj.src = (window.URL || window.webkitURL).createObjectURL(\n",
       "                evt.data);\n",
       "            fig.updated_canvas_event();\n",
       "            fig.waiting = false;\n",
       "            return;\n",
       "        }\n",
       "        else if (typeof evt.data === 'string' && evt.data.slice(0, 21) == \"data:image/png;base64\") {\n",
       "            fig.imageObj.src = evt.data;\n",
       "            fig.updated_canvas_event();\n",
       "            fig.waiting = false;\n",
       "            return;\n",
       "        }\n",
       "\n",
       "        var msg = JSON.parse(evt.data);\n",
       "        var msg_type = msg['type'];\n",
       "\n",
       "        // Call the  \"handle_{type}\" callback, which takes\n",
       "        // the figure and JSON message as its only arguments.\n",
       "        try {\n",
       "            var callback = fig[\"handle_\" + msg_type];\n",
       "        } catch (e) {\n",
       "            console.log(\"No handler for the '\" + msg_type + \"' message type: \", msg);\n",
       "            return;\n",
       "        }\n",
       "\n",
       "        if (callback) {\n",
       "            try {\n",
       "                // console.log(\"Handling '\" + msg_type + \"' message: \", msg);\n",
       "                callback(fig, msg);\n",
       "            } catch (e) {\n",
       "                console.log(\"Exception inside the 'handler_\" + msg_type + \"' callback:\", e, e.stack, msg);\n",
       "            }\n",
       "        }\n",
       "    };\n",
       "}\n",
       "\n",
       "// from http://stackoverflow.com/questions/1114465/getting-mouse-location-in-canvas\n",
       "mpl.findpos = function(e) {\n",
       "    //this section is from http://www.quirksmode.org/js/events_properties.html\n",
       "    var targ;\n",
       "    if (!e)\n",
       "        e = window.event;\n",
       "    if (e.target)\n",
       "        targ = e.target;\n",
       "    else if (e.srcElement)\n",
       "        targ = e.srcElement;\n",
       "    if (targ.nodeType == 3) // defeat Safari bug\n",
       "        targ = targ.parentNode;\n",
       "\n",
       "    // jQuery normalizes the pageX and pageY\n",
       "    // pageX,Y are the mouse positions relative to the document\n",
       "    // offset() returns the position of the element relative to the document\n",
       "    var x = e.pageX - $(targ).offset().left;\n",
       "    var y = e.pageY - $(targ).offset().top;\n",
       "\n",
       "    return {\"x\": x, \"y\": y};\n",
       "};\n",
       "\n",
       "/*\n",
       " * return a copy of an object with only non-object keys\n",
       " * we need this to avoid circular references\n",
       " * http://stackoverflow.com/a/24161582/3208463\n",
       " */\n",
       "function simpleKeys (original) {\n",
       "  return Object.keys(original).reduce(function (obj, key) {\n",
       "    if (typeof original[key] !== 'object')\n",
       "        obj[key] = original[key]\n",
       "    return obj;\n",
       "  }, {});\n",
       "}\n",
       "\n",
       "mpl.figure.prototype.mouse_event = function(event, name) {\n",
       "    var canvas_pos = mpl.findpos(event)\n",
       "\n",
       "    if (name === 'button_press')\n",
       "    {\n",
       "        this.canvas.focus();\n",
       "        this.canvas_div.focus();\n",
       "    }\n",
       "\n",
       "    var x = canvas_pos.x * mpl.ratio;\n",
       "    var y = canvas_pos.y * mpl.ratio;\n",
       "\n",
       "    this.send_message(name, {x: x, y: y, button: event.button,\n",
       "                             step: event.step,\n",
       "                             guiEvent: simpleKeys(event)});\n",
       "\n",
       "    /* This prevents the web browser from automatically changing to\n",
       "     * the text insertion cursor when the button is pressed.  We want\n",
       "     * to control all of the cursor setting manually through the\n",
       "     * 'cursor' event from matplotlib */\n",
       "    event.preventDefault();\n",
       "    return false;\n",
       "}\n",
       "\n",
       "mpl.figure.prototype._key_event_extra = function(event, name) {\n",
       "    // Handle any extra behaviour associated with a key event\n",
       "}\n",
       "\n",
       "mpl.figure.prototype.key_event = function(event, name) {\n",
       "\n",
       "    // Prevent repeat events\n",
       "    if (name == 'key_press')\n",
       "    {\n",
       "        if (event.which === this._key)\n",
       "            return;\n",
       "        else\n",
       "            this._key = event.which;\n",
       "    }\n",
       "    if (name == 'key_release')\n",
       "        this._key = null;\n",
       "\n",
       "    var value = '';\n",
       "    if (event.ctrlKey && event.which != 17)\n",
       "        value += \"ctrl+\";\n",
       "    if (event.altKey && event.which != 18)\n",
       "        value += \"alt+\";\n",
       "    if (event.shiftKey && event.which != 16)\n",
       "        value += \"shift+\";\n",
       "\n",
       "    value += 'k';\n",
       "    value += event.which.toString();\n",
       "\n",
       "    this._key_event_extra(event, name);\n",
       "\n",
       "    this.send_message(name, {key: value,\n",
       "                             guiEvent: simpleKeys(event)});\n",
       "    return false;\n",
       "}\n",
       "\n",
       "mpl.figure.prototype.toolbar_button_onclick = function(name) {\n",
       "    if (name == 'download') {\n",
       "        this.handle_save(this, null);\n",
       "    } else {\n",
       "        this.send_message(\"toolbar_button\", {name: name});\n",
       "    }\n",
       "};\n",
       "\n",
       "mpl.figure.prototype.toolbar_button_onmouseover = function(tooltip) {\n",
       "    this.message.textContent = tooltip;\n",
       "};\n",
       "mpl.toolbar_items = [[\"Home\", \"Reset original view\", \"fa fa-home icon-home\", \"home\"], [\"Back\", \"Back to  previous view\", \"fa fa-arrow-left icon-arrow-left\", \"back\"], [\"Forward\", \"Forward to next view\", \"fa fa-arrow-right icon-arrow-right\", \"forward\"], [\"\", \"\", \"\", \"\"], [\"Pan\", \"Pan axes with left mouse, zoom with right\", \"fa fa-arrows icon-move\", \"pan\"], [\"Zoom\", \"Zoom to rectangle\", \"fa fa-square-o icon-check-empty\", \"zoom\"], [\"\", \"\", \"\", \"\"], [\"Download\", \"Download plot\", \"fa fa-floppy-o icon-save\", \"download\"]];\n",
       "\n",
       "mpl.extensions = [\"eps\", \"jpeg\", \"pdf\", \"png\", \"ps\", \"raw\", \"svg\", \"tif\"];\n",
       "\n",
       "mpl.default_extension = \"png\";var comm_websocket_adapter = function(comm) {\n",
       "    // Create a \"websocket\"-like object which calls the given IPython comm\n",
       "    // object with the appropriate methods. Currently this is a non binary\n",
       "    // socket, so there is still some room for performance tuning.\n",
       "    var ws = {};\n",
       "\n",
       "    ws.close = function() {\n",
       "        comm.close()\n",
       "    };\n",
       "    ws.send = function(m) {\n",
       "        //console.log('sending', m);\n",
       "        comm.send(m);\n",
       "    };\n",
       "    // Register the callback with on_msg.\n",
       "    comm.on_msg(function(msg) {\n",
       "        //console.log('receiving', msg['content']['data'], msg);\n",
       "        // Pass the mpl event to the overriden (by mpl) onmessage function.\n",
       "        ws.onmessage(msg['content']['data'])\n",
       "    });\n",
       "    return ws;\n",
       "}\n",
       "\n",
       "mpl.mpl_figure_comm = function(comm, msg) {\n",
       "    // This is the function which gets called when the mpl process\n",
       "    // starts-up an IPython Comm through the \"matplotlib\" channel.\n",
       "\n",
       "    var id = msg.content.data.id;\n",
       "    // Get hold of the div created by the display call when the Comm\n",
       "    // socket was opened in Python.\n",
       "    var element = $(\"#\" + id);\n",
       "    var ws_proxy = comm_websocket_adapter(comm)\n",
       "\n",
       "    function ondownload(figure, format) {\n",
       "        window.open(figure.imageObj.src);\n",
       "    }\n",
       "\n",
       "    var fig = new mpl.figure(id, ws_proxy,\n",
       "                           ondownload,\n",
       "                           element.get(0));\n",
       "\n",
       "    // Call onopen now - mpl needs it, as it is assuming we've passed it a real\n",
       "    // web socket which is closed, not our websocket->open comm proxy.\n",
       "    ws_proxy.onopen();\n",
       "\n",
       "    fig.parent_element = element.get(0);\n",
       "    fig.cell_info = mpl.find_output_cell(\"<div id='\" + id + \"'></div>\");\n",
       "    if (!fig.cell_info) {\n",
       "        console.error(\"Failed to find cell for figure\", id, fig);\n",
       "        return;\n",
       "    }\n",
       "\n",
       "    var output_index = fig.cell_info[2]\n",
       "    var cell = fig.cell_info[0];\n",
       "\n",
       "};\n",
       "\n",
       "mpl.figure.prototype.handle_close = function(fig, msg) {\n",
       "    var width = fig.canvas.width/mpl.ratio\n",
       "    fig.root.unbind('remove')\n",
       "\n",
       "    // Update the output cell to use the data from the current canvas.\n",
       "    fig.push_to_output();\n",
       "    var dataURL = fig.canvas.toDataURL();\n",
       "    // Re-enable the keyboard manager in IPython - without this line, in FF,\n",
       "    // the notebook keyboard shortcuts fail.\n",
       "    IPython.keyboard_manager.enable()\n",
       "    $(fig.parent_element).html('<img src=\"' + dataURL + '\" width=\"' + width + '\">');\n",
       "    fig.close_ws(fig, msg);\n",
       "}\n",
       "\n",
       "mpl.figure.prototype.close_ws = function(fig, msg){\n",
       "    fig.send_message('closing', msg);\n",
       "    // fig.ws.close()\n",
       "}\n",
       "\n",
       "mpl.figure.prototype.push_to_output = function(remove_interactive) {\n",
       "    // Turn the data on the canvas into data in the output cell.\n",
       "    var width = this.canvas.width/mpl.ratio\n",
       "    var dataURL = this.canvas.toDataURL();\n",
       "    this.cell_info[1]['text/html'] = '<img src=\"' + dataURL + '\" width=\"' + width + '\">';\n",
       "}\n",
       "\n",
       "mpl.figure.prototype.updated_canvas_event = function() {\n",
       "    // Tell IPython that the notebook contents must change.\n",
       "    IPython.notebook.set_dirty(true);\n",
       "    this.send_message(\"ack\", {});\n",
       "    var fig = this;\n",
       "    // Wait a second, then push the new image to the DOM so\n",
       "    // that it is saved nicely (might be nice to debounce this).\n",
       "    setTimeout(function () { fig.push_to_output() }, 1000);\n",
       "}\n",
       "\n",
       "mpl.figure.prototype._init_toolbar = function() {\n",
       "    var fig = this;\n",
       "\n",
       "    var nav_element = $('<div/>')\n",
       "    nav_element.attr('style', 'width: 100%');\n",
       "    this.root.append(nav_element);\n",
       "\n",
       "    // Define a callback function for later on.\n",
       "    function toolbar_event(event) {\n",
       "        return fig.toolbar_button_onclick(event['data']);\n",
       "    }\n",
       "    function toolbar_mouse_event(event) {\n",
       "        return fig.toolbar_button_onmouseover(event['data']);\n",
       "    }\n",
       "\n",
       "    for(var toolbar_ind in mpl.toolbar_items){\n",
       "        var name = mpl.toolbar_items[toolbar_ind][0];\n",
       "        var tooltip = mpl.toolbar_items[toolbar_ind][1];\n",
       "        var image = mpl.toolbar_items[toolbar_ind][2];\n",
       "        var method_name = mpl.toolbar_items[toolbar_ind][3];\n",
       "\n",
       "        if (!name) { continue; };\n",
       "\n",
       "        var button = $('<button class=\"btn btn-default\" href=\"#\" title=\"' + name + '\"><i class=\"fa ' + image + ' fa-lg\"></i></button>');\n",
       "        button.click(method_name, toolbar_event);\n",
       "        button.mouseover(tooltip, toolbar_mouse_event);\n",
       "        nav_element.append(button);\n",
       "    }\n",
       "\n",
       "    // Add the status bar.\n",
       "    var status_bar = $('<span class=\"mpl-message\" style=\"text-align:right; float: right;\"/>');\n",
       "    nav_element.append(status_bar);\n",
       "    this.message = status_bar[0];\n",
       "\n",
       "    // Add the close button to the window.\n",
       "    var buttongrp = $('<div class=\"btn-group inline pull-right\"></div>');\n",
       "    var button = $('<button class=\"btn btn-mini btn-primary\" href=\"#\" title=\"Stop Interaction\"><i class=\"fa fa-power-off icon-remove icon-large\"></i></button>');\n",
       "    button.click(function (evt) { fig.handle_close(fig, {}); } );\n",
       "    button.mouseover('Stop Interaction', toolbar_mouse_event);\n",
       "    buttongrp.append(button);\n",
       "    var titlebar = this.root.find($('.ui-dialog-titlebar'));\n",
       "    titlebar.prepend(buttongrp);\n",
       "}\n",
       "\n",
       "mpl.figure.prototype._root_extra_style = function(el){\n",
       "    var fig = this\n",
       "    el.on(\"remove\", function(){\n",
       "\tfig.close_ws(fig, {});\n",
       "    });\n",
       "}\n",
       "\n",
       "mpl.figure.prototype._canvas_extra_style = function(el){\n",
       "    // this is important to make the div 'focusable\n",
       "    el.attr('tabindex', 0)\n",
       "    // reach out to IPython and tell the keyboard manager to turn it's self\n",
       "    // off when our div gets focus\n",
       "\n",
       "    // location in version 3\n",
       "    if (IPython.notebook.keyboard_manager) {\n",
       "        IPython.notebook.keyboard_manager.register_events(el);\n",
       "    }\n",
       "    else {\n",
       "        // location in version 2\n",
       "        IPython.keyboard_manager.register_events(el);\n",
       "    }\n",
       "\n",
       "}\n",
       "\n",
       "mpl.figure.prototype._key_event_extra = function(event, name) {\n",
       "    var manager = IPython.notebook.keyboard_manager;\n",
       "    if (!manager)\n",
       "        manager = IPython.keyboard_manager;\n",
       "\n",
       "    // Check for shift+enter\n",
       "    if (event.shiftKey && event.which == 13) {\n",
       "        this.canvas_div.blur();\n",
       "        // select the cell after this one\n",
       "        var index = IPython.notebook.find_cell_index(this.cell_info[0]);\n",
       "        IPython.notebook.select(index + 1);\n",
       "    }\n",
       "}\n",
       "\n",
       "mpl.figure.prototype.handle_save = function(fig, msg) {\n",
       "    fig.ondownload(fig, null);\n",
       "}\n",
       "\n",
       "\n",
       "mpl.find_output_cell = function(html_output) {\n",
       "    // Return the cell and output element which can be found *uniquely* in the notebook.\n",
       "    // Note - this is a bit hacky, but it is done because the \"notebook_saving.Notebook\"\n",
       "    // IPython event is triggered only after the cells have been serialised, which for\n",
       "    // our purposes (turning an active figure into a static one), is too late.\n",
       "    var cells = IPython.notebook.get_cells();\n",
       "    var ncells = cells.length;\n",
       "    for (var i=0; i<ncells; i++) {\n",
       "        var cell = cells[i];\n",
       "        if (cell.cell_type === 'code'){\n",
       "            for (var j=0; j<cell.output_area.outputs.length; j++) {\n",
       "                var data = cell.output_area.outputs[j];\n",
       "                if (data.data) {\n",
       "                    // IPython >= 3 moved mimebundle to data attribute of output\n",
       "                    data = data.data;\n",
       "                }\n",
       "                if (data['text/html'] == html_output) {\n",
       "                    return [cell, data, j];\n",
       "                }\n",
       "            }\n",
       "        }\n",
       "    }\n",
       "}\n",
       "\n",
       "// Register the function which deals with the matplotlib target/channel.\n",
       "// The kernel may be null if the page has been refreshed.\n",
       "if (IPython.notebook.kernel != null) {\n",
       "    IPython.notebook.kernel.comm_manager.register_target('matplotlib', mpl.mpl_figure_comm);\n",
       "}\n"
      ],
      "text/plain": [
       "<IPython.core.display.Javascript object>"
      ]
     },
     "metadata": {},
     "output_type": "display_data"
    },
    {
     "data": {
      "text/html": [
       "<div id='3b428e2d-314d-40de-84c2-b6a54d5cfffb'></div>"
      ],
      "text/plain": [
       "<IPython.core.display.HTML object>"
      ]
     },
     "metadata": {},
     "output_type": "display_data"
    }
   ],
   "source": [
    "#y_sweep = TGAC[list(np.arange(0.05, 0.55, 0.0025))]\n",
    "#x_sweep = DF[list(np.arange(0.2,0.61,0.0025))]\n",
    "\n",
    "loop = Loop(\n",
    "    y_sweep).loop(\n",
    "        x_sweep).each(\n",
    "            DC_parameter).then(\n",
    "                qc.Task(layout.stop))\n",
    "data = loop.get_data_set(name='DC_{}_vs_{}_scan'.format(y_sweep.name, x_sweep.name))\n",
    "\n",
    "plot = qc.MatPlot()\n",
    "plot.add(data.DC_voltage)\n",
    "\n",
    "_ = loop.with_bg_task(plot.update).run()"
   ]
  },
  {
   "cell_type": "code",
   "execution_count": null,
   "metadata": {
    "collapsed": true
   },
   "outputs": [],
   "source": [
    "DCPlot(data)"
   ]
  },
  {
   "cell_type": "code",
   "execution_count": 11,
   "metadata": {
    "collapsed": true
   },
   "outputs": [],
   "source": [
    "DF_DS(0.47091)\n",
    "TGAC(0.41542)"
   ]
  },
  {
   "cell_type": "code",
   "execution_count": 51,
   "metadata": {
    "collapsed": false
   },
   "outputs": [
    {
     "name": "stdout",
     "output_type": "stream",
     "text": [
      "DataSet:\n",
      "data = qc.load_data('2017-02-09/#001_repeat_DC_TGAC_vs_DF_DS_scan_00-22-29')\n",
      "   mode = DataMode.PULL_FROM_SERVER\n",
      "   <Type>   | <array_id> | <array.name> | <array.shape>\n",
      "   Setpoint | dummy_set  | dummy        | (50,)\n",
      "   Setpoint | TGAC_set   | TGAC         | (50, 60)\n",
      "   Setpoint | DF_DS_set  | DF_DS        | (50, 60, 60)\n",
      "   Measured | DC_voltage | DC_voltage   | (50, 60, 60)\n",
      "started at 2017-02-09 00:22:33\n"
     ]
    }
   ],
   "source": [
    "data = Loop(\n",
    "    dummy_parameter[0:50:1]).loop(\n",
    "    y_sweep).loop(\n",
    "        x_sweep).each(\n",
    "            DC_parameter).then(\n",
    "                qc.Task(layout.stop)).run(\n",
    "    name='repeat_DC_{}_vs_{}_scan'.format(y_sweep.name, x_sweep.name),\n",
    "    progress_interval=True)"
   ]
  },
  {
   "cell_type": "markdown",
   "metadata": {},
   "source": [
    "## DC - 2D scan with arbstudio"
   ]
  },
  {
   "cell_type": "code",
   "execution_count": 287,
   "metadata": {
    "collapsed": false
   },
   "outputs": [],
   "source": [
    "#ATTENTION: this is still additional voltage on the sim voltages!!!\n",
    "#arbstudio are divided by 25(?)/20(?)\n",
    "df_voltages = list(np.linspace(-0.23, 0.23, 150))\n",
    "tgac_voltages = list(np.linspace(-0.23, 0.23, 150))\n",
    "df_duration = 20\n",
    "\n",
    "DC_pulse_sweep_parameter = acquisition_parameters.DCPulseSweepParameter(sweep_name='DF')\n",
    "DC_pulse_sweep_parameter.pulse_settings = {'duration': df_duration, \n",
    "                                           'connection_requirements': {'input_arg': 'chip.DF'}}\n",
    "DC_pulse_sweep_parameter.additional_pulses = [DCPulse(name='TGAC', amplitude=0, t_start=0, duration=len(df_voltages)*df_duration+2, \n",
    "                                                      connection_requirements={'input_arg': 'chip.TGAC'})]\n",
    "\n",
    "DC_pulse_sweep_parameter.sweep_voltages = df_voltages\n",
    "\n",
    "tgac_step_parameter = general_parameters.AttributeParameter(DC_pulse_sweep_parameter.pulse_sequence['TGAC'], 'amplitude')"
   ]
  },
  {
   "cell_type": "markdown",
   "metadata": {},
   "source": [
    "### 2D scan"
   ]
  },
  {
   "cell_type": "code",
   "execution_count": 288,
   "metadata": {
    "collapsed": false
   },
   "outputs": [
    {
     "name": "stdout",
     "output_type": "stream",
     "text": [
      "DataSet:\n",
      "data = qc.load_data('2017-01-31/#007_DC_2D_arb_sweep_14-23-12')\n",
      "   mode = DataMode.PULL_FROM_SERVER\n",
      "   <Type>   | <array_id>    | <array.name> | <array.shape>\n",
      "   Setpoint | amplitude_set | amplitude    | (150,)\n",
      "   Measured | DC_voltage    | DC_voltage   | (150, 150)\n",
      "started at 2017-01-31 14:23:16\n"
     ]
    }
   ],
   "source": [
    "data = qc.Loop(\n",
    "    tgac_step_parameter[tgac_voltages]).each(\n",
    "        DC_pulse_sweep_parameter).run(\n",
    "    name='DC_2D_arb_sweep')"
   ]
  },
  {
   "cell_type": "code",
   "execution_count": 289,
   "metadata": {
    "collapsed": false
   },
   "outputs": [
    {
     "data": {
      "text/plain": [
       "<qcodes.plots.qcmatplotlib.MatPlot at 0x3df35470>"
      ]
     },
     "execution_count": 289,
     "metadata": {},
     "output_type": "execute_result"
    }
   ],
   "source": [
    "qc.MatPlot(data.DC_voltage)"
   ]
  },
  {
   "cell_type": "markdown",
   "metadata": {},
   "source": [
    "### 4D scan (sweep simrack TGAC and DF)"
   ]
  },
  {
   "cell_type": "code",
   "execution_count": 7,
   "metadata": {
    "collapsed": false,
    "scrolled": false
   },
   "outputs": [
    {
     "name": "stdout",
     "output_type": "stream",
     "text": [
      "DataSet:\n",
      "data = qc.load_data('2017-01-18/#002_DC_2D_arb_sweep_13-39-57')\n",
      "   mode = DataMode.PULL_FROM_SERVER\n",
      "   <Type>   | <array_id>    | <array.name> | <array.shape>\n",
      "   Setpoint | TGAC_set      | TGAC         | (6,)\n",
      "   Setpoint | DF_set        | DF           | (6, 6)\n",
      "   Setpoint | amplitude_set | amplitude    | (6, 6, 100)\n",
      "   Measured | DC_voltage    | DC_voltage   | (6, 6, 100, 100)\n",
      "started at 2017-01-18 13:40:04\n"
     ]
    }
   ],
   "source": [
    "data = qc.Loop(\n",
    "    TGAC[0.2:0.71:0.1]).loop(\n",
    "    DF[0.2:0.71:0.1]).loop(\n",
    "    tgac_step_parameter[tgac_voltages]).each(\n",
    "        DC_pulse_sweep_parameter).run(\n",
    "        #qc.Task(partial(print_attr, DC_pulse_sweep_parameter, 'pulse_sequence'))).run(\n",
    "    name='DC_2D_arb_sweep')"
   ]
  },
  {
   "cell_type": "code",
   "execution_count": 4,
   "metadata": {
    "collapsed": false
   },
   "outputs": [
    {
     "name": "stdout",
     "output_type": "stream",
     "text": [
      "is parameter array\n",
      "here\n",
      "also here\n",
      "DataSet:\n",
      "data = qc.load_data('2017-01-17/#004_test_11-32-41')\n",
      "   mode = DataMode.LOCAL\n",
      "   <Type>   | <array_id> | <array.name> | <array.shape>\n",
      "   Setpoint | dummy_set  | dummy        | (10,)\n",
      "   Setpoint | dummy2_set | dummy2       | (10, 10)\n",
      "   Measured | dummy      | dummy        | (10, 10)\n",
      "started at 2017-01-17 11:32:43\n"
     ]
    },
    {
     "data": {
      "text/plain": [
       "DataSet:\n",
       "data = qc.load_data('2017-01-17/#004_test_11-32-41')\n",
       "   mode = DataMode.LOCAL\n",
       "   <Type>   | <array_id> | <array.name> | <array.shape>\n",
       "   Setpoint | dummy_set  | dummy        | (10,)\n",
       "   Setpoint | dummy2_set | dummy2       | (10, 10)\n",
       "   Measured | dummy      | dummy        | (10, 10)"
      ]
     },
     "execution_count": 4,
     "metadata": {},
     "output_type": "execute_result"
    }
   ],
   "source": [
    "dummy_parameter = ManualParameter(name='dummy')\n",
    "dummy_parameters = ManualParameter(name='dummy2')\n",
    "\n",
    "qc.Loop(dummy_parameter[0:10:1]).loop(\n",
    "    dummy_parameters[0:10:1]).each(dummy_parameter).run(name='test', background=False)"
   ]
  },
  {
   "cell_type": "markdown",
   "metadata": {
    "heading_collapsed": true
   },
   "source": [
    "## Tracking a peak"
   ]
  },
  {
   "cell_type": "code",
   "execution_count": 4,
   "metadata": {
    "collapsed": false,
    "hidden": true
   },
   "outputs": [],
   "source": [
    "y_sweep = create_set_vals(step_percentage=30, min_val=TGAC(), max_val=0.5, set_parameter=TGAC)"
   ]
  },
  {
   "cell_type": "code",
   "execution_count": 82,
   "metadata": {
    "collapsed": true,
    "hidden": true
   },
   "outputs": [],
   "source": [
    "y_sweep = TG[2.05:2.06:0.001]"
   ]
  },
  {
   "cell_type": "code",
   "execution_count": 83,
   "metadata": {
    "collapsed": false,
    "hidden": true
   },
   "outputs": [],
   "source": [
    "from silq.parameters.measurement_parameters import TrackPeakParameter\n",
    "track_peak_parameter = TrackPeakParameter('track_peak', set_parameter=DF_DS, \n",
    "                                          acquisition_parameter=DC_parameter, \n",
    "                                          step_percentage=20, peak_width=0.015)"
   ]
  },
  {
   "cell_type": "code",
   "execution_count": 84,
   "metadata": {
    "collapsed": false,
    "hidden": true
   },
   "outputs": [
    {
     "name": "stdout",
     "output_type": "stream",
     "text": [
      "DataSet:\n",
      "data = qc.load_data('2017-01-05/#003_track_peak_12-20-12')\n",
      "   mode = DataMode.PULL_FROM_SERVER\n",
      "   <Type>   | <array_id>       | <array.name>     | <array.shape>\n",
      "   Setpoint | TG_set           | TG               | (10,)\n",
      "   Measured | index0           | index0           | (10, 14)\n",
      "   Measured | optimal_set_vals | optimal_set_vals | (10,)\n",
      "   Measured | DF_DS_set        | DF_DS_set        | (10, 14)\n",
      "   Measured | DC_voltage       | DC_voltage       | (10, 14)\n",
      "started at 2017-01-05 12:20:16\n"
     ]
    }
   ],
   "source": [
    "DC_parameter.setup()\n",
    "data = qc.Loop(\n",
    "    y_sweep).each(\n",
    "        track_peak_parameter).then(\n",
    "                qc.Task(layout.stop)).run(\n",
    "    name='track_peak', progress_interval=True)"
   ]
  },
  {
   "cell_type": "code",
   "execution_count": 85,
   "metadata": {
    "collapsed": false,
    "hidden": true
   },
   "outputs": [],
   "source": [
    "data.sync()\n",
    "plot = qc.MatPlot(subplots=2)\n",
    "plot[0].add(data.DC_voltage)\n",
    "plot[1].add(data.optimal_set_vals)"
   ]
  },
  {
   "cell_type": "code",
   "execution_count": null,
   "metadata": {
    "collapsed": true,
    "hidden": true
   },
   "outputs": [],
   "source": [
    "data.parameter_info[]"
   ]
  },
  {
   "cell_type": "code",
   "execution_count": 7,
   "metadata": {
    "collapsed": false,
    "hidden": true,
    "scrolled": false
   },
   "outputs": [
    {
     "data": {
      "text/plain": [
       "[<matplotlib.lines.Line2D at 0xd9cbda0>]"
      ]
     },
     "execution_count": 7,
     "metadata": {},
     "output_type": "execute_result"
    }
   ],
   "source": [
    "DC_parameter.setup()\n",
    "track_peak_parameter()\n",
    "layout.stop()\n",
    "plt.figure()\n",
    "plt.plot(track_peak_parameter.result[1], track_peak_parameter.result[2])"
   ]
  },
  {
   "cell_type": "markdown",
   "metadata": {
    "heading_collapsed": true
   },
   "source": [
    "# EPR measurements (no steering/ESR)"
   ]
  },
  {
   "cell_type": "markdown",
   "metadata": {
    "hidden": true
   },
   "source": [
    "This is a calibration routine to find a point with high contrast (difference in signal between up state and down state). \n",
    "This measurement consists of three stages: empty, load, and read.\n",
    "In the empty stage, the donor atom is ionized. \n",
    "It is then loaded with an electron in a random state.\n",
    "Finally the state is read out for a long duration.\n",
    "The contrast is found by looking if blips occured at the beginning of the read trace and at the end of the read trace.\n",
    "The contrast is the difference in percentage of blips occuring at the beginning versus at the end.\n",
    "The end part of the read trace is related to the number of dark counts, since we assume that an up-state electron will have had enough time to have tunneled off and on again."
   ]
  },
  {
   "cell_type": "markdown",
   "metadata": {
    "hidden": true
   },
   "source": [
    "## EPR - 2D scan"
   ]
  },
  {
   "cell_type": "code",
   "execution_count": null,
   "metadata": {
    "collapsed": true,
    "hidden": true
   },
   "outputs": [],
   "source": [
    "DF_DS(0.546)\n",
    "TGAC(0.219)"
   ]
  },
  {
   "cell_type": "code",
   "execution_count": 208,
   "metadata": {
    "collapsed": false,
    "hidden": true
   },
   "outputs": [],
   "source": [
    "y_sweep, x_sweep = create_set_vals(2, step_percentage=30, points=7)\n",
    "#y_sweep, x_sweep = create_set_vals('2D', spans=0, nums=5)"
   ]
  },
  {
   "cell_type": "code",
   "execution_count": null,
   "metadata": {
    "collapsed": false,
    "hidden": true
   },
   "outputs": [],
   "source": [
    "EPR_parameter.settings(samples=150)\n",
    "data = qc.Loop(\n",
    "    y_sweep).loop(\n",
    "    x_sweep).each(\n",
    "    EPR_parameter).run(\n",
    "    name='EPR_calibration', progress_interval=True)"
   ]
  },
  {
   "cell_type": "code",
   "execution_count": null,
   "metadata": {
    "collapsed": false,
    "hidden": true
   },
   "outputs": [],
   "source": [
    "plot = qc.MatPlot(subplots=(1, 3), figsize=(12, 4))\n",
    "plot.add(data.contrast, subplot=1)\n",
    "plot.add(data.dark_counts, subplot=2)\n",
    "plot.add(data.voltage_difference, subplot=3)\n",
    "plt.tight_layout()"
   ]
  },
  {
   "cell_type": "markdown",
   "metadata": {
    "hidden": true
   },
   "source": [
    "## EPR - Single point"
   ]
  },
  {
   "cell_type": "code",
   "execution_count": null,
   "metadata": {
    "collapsed": false,
    "hidden": true
   },
   "outputs": [],
   "source": [
    "EPR_parameter.single_settings(samples=150, silent=False)\n",
    "EPR_parameter();"
   ]
  },
  {
   "cell_type": "markdown",
   "metadata": {},
   "source": [
    "# Adiabatic sweep measurements"
   ]
  },
  {
   "cell_type": "markdown",
   "metadata": {
    "heading_collapsed": true
   },
   "source": [
    "## ESR Adiabatic - Center frequency scan"
   ]
  },
  {
   "cell_type": "markdown",
   "metadata": {
    "hidden": true
   },
   "source": [
    "This code sweeps over the adiabatic sweep center frequency to find the ESR frequency.\n",
    "\n",
    "To find the ESR frequency, use 28GHz * B0 as starting point, and search around that frequency.\n",
    "Use a big initial frequency_deviation (around 60 MHz) and long duration (0.5 ms)\n",
    "Once you see a spike in contrast, center around there and decrease both deviation and duration."
   ]
  },
  {
   "cell_type": "code",
   "execution_count": 111,
   "metadata": {
    "collapsed": false,
    "hidden": true
   },
   "outputs": [
    {
     "data": {
      "text/plain": [
       "FrequencyRampPulse(adiabatic (ESR), f_center=27951.00 MHz, f_dev=1.00, power=0, t_start=3, t_stop=3.15)"
      ]
     },
     "execution_count": 111,
     "metadata": {},
     "output_type": "execute_result"
    }
   ],
   "source": [
    "adiabatic_ESR_parameter.pulse_sequence['adiabatic'].duration=0.15\n",
    "adiabatic_ESR_parameter.pulse_sequence['adiabatic'].frequency_deviation = 1e6\n",
    "adiabatic_ESR_parameter.pulse_sequence['adiabatic']"
   ]
  },
  {
   "cell_type": "code",
   "execution_count": 112,
   "metadata": {
    "collapsed": false,
    "hidden": true
   },
   "outputs": [
    {
     "name": "stdout",
     "output_type": "stream",
     "text": [
      "Sweep vals: 50\n"
     ]
    }
   ],
   "source": [
    "f_center = properties_config['frequency_ESR']\n",
    "f_span = 10e6\n",
    "f_step = 0.2e6\n",
    "adiabatic_sweep_vals = list(np.arange(f_center-f_span/2, f_center+f_span/2, f_step))\n",
    "print('Sweep vals: {}'.format(len(adiabatic_sweep_vals)))"
   ]
  },
  {
   "cell_type": "code",
   "execution_count": 113,
   "metadata": {
    "collapsed": false,
    "hidden": true
   },
   "outputs": [
    {
     "name": "stdout",
     "output_type": "stream",
     "text": [
      "DataSet:\n",
      "data = qc.load_data('2017-01-24/#016_adiabatic_ESR_f_center_16-43-10')\n",
      "   mode = DataMode.PULL_FROM_SERVER\n",
      "   <Type>   | <array_id>         | <array.name>       | <array.shape>\n",
      "   Setpoint | adiabatic_ESR_set  | adiabatic_ESR      | (50,)\n",
      "   Measured | contrast           | contrast           | (50,)\n",
      "   Measured | dark_counts        | dark_counts        | (50,)\n",
      "   Measured | voltage_difference | voltage_difference | (50,)\n",
      "started at 2017-01-24 16:43:13\n"
     ]
    }
   ],
   "source": [
    "adiabatic_ESR_parameter.samples=40\n",
    "data = qc.Loop(\n",
    "    adiabatic_ESR_parameter[adiabatic_sweep_vals]).each(\n",
    "    qc.Task(partial(print_attr, adiabatic_ESR_parameter, 'pulse_sequence')),\n",
    "    adiabatic_ESR_parameter).run(\n",
    "    name='adiabatic_ESR_f_center', progress_interval=True)\n",
    "plot = qc.MatPlot(data.contrast, use_offset=False)"
   ]
  },
  {
   "cell_type": "markdown",
   "metadata": {
    "heading_collapsed": true
   },
   "source": [
    "## NMR adiabatic frequency scan"
   ]
  },
  {
   "cell_type": "code",
   "execution_count": null,
   "metadata": {
    "collapsed": false,
    "hidden": true
   },
   "outputs": [],
   "source": [
    "#NMR sweep frequencies\n",
    "f_center = 66.82e6\n",
    "f_span = 3e6\n",
    "f_step = 20e3\n",
    "NMR_vals = list(np.arange(f_center-f_span/2, f_center+f_span/2, f_step))\n",
    "print('Sweep vals: {}'.format(len(NMR_vals)))"
   ]
  },
  {
   "cell_type": "code",
   "execution_count": null,
   "metadata": {
    "collapsed": false,
    "hidden": true
   },
   "outputs": [],
   "source": [
    "data = qc.Loop(adiabatic_NMR_parameter[NMR_vals]\n",
    "              ).each(qc.Task(adiabatic_NMR_parameter.setup),\n",
    "                     adiabatic_NMR_parameter,\n",
    "                     qc.Task(partial(adiabatic_ESR_parameter, frequency_center_ESR['up'])),\n",
    "                     adiabatic_ESR_parameter,\n",
    "                     qc.Task(partial(adiabatic_ESR_parameter, frequency_center_ESR['down'])),\n",
    "                     adiabatic_ESR_parameter,\n",
    "                    ).run(name='NMR_adiabatic_sweep', progress_interval=True)"
   ]
  },
  {
   "cell_type": "code",
   "execution_count": null,
   "metadata": {
    "collapsed": false,
    "hidden": true
   },
   "outputs": [],
   "source": [
    "plot = qc.MatPlot(data.contrast_3_4)\n",
    "plot.add(data.contrast_5_4)"
   ]
  },
  {
   "cell_type": "markdown",
   "metadata": {
    "heading_collapsed": true
   },
   "source": [
    "## Adiabatic - frequency deviation versus ESR duration"
   ]
  },
  {
   "cell_type": "markdown",
   "metadata": {
    "hidden": true
   },
   "source": [
    "This is a 2D scan of frequency deviation versus duration.\n",
    "From this measurement, the minimum acceptable values for frequency deviation and ESR duration can be extracted."
   ]
  },
  {
   "cell_type": "code",
   "execution_count": 44,
   "metadata": {
    "collapsed": false,
    "hidden": true
   },
   "outputs": [],
   "source": [
    "pulse = adiabatic_ESR_parameter.pulse_sequence['adiabatic']\n",
    "adiabatic_deviation_parameter = general_parameters.AttributeParameter(object=pulse, attribute='frequency_deviation')\n",
    "adiabatic_duration_parameter = general_parameters.AttributeParameter(object=pulse, attribute='duration')\n",
    "\n",
    "adiabatic_deviation_vals = list(np.arange(0.5e6, 2.1e6, 0.25e6))\n",
    "adiabatic_duration_vals = list(np.arange(0.075, 0.251, 0.025))"
   ]
  },
  {
   "cell_type": "code",
   "execution_count": 50,
   "metadata": {
    "collapsed": false,
    "hidden": true
   },
   "outputs": [
    {
     "name": "stdout",
     "output_type": "stream",
     "text": [
      "DataSet:\n",
      "   mode     = DataMode.PULL_FROM_SERVER\n",
      "   location = '2016-12-24/#034_adiabatic_deviation_vs_duration_17-17-26'\n",
      "   <Type>   | <array_id>              | <array.name>        | <array.shape>\n",
      "   Setpoint | frequency_deviation_set | frequency_deviation | (7,)\n",
      "   Setpoint | duration_set            | duration            | (7, 8)\n",
      "   Measured | contrast                | contrast            | (7, 8)\n",
      "   Measured | dark_counts             | dark_counts         | (7, 8)\n",
      "   Measured | voltage_difference      | voltage_difference  | (7, 8)\n",
      "started at 2016-12-24 17:17:28\n"
     ]
    }
   ],
   "source": [
    "adiabatic_ESR_parameter.samples = 400\n",
    "data = qc.Loop(\n",
    "    adiabatic_deviation_parameter[adiabatic_deviation_vals]).loop(\n",
    "    adiabatic_duration_parameter[adiabatic_duration_vals]).each(\n",
    "    qc.Task(partial(print_attr, adiabatic_ESR_parameter, 'pulse_sequence')),\n",
    "    adiabatic_ESR_parameter).run(\n",
    "    name='adiabatic_deviation_vs_duration', progress_interval=True)"
   ]
  },
  {
   "cell_type": "code",
   "execution_count": 51,
   "metadata": {
    "collapsed": false,
    "hidden": true,
    "scrolled": false
   },
   "outputs": [],
   "source": [
    "plot = qc.MatPlot(subplots=(1,2), figsize=(12,5), interval=10)\n",
    "plot.add(data.contrast, subplot=1, nticks=6)\n",
    "plot.add(data.dark_counts, subplot=2, nticks=6)\n",
    "# for ax in plot.subplots:\n",
    "#     ax.set_xscale('log')\n",
    "#     ax.set_yscale('log')\n",
    "plot.fig.tight_layout(rect=[0, 0.03, 1, 0.95])"
   ]
  },
  {
   "cell_type": "code",
   "execution_count": null,
   "metadata": {
    "collapsed": true,
    "hidden": true
   },
   "outputs": [],
   "source": []
  },
  {
   "cell_type": "markdown",
   "metadata": {},
   "source": [
    "## Adiabatic - 2D scan"
   ]
  },
  {
   "cell_type": "code",
   "execution_count": 27,
   "metadata": {
    "collapsed": true
   },
   "outputs": [],
   "source": [
    "y_sweep, x_sweep = create_set_vals(2, step_percentage=10, points=7)"
   ]
  },
  {
   "cell_type": "code",
   "execution_count": 23,
   "metadata": {
    "collapsed": false
   },
   "outputs": [
    {
     "name": "stdout",
     "output_type": "stream",
     "text": [
      "DataSet:\n",
      "data = qc.load_data('2017-02-13/#006_adiabatic_calibration_10-37-22')\n",
      "   mode = DataMode.PULL_FROM_SERVER\n",
      "   <Type>   | <array_id>         | <array.name>       | <array.shape>\n",
      "   Setpoint | TGAC_set           | TGAC               | (7,)\n",
      "   Setpoint | DF_DS_set          | DF_DS              | (7, 7)\n",
      "   Measured | contrast           | contrast           | (7, 7)\n",
      "   Measured | dark_counts        | dark_counts        | (7, 7)\n",
      "   Measured | voltage_difference | voltage_difference | (7, 7)\n",
      "started at 2017-02-13 10:37:26\n"
     ]
    },
    {
     "data": {
      "text/plain": [
       "<__main__.CalibrationPlot at 0x10997240>"
      ]
     },
     "execution_count": 23,
     "metadata": {},
     "output_type": "execute_result"
    },
    {
     "data": {
      "application/javascript": [
       "\n",
       "        var current_cell = Jupyter.notebook.get_selected_cell();\n",
       "        var current_index = Jupyter.notebook.find_cell_index(current_cell);\n",
       "        var new_cell = Jupyter.notebook.insert_cell_below('code', current_index);\n",
       "        new_cell.set_text('DF_DS(0.47677)\\nTGAC(0.41777)');\n",
       "        current_cell.unselect();\n",
       "        new_cell.select();"
      ]
     },
     "metadata": {},
     "output_type": "display_data"
    }
   ],
   "source": [
    "adiabatic_ESR_parameter.settings(samples=200)\n",
    "data = qc.Loop(\n",
    "    y_sweep).loop(\n",
    "    x_sweep).each(\n",
    "    adiabatic_ESR_parameter).run(\n",
    "    name='adiabatic_calibration', progress_interval=True)\n",
    "CalibrationPlot(data)"
   ]
  },
  {
   "cell_type": "code",
   "execution_count": 26,
   "metadata": {
    "collapsed": true
   },
   "outputs": [],
   "source": [
    "DF_DS(0.47677)\n",
    "TGAC(0.41777)"
   ]
  },
  {
   "cell_type": "code",
   "execution_count": 28,
   "metadata": {
    "collapsed": false
   },
   "outputs": [
    {
     "name": "stdout",
     "output_type": "stream",
     "text": [
      "DataSet:\n",
      "data = qc.load_data('2017-02-13/#007_continuos_adiabatic_calibration_10-50-31')\n",
      "   mode = DataMode.PULL_FROM_SERVER\n",
      "   <Type>   | <array_id>                 | <array.name>       | <array.shape>\n",
      "   Setpoint | dummy_set                  | dummy              | (40,)\n",
      "   Measured | contrast_2_0               | contrast           | (40,)\n",
      "   Measured | dark_counts_2_1            | dark_counts        | (40,)\n",
      "   Measured | voltage_difference_2_2     | voltage_difference | (40,)\n",
      "   Setpoint | TGAC_set                   | TGAC               | (40, 7)\n",
      "   Setpoint | DF_DS_set                  | DF_DS              | (40, 7, 7)\n",
      "   Measured | contrast_3_0_0_0           | contrast           | (40, 7, 7)\n",
      "   Measured | dark_counts_3_0_0_1        | dark_counts        | (40, 7, 7)\n",
      "   Measured | voltage_difference_3_0_0_2 | voltage_difference | (40, 7, 7)\n",
      "started at 2017-02-13 10:50:34\n"
     ]
    }
   ],
   "source": [
    "adiabatic_ESR_parameter.settings(samples=200)\n",
    "data = Loop(\n",
    "    dummy_parameter[0:40:1]).each(\n",
    "        qc.Task(DF_DS, 0.47677),\n",
    "        qc.Task(TGAC, 0.41777),\n",
    "        adiabatic_ESR_parameter,\n",
    "        Loop(\n",
    "        y_sweep).loop(\n",
    "            x_sweep).each(\n",
    "                adiabatic_ESR_parameter),\n",
    "        qc.Task(sleep, 600)).run(\n",
    "    name='continuos_adiabatic_calibration', progress_interval=True)"
   ]
  },
  {
   "cell_type": "code",
   "execution_count": 91,
   "metadata": {
    "collapsed": false
   },
   "outputs": [
    {
     "data": {
      "text/plain": [
       "PulseSequence with 5 pulses, duration: 127\n",
       "\tDCPulse(plunge, A=0.08, t_start=0, t_stop=5)\n",
       "\tFrequencyRampPulse(adiabatic (ESR), f_center=27951.00 MHz, f_dev=0.50, power=0, t_start=3, t_stop=3.2)\n",
       "\tDCPulse(read (long), A=0, t_start=5, t_stop=125)\n",
       "\tDCPulse(final, A=0, t_start=125, t_stop=127)\n",
       "\t\n",
       "\tDisabled pulses:\n",
       "\tSteeredInitialization(steered_initialization, t_no_blip=120 ms, t_max_wait=400, t_buffer=30, V_th=0.3333333333333333)"
      ]
     },
     "execution_count": 91,
     "metadata": {},
     "output_type": "execute_result"
    }
   ],
   "source": [
    "adiabatic_ESR_parameter.pulse_sequence"
   ]
  },
  {
   "cell_type": "code",
   "execution_count": 25,
   "metadata": {
    "collapsed": false
   },
   "outputs": [
    {
     "data": {
      "text/plain": [
       "[0.59510204081632645, 0.16, 0.79742210424635562]"
      ]
     },
     "execution_count": 25,
     "metadata": {},
     "output_type": "execute_result"
    }
   ],
   "source": [
    "adiabatic_ESR_parameter()"
   ]
  },
  {
   "cell_type": "markdown",
   "metadata": {
    "heading_collapsed": true
   },
   "source": [
    "## Adiabatic - 2D deviation versus duration"
   ]
  },
  {
   "cell_type": "code",
   "execution_count": null,
   "metadata": {
    "collapsed": false,
    "hidden": true,
    "scrolled": true
   },
   "outputs": [],
   "source": [
    "pulse = adiabatic_ESR_parameter.pulse_sequence['adiabatic_sweep']\n",
    "adiabatic_deviation_parameter = general_parameters.AttributeParameter(object=pulse, attribute='frequency_deviation')\n",
    "adiabatic_duration_parameter = general_parameters.AttributeParameter(object=pulse, attribute='duration')\n",
    "\n",
    "\n",
    "adiabatic_ESR_parameter.setup(samples=250, readout_threshold_voltage=readout_threshold_voltage,\n",
    "                                save_traces=False)\n",
    "data = qc.Loop(dummy_parameter[0:100:1]\n",
    "              ).each(qc.Task(adiabatic_deviation_parameter, 5e6),\n",
    "                     qc.Task(adiabatic_duration_parameter, .15),\n",
    "                     qc.Task(adiabatic_ESR_parameter.setup),\n",
    "                     adiabatic_ESR_parameter,\n",
    "                     qc.Task(adiabatic_deviation_parameter, 15e6),\n",
    "                     qc.Task(adiabatic_duration_parameter, .35),\n",
    "                     qc.Task(adiabatic_ESR_parameter.setup),\n",
    "                     adiabatic_ESR_parameter,\n",
    "                    ).run(name='adiabatic_calibration',\n",
    "                          progress_interval=True)"
   ]
  },
  {
   "cell_type": "code",
   "execution_count": null,
   "metadata": {
    "collapsed": false,
    "hidden": true
   },
   "outputs": [],
   "source": [
    "plot = qc.MatPlot(data.contrast_3_4);\n",
    "plot.add(data.contrast_7_4)"
   ]
  },
  {
   "cell_type": "markdown",
   "metadata": {
    "heading_collapsed": true
   },
   "source": [
    "## Flip nucleus"
   ]
  },
  {
   "cell_type": "code",
   "execution_count": null,
   "metadata": {
    "collapsed": false,
    "hidden": true
   },
   "outputs": [],
   "source": [
    "# Try to flip the nucleus\n",
    "adiabatic_NMR_parameter(frequency_center_NMR)\n",
    "adiabatic_NMR_parameter.samples = 1\n",
    "adiabatic_NMR_parameter();"
   ]
  },
  {
   "cell_type": "markdown",
   "metadata": {
    "heading_collapsed": true
   },
   "source": [
    "## Find ESR frequency"
   ]
  },
  {
   "cell_type": "code",
   "execution_count": null,
   "metadata": {
    "collapsed": false,
    "hidden": true
   },
   "outputs": [],
   "source": [
    "select_ESR_parameter.setup(samples=50, print_results=True, readout_threshold_voltage=readout_threshold_voltage)\n",
    "data = qc.Loop(dummy_parameter[0:100:1]).each(qc.Task(adiabatic_NMR_parameter.setup),\n",
    "                                             adiabatic_NMR_parameter,\n",
    "                                             qc.Task(select_ESR_parameter.setup),\n",
    "                                             select_ESR_parameter,\n",
    "                                             qc.Task(adiabatic_ESR_parameter, partial(getattr, select_ESR_parameter, 'frequency_ESR')),\n",
    "                                             qc.Task(adiabatic_deviation_parameter, 5e6),\n",
    "                                             qc.Task(adiabatic_duration_parameter, .15),\n",
    "                                             qc.Task(adiabatic_ESR_parameter.setup),\n",
    "                                             adiabatic_ESR_parameter,\n",
    "                                             qc.Task(adiabatic_deviation_parameter, 15e6),\n",
    "                                             qc.Task(adiabatic_duration_parameter, .35),\n",
    "                                             qc.Task(adiabatic_ESR_parameter.setup),\n",
    "                                             adiabatic_ESR_parameter,\n",
    "                                            ).run(name='test_find_ESR',\n",
    "                                                 progress_interval=True)"
   ]
  },
  {
   "cell_type": "code",
   "execution_count": null,
   "metadata": {
    "collapsed": false,
    "hidden": true
   },
   "outputs": [],
   "source": [
    "plot = qc.MatPlot(data.contrast_up, label='nucleus up')\n",
    "plot.add(data.contrast_down, label='nucleus down')\n",
    "plot.add(data.contrast_8_4, label='ESR narrow')\n",
    "plot.add(data.contrast_12_4, label='ESR wide')"
   ]
  },
  {
   "cell_type": "markdown",
   "metadata": {
    "heading_collapsed": true
   },
   "source": [
    "# Rabis"
   ]
  },
  {
   "cell_type": "markdown",
   "metadata": {
    "heading_collapsed": true,
    "hidden": true
   },
   "source": [
    "## Find Rabi frequency"
   ]
  },
  {
   "cell_type": "code",
   "execution_count": 27,
   "metadata": {
    "collapsed": false,
    "hidden": true
   },
   "outputs": [
    {
     "name": "stdout",
     "output_type": "stream",
     "text": [
      "Sweep vals: 500\n"
     ]
    },
    {
     "data": {
      "text/plain": [
       "PulseSequence with 5 pulses, duration: 27\n",
       "\tDCPulse(plunge, A=2, t_start=0, t_stop=5)\n",
       "\tSinePulse(rabi (ESR), f=27950.88 MHz, power=0, t_start=3, t_stop=3.1)\n",
       "\tDCPulse(read, A=0, t_start=5, t_stop=25)\n",
       "\tDCPulse(final, A=0, t_start=25, t_stop=27)\n",
       "\t\n",
       "\tDisabled pulses:\n",
       "\tSteeredInitialization(steered_initialization, t_no_blip=120 ms, t_max_wait=400, t_buffer=30, V_th=0.3333333333333333)"
      ]
     },
     "execution_count": 27,
     "metadata": {},
     "output_type": "execute_result"
    }
   ],
   "source": [
    "#determine Rabi frequency\n",
    "rabi_ESR_parameter.pulse_sequence['rabi'].duration=0.1\n",
    "rabi_ESR_parameter.pulse_sequence['rabi'].power=0\n",
    "rabi_ESR_parameter.pulse_sequence['rabi'].t_start=3\n",
    "\n",
    "f_center = 27.950885000e9 #properties_config['frequency_ESR']\n",
    "rabi_ESR_parameter.pulse_sequence['rabi'].frequency = f_center\n",
    "f_span = 5e6\n",
    "f_step = 0.01e6\n",
    "rabi_sweep_vals = list(np.arange(f_center-f_span/2, f_center+f_span/2, f_step))\n",
    "print('Sweep vals: {}'.format(len(rabi_sweep_vals)))\n",
    "rabi_ESR_parameter.pulse_sequence"
   ]
  },
  {
   "cell_type": "code",
   "execution_count": 28,
   "metadata": {
    "collapsed": false,
    "hidden": true,
    "scrolled": true
   },
   "outputs": [
    {
     "name": "stdout",
     "output_type": "stream",
     "text": [
      "DataSet:\n",
      "data = qc.load_data('2017-01-13/#019_rabi_ESR_f_center_22-58-19')\n",
      "   mode = DataMode.PULL_FROM_SERVER\n",
      "   <Type>   | <array_id>         | <array.name>       | <array.shape>\n",
      "   Setpoint | rabi_ESR_set       | rabi_ESR           | (500,)\n",
      "   Measured | contrast           | contrast           | (500,)\n",
      "   Measured | dark_counts        | dark_counts        | (500,)\n",
      "   Measured | voltage_difference | voltage_difference | (500,)\n",
      "started at 2017-01-13 22:58:23\n"
     ]
    }
   ],
   "source": [
    "rabi_ESR_parameter.samples=50\n",
    "data = qc.Loop(\n",
    "    rabi_ESR_parameter[rabi_sweep_vals]).each(\n",
    "    rabi_ESR_parameter).run(\n",
    "    name='rabi_ESR_f_center', progress_interval=True)\n",
    "plot = qc.MatPlot(data.contrast, use_offset=False)"
   ]
  },
  {
   "cell_type": "code",
   "execution_count": 28,
   "metadata": {
    "collapsed": false,
    "hidden": true
   },
   "outputs": [
    {
     "data": {
      "text/plain": [
       "27950885000.0"
      ]
     },
     "execution_count": 28,
     "metadata": {},
     "output_type": "execute_result"
    }
   ],
   "source": [
    "max_val = data.contrast.argmax()\n",
    "rabi_sweep_vals[max_val]"
   ]
  },
  {
   "cell_type": "code",
   "execution_count": 16,
   "metadata": {
    "collapsed": true,
    "hidden": true
   },
   "outputs": [],
   "source": [
    "rabi_frequency = 27950885000.0"
   ]
  },
  {
   "cell_type": "markdown",
   "metadata": {
    "heading_collapsed": true,
    "hidden": true
   },
   "source": [
    "## Rabi drive"
   ]
  },
  {
   "cell_type": "code",
   "execution_count": 19,
   "metadata": {
    "collapsed": false,
    "hidden": true
   },
   "outputs": [
    {
     "name": "stdout",
     "output_type": "stream",
     "text": [
      "Sweep vals: 200\n"
     ]
    },
    {
     "data": {
      "text/plain": [
       "PulseSequence with 5 pulses, duration: 27\n",
       "\tDCPulse(plunge, A=2, t_start=0, t_stop=5)\n",
       "\tSinePulse(rabi (ESR), f=27950.88 MHz, power=0, t_start=3, t_stop=3.1)\n",
       "\tDCPulse(read, A=0, t_start=5, t_stop=25)\n",
       "\tDCPulse(final, A=0, t_start=25, t_stop=27)\n",
       "\t\n",
       "\tDisabled pulses:\n",
       "\tSteeredInitialization(steered_initialization, t_no_blip=120 ms, t_max_wait=400, t_buffer=30, V_th=0.3333333333333333)"
      ]
     },
     "execution_count": 19,
     "metadata": {},
     "output_type": "execute_result"
    }
   ],
   "source": [
    "rabi_drive_ESR_parameter.pulse_sequence['rabi'].duration=0.1\n",
    "rabi_drive_ESR_parameter.pulse_sequence['rabi'].power=0\n",
    "rabi_drive_ESR_parameter.pulse_sequence['rabi'].t_start=3\n",
    "\n",
    "f_center = rabi_frequency #properties_config['frequency_ESR']\n",
    "rabi_drive_ESR_parameter.pulse_sequence['rabi'].frequency = f_center\n",
    "drive_duration_start = 0\n",
    "drive_duration_stop = 0.1\n",
    "drive_duration_step = 0.0005\n",
    "drive_duration_sweep_vals = list(np.arange(drive_duration_start, drive_duration_stop, drive_duration_step))\n",
    "print('Sweep vals: {}'.format(len(drive_duration_sweep_vals)))\n",
    "rabi_drive_ESR_parameter.pulse_sequence"
   ]
  },
  {
   "cell_type": "code",
   "execution_count": 31,
   "metadata": {
    "collapsed": false,
    "hidden": true
   },
   "outputs": [
    {
     "name": "stdout",
     "output_type": "stream",
     "text": [
      "DataSet:\n",
      "data = qc.load_data('2017-01-13/#005_rabi_drive_ESR_13-07-36')\n",
      "   mode = DataMode.PULL_FROM_SERVER\n",
      "   <Type>   | <array_id>         | <array.name>       | <array.shape>\n",
      "   Setpoint | rabi_drive_ESR_set | rabi_drive_ESR     | (100,)\n",
      "   Measured | contrast           | contrast           | (100,)\n",
      "   Measured | dark_counts        | dark_counts        | (100,)\n",
      "   Measured | voltage_difference | voltage_difference | (100,)\n",
      "started at 2017-01-13 13:07:39\n"
     ]
    }
   ],
   "source": [
    "rabi_drive_ESR_parameter.samples=80\n",
    "data = qc.Loop(\n",
    "    rabi_drive_ESR_parameter[drive_duration_sweep_vals]).each(\n",
    "    rabi_drive_ESR_parameter).run(\n",
    "    name='rabi_drive_ESR', progress_interval=True)\n",
    "plot = qc.MatPlot(data.contrast, use_offset=False)"
   ]
  },
  {
   "cell_type": "code",
   "execution_count": 36,
   "metadata": {
    "collapsed": false,
    "hidden": true
   },
   "outputs": [
    {
     "data": {
      "text/plain": [
       "0.010999999999999999"
      ]
     },
     "execution_count": 36,
     "metadata": {},
     "output_type": "execute_result"
    }
   ],
   "source": [
    "max_val = data.contrast.argmax()\n",
    "pulse_length = drive_duration_sweep_vals[max_val]\n",
    "pi_pulse_length =0.007\n",
    "pulse_length/2\n"
   ]
  },
  {
   "cell_type": "markdown",
   "metadata": {
    "heading_collapsed": true
   },
   "source": [
    "# Dark counts"
   ]
  },
  {
   "cell_type": "code",
   "execution_count": null,
   "metadata": {
    "collapsed": false,
    "hidden": true
   },
   "outputs": [],
   "source": [
    "dark_counts_parameter.single_settings(samples=150, silent=True)\n",
    "dark_counts_parameter();"
   ]
  },
  {
   "cell_type": "markdown",
   "metadata": {
    "heading_collapsed": true,
    "hidden": true
   },
   "source": [
    "## Dark counts vs plunge voltage"
   ]
  },
  {
   "cell_type": "code",
   "execution_count": 13,
   "metadata": {
    "collapsed": false,
    "hidden": true
   },
   "outputs": [
    {
     "name": "stdout",
     "output_type": "stream",
     "text": [
      "DataSet:\n",
      "   mode     = DataMode.PULL_FROM_SERVER\n",
      "   location = '2016-12-29/#026_T1_plunge_voltage_15-36-23'\n",
      "   <Type>   | <array_id>           | <array.name>       | <array.shape>\n",
      "   Setpoint | dummy_set            | dummy              | (20,)\n",
      "   Setpoint | plunge_amplitude_set | plunge_amplitude   | (20, 15)\n",
      "   Measured | up_proportion        | up_proportion      | (20, 15)\n",
      "   Measured | num_traces           | num_traces         | (20, 15)\n",
      "   Measured | contrast             | contrast           | (20, 15)\n",
      "   Measured | dark_counts          | dark_counts        | (20, 15)\n",
      "   Measured | voltage_difference   | voltage_difference | (20, 15)\n",
      "started at 2016-12-29 15:36:25\n"
     ]
    }
   ],
   "source": [
    "dark_counts_plunge_parameter.samples=50\n",
    "adiabatic_ESR_parameter.samples=50\n",
    "\n",
    "T1_parameter(10)\n",
    "data = qc.Loop(\n",
    "    dummy_parameter[0:20:1]).loop(\n",
    "        plunge_voltage_parameter[1:2.5:0.1]).each(\n",
    "            dark_counts_plunge_parameter,\n",
    "            adiabatic_ESR_parameter).run(\n",
    "    name='T1_plunge_voltage', progress_interval=True)"
   ]
  },
  {
   "cell_type": "code",
   "execution_count": 22,
   "metadata": {
    "collapsed": false,
    "hidden": true
   },
   "outputs": [],
   "source": [
    "plot = qc.MatPlot(subplots=(1,3), figsize=(12,4))\n",
    "plot.add(data.up_proportion, subplot=0)\n",
    "plot.add(data.contrast, subplot=1)\n",
    "plot.add(np.nanmean(data.contrast, 0), x=data.plunge_amplitude_set[0], subplot=2, label='contrast')\n",
    "plot.add(np.nanmean(data.up_proportion, 0), x=data.plunge_amplitude_set[0], subplot=2, label='dark counts')\n",
    "plot[2].set_xlabel('plunge_amplitude')\n",
    "plot[2].legend()\n",
    "plot.tight_layout()"
   ]
  },
  {
   "cell_type": "markdown",
   "metadata": {
    "collapsed": true,
    "heading_collapsed": true
   },
   "source": [
    "# Read level sweep (to be fixed)"
   ]
  },
  {
   "cell_type": "code",
   "execution_count": null,
   "metadata": {
    "collapsed": true,
    "hidden": true
   },
   "outputs": [],
   "source": [
    "variable_read_parameter.setup(samples=100)\n",
    "data = qc.Loop(variable_read_parameter[-1.5:2.5:0.04]\n",
    "                     ).each(variable_read_parameter\n",
    "                           ).run(name='variable_read',\n",
    "                                progress_interval=True)"
   ]
  },
  {
   "cell_type": "code",
   "execution_count": null,
   "metadata": {
    "collapsed": false,
    "hidden": true,
    "scrolled": true
   },
   "outputs": [],
   "source": [
    "plotQ = qc.QtPlot()\n",
    "plotQ.add(data.Channel_A_signal)\n",
    "\n",
    "plotQ = qc.QtPlot()\n",
    "plotQ.add(data.Channel_C_signal)"
   ]
  },
  {
   "cell_type": "markdown",
   "metadata": {},
   "source": [
    "# T1 measurement"
   ]
  },
  {
   "cell_type": "markdown",
   "metadata": {
    "heading_collapsed": true
   },
   "source": [
    "## T1 - Single point"
   ]
  },
  {
   "cell_type": "code",
   "execution_count": null,
   "metadata": {
    "collapsed": false,
    "hidden": true,
    "scrolled": false
   },
   "outputs": [],
   "source": [
    "T1_parameter(20000)\n",
    "T1_parameter.single_settings(samples=50)\n",
    "%time up_proportion, num_traces = T1_parameter()"
   ]
  },
  {
   "cell_type": "code",
   "execution_count": null,
   "metadata": {
    "collapsed": false,
    "hidden": true
   },
   "outputs": [],
   "source": [
    "up_proportion"
   ]
  },
  {
   "cell_type": "code",
   "execution_count": null,
   "metadata": {
    "collapsed": false,
    "hidden": true
   },
   "outputs": [],
   "source": [
    "plot_traces(T1_parameter.trace_segments['output']['read'])"
   ]
  },
  {
   "cell_type": "markdown",
   "metadata": {
    "heading_collapsed": true
   },
   "source": [
    "## T1 - single scan"
   ]
  },
  {
   "cell_type": "code",
   "execution_count": 5,
   "metadata": {
    "collapsed": false,
    "hidden": true
   },
   "outputs": [
    {
     "name": "stdout",
     "output_type": "stream",
     "text": [
      "Shuffled T1 wait times: [10.0, 18.957356524063755, 35.938136638046274, 68.129206905796153, 129.15496650148839, 244.84367468222268, 464.15888336127819, 879.92254356910746, 1668.1005372000591, 3162.2776601683795]\n"
     ]
    }
   ],
   "source": [
    "# Calculate T1 durations\n",
    "T1_wait_times = list(np.logspace(1, 3.5, num=10, base=10))\n",
    "\n",
    "# Shuffle times\n",
    "#np.random.shuffle(T1_wait_times)\n",
    "print('Shuffled T1 wait times: {}'.format(T1_wait_times))"
   ]
  },
  {
   "cell_type": "code",
   "execution_count": 6,
   "metadata": {
    "collapsed": false,
    "hidden": true,
    "scrolled": false
   },
   "outputs": [
    {
     "name": "stdout",
     "output_type": "stream",
     "text": [
      "DataSet:\n",
      "data = qc.load_data('2017-01-09/#010_T1_single_sweep_17-07-22')\n",
      "   mode = DataMode.PULL_FROM_SERVER\n",
      "   <Type>   | <array_id>           | <array.name>     | <array.shape>\n",
      "   Setpoint | T1_wait_time_ESR_set | T1_wait_time_ESR | (10,)\n",
      "   Measured | up_proportion        | up_proportion    | (10,)\n",
      "   Measured | num_traces           | num_traces       | (10,)\n",
      "started at 2017-01-09 17:07:26\n"
     ]
    },
    {
     "name": "stderr",
     "output_type": "stream",
     "text": [
      "C:\\Users\\lab.BluG12Meas\\Anaconda3\\lib\\site-packages\\matplotlib\\axes\\_base.py:2899: UserWarning: Attempting to set identical left==right results\n",
      "in singular transformations; automatically expanding.\n",
      "left=10.0, right=10.0\n",
      "  'left=%s, right=%s') % (left, right))\n"
     ]
    }
   ],
   "source": [
    "# Single T1 sweep\n",
    "T1_parameter.samples=50\n",
    "data = qc.Loop(\n",
    "    T1_parameter[T1_wait_times]).each(\n",
    "    T1_parameter).run(name='T1_single_sweep')\n",
    "\n",
    "plot = qc.MatPlot()\n",
    "plot.add(data.up_proportion)\n",
    "plot[0].set_xscale('log')"
   ]
  },
  {
   "cell_type": "markdown",
   "metadata": {
    "collapsed": true,
    "heading_collapsed": true
   },
   "source": [
    "## T1 - single free/uncompensated scan"
   ]
  },
  {
   "cell_type": "code",
   "execution_count": 14,
   "metadata": {
    "collapsed": false,
    "hidden": true
   },
   "outputs": [
    {
     "name": "stdout",
     "output_type": "stream",
     "text": [
      "Shuffled T1 wait times: [10.0, 17.782794100389228, 31.622776601683793, 56.234132519034908, 100.0]\n"
     ]
    }
   ],
   "source": [
    "# Calculate T1 durations\n",
    "T1_wait_times = list(np.logspace(1, 2, num=5, base=10))\n",
    "# Shuffle times\n",
    "#np.random.shuffle(T1_wait_times)\n",
    "print('Shuffled T1 wait times: {}'.format(T1_wait_times))\n",
    "# Single T1 sweep\n",
    "T1_parameter = acquisition_parameters.T1Parameter(mode='ESR')\n",
    "T1_parameter.samples=50\n"
   ]
  },
  {
   "cell_type": "code",
   "execution_count": 128,
   "metadata": {
    "collapsed": false,
    "hidden": true
   },
   "outputs": [
    {
     "data": {
      "text/plain": [
       "PulseSequence with 5 pulses, duration: 27\n",
       "\tDCPulse(plunge, A=(0.08, 0.042666666666666665), t_start=0, t_stop=5)\n",
       "\tFrequencyRampPulse(adiabatic (ESR), f_center=27951.00 MHz, f_dev=0.50, power=0, t_start=3, t_stop=3.2)\n",
       "\tDCPulse(read, A=0, t_start=5, t_stop=25)\n",
       "\tDCPulse(final, A=0, t_start=25, t_stop=27)\n",
       "\t\n",
       "\tDisabled pulses:\n",
       "\tSteeredInitialization(steered_initialization, t_no_blip=120 ms, t_max_wait=400, t_buffer=30, V_th=0.3333333333333333)"
      ]
     },
     "execution_count": 128,
     "metadata": {},
     "output_type": "execute_result"
    }
   ],
   "source": [
    "#T1_parameter.pulse_sequence['plunge'].amplitude #= (0.1,0.2)\n",
    "#T1_parameter.pulse_sequence\n",
    "T1_parameter.pulse_sequence['steered_initialization'].enabled = False\n",
    "T1_parameter.pulse_sequence"
   ]
  },
  {
   "cell_type": "code",
   "execution_count": 124,
   "metadata": {
    "collapsed": false,
    "hidden": true
   },
   "outputs": [],
   "source": [
    "#layout.target_pulse_sequence(T1_parameter.pulse_sequence)\n",
    "#arbstudio_interface.pulse_sequence()"
   ]
  },
  {
   "cell_type": "code",
   "execution_count": 129,
   "metadata": {
    "collapsed": false,
    "hidden": true
   },
   "outputs": [
    {
     "name": "stdout",
     "output_type": "stream",
     "text": [
      "DataSet:\n",
      "data = qc.load_data('2017-01-24/#020_T1_single_sweep_17-10-21')\n",
      "   mode = DataMode.PULL_FROM_SERVER\n",
      "   <Type>   | <array_id>           | <array.name>     | <array.shape>\n",
      "   Setpoint | T1_wait_time_ESR_set | T1_wait_time_ESR | (5,)\n",
      "   Measured | up_proportion        | up_proportion    | (5,)\n",
      "   Measured | num_traces           | num_traces       | (5,)\n",
      "started at 2017-01-24 17:10:25\n"
     ]
    },
    {
     "name": "stderr",
     "output_type": "stream",
     "text": [
      "C:\\Users\\lab.BluG12Meas\\Anaconda3\\lib\\site-packages\\matplotlib\\axes\\_base.py:2899: UserWarning: Attempting to set identical left==right results\n",
      "in singular transformations; automatically expanding.\n",
      "left=10.0, right=10.0\n",
      "  'left=%s, right=%s') % (left, right))\n"
     ]
    }
   ],
   "source": [
    "T1_wait_times = list(np.logspace(1, 3, num=5, base=10))\n",
    "T1_parameter.samples=30\n",
    "data = qc.Loop(\n",
    "    T1_parameter[T1_wait_times]).each(\n",
    "    T1_parameter).run(name='T1_single_sweep')\n",
    "\n",
    "plot = qc.MatPlot()\n",
    "plot.add(data.up_proportion)\n",
    "plot[0].set_xscale('log')"
   ]
  },
  {
   "cell_type": "markdown",
   "metadata": {
    "heading_collapsed": true
   },
   "source": [
    "## T1 - Multiple scans"
   ]
  },
  {
   "cell_type": "code",
   "execution_count": 90,
   "metadata": {
    "collapsed": false,
    "hidden": true
   },
   "outputs": [
    {
     "name": "stdout",
     "output_type": "stream",
     "text": [
      "Shuffled T1 wait times: [19.539304046896113, 4151.2780027522995, 74.598015234879369, 38.178440263705077, 15848.931924611141, 10.0, 1087.3356727196567, 145.75933009692972, 8111.3083078968812, 284.80358684358049, 556.48638769832951, 2124.5782310305694]\n"
     ]
    }
   ],
   "source": [
    "# Calculate T1 durations (shuffled)\n",
    "T1_wait_times = list(np.logspace(1, 4.2, num=12, base=10))\n",
    "np.random.shuffle(T1_wait_times)\n",
    "print('Shuffled T1 wait times: {}'.format(T1_wait_times))"
   ]
  },
  {
   "cell_type": "code",
   "execution_count": 93,
   "metadata": {
    "collapsed": false,
    "hidden": true
   },
   "outputs": [
    {
     "name": "stdout",
     "output_type": "stream",
     "text": [
      "DataSet:\n",
      "   mode = DataMode.PULL_FROM_SERVER\n",
      "   data = qc.load_data('2016-12-30/#053_T1_data_23-04-20')\n",
      "   <Type>   | <array_id>           | <array.name>       | <array.shape>\n",
      "   Setpoint | dummy_set            | dummy              | (80,)\n",
      "   Measured | contrast             | contrast           | (80,)\n",
      "   Measured | dark_counts_0_1      | dark_counts        | (80,)\n",
      "   Measured | voltage_difference   | voltage_difference | (80,)\n",
      "   Measured | dark_counts_1        | dark_counts        | (80,)\n",
      "   Setpoint | T1_wait_time_ESR_set | T1_wait_time_ESR   | (80, 12)\n",
      "   Measured | up_proportion        | up_proportion      | (80, 12)\n",
      "   Measured | num_traces           | num_traces         | (80, 12)\n",
      "started at 2016-12-30 23:04:25\n"
     ]
    }
   ],
   "source": [
    "T1_parameter.samples = 50\n",
    "dark_counts_parameter.samples = 100\n",
    "adiabatic_ESR_parameter.samples = 100\n",
    "data = qc.Loop(\n",
    "    dummy_parameter[0:80:1]).each(\n",
    "    adiabatic_ESR_parameter,\n",
    "    dark_counts_parameter,\n",
    "    qc.Loop(T1_parameter[T1_wait_times]).each(T1_parameter),\n",
    "                    ).run(name='T1_data', progress_interval=True)"
   ]
  },
  {
   "cell_type": "code",
   "execution_count": 99,
   "metadata": {
    "collapsed": false,
    "hidden": true
   },
   "outputs": [],
   "source": [
    "plot = qc.MatPlot(subplots=(1,3), figsize=(12,3.5))\n",
    "plot.add(data.up_proportion, subplot=0)\n",
    "# plot.subplots[0].set_xscale('log')\n",
    "# plot.add(data.T1_wait_time_set[0], np.nanmean(data.up_proportion_5_0_0, axis=0), subplot=2)\n",
    "# plot.subplots[1].set_xscale('log')\n",
    "# plot.subplots[1].set_xlim(10, 13000)\n",
    "plot.add(data.contrast, subplot=1)\n",
    "plot.add(data.dark_counts_1, subplot=2)\n",
    "# plot.add(data.dark_counts_0_1, subplot=3)\n",
    "plt.tight_layout()"
   ]
  },
  {
   "cell_type": "markdown",
   "metadata": {},
   "source": [
    "## T1 - Plunge voltage scan\n",
    "This scan measures the contrast for a fixed wait time as the plunge voltage is varied"
   ]
  },
  {
   "cell_type": "markdown",
   "metadata": {
    "heading_collapsed": true
   },
   "source": [
    "### Fixed-tau plunge voltage scan"
   ]
  },
  {
   "cell_type": "code",
   "execution_count": 90,
   "metadata": {
    "collapsed": false,
    "hidden": true
   },
   "outputs": [
    {
     "name": "stdout",
     "output_type": "stream",
     "text": [
      "DataSet:\n",
      "   mode = DataMode.PULL_FROM_SERVER\n",
      "   data = qc.load_data('2016-12-30/#026_T1_plunge_voltage_17-01-15')\n",
      "   <Type>   | <array_id>           | <array.name>       | <array.shape>\n",
      "   Setpoint | dummy_set            | dummy              | (10,)\n",
      "   Measured | contrast             | contrast           | (10,)\n",
      "   Measured | dark_counts          | dark_counts        | (10,)\n",
      "   Measured | voltage_difference   | voltage_difference | (10,)\n",
      "   Setpoint | plunge_amplitude_set | plunge_amplitude   | (10, 7)\n",
      "   Measured | up_proportion        | up_proportion      | (10, 7)\n",
      "   Measured | num_traces           | num_traces         | (10, 7)\n",
      "started at 2016-12-30 17:01:19\n"
     ]
    }
   ],
   "source": [
    "T1_parameter.samples=50\n",
    "\n",
    "T1_parameter(2500)\n",
    "data = Loop(\n",
    "    dummy_parameter[0:10:1]).each(\n",
    "        adiabatic_ESR_parameter,\n",
    "        Loop(plunge_voltage_parameter[1:2.6:0.25]).each(\n",
    "            T1_parameter)).run(\n",
    "    name='T1_plunge_voltage', progress_interval=True)"
   ]
  },
  {
   "cell_type": "code",
   "execution_count": 91,
   "metadata": {
    "collapsed": false,
    "hidden": true
   },
   "outputs": [
    {
     "name": "stderr",
     "output_type": "stream",
     "text": [
      "C:\\Users\\lab.BluG12Meas\\Anaconda3\\lib\\site-packages\\numpy\\lib\\nanfunctions.py:675: RuntimeWarning: Mean of empty slice\n",
      "  warnings.warn(\"Mean of empty slice\", RuntimeWarning)\n"
     ]
    },
    {
     "data": {
      "text/plain": [
       "<matplotlib.legend.Legend at 0x143d25c0>"
      ]
     },
     "execution_count": 91,
     "metadata": {},
     "output_type": "execute_result"
    }
   ],
   "source": [
    "plot = qc.MatPlot(subplots=3)\n",
    "plot.add(data.up_proportion, subplot=0)\n",
    "plot.add(np.nanmean(data.up_proportion, 0), x=data.plunge_amplitude_set[0], subplot=1)\n",
    "plot[1].set_xlabel('amplitude')\n",
    "plot.add(data.contrast, subplot=2, label='contrast')\n",
    "plot.add(data.dark_counts, subplot=2, label='dark counts')\n",
    "plot[2].legend()"
   ]
  },
  {
   "cell_type": "markdown",
   "metadata": {},
   "source": [
    "### Detailed plunge voltage scan"
   ]
  },
  {
   "cell_type": "code",
   "execution_count": 109,
   "metadata": {
    "collapsed": false
   },
   "outputs": [
    {
     "name": "stdout",
     "output_type": "stream",
     "text": [
      "T1 wait times: [10.0, 19.134546859970403, 36.613088353640322, 70.057485479096783, 134.05182387914726, 256.50209056800458, 490.80512716538561, 939.13337048598044, 1796.9891485325938, 3438.4573069455232, 6579.3322465756755, 12589.254117941662]\n"
     ]
    }
   ],
   "source": [
    "# Calculate T1 durations\n",
    "T1_wait_times = list(np.logspace(1, 4.1, num=12, base=10))\n",
    "print('T1 wait times: {}'.format(T1_wait_times))"
   ]
  },
  {
   "cell_type": "code",
   "execution_count": 110,
   "metadata": {
    "collapsed": false
   },
   "outputs": [],
   "source": [
    "T1_parameter.samples = 25\n",
    "dark_counts_plunge_parameter.samples = 100\n",
    "adiabatic_ESR_parameter.samples = 100"
   ]
  },
  {
   "cell_type": "code",
   "execution_count": 111,
   "metadata": {
    "collapsed": false
   },
   "outputs": [
    {
     "name": "stdout",
     "output_type": "stream",
     "text": [
      "DataSet:\n",
      "data = qc.load_data('2017-02-10/#007_T1_plunge_voltage_14-57-38')\n",
      "   mode = DataMode.PULL_FROM_SERVER\n",
      "   <Type>   | <array_id>           | <array.name>       | <array.shape>\n",
      "   Setpoint | dummy_set            | dummy              | (30,)\n",
      "   Setpoint | plunge_amplitude_set | plunge_amplitude   | (30, 9)\n",
      "   Measured | up_proportion_0_0    | up_proportion      | (30, 9)\n",
      "   Measured | num_traces_0_1       | num_traces         | (30, 9)\n",
      "   Measured | contrast             | contrast           | (30, 9)\n",
      "   Measured | dark_counts          | dark_counts        | (30, 9)\n",
      "   Measured | voltage_difference   | voltage_difference | (30, 9)\n",
      "   Setpoint | T1_wait_time_ESR_set | T1_wait_time_ESR   | (30, 9, 12)\n",
      "   Measured | up_proportion_2_0_0  | up_proportion      | (30, 9, 12)\n",
      "   Measured | num_traces_2_0_1     | num_traces         | (30, 9, 12)\n",
      "started at 2017-02-10 14:57:41\n"
     ]
    }
   ],
   "source": [
    "data = Loop(\n",
    "    dummy_parameter[0:30:1]).loop(\n",
    "        plunge_voltage_parameter[0.1:0.221:0.015]).each(\n",
    "            dark_counts_plunge_parameter,\n",
    "            adiabatic_ESR_parameter,\n",
    "            Loop(T1_parameter[T1_wait_times]).each(\n",
    "                T1_parameter)).run(\n",
    "    name='T1_plunge_voltage', progress_interval=True)"
   ]
  },
  {
   "cell_type": "code",
   "execution_count": 119,
   "metadata": {
    "collapsed": false
   },
   "outputs": [
    {
     "name": "stderr",
     "output_type": "stream",
     "text": [
      "C:\\Users\\lab.BluG12Meas\\Anaconda3\\lib\\site-packages\\numpy\\lib\\nanfunctions.py:675: RuntimeWarning: Mean of empty slice\n",
      "  warnings.warn(\"Mean of empty slice\", RuntimeWarning)\n"
     ]
    }
   ],
   "source": [
    "plot = qc.MatPlot(subplots=(1,3), figsize=(12,4))\n",
    "# plot.add(data.up_proportion, subplot=1)\n",
    "plot.add(np.nanmean(data.up_proportion_2_0_0, 0),subplot=0)\n",
    "plot.add(data.contrast, subplot=1)\n",
    "plot.add(data.dark_counts, subplot=2)"
   ]
  },
  {
   "cell_type": "markdown",
   "metadata": {},
   "source": [
    "## Free/Uncompensated plunge sweep T1"
   ]
  },
  {
   "cell_type": "code",
   "execution_count": 20,
   "metadata": {
    "collapsed": false
   },
   "outputs": [
    {
     "name": "stdout",
     "output_type": "stream",
     "text": [
      "T1 wait times: [10.0, 19.134546859970403, 36.613088353640322, 70.057485479096783, 134.05182387914726, 256.50209056800458, 490.80512716538561, 939.13337048598044, 1796.9891485325938, 3438.4573069455232, 6579.3322465756755, 12589.254117941662]\n"
     ]
    }
   ],
   "source": [
    "# Calculate T1 durations\n",
    "T1_wait_times = list(np.logspace(1, 4.1, num=12, base=10))\n",
    "print('T1 wait times: {}'.format(T1_wait_times))\n"
   ]
  },
  {
   "cell_type": "code",
   "execution_count": 21,
   "metadata": {
    "collapsed": true
   },
   "outputs": [],
   "source": [
    "free_plunge_parameter = general_parameters.AttributeParameter(T1_parameter.pulse_sequence['plunge'], 'amplitude', scale = [1, 2])\n",
    "#free_plunge_parameter(0.08)\n",
    "#T1_parameter.pulse_sequence['plunge'].amplitude "
   ]
  },
  {
   "cell_type": "code",
   "execution_count": 188,
   "metadata": {
    "collapsed": true
   },
   "outputs": [],
   "source": [
    "free_plunge_parameter(0.22)\n"
   ]
  },
  {
   "cell_type": "code",
   "execution_count": 22,
   "metadata": {
    "collapsed": false
   },
   "outputs": [
    {
     "data": {
      "text/plain": [
       "PulseSequence with 5 pulses, duration: 27\n",
       "\tSteeredInitialization(steered_initialization, t_no_blip=120 ms, t_max_wait=400, t_buffer=30, V_th=0.3333333333333333)\n",
       "\tDCPulse(plunge, A=0.08, t_start=0, t_stop=5)\n",
       "\tFrequencyRampPulse(adiabatic (ESR), f_center=27951.00 MHz, f_dev=0.50, power=0, t_start=3, t_stop=3.2)\n",
       "\tDCPulse(read, A=0, t_start=5, t_stop=25)\n",
       "\tDCPulse(final, A=0, t_start=25, t_stop=27)"
      ]
     },
     "execution_count": 22,
     "metadata": {},
     "output_type": "execute_result"
    }
   ],
   "source": [
    "T1_parameter.pulse_sequence['steered_initialization'].enabled = True\n",
    "T1_parameter.pulse_sequence"
   ]
  },
  {
   "cell_type": "code",
   "execution_count": 28,
   "metadata": {
    "collapsed": false
   },
   "outputs": [
    {
     "data": {
      "text/plain": [
       "PulseSequence with 5 pulses, duration: 42\n",
       "\tSteeredInitialization(steered_initialization (long), t_no_blip=200 ms, t_max_wait=1000, t_buffer=30, V_th=0.3333333333333333)\n",
       "\tDCPulse(plunge, A=0.08, t_start=0, t_stop=20)\n",
       "\tDCPulse(read, A=0, t_start=20, t_stop=40)\n",
       "\tDCPulse(final, A=0, t_start=40, t_stop=42)\n",
       "\t\n",
       "\tDisabled pulses:\n",
       "\tFrequencyRampPulse(adiabatic (ESR), f_center=27951.00 MHz, f_dev=0.50, power=0, t_start=3, t_stop=3.2)"
      ]
     },
     "execution_count": 28,
     "metadata": {},
     "output_type": "execute_result"
    }
   ],
   "source": [
    "dark_counts_plunge_parameter.pulse_sequence"
   ]
  },
  {
   "cell_type": "code",
   "execution_count": 321,
   "metadata": {
    "collapsed": false
   },
   "outputs": [
    {
     "data": {
      "text/plain": [
       "{'adiabatic_ESR': {'duration': 0.2,\n",
       "  'frequency_deviation': 500000.0,\n",
       "  'power': 0,\n",
       "  't_start': 3},\n",
       " 'adiabatic_NMR': {'duration': 0.5,\n",
       "  'frequency_deviation': 100000.0,\n",
       "  'power': 0,\n",
       "  't_start': 3},\n",
       " 'empty': {'amplitude': -0.06, 'duration': 5},\n",
       " 'final': {'amplitude': 0, 'duration': 2},\n",
       " 'plunge': {'amplitude': 0.08, 'duration': 5},\n",
       " 'read': {'amplitude': 0, 'duration': 20},\n",
       " 'read_long': {'duration': 120},\n",
       " 'steered_initialization': {'enabled': False,\n",
       "  't_buffer': 30,\n",
       "  't_max_wait': 400,\n",
       "  't_no_blip': 120},\n",
       " 'steered_initialization_long': {'t_max_wait': 1000, 't_no_blip': 200}}"
      ]
     },
     "execution_count": 321,
     "metadata": {},
     "output_type": "execute_result"
    }
   ],
   "source": [
    "pulse_config"
   ]
  },
  {
   "cell_type": "code",
   "execution_count": 24,
   "metadata": {
    "collapsed": false
   },
   "outputs": [
    {
     "name": "stdout",
     "output_type": "stream",
     "text": [
      "DataSet:\n",
      "data = qc.load_data('2017-02-08/#009_T1_free_plunge_voltage_17-42-18')\n",
      "   mode = DataMode.PULL_FROM_SERVER\n",
      "   <Type>   | <array_id>           | <array.name>       | <array.shape>\n",
      "   Setpoint | dummy_set            | dummy              | (30,)\n",
      "   Setpoint | amplitude_set        | amplitude          | (30, 14)\n",
      "   Measured | dark_counts_0        | dark_counts        | (30, 14)\n",
      "   Measured | contrast             | contrast           | (30, 14)\n",
      "   Measured | dark_counts_1_1      | dark_counts        | (30, 14)\n",
      "   Measured | voltage_difference   | voltage_difference | (30, 14)\n",
      "   Setpoint | T1_wait_time_ESR_set | T1_wait_time_ESR   | (30, 14, 12)\n",
      "   Measured | up_proportion        | up_proportion      | (30, 14, 12)\n",
      "   Measured | num_traces           | num_traces         | (30, 14, 12)\n",
      "started at 2017-02-08 17:42:21\n"
     ]
    }
   ],
   "source": [
    "T1_parameter.samples = 25\n",
    "dark_counts_parameter.samples = 100\n",
    "adiabatic_ESR_parameter.samples = 100\n",
    "\n",
    "data = Loop(\n",
    "    dummy_parameter[0:30:1]).loop(\n",
    "        free_plunge_parameter[0.015:0.221:0.015]).each(\n",
    "            dark_counts_plunge_parameter,\n",
    "            adiabatic_ESR_parameter,\n",
    "            Loop(T1_parameter[T1_wait_times]).each(\n",
    "                T1_parameter)).run(\n",
    "    name='T1_free_plunge_voltage', progress_interval=True)"
   ]
  },
  {
   "cell_type": "code",
   "execution_count": 309,
   "metadata": {
    "collapsed": false
   },
   "outputs": [],
   "source": [
    "data.sync()\n",
    "plot = qc.MatPlot(subplots=2)\n",
    "plot[0].plot(data.contrast);\n",
    "plot[1].plot(data.dark_counts_0);"
   ]
  },
  {
   "cell_type": "markdown",
   "metadata": {
    "heading_collapsed": true
   },
   "source": [
    "# Notes"
   ]
  },
  {
   "cell_type": "markdown",
   "metadata": {
    "heading_collapsed": true,
    "hidden": true
   },
   "source": [
    "## Acquisition parameters"
   ]
  },
  {
   "cell_type": "markdown",
   "metadata": {
    "hidden": true
   },
   "source": [
    "Acquisition parameters are used to perform simple measurements containing a single pulse sequence.\n",
    "Examples are DCParameter, AdiabaticSweepParameter, DarkCountsParameter, etc.\n",
    "\n",
    "Acquisition parameters are run by performing by calling the parameter (parameter(), which performs a parameter.get() command).\n",
    "At the start of a get(), the pulse sequence is sent to the Layout, which sets up all the instruments.\n",
    "The exception to this is the DC parameter, which needs a separate setup at the start of a measurement."
   ]
  },
  {
   "cell_type": "markdown",
   "metadata": {
    "heading_collapsed": true,
    "hidden": true
   },
   "source": [
    "## Config settings"
   ]
  },
  {
   "cell_type": "markdown",
   "metadata": {
    "hidden": true
   },
   "source": [
    "In many cases, settings for parameters and pulses are setup-specific.\n",
    "To keep the SilQ software general, these settings have been moved to the QCoDeS config.\n",
    "The config is imported as \n",
    "\n",
    "`from qcodes import config`\n",
    "\n",
    "The config is saved to a file, and has several save locations. We usually used the current working directory (cwd) for saving/loading.\n",
    "For more info see config in qcodes/docs/examples.\n",
    "\n",
    "Special care must be taken when combining the config with multiprocessing.\n",
    "When a new process is started, it will load the config from the physical file.\n",
    "When changing settings in the config, it is therefore necessary to perform a config.save_to_cwd() if you want the changes to be reflected in any multiprocessing measurements.\n",
    "\n",
    "Several objects (including AcquisitionParameters and pulses) are subclasses of SettingsClass.\n",
    "The SettingsClass overrides `__getattribute__`, which means that when requesting an attribute (obj.attr), the following steps are undertaken.\n",
    "1. If attr is a key in either `obj._single_settings`, or `obj._temporary_settings`, return that value (see below for more information).\n",
    "2. If obj.attr does not exist, raise an AttributeError as usual.\n",
    "3. If the attribute exists and is not equal to None, return that value.\n",
    "4. If the attribute exists but is equal to None, search for its value in the respective config*:\n",
    "    1. If obj.mode is not None and 1{attr}_{mode}1 is a key in the config, return value\n",
    "    2. If attr is key in the config, return that value\n",
    "    \n",
    "By default, the respective config is `config['user']['properties']`. \n",
    "However, for pulses, the respective config is `config['user']['pulses'][{pulse_name}]`\n",
    "\n",
    "Attributes can be temporarily overriden through `obj.single_settings(attr1=val1, ...)` and `obj.temporary_settings(attr1=val1, ...)`.\n",
    "Single settings are always cleared after an obj.get() command, and so are useful when you for instance want to do a single measurement with different settings than usual. Temporary settings are in effect until you perform an obj.clear_settings() command."
   ]
  },
  {
   "cell_type": "markdown",
   "metadata": {
    "hidden": true
   },
   "source": [
    "To enable/disable steered initialization, use:\n",
    "\n",
    "adiabatic_sweep_parameter.steered_intialization = True/False\n",
    "\n",
    "This adds/removes the steered initialization \"pulse\" from the EPR_parameter.pulse_sequence\n",
    "If steered_initialization is enabled, you can access and modify its properties via\n",
    "\n",
    "steered_initialization = adiabatic_sweep_parameter.pulse_sequence['steered_initialization']\n",
    "\n",
    "Note that steered initialization is currently only implemented for the adiabatic sweep, but is easy to add for other parameters, such as T1_parameter (just add the pulse)"
   ]
  },
  {
   "cell_type": "markdown",
   "metadata": {
    "hidden": true
   },
   "source": [
    "steered_controller is the acquisition controller specifically for steered initialization\n",
    "You can look at the initialization traces when using steered initialization.\n",
    "\n",
    "First set the flag \n",
    "steered_controller.record_initialization_traces(True)\n",
    "\n",
    "The initialization traces can then be accessed\n",
    "steered_controller.initialization_traces()\n",
    "\n",
    "You can also look at the first buffer after the pulseblaster.start() command has been set via\n",
    "steered_controller.post_initialization_traces()\n",
    "This can be useful for checking the delay between sending the command and plunging\n",
    "\n",
    "To setup a parameter where steered initialization is enabled, you must pass it a readout threshold voltage every time.\n",
    "\n",
    "adiabatic_sweep_parameter.setup(readout_threshold_voltage=threshold_voltage)\n",
    "\n",
    "This threshold voltage can be obtained from an EPR scan (see T1_measurement):\n",
    "\n",
    "EPR_parameter.setup(samples=30)\n",
    "EPR_parameter()\n",
    "traces_read = EPR_parameter.trace_segments['output']['read']\n",
    "_, _, readout_threshold_voltage = analysis.find_high_low(traces_read)"
   ]
  },
  {
   "cell_type": "code",
   "execution_count": null,
   "metadata": {
    "collapsed": true,
    "hidden": true
   },
   "outputs": [],
   "source": [
    "adiabatic_sweep_parameter.pulse_sequence.add(adiabatic_sweep_parameter._steered_initialization)\n",
    "adiabatic_sweep_parameter.pulse_sequence.remove(adiabatic_sweep_parameter._steered_initialization)"
   ]
  },
  {
   "cell_type": "markdown",
   "metadata": {
    "hidden": true
   },
   "source": [
    "To save raw traces, use:\n",
    "\n",
    "EPR_parameter.setup(save_traces=True, data_manager=data_manager_raw)"
   ]
  },
  {
   "cell_type": "code",
   "execution_count": null,
   "metadata": {
    "collapsed": true,
    "hidden": true
   },
   "outputs": [],
   "source": [
    "plot = CalibrationPlot(data)"
   ]
  },
  {
   "cell_type": "markdown",
   "metadata": {},
   "source": [
    "# Measurements run from Slack"
   ]
  }
 ],
 "metadata": {
  "anaconda-cloud": {},
  "kernelspec": {
   "display_name": "Python [Root]",
   "language": "python",
   "name": "Python [Root]"
  },
  "language_info": {
   "codemirror_mode": {
    "name": "ipython",
    "version": 3
   },
   "file_extension": ".py",
   "mimetype": "text/x-python",
   "name": "python",
   "nbconvert_exporter": "python",
   "pygments_lexer": "ipython3",
   "version": "3.5.2"
  },
  "nav_menu": {},
  "toc": {
   "nav_menu": {
    "height": "511px",
    "width": "252px"
   },
   "navigate_menu": true,
   "number_sections": true,
   "sideBar": false,
   "threshold": 6,
   "toc_cell": false,
   "toc_section_display": "block",
   "toc_window_display": false
  },
  "toc_position": {
   "height": "640px",
   "left": "1327.88px",
   "right": "1080.23px",
   "top": "10.9219px",
   "width": "382px"
  }
 },
 "nbformat": 4,
 "nbformat_minor": 0
}
