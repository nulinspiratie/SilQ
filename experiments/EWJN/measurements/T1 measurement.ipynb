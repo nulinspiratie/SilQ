{
 "cells": [
  {
   "cell_type": "markdown",
   "metadata": {},
   "source": [
    "# Initialization"
   ]
  },
  {
   "cell_type": "code",
   "execution_count": 1,
   "metadata": {
    "code_folding": [],
    "collapsed": false,
    "init_cell": true
   },
   "outputs": [
    {
     "name": "stdout",
     "output_type": "stream",
     "text": [
      "Initializing imports\n"
     ]
    },
    {
     "data": {
      "application/javascript": [
       "/*\r\n",
       " * Qcodes Jupyter/IPython widgets\r\n",
       " */\r\n",
       "require([\r\n",
       "    'nbextensions/widgets/widgets/js/widget',\r\n",
       "    'nbextensions/widgets/widgets/js/manager'\r\n",
       "], function (widget, manager) {\r\n",
       "\r\n",
       "    var UpdateView = widget.DOMWidgetView.extend({\r\n",
       "        render: function() {\r\n",
       "            window.MYWIDGET = this;\r\n",
       "            this._interval = 0;\r\n",
       "            this.update();\r\n",
       "        },\r\n",
       "        update: function() {\r\n",
       "            this.display(this.model.get('_message'));\r\n",
       "            this.setInterval();\r\n",
       "        },\r\n",
       "        display: function(message) {\r\n",
       "            /*\r\n",
       "             * display method: override this for custom display logic\r\n",
       "             */\r\n",
       "            this.el.innerHTML = message;\r\n",
       "        },\r\n",
       "        remove: function() {\r\n",
       "            clearInterval(this._updater);\r\n",
       "        },\r\n",
       "        setInterval: function(newInterval) {\r\n",
       "            var me = this;\r\n",
       "            if(newInterval===undefined) newInterval = me.model.get('interval');\r\n",
       "            if(newInterval===me._interval) return;\r\n",
       "\r\n",
       "            me._interval = newInterval;\r\n",
       "\r\n",
       "            if(me._updater) clearInterval(me._updater);\r\n",
       "\r\n",
       "            if(me._interval) {\r\n",
       "                me._updater = setInterval(function() {\r\n",
       "                    me.send({myupdate: true});\r\n",
       "                    if(!me.model.comm_live) {\r\n",
       "                        console.log('missing comm, canceling widget updates', me);\r\n",
       "                        clearInterval(me._updater);\r\n",
       "                    }\r\n",
       "                }, me._interval * 1000);\r\n",
       "            }\r\n",
       "        }\r\n",
       "    });\r\n",
       "    manager.WidgetManager.register_widget_view('UpdateView', UpdateView);\r\n",
       "\r\n",
       "    var HiddenUpdateView = UpdateView.extend({\r\n",
       "        display: function(message) {\r\n",
       "            this.$el.hide();\r\n",
       "        }\r\n",
       "    });\r\n",
       "    manager.WidgetManager.register_widget_view('HiddenUpdateView', HiddenUpdateView);\r\n",
       "\r\n",
       "    var SubprocessView = UpdateView.extend({\r\n",
       "        render: function() {\r\n",
       "            var me = this;\r\n",
       "            me._interval = 0;\r\n",
       "            me._minimize = '<i class=\"fa-minus fa\"></i>';\r\n",
       "            me._restore = '<i class=\"fa-plus fa\"></i>';\r\n",
       "\r\n",
       "            // max lines of output to show\r\n",
       "            me.maxOutputLength = 500;\r\n",
       "\r\n",
       "            // in case there is already an outputView present,\r\n",
       "            // like from before restarting the kernel\r\n",
       "            $('.qcodes-output-view').not(me.$el).remove();\r\n",
       "\r\n",
       "            me.$el\r\n",
       "                .addClass('qcodes-output-view')\r\n",
       "                .attr('qcodes-state', 'docked')\r\n",
       "                .html(\r\n",
       "                    '<div class=\"qcodes-output-header toolbar\">' +\r\n",
       "                        '<div class=\"qcodes-process-list\"></div>' +\r\n",
       "                        '<button class=\"btn qcodes-processlines\"><i class=\"fa-list fa\"></i></button>' +\r\n",
       "                        '<button class=\"btn qcodes-abort-loop disabled\">Abort</button>' +\r\n",
       "                        '<button class=\"btn qcodes-clear-output disabled qcodes-content\">Clear</button>' +\r\n",
       "                        '<button class=\"btn js-state qcodes-minimized\"><i class=\"fa-minus fa\"></i></button>' +\r\n",
       "                        '<button class=\"btn js-state qcodes-docked\"><i class=\"fa-toggle-up fa\"></i></button>' +\r\n",
       "                        '<button class=\"btn js-state qcodes-floated\"><i class=\"fa-arrows fa\"></i></button>' +\r\n",
       "                    '</div>' +\r\n",
       "                    '<pre class=\"qcodes-content\"></pre>'\r\n",
       "                );\r\n",
       "\r\n",
       "            me.clearButton = me.$el.find('.qcodes-clear-output');\r\n",
       "            me.minButton = me.$el.find('.qcodes-minimize');\r\n",
       "            me.outputArea = me.$el.find('pre');\r\n",
       "            me.subprocessList = me.$el.find('.qcodes-process-list');\r\n",
       "            me.abortButton = me.$el.find('.qcodes-abort-loop');\r\n",
       "            me.processLinesButton = me.$el.find('.qcodes-processlines')\r\n",
       "\r\n",
       "            me.outputLines = [];\r\n",
       "\r\n",
       "            me.clearButton.click(function() {\r\n",
       "                me.outputArea.html('');\r\n",
       "                me.clearButton.addClass('disabled');\r\n",
       "            });\r\n",
       "\r\n",
       "            me.abortButton.click(function() {\r\n",
       "                me.send({abort: true});\r\n",
       "            });\r\n",
       "\r\n",
       "            me.processLinesButton.click(function() {\r\n",
       "                // toggle multiline process list display\r\n",
       "                me.subprocessesMultiline = !me.subprocessesMultiline;\r\n",
       "                me.showSubprocesses();\r\n",
       "            });\r\n",
       "\r\n",
       "            me.$el.find('.js-state').click(function() {\r\n",
       "                var state = this.className.substr(this.className.indexOf('qcodes'))\r\n",
       "                        .split('-')[1].split(' ')[0];\r\n",
       "                me.model.set('_state', state);\r\n",
       "            });\r\n",
       "\r\n",
       "            $(window)\r\n",
       "                .off('resize.qcodes')\r\n",
       "                .on('resize.qcodes', function() {me.clipBounds();});\r\n",
       "\r\n",
       "            me.update();\r\n",
       "        },\r\n",
       "\r\n",
       "        updateState: function() {\r\n",
       "            var me = this,\r\n",
       "                oldState = me.$el.attr('qcodes-state'),\r\n",
       "                state = me.model.get('_state');\r\n",
       "\r\n",
       "            if(state === oldState) return;\r\n",
       "\r\n",
       "            setTimeout(function() {\r\n",
       "                // not sure why I can't pop it out of the widgetarea in render, but it seems that\r\n",
       "                // some other bit of code resets the parent after render if I do it there.\r\n",
       "                // To be safe, just do it on every state click.\r\n",
       "                me.$el.appendTo('body');\r\n",
       "\r\n",
       "                if(oldState === 'floated') {\r\n",
       "                    console.log('here');\r\n",
       "                    me.$el.draggable('destroy').css({left:'', top: ''});\r\n",
       "                }\r\n",
       "\r\n",
       "                me.$el.attr('qcodes-state', state);\r\n",
       "\r\n",
       "                if(state === 'floated') {\r\n",
       "                    me.$el\r\n",
       "                        .draggable({stop: function() { me.clipBounds(); }})\r\n",
       "                        .css({\r\n",
       "                            left: window.innerWidth - me.$el.width() - 15,\r\n",
       "                            top: window.innerHeight - me.$el.height() - 10\r\n",
       "                        });\r\n",
       "                }\r\n",
       "\r\n",
       "                // any previous highlighting is now moot\r\n",
       "                me.$el.removeClass('qcodes-highlight');\r\n",
       "            }, 0);\r\n",
       "\r\n",
       "        },\r\n",
       "\r\n",
       "        clipBounds: function() {\r\n",
       "            var me = this;\r\n",
       "            if(me.$el.attr('qcodes-state') === 'floated') {\r\n",
       "                var bounds = me.$el[0].getBoundingClientRect(),\r\n",
       "                    minVis = 40,\r\n",
       "                    maxLeft = window.innerWidth - minVis,\r\n",
       "                    minLeft = minVis - bounds.width,\r\n",
       "                    maxTop = window.innerHeight - minVis;\r\n",
       "\r\n",
       "                if(bounds.left > maxLeft) me.$el.css('left', maxLeft);\r\n",
       "                else if(bounds.left < minLeft) me.$el.css('left', minLeft);\r\n",
       "\r\n",
       "                if(bounds.top > maxTop) me.$el.css('top', maxTop);\r\n",
       "                else if(bounds.top < 0) me.$el.css('top', 0);\r\n",
       "            }\r\n",
       "        },\r\n",
       "\r\n",
       "        display: function(message) {\r\n",
       "            var me = this;\r\n",
       "            if(message) {\r\n",
       "                var initialScroll = me.outputArea.scrollTop();\r\n",
       "                me.outputArea.scrollTop(me.outputArea.prop('scrollHeight'));\r\n",
       "                var scrollBottom = me.outputArea.scrollTop();\r\n",
       "\r\n",
       "                if(me.$el.attr('qcodes-state') === 'minimized') {\r\n",
       "                    // if we add text and the box is minimized, highlight the\r\n",
       "                    // title bar to alert the user that there are new messages.\r\n",
       "                    // remove then add the class, so we get the animation again\r\n",
       "                    // if it's already highlighted\r\n",
       "                    me.$el.removeClass('qcodes-highlight');\r\n",
       "                    setTimeout(function(){\r\n",
       "                        me.$el.addClass('qcodes-highlight');\r\n",
       "                    }, 0);\r\n",
       "                }\r\n",
       "\r\n",
       "                var newLines = message.split('\\n'),\r\n",
       "                    out = me.outputLines,\r\n",
       "                    outLen = out.length;\r\n",
       "                if(outLen) out[outLen - 1] += newLines[0];\r\n",
       "                else out.push(newLines[0]);\r\n",
       "\r\n",
       "                for(var i = 1; i < newLines.length; i++) {\r\n",
       "                    out.push(newLines[i]);\r\n",
       "                }\r\n",
       "\r\n",
       "                if(out.length > me.maxOutputLength) {\r\n",
       "                    out.splice(0, out.length - me.maxOutputLength + 1,\r\n",
       "                        '<<< Output clipped >>>');\r\n",
       "                }\r\n",
       "\r\n",
       "                me.outputArea.text(out.join('\\n'));\r\n",
       "                me.clearButton.removeClass('disabled');\r\n",
       "\r\n",
       "                // if we were scrolled to the bottom initially, make sure\r\n",
       "                // we stay that way.\r\n",
       "                me.outputArea.scrollTop(initialScroll === scrollBottom ?\r\n",
       "                    me.outputArea.prop('scrollHeight') : initialScroll);\r\n",
       "            }\r\n",
       "\r\n",
       "            me.showSubprocesses();\r\n",
       "            me.updateState();\r\n",
       "        },\r\n",
       "\r\n",
       "        showSubprocesses: function() {\r\n",
       "            var me = this,\r\n",
       "                replacer = me.subprocessesMultiline ? '<br>' : ', ',\r\n",
       "                processes = (me.model.get('_processes') || '')\r\n",
       "                    .replace(/\\n/g, '&gt;' + replacer + '&lt;');\r\n",
       "\r\n",
       "            if(processes) processes = '&lt;' + processes + '&gt;';\r\n",
       "            else processes = 'No subprocesses';\r\n",
       "\r\n",
       "            me.abortButton.toggleClass('disabled', processes.indexOf('Measurement')===-1);\r\n",
       "\r\n",
       "            me.subprocessList.html(processes);\r\n",
       "        }\r\n",
       "    });\r\n",
       "    manager.WidgetManager.register_widget_view('SubprocessView', SubprocessView);\r\n",
       "});\r\n"
      ],
      "text/plain": [
       "<IPython.core.display.Javascript object>"
      ]
     },
     "metadata": {},
     "output_type": "display_data"
    },
    {
     "data": {
      "text/html": [
       "<style>.qcodes-output-view:not(.ui-draggable) {\r\n",
       "    bottom: 0;\r\n",
       "    right: 5px;\r\n",
       "}\r\n",
       ".qcodes-output-view {\r\n",
       "    position: fixed;\r\n",
       "    z-index: 999;\r\n",
       "    background-color: #fff;\r\n",
       "    box-shadow: 0 0 12px 1px rgba(87, 87, 87, 0.2);\r\n",
       "}\r\n",
       "\r\n",
       ".qcodes-output-header {\r\n",
       "    float: right;\r\n",
       "}\r\n",
       "\r\n",
       ".qcodes-highlight {\r\n",
       "    animation: pulse 1s linear;\r\n",
       "    background-color: #fa4;\r\n",
       "}\r\n",
       "\r\n",
       "@keyframes pulse {\r\n",
       "    0% {\r\n",
       "        background-color: #f00;\r\n",
       "    }\r\n",
       "    100% {\r\n",
       "        background-color: #fa4;\r\n",
       "    }\r\n",
       "}\r\n",
       "\r\n",
       ".qcodes-process-list {\r\n",
       "    float: left;\r\n",
       "    max-width: 780px;\r\n",
       "    margin: 3px 5px 3px 10px;\r\n",
       "    overflow: hidden;\r\n",
       "    white-space: nowrap;\r\n",
       "    text-overflow: ellipsis;\r\n",
       "}\r\n",
       "\r\n",
       ".qcodes-output-view[qcodes-state=minimized] .qcodes-process-list {\r\n",
       "    max-width: 300px;\r\n",
       "}\r\n",
       "\r\n",
       ".qcodes-output-view span {\r\n",
       "    padding: 2px 6px 3px 12px;\r\n",
       "}\r\n",
       "\r\n",
       ".qcodes-output-view .btn {\r\n",
       "    margin: 0 3px 0 0;\r\n",
       "}\r\n",
       "\r\n",
       ".qcodes-output-view[qcodes-state=docked] .qcodes-docked,\r\n",
       ".qcodes-output-view[qcodes-state=floated] .qcodes-floated,\r\n",
       ".qcodes-output-view[qcodes-state=minimized] .qcodes-minimized,\r\n",
       ".qcodes-output-view[qcodes-state=minimized] .qcodes-content {\r\n",
       "    display: none;\r\n",
       "}\r\n",
       "\r\n",
       ".qcodes-output-view .disabled {\r\n",
       "    opacity: 0.4;\r\n",
       "}\r\n",
       "\r\n",
       ".qcodes-abort-loop {\r\n",
       "    background-color: #844;\r\n",
       "    color: #fff;\r\n",
       "}\r\n",
       "\r\n",
       ".qcodes-output-view pre {\r\n",
       "    clear: both;\r\n",
       "    margin: 0;\r\n",
       "    border: 0;\r\n",
       "    border-top: 1px solid #ccc;\r\n",
       "    background-color: #ffe;\r\n",
       "    min-height: 50px;\r\n",
       "    max-height: 400px;\r\n",
       "    min-width: 400px;\r\n",
       "    max-width: 1000px;\r\n",
       "}</style>"
      ],
      "text/plain": [
       "<IPython.core.display.HTML object>"
      ]
     },
     "metadata": {},
     "output_type": "display_data"
    },
    {
     "name": "stdout",
     "output_type": "stream",
     "text": [
      "Initializing functions\n",
      "Initializing instruments\n",
      "Initializing layout\n",
      "Initializing data\n",
      "Initializing analysis\n",
      "Initializing parameters\n",
      "Initializing plotting\n",
      "Initialization complete\n",
      "Attempting to halt background measurement without termination\n",
      "Attempting to halt background measurement without termination\n",
      "Attempting to halt background measurement without termination\n",
      "Attempting to halt background measurement without termination\n",
      "Attempting to halt background measurement without termination\n",
      "No loop running\n",
      "Attempting to halt background measurement without termination\n",
      "Attempting to halt background measurement without termination\n",
      "Attempting to halt background measurement without termination\n",
      "Attempting to halt background measurement without termination\n"
     ]
    }
   ],
   "source": [
    "USE_MP = True\n",
    "import silq\n",
    "\n",
    "silq.initialize(\"EWJN\")\n",
    "\n",
    "qc.show_subprocess_widget()\n",
    "# %matplotlib nbagg"
   ]
  },
  {
   "cell_type": "code",
   "execution_count": null,
   "metadata": {
    "collapsed": false
   },
   "outputs": [],
   "source": [
    "calibration_operations = [\n",
    "    {'mode': 'measure'},\n",
    "    {'mode': '1D_scan', 'span': 0.007, 'set_points': 12, 'set_parameter': 'DF_DS'},\n",
    "    {'mode': '1D_scan', 'span': 0.015, 'set_points': 25, 'set_parameter': 'DF_DS'}]\n",
    "conditions =  [('contrast', 0.4, '>')]\n",
    "autocal_parameter = measurement_parameters.CalibrationParameter(\n",
    "    name='autocal', set_parameters=[DF_DS], acquisition_parameter=adiabatic_ESR_parameter, \n",
    "    operations=calibration_operations, discriminant='contrast', conditions=conditions)"
   ]
  },
  {
   "cell_type": "markdown",
   "metadata": {},
   "source": [
    "## Threshold voltage"
   ]
  },
  {
   "cell_type": "code",
   "execution_count": 126,
   "metadata": {
    "collapsed": false
   },
   "outputs": [
    {
     "name": "stdout",
     "output_type": "stream",
     "text": [
      "Threshold voltage found at 0.44 V\n"
     ]
    }
   ],
   "source": [
    "EPR_parameter.single_settings(samples=50)\n",
    "EPR_parameter.setup()\n",
    "voltage_difference = EPR_parameter()[-1]\n",
    "\n",
    "assert voltage_difference, \"Couldn't find accurate threshold\"\n",
    "readout_threshold_voltage = voltage_difference / 2\n",
    "\n",
    "print('Threshold voltage found at {:.2f} V'.format(readout_threshold_voltage))\n",
    "properties_config['readout_threshold_voltage'] = readout_threshold_voltage"
   ]
  },
  {
   "cell_type": "markdown",
   "metadata": {
    "heading_collapsed": true
   },
   "source": [
    "## ESR frequency"
   ]
  },
  {
   "cell_type": "code",
   "execution_count": null,
   "metadata": {
    "collapsed": false,
    "hidden": true
   },
   "outputs": [],
   "source": [
    "select_ESR_parameter.single_settings(samples=30, silent=False)\n",
    "select_ESR_parameter();"
   ]
  },
  {
   "cell_type": "markdown",
   "metadata": {},
   "source": [
    "# DC Measurements"
   ]
  },
  {
   "cell_type": "markdown",
   "metadata": {
    "heading_collapsed": true
   },
   "source": [
    "## DC - Turnon\n",
    "Here several gates are combined to the parameter turnon_param."
   ]
  },
  {
   "cell_type": "code",
   "execution_count": null,
   "metadata": {
    "collapsed": true,
    "hidden": true
   },
   "outputs": [],
   "source": [
    "turnon_vals = turnon_parameter[list(np.linspace(1, 1.6, 100))]"
   ]
  },
  {
   "cell_type": "code",
   "execution_count": null,
   "metadata": {
    "collapsed": false,
    "hidden": true
   },
   "outputs": [],
   "source": [
    "DC_parameter.setup()\n",
    "data = qc.Loop(turnon_vals\n",
    "# data = qc.Loop(dummy_parameter[0:1000:1], delay=1\n",
    "               ).each(DC_parameter\n",
    "                      ).then(qc.Task(layout.stop)\n",
    "                             ).run(name='turnon',\n",
    "                                   progress_interval=True)\n",
    "plot = qc.MatPlot(data.DC_voltage)"
   ]
  },
  {
   "cell_type": "markdown",
   "metadata": {
    "heading_collapsed": true
   },
   "source": [
    "## DC - Pinchoff\n",
    "This code pinches off one gate, while keeping the other gates fixed"
   ]
  },
  {
   "cell_type": "code",
   "execution_count": null,
   "metadata": {
    "collapsed": false,
    "hidden": true
   },
   "outputs": [],
   "source": [
    "turnon_voltage = 1.6\n",
    "pinchoff_vals = list(np.linspace(turnon_voltage, 0, 100))\n",
    "gate = TG\n",
    "\n",
    "turnon_parameter(turnon_voltage)\n",
    "DC_parameter.setup()\n",
    "data = qc.Loop(gate[pinchoff_vals]\n",
    "               ).each(DC_parameter\n",
    "                      ).then(qc.Task(layout.stop)\n",
    "                             ).run(name='Pinchoff_{}'.format(gate.name),\n",
    "                                   progress_interval=True)\n",
    "plot = qc.MatPlot(data.DC_voltage)"
   ]
  },
  {
   "cell_type": "code",
   "execution_count": null,
   "metadata": {
    "collapsed": false,
    "hidden": true
   },
   "outputs": [],
   "source": [
    "turnon_voltage = 1.3\n",
    "pinchoff_vals = list(np.linspace(turnon_voltage, 0.7, 40))\n",
    "gatex=LB\n",
    "gatey=RB\n",
    "\n",
    "turnon_parameter(turnon_voltage)\n",
    "DC_parameter.setup()\n",
    "data = qc.Loop(gatey[pinchoff_vals]\n",
    "               ).loop(gatex[pinchoff_vals]\n",
    "                      ).each(DC_parameter\n",
    "                      ).then(qc.Task(layout.stop)\n",
    "                             ).run(name='2D_Pinchoff_{}'.format(gate.name),\n",
    "                                   progress_interval=True)\n",
    "plot = qc.MatPlot(data.DC_voltage)\n"
   ]
  },
  {
   "cell_type": "markdown",
   "metadata": {
    "heading_collapsed": true
   },
   "source": [
    "## DC - 1D scan\n",
    "This script performs a 1D DC scan"
   ]
  },
  {
   "cell_type": "code",
   "execution_count": null,
   "metadata": {
    "collapsed": false,
    "hidden": true
   },
   "outputs": [],
   "source": [
    "gate = DF_DS[list(np.linspace(0.28,0.6, 50))]\n",
    "\n",
    "DC_parameter.setup()\n",
    "data = qc.Loop(gate\n",
    "              ).each(DC_parameter\n",
    "                    ).then(qc.Task(layout.stop)\n",
    "                          ).run(name='DC_{}_scan'.format(gate.name),\n",
    "                                progress_interval=True)\n",
    "\n",
    "plot = qc.MatPlot(data.DC_voltage)"
   ]
  },
  {
   "cell_type": "markdown",
   "metadata": {},
   "source": [
    "## DC - 2D scan"
   ]
  },
  {
   "cell_type": "markdown",
   "metadata": {},
   "source": [
    "This measurement performs a 2D DC scan"
   ]
  },
  {
   "cell_type": "code",
   "execution_count": null,
   "metadata": {
    "collapsed": false,
    "scrolled": false
   },
   "outputs": [],
   "source": [
    "y_sweep, x_sweep = create_set_vals('2D', steps=40, nums=35)\n",
    "DC_parameter.setup()\n",
    "data = qc.Loop(\n",
    "    y_sweep).loop(\n",
    "    x_sweep).each(\n",
    "    DC_parameter).then(\n",
    "    qc.Task(layout.stop)).run(\n",
    "    name='DC_{}_vs_{}_scan'.format(y_sweep.name, x_sweep.name),\n",
    "    progress_interval=True)\n",
    "\n",
    "plot = qc.MatPlot(data.DC_voltage)"
   ]
  },
  {
   "cell_type": "markdown",
   "metadata": {
    "heading_collapsed": true
   },
   "source": [
    "# EPR measurements (no steering/ESR)"
   ]
  },
  {
   "cell_type": "markdown",
   "metadata": {
    "hidden": true
   },
   "source": [
    "This is a calibration routine to find a point with high contrast (difference in signal between up state and down state). \n",
    "This measurement consists of three stages: empty, load, and read.\n",
    "In the empty stage, the donor atom is ionized. \n",
    "It is then loaded with an electron in a random state.\n",
    "Finally the state is read out for a long duration.\n",
    "The contrast is found by looking if blips occured at the beginning of the read trace and at the end of the read trace.\n",
    "The contrast is the difference in percentage of blips occuring at the beginning versus at the end.\n",
    "The end part of the read trace is related to the number of dark counts, since we assume that an up-state electron will have had enough time to have tunneled off and on again."
   ]
  },
  {
   "cell_type": "markdown",
   "metadata": {
    "hidden": true
   },
   "source": [
    "## EPR - 2D scan"
   ]
  },
  {
   "cell_type": "code",
   "execution_count": null,
   "metadata": {
    "collapsed": true,
    "hidden": true
   },
   "outputs": [],
   "source": [
    "DF_DS(0.546)\n",
    "TGAC(0.219)"
   ]
  },
  {
   "cell_type": "code",
   "execution_count": null,
   "metadata": {
    "collapsed": true,
    "hidden": true
   },
   "outputs": [],
   "source": [
    "y_sweep, x_sweep = create_set_vals('2D', spans=0, nums=5)"
   ]
  },
  {
   "cell_type": "code",
   "execution_count": null,
   "metadata": {
    "collapsed": false,
    "hidden": true
   },
   "outputs": [],
   "source": [
    "EPR_parameter.settings(samples=150)\n",
    "data = qc.Loop(\n",
    "    y_sweep).loop(\n",
    "    x_sweep).each(\n",
    "    EPR_parameter).run(\n",
    "    name='EPR_calibration', progress_interval=True)"
   ]
  },
  {
   "cell_type": "code",
   "execution_count": null,
   "metadata": {
    "collapsed": false,
    "hidden": true
   },
   "outputs": [],
   "source": [
    "plot = qc.MatPlot(subplots=(1, 3), figsize=(12, 4))\n",
    "plot.add(data.contrast, subplot=1)\n",
    "plot.add(data.dark_counts, subplot=2)\n",
    "plot.add(data.voltage_difference, subplot=3)\n",
    "plt.tight_layout()"
   ]
  },
  {
   "cell_type": "markdown",
   "metadata": {
    "hidden": true
   },
   "source": [
    "## EPR - Single point"
   ]
  },
  {
   "cell_type": "code",
   "execution_count": null,
   "metadata": {
    "collapsed": false,
    "hidden": true
   },
   "outputs": [],
   "source": [
    "EPR_parameter.single_settings(samples=150, silent=False)\n",
    "EPR_parameter();"
   ]
  },
  {
   "cell_type": "markdown",
   "metadata": {},
   "source": [
    "# Adiabatic sweep measurements"
   ]
  },
  {
   "cell_type": "markdown",
   "metadata": {
    "heading_collapsed": true
   },
   "source": [
    "## ESR Adiabatic - Center frequency scan"
   ]
  },
  {
   "cell_type": "markdown",
   "metadata": {
    "hidden": true
   },
   "source": [
    "This code sweeps over the adiabatic sweep center frequency to find the ESR frequency.\n",
    "\n",
    "To find the ESR frequency, use 28GHz * B0 as starting point, and search around that frequency.\n",
    "Use a big initial frequency_deviation (around 60 MHz) and long duration (0.5 ms)\n",
    "Once you see a spike in contrast, center around there and decrease both deviation and duration."
   ]
  },
  {
   "cell_type": "code",
   "execution_count": null,
   "metadata": {
    "collapsed": false,
    "hidden": true
   },
   "outputs": [],
   "source": [
    "f_center = frequency_center_ESR['down']\n",
    "f_span = 5e6\n",
    "f_step = 0.25e6\n",
    "adiabatic_sweep_vals = list(np.arange(f_center-f_span/2, f_center+f_span/2, f_step))\n",
    "print('Sweep vals: {}'.format(len(adiabatic_sweep_vals)))"
   ]
  },
  {
   "cell_type": "code",
   "execution_count": null,
   "metadata": {
    "collapsed": false,
    "hidden": true
   },
   "outputs": [],
   "source": [
    "adiabatic_ESR_parameter.setup(samples=80)\n",
    "data = qc.Loop(adiabatic_ESR_parameter[adiabatic_sweep_vals]\n",
    "                     ).each(adiabatic_ESR_parameter\n",
    "                           ).run(name='adiabatic_ESR_f_center',\n",
    "                                progress_interval=True)\n",
    "plot = qc.MatPlot(data.contrast, use_offset=False)"
   ]
  },
  {
   "cell_type": "markdown",
   "metadata": {
    "heading_collapsed": true
   },
   "source": [
    "## NMR adiabatic frequency scan"
   ]
  },
  {
   "cell_type": "code",
   "execution_count": null,
   "metadata": {
    "collapsed": false,
    "hidden": true
   },
   "outputs": [],
   "source": [
    "#NMR sweep frequencies\n",
    "f_center = 66.82e6\n",
    "f_span = 3e6\n",
    "f_step = 20e3\n",
    "NMR_vals = list(np.arange(f_center-f_span/2, f_center+f_span/2, f_step))\n",
    "print('Sweep vals: {}'.format(len(NMR_vals)))"
   ]
  },
  {
   "cell_type": "code",
   "execution_count": null,
   "metadata": {
    "collapsed": false,
    "hidden": true
   },
   "outputs": [],
   "source": [
    "data = qc.Loop(adiabatic_NMR_parameter[NMR_vals]\n",
    "              ).each(qc.Task(adiabatic_NMR_parameter.setup),\n",
    "                     adiabatic_NMR_parameter,\n",
    "                     qc.Task(partial(adiabatic_ESR_parameter, frequency_center_ESR['up'])),\n",
    "                     adiabatic_ESR_parameter,\n",
    "                     qc.Task(partial(adiabatic_ESR_parameter, frequency_center_ESR['down'])),\n",
    "                     adiabatic_ESR_parameter,\n",
    "                    ).run(name='NMR_adiabatic_sweep', progress_interval=True)"
   ]
  },
  {
   "cell_type": "code",
   "execution_count": null,
   "metadata": {
    "collapsed": false,
    "hidden": true
   },
   "outputs": [],
   "source": [
    "plot = qc.MatPlot(data.contrast_3_4)\n",
    "plot.add(data.contrast_5_4)"
   ]
  },
  {
   "cell_type": "markdown",
   "metadata": {
    "heading_collapsed": true
   },
   "source": [
    "## Adiabatic - frequency deviation versus ESR duration"
   ]
  },
  {
   "cell_type": "markdown",
   "metadata": {
    "hidden": true
   },
   "source": [
    "This is a 2D scan of frequency deviation versus duration.\n",
    "From this measurement, the minimum acceptable values for frequency deviation and ESR duration can be extracted."
   ]
  },
  {
   "cell_type": "code",
   "execution_count": null,
   "metadata": {
    "collapsed": true,
    "hidden": true
   },
   "outputs": [],
   "source": [
    "pulse = adiabatic_sweep_parameter.pulse_sequence['adiabatic_sweep']\n",
    "adiabatic_deviation_parameter = general_parameters.AttributeParameter(object=pulse, attribute='frequency_deviation')\n",
    "adiabatic_duration_parameter = general_parameters.AttributeParameter(object=pulse, attribute='duration')\n",
    "\n",
    "adiabatic_deviation_vals = list(np.logspace(5.5, 7.8, 8))\n",
    "adiabatic_duration_vals = list(np.logspace(-2.7, -0.3, 8))"
   ]
  },
  {
   "cell_type": "code",
   "execution_count": null,
   "metadata": {
    "collapsed": false,
    "hidden": true
   },
   "outputs": [],
   "source": [
    "adiabatic_sweep_parameter.pulse_sequence['read'].duration = 100\n",
    "adiabatic_sweep_parameter.setup(samples=400)\n",
    "adiabatic_sweep_parameter(frequency_center)\n",
    "data = qc.Loop(adiabatic_deviation_parameter[adiabatic_deviation_vals]\n",
    "              ).loop(adiabatic_duration_parameter[adiabatic_duration_vals]\n",
    "                    ).each(adiabatic_sweep_parameter\n",
    "                          ).run(name='adiabatic_deviation_vs_duration',\n",
    "                                progress_interval=True)"
   ]
  },
  {
   "cell_type": "code",
   "execution_count": null,
   "metadata": {
    "collapsed": false,
    "hidden": true,
    "scrolled": false
   },
   "outputs": [],
   "source": [
    "plot = qc.MatPlot(subplots=(1,2), figsize=(12,5), interval=10)\n",
    "plot.add(data.contrast, subplot=1, nticks=6)\n",
    "plot.add(data.dark_counts, subplot=2, nticks=6)\n",
    "# for ax in plot.subplots:\n",
    "#     ax.set_xscale('log')\n",
    "#     ax.set_yscale('log')\n",
    "plot.fig.tight_layout(rect=[0, 0.03, 1, 0.95])"
   ]
  },
  {
   "cell_type": "markdown",
   "metadata": {},
   "source": [
    "## Adiabatic - 2D scan"
   ]
  },
  {
   "cell_type": "code",
   "execution_count": 146,
   "metadata": {
    "collapsed": false
   },
   "outputs": [
    {
     "name": "stdout",
     "output_type": "stream",
     "text": [
      "<silq.parameters.general_parameters.ScaledParameter: TGAC at 173525032>[0.21094000000000002:0.21386:0.00073]\n",
      "<silq.parameters.general_parameters.CombinedParameter: DF_DS at 190620392>[0.54651:0.54799:0.00037]\n"
     ]
    }
   ],
   "source": [
    "# TGAC, DF_DS sweep\n",
    "y_sweep, x_sweep = create_set_vals('2D', steps=5, points=5)"
   ]
  },
  {
   "cell_type": "code",
   "execution_count": 147,
   "metadata": {
    "collapsed": false
   },
   "outputs": [
    {
     "name": "stdout",
     "output_type": "stream",
     "text": [
      "DataSet:\n",
      "   mode     = DataMode.PULL_FROM_SERVER\n",
      "   location = '2016-12-23/#025_adiabatic_calibration_14-23-06'\n",
      "   <Type>   | <array_id>         | <array.name>       | <array.shape>\n",
      "   Setpoint | TGAC_set           | TGAC               | (5,)\n",
      "   Setpoint | DF_DS_set          | DF_DS              | (5, 5)\n",
      "   Measured | contrast           | contrast           | (5, 5)\n",
      "   Measured | dark_counts        | dark_counts        | (5, 5)\n",
      "   Measured | voltage_difference | voltage_difference | (5, 5)\n",
      "started at 2016-12-23 14:23:08\n"
     ]
    }
   ],
   "source": [
    "adiabatic_ESR_parameter.setup(samples=125)\n",
    "data = qc.Loop(\n",
    "    y_sweep).loop(\n",
    "    x_sweep).each(\n",
    "    adiabatic_ESR_parameter).run(\n",
    "    name='adiabatic_calibration', progress_interval=True)"
   ]
  },
  {
   "cell_type": "code",
   "execution_count": 150,
   "metadata": {
    "collapsed": true
   },
   "outputs": [
    {
     "ename": "AttributeError",
     "evalue": "'NoneType' object has no attribute 'lower'",
     "output_type": "error",
     "traceback": [
      "\u001b[0;31m---------------------------------------------------------------------------\u001b[0m",
      "\u001b[0;31mAttributeError\u001b[0m                            Traceback (most recent call last)",
      "\u001b[0;32mC:\\Users\\lab.BluG12Meas\\Anaconda3\\lib\\site-packages\\ipympl\\backend_nbagg.py\u001b[0m in \u001b[0;36m_handle_message\u001b[0;34m(self, object, message, buffers)\u001b[0m\n\u001b[1;32m    164\u001b[0m             \u001b[0mself\u001b[0m\u001b[1;33m.\u001b[0m\u001b[0msend_json\u001b[0m\u001b[1;33m(\u001b[0m\u001b[1;34m'refresh'\u001b[0m\u001b[1;33m)\u001b[0m\u001b[1;33m\u001b[0m\u001b[0m\n\u001b[1;32m    165\u001b[0m         \u001b[1;32melse\u001b[0m\u001b[1;33m:\u001b[0m\u001b[1;33m\u001b[0m\u001b[0m\n\u001b[0;32m--> 166\u001b[0;31m             \u001b[0mself\u001b[0m\u001b[1;33m.\u001b[0m\u001b[0mmanager\u001b[0m\u001b[1;33m.\u001b[0m\u001b[0mhandle_json\u001b[0m\u001b[1;33m(\u001b[0m\u001b[0mmessage\u001b[0m\u001b[1;33m)\u001b[0m\u001b[1;33m\u001b[0m\u001b[0m\n\u001b[0m\u001b[1;32m    167\u001b[0m \u001b[1;33m\u001b[0m\u001b[0m\n\u001b[1;32m    168\u001b[0m     \u001b[1;32mdef\u001b[0m \u001b[0msend_json\u001b[0m\u001b[1;33m(\u001b[0m\u001b[0mself\u001b[0m\u001b[1;33m,\u001b[0m \u001b[0mcontent\u001b[0m\u001b[1;33m)\u001b[0m\u001b[1;33m:\u001b[0m\u001b[1;33m\u001b[0m\u001b[0m\n",
      "\u001b[0;32mC:\\Users\\lab.BluG12Meas\\Anaconda3\\lib\\site-packages\\matplotlib\\backends\\backend_webagg_core.py\u001b[0m in \u001b[0;36mhandle_json\u001b[0;34m(self, content)\u001b[0m\n\u001b[1;32m    475\u001b[0m \u001b[1;33m\u001b[0m\u001b[0m\n\u001b[1;32m    476\u001b[0m     \u001b[1;32mdef\u001b[0m \u001b[0mhandle_json\u001b[0m\u001b[1;33m(\u001b[0m\u001b[0mself\u001b[0m\u001b[1;33m,\u001b[0m \u001b[0mcontent\u001b[0m\u001b[1;33m)\u001b[0m\u001b[1;33m:\u001b[0m\u001b[1;33m\u001b[0m\u001b[0m\n\u001b[0;32m--> 477\u001b[0;31m         \u001b[0mself\u001b[0m\u001b[1;33m.\u001b[0m\u001b[0mcanvas\u001b[0m\u001b[1;33m.\u001b[0m\u001b[0mhandle_event\u001b[0m\u001b[1;33m(\u001b[0m\u001b[0mcontent\u001b[0m\u001b[1;33m)\u001b[0m\u001b[1;33m\u001b[0m\u001b[0m\n\u001b[0m\u001b[1;32m    478\u001b[0m \u001b[1;33m\u001b[0m\u001b[0m\n\u001b[1;32m    479\u001b[0m     \u001b[1;32mdef\u001b[0m \u001b[0mrefresh_all\u001b[0m\u001b[1;33m(\u001b[0m\u001b[0mself\u001b[0m\u001b[1;33m)\u001b[0m\u001b[1;33m:\u001b[0m\u001b[1;33m\u001b[0m\u001b[0m\n",
      "\u001b[0;32mC:\\Users\\lab.BluG12Meas\\Anaconda3\\lib\\site-packages\\matplotlib\\backends\\backend_webagg_core.py\u001b[0m in \u001b[0;36mhandle_event\u001b[0;34m(self, event)\u001b[0m\n\u001b[1;32m    300\u001b[0m \u001b[1;33m\u001b[0m\u001b[0m\n\u001b[1;32m    301\u001b[0m             \u001b[1;32mif\u001b[0m \u001b[0me_type\u001b[0m \u001b[1;33m==\u001b[0m \u001b[1;34m'button_press'\u001b[0m\u001b[1;33m:\u001b[0m\u001b[1;33m\u001b[0m\u001b[0m\n\u001b[0;32m--> 302\u001b[0;31m                 \u001b[0mself\u001b[0m\u001b[1;33m.\u001b[0m\u001b[0mbutton_press_event\u001b[0m\u001b[1;33m(\u001b[0m\u001b[0mx\u001b[0m\u001b[1;33m,\u001b[0m \u001b[0my\u001b[0m\u001b[1;33m,\u001b[0m \u001b[0mbutton\u001b[0m\u001b[1;33m,\u001b[0m \u001b[0mguiEvent\u001b[0m\u001b[1;33m=\u001b[0m\u001b[0mguiEvent\u001b[0m\u001b[1;33m)\u001b[0m\u001b[1;33m\u001b[0m\u001b[0m\n\u001b[0m\u001b[1;32m    303\u001b[0m             \u001b[1;32melif\u001b[0m \u001b[0me_type\u001b[0m \u001b[1;33m==\u001b[0m \u001b[1;34m'button_release'\u001b[0m\u001b[1;33m:\u001b[0m\u001b[1;33m\u001b[0m\u001b[0m\n\u001b[1;32m    304\u001b[0m                 \u001b[0mself\u001b[0m\u001b[1;33m.\u001b[0m\u001b[0mbutton_release_event\u001b[0m\u001b[1;33m(\u001b[0m\u001b[0mx\u001b[0m\u001b[1;33m,\u001b[0m \u001b[0my\u001b[0m\u001b[1;33m,\u001b[0m \u001b[0mbutton\u001b[0m\u001b[1;33m,\u001b[0m \u001b[0mguiEvent\u001b[0m\u001b[1;33m=\u001b[0m\u001b[0mguiEvent\u001b[0m\u001b[1;33m)\u001b[0m\u001b[1;33m\u001b[0m\u001b[0m\n",
      "\u001b[0;32mC:\\Users\\lab.BluG12Meas\\Anaconda3\\lib\\site-packages\\matplotlib\\backend_bases.py\u001b[0m in \u001b[0;36mbutton_press_event\u001b[0;34m(self, x, y, button, dblclick, guiEvent)\u001b[0m\n\u001b[1;32m   1907\u001b[0m         mouseevent = MouseEvent(s, self, x, y, button, self._key,\n\u001b[1;32m   1908\u001b[0m                                 dblclick=dblclick, guiEvent=guiEvent)\n\u001b[0;32m-> 1909\u001b[0;31m         \u001b[0mself\u001b[0m\u001b[1;33m.\u001b[0m\u001b[0mcallbacks\u001b[0m\u001b[1;33m.\u001b[0m\u001b[0mprocess\u001b[0m\u001b[1;33m(\u001b[0m\u001b[0ms\u001b[0m\u001b[1;33m,\u001b[0m \u001b[0mmouseevent\u001b[0m\u001b[1;33m)\u001b[0m\u001b[1;33m\u001b[0m\u001b[0m\n\u001b[0m\u001b[1;32m   1910\u001b[0m \u001b[1;33m\u001b[0m\u001b[0m\n\u001b[1;32m   1911\u001b[0m     \u001b[1;32mdef\u001b[0m \u001b[0mbutton_release_event\u001b[0m\u001b[1;33m(\u001b[0m\u001b[0mself\u001b[0m\u001b[1;33m,\u001b[0m \u001b[0mx\u001b[0m\u001b[1;33m,\u001b[0m \u001b[0my\u001b[0m\u001b[1;33m,\u001b[0m \u001b[0mbutton\u001b[0m\u001b[1;33m,\u001b[0m \u001b[0mguiEvent\u001b[0m\u001b[1;33m=\u001b[0m\u001b[1;32mNone\u001b[0m\u001b[1;33m)\u001b[0m\u001b[1;33m:\u001b[0m\u001b[1;33m\u001b[0m\u001b[0m\n",
      "\u001b[0;32mC:\\Users\\lab.BluG12Meas\\Anaconda3\\lib\\site-packages\\matplotlib\\cbook.py\u001b[0m in \u001b[0;36mprocess\u001b[0;34m(self, s, *args, **kwargs)\u001b[0m\n\u001b[1;32m    547\u001b[0m             \u001b[1;32mfor\u001b[0m \u001b[0mcid\u001b[0m\u001b[1;33m,\u001b[0m \u001b[0mproxy\u001b[0m \u001b[1;32min\u001b[0m \u001b[0mlist\u001b[0m\u001b[1;33m(\u001b[0m\u001b[0msix\u001b[0m\u001b[1;33m.\u001b[0m\u001b[0miteritems\u001b[0m\u001b[1;33m(\u001b[0m\u001b[0mself\u001b[0m\u001b[1;33m.\u001b[0m\u001b[0mcallbacks\u001b[0m\u001b[1;33m[\u001b[0m\u001b[0ms\u001b[0m\u001b[1;33m]\u001b[0m\u001b[1;33m)\u001b[0m\u001b[1;33m)\u001b[0m\u001b[1;33m:\u001b[0m\u001b[1;33m\u001b[0m\u001b[0m\n\u001b[1;32m    548\u001b[0m                 \u001b[1;32mtry\u001b[0m\u001b[1;33m:\u001b[0m\u001b[1;33m\u001b[0m\u001b[0m\n\u001b[0;32m--> 549\u001b[0;31m                     \u001b[0mproxy\u001b[0m\u001b[1;33m(\u001b[0m\u001b[1;33m*\u001b[0m\u001b[0margs\u001b[0m\u001b[1;33m,\u001b[0m \u001b[1;33m**\u001b[0m\u001b[0mkwargs\u001b[0m\u001b[1;33m)\u001b[0m\u001b[1;33m\u001b[0m\u001b[0m\n\u001b[0m\u001b[1;32m    550\u001b[0m                 \u001b[1;32mexcept\u001b[0m \u001b[0mReferenceError\u001b[0m\u001b[1;33m:\u001b[0m\u001b[1;33m\u001b[0m\u001b[0m\n\u001b[1;32m    551\u001b[0m                     \u001b[0mself\u001b[0m\u001b[1;33m.\u001b[0m\u001b[0m_remove_proxy\u001b[0m\u001b[1;33m(\u001b[0m\u001b[0mproxy\u001b[0m\u001b[1;33m)\u001b[0m\u001b[1;33m\u001b[0m\u001b[0m\n",
      "\u001b[0;32mC:\\Users\\lab.BluG12Meas\\Anaconda3\\lib\\site-packages\\matplotlib\\cbook.py\u001b[0m in \u001b[0;36m__call__\u001b[0;34m(self, *args, **kwargs)\u001b[0m\n\u001b[1;32m    414\u001b[0m             \u001b[0mmtd\u001b[0m \u001b[1;33m=\u001b[0m \u001b[0mself\u001b[0m\u001b[1;33m.\u001b[0m\u001b[0mfunc\u001b[0m\u001b[1;33m\u001b[0m\u001b[0m\n\u001b[1;32m    415\u001b[0m         \u001b[1;31m# invoke the callable and return the result\u001b[0m\u001b[1;33m\u001b[0m\u001b[1;33m\u001b[0m\u001b[0m\n\u001b[0;32m--> 416\u001b[0;31m         \u001b[1;32mreturn\u001b[0m \u001b[0mmtd\u001b[0m\u001b[1;33m(\u001b[0m\u001b[1;33m*\u001b[0m\u001b[0margs\u001b[0m\u001b[1;33m,\u001b[0m \u001b[1;33m**\u001b[0m\u001b[0mkwargs\u001b[0m\u001b[1;33m)\u001b[0m\u001b[1;33m\u001b[0m\u001b[0m\n\u001b[0m\u001b[1;32m    417\u001b[0m \u001b[1;33m\u001b[0m\u001b[0m\n\u001b[1;32m    418\u001b[0m     \u001b[1;32mdef\u001b[0m \u001b[0m__eq__\u001b[0m\u001b[1;33m(\u001b[0m\u001b[0mself\u001b[0m\u001b[1;33m,\u001b[0m \u001b[0mother\u001b[0m\u001b[1;33m)\u001b[0m\u001b[1;33m:\u001b[0m\u001b[1;33m\u001b[0m\u001b[0m\n",
      "\u001b[0;32m<string>\u001b[0m in \u001b[0;36mhandle_button_press\u001b[0;34m(self, event)\u001b[0m\n",
      "\u001b[0;32m<string>\u001b[0m in \u001b[0;36mget_action\u001b[0;34m(self, key)\u001b[0m\n",
      "\u001b[0;31mAttributeError\u001b[0m: 'NoneType' object has no attribute 'lower'"
     ]
    },
    {
     "data": {
      "application/javascript": [
       "\n",
       "    var current_cell = Jupyter.notebook.get_selected_cell();\n",
       "    var current_index = Jupyter.notebook.find_cell_index(current_cell);\n",
       "    var new_cell = Jupyter.notebook.insert_cell_below('code', current_index);\n",
       "    new_cell.set_text('DF_DS(0.54760)\\nTGAC(0.21229)\\n\\nadiabatic_ESR_parameter.single_settings(samples=200, silent=False)\\nqc.Measure(adiabatic_ESR_parameter).run(name=\"adiabatic_ESR_measure\", quiet=True)');\n",
       "    current_cell.unselect();\n",
       "    new_cell.select();"
      ]
     },
     "metadata": {},
     "output_type": "display_data"
    }
   ],
   "source": [
    "plot = CalibrationPlot(data)"
   ]
  },
  {
   "cell_type": "code",
   "execution_count": 177,
   "metadata": {
    "collapsed": false
   },
   "outputs": [
    {
     "name": "stdout",
     "output_type": "stream",
     "text": [
      "contrast: 0.425\n",
      "dark_counts: 0.375\n",
      "voltage_difference: 0.699\n"
     ]
    },
    {
     "data": {
      "text/plain": [
       "DataSet:\n",
       "   mode     = DataMode.LOCAL\n",
       "   location = '2016-12-23/#032_adiabatic_ESR_measure_16-40-29'\n",
       "   <Type>   | <array_id>         | <array.name>       | <array.shape>\n",
       "   Setpoint | single_set         | single             | (1,)\n",
       "   Measured | contrast           | contrast           | (1,)\n",
       "   Measured | dark_counts        | dark_counts        | (1,)\n",
       "   Measured | voltage_difference | voltage_difference | (1,)"
      ]
     },
     "execution_count": 177,
     "metadata": {},
     "output_type": "execute_result"
    }
   ],
   "source": [
    "adiabatic_ESR_parameter.single_settings(samples=200, silent=False)\n",
    "qc.Measure(adiabatic_ESR_parameter).run(name=\"adiabatic_ESR_measure\", quiet=True)"
   ]
  },
  {
   "cell_type": "markdown",
   "metadata": {
    "heading_collapsed": true
   },
   "source": [
    "## Adiabatic - 2D deviation versus duration"
   ]
  },
  {
   "cell_type": "code",
   "execution_count": null,
   "metadata": {
    "collapsed": false,
    "hidden": true,
    "scrolled": true
   },
   "outputs": [],
   "source": [
    "pulse = adiabatic_ESR_parameter.pulse_sequence['adiabatic_sweep']\n",
    "adiabatic_deviation_parameter = general_parameters.AttributeParameter(object=pulse, attribute='frequency_deviation')\n",
    "adiabatic_duration_parameter = general_parameters.AttributeParameter(object=pulse, attribute='duration')\n",
    "\n",
    "\n",
    "adiabatic_ESR_parameter.setup(samples=250, readout_threshold_voltage=readout_threshold_voltage,\n",
    "                                save_traces=False)\n",
    "data = qc.Loop(dummy_parameter[0:100:1]\n",
    "              ).each(qc.Task(adiabatic_deviation_parameter, 5e6),\n",
    "                     qc.Task(adiabatic_duration_parameter, .15),\n",
    "                     qc.Task(adiabatic_ESR_parameter.setup),\n",
    "                     adiabatic_ESR_parameter,\n",
    "                     qc.Task(adiabatic_deviation_parameter, 15e6),\n",
    "                     qc.Task(adiabatic_duration_parameter, .35),\n",
    "                     qc.Task(adiabatic_ESR_parameter.setup),\n",
    "                     adiabatic_ESR_parameter,\n",
    "                    ).run(name='adiabatic_calibration',\n",
    "                          progress_interval=True)"
   ]
  },
  {
   "cell_type": "code",
   "execution_count": null,
   "metadata": {
    "collapsed": false,
    "hidden": true
   },
   "outputs": [],
   "source": [
    "plot = qc.MatPlot(data.contrast_3_4);\n",
    "plot.add(data.contrast_7_4)"
   ]
  },
  {
   "cell_type": "markdown",
   "metadata": {
    "heading_collapsed": true
   },
   "source": [
    "## Flip nucleus"
   ]
  },
  {
   "cell_type": "code",
   "execution_count": null,
   "metadata": {
    "collapsed": false,
    "hidden": true
   },
   "outputs": [],
   "source": [
    "# Try to flip the nucleus\n",
    "adiabatic_NMR_parameter(frequency_center_NMR)\n",
    "adiabatic_NMR_parameter.samples = 1\n",
    "adiabatic_NMR_parameter();"
   ]
  },
  {
   "cell_type": "markdown",
   "metadata": {
    "heading_collapsed": true
   },
   "source": [
    "## Find ESR frequency"
   ]
  },
  {
   "cell_type": "code",
   "execution_count": null,
   "metadata": {
    "collapsed": false,
    "hidden": true
   },
   "outputs": [],
   "source": [
    "select_ESR_parameter.setup(samples=50, print_results=True, readout_threshold_voltage=readout_threshold_voltage)\n",
    "data = qc.Loop(dummy_parameter[0:100:1]).each(qc.Task(adiabatic_NMR_parameter.setup),\n",
    "                                             adiabatic_NMR_parameter,\n",
    "                                             qc.Task(select_ESR_parameter.setup),\n",
    "                                             select_ESR_parameter,\n",
    "                                             qc.Task(adiabatic_ESR_parameter, partial(getattr, select_ESR_parameter, 'frequency_ESR')),\n",
    "                                             qc.Task(adiabatic_deviation_parameter, 5e6),\n",
    "                                             qc.Task(adiabatic_duration_parameter, .15),\n",
    "                                             qc.Task(adiabatic_ESR_parameter.setup),\n",
    "                                             adiabatic_ESR_parameter,\n",
    "                                             qc.Task(adiabatic_deviation_parameter, 15e6),\n",
    "                                             qc.Task(adiabatic_duration_parameter, .35),\n",
    "                                             qc.Task(adiabatic_ESR_parameter.setup),\n",
    "                                             adiabatic_ESR_parameter,\n",
    "                                            ).run(name='test_find_ESR',\n",
    "                                                 progress_interval=True)"
   ]
  },
  {
   "cell_type": "code",
   "execution_count": null,
   "metadata": {
    "collapsed": false,
    "hidden": true
   },
   "outputs": [],
   "source": [
    "plot = qc.MatPlot(data.contrast_up, label='nucleus up')\n",
    "plot.add(data.contrast_down, label='nucleus down')\n",
    "plot.add(data.contrast_8_4, label='ESR narrow')\n",
    "plot.add(data.contrast_12_4, label='ESR wide')"
   ]
  },
  {
   "cell_type": "markdown",
   "metadata": {
    "heading_collapsed": true
   },
   "source": [
    "# Dark counts"
   ]
  },
  {
   "cell_type": "code",
   "execution_count": 43,
   "metadata": {
    "collapsed": false,
    "hidden": true
   },
   "outputs": [],
   "source": [
    "dark_counts_parameter.single_settings(samples=150, silent=True)\n",
    "dark_counts_parameter();"
   ]
  },
  {
   "cell_type": "markdown",
   "metadata": {
    "collapsed": true,
    "heading_collapsed": true
   },
   "source": [
    "# Read level sweep (to be fixed)"
   ]
  },
  {
   "cell_type": "code",
   "execution_count": null,
   "metadata": {
    "collapsed": true,
    "hidden": true
   },
   "outputs": [],
   "source": [
    "variable_read_parameter.setup(samples=100)\n",
    "data = qc.Loop(variable_read_parameter[-1.5:2.5:0.04]\n",
    "                     ).each(variable_read_parameter\n",
    "                           ).run(name='variable_read',\n",
    "                                progress_interval=True)"
   ]
  },
  {
   "cell_type": "code",
   "execution_count": null,
   "metadata": {
    "collapsed": false,
    "hidden": true,
    "scrolled": true
   },
   "outputs": [],
   "source": [
    "plotQ = qc.QtPlot()\n",
    "plotQ.add(data.Channel_A_signal)\n",
    "\n",
    "plotQ = qc.QtPlot()\n",
    "plotQ.add(data.Channel_C_signal)"
   ]
  },
  {
   "cell_type": "markdown",
   "metadata": {},
   "source": [
    "# T1 measurement"
   ]
  },
  {
   "cell_type": "markdown",
   "metadata": {
    "heading_collapsed": true
   },
   "source": [
    "## T1 - Single point"
   ]
  },
  {
   "cell_type": "code",
   "execution_count": 29,
   "metadata": {
    "collapsed": false,
    "hidden": true,
    "scrolled": false
   },
   "outputs": [
    {
     "name": "stdout",
     "output_type": "stream",
     "text": [
      "Wall time: 16min 44s\n"
     ]
    }
   ],
   "source": [
    "T1_parameter(20000)\n",
    "T1_parameter.single_settings(samples=50)\n",
    "%time up_proportion, num_traces = T1_parameter()"
   ]
  },
  {
   "cell_type": "code",
   "execution_count": 31,
   "metadata": {
    "collapsed": false,
    "hidden": true
   },
   "outputs": [
    {
     "data": {
      "text/plain": [
       "0.5"
      ]
     },
     "execution_count": 31,
     "metadata": {},
     "output_type": "execute_result"
    }
   ],
   "source": [
    "up_proportion"
   ]
  },
  {
   "cell_type": "code",
   "execution_count": 30,
   "metadata": {
    "collapsed": false,
    "hidden": true
   },
   "outputs": [],
   "source": [
    "plot_traces(T1_parameter.trace_segments['output']['read'])"
   ]
  },
  {
   "cell_type": "markdown",
   "metadata": {},
   "source": [
    "## T1 - single scan"
   ]
  },
  {
   "cell_type": "code",
   "execution_count": 194,
   "metadata": {
    "collapsed": false
   },
   "outputs": [
    {
     "name": "stdout",
     "output_type": "stream",
     "text": [
      "Shuffled T1 wait times: [10.0, 22.67543125870802, 51.417518276839282, 116.59144011798311, 264.37611857491009, 599.48425031894089, 1359.3563908785254, 3082.3992397451434, 6989.473207273486, 15848.931924611141]\n"
     ]
    }
   ],
   "source": [
    "# Calculate T1 durations\n",
    "T1_wait_times = list(np.logspace(1, 4.2, num=10, base=10))\n",
    "\n",
    "# Shuffle times\n",
    "#np.random.shuffle(T1_wait_times)\n",
    "print('Shuffled T1 wait times: {}'.format(T1_wait_times))"
   ]
  },
  {
   "cell_type": "code",
   "execution_count": 195,
   "metadata": {
    "collapsed": false,
    "scrolled": false
   },
   "outputs": [
    {
     "name": "stdout",
     "output_type": "stream",
     "text": [
      "DataSet:\n",
      "   mode     = DataMode.PULL_FROM_SERVER\n",
      "   location = '2016-12-23/#035_T1_single_sweep_20-55-14'\n",
      "   <Type>   | <array_id>           | <array.name>     | <array.shape>\n",
      "   Setpoint | T1_wait_time_ESR_set | T1_wait_time_ESR | (10,)\n",
      "   Measured | up_proportion        | up_proportion    | (10,)\n",
      "   Measured | num_traces           | num_traces       | (10,)\n",
      "started at 2016-12-23 20:55:24\n"
     ]
    }
   ],
   "source": [
    "# Single T1 sweep\n",
    "T1_parameter.samples=50\n",
    "data = qc.Loop(\n",
    "    T1_parameter[T1_wait_times]).each(\n",
    "    T1_parameter).run(name='T1_single_sweep')\n",
    "\n",
    "plotQ = qc.MatPlot()\n",
    "plotQ.add(data.up_proportion)"
   ]
  },
  {
   "cell_type": "code",
   "execution_count": 197,
   "metadata": {
    "collapsed": true
   },
   "outputs": [],
   "source": [
    "ax = plotQ.subplots[0]\n",
    "ax.set_xscale('log')"
   ]
  },
  {
   "cell_type": "markdown",
   "metadata": {},
   "source": [
    "## T1 - Multiple scans"
   ]
  },
  {
   "cell_type": "code",
   "execution_count": 181,
   "metadata": {
    "collapsed": false
   },
   "outputs": [
    {
     "name": "stdout",
     "output_type": "stream",
     "text": [
      "Shuffled T1 wait times: [4151.2780027522995, 1087.3356727196567, 8111.3083078968812, 19.539304046896113, 15848.931924611141, 145.75933009692972, 10.0, 2124.5782310305694, 74.598015234879369, 556.48638769832951, 284.80358684358049, 38.178440263705077]\n"
     ]
    }
   ],
   "source": [
    "# Calculate T1 durations (shuffled)\n",
    "T1_wait_times = list(np.logspace(1, 4.2, num=12, base=10))\n",
    "np.random.shuffle(T1_wait_times)\n",
    "print('Shuffled T1 wait times: {}'.format(T1_wait_times))"
   ]
  },
  {
   "cell_type": "code",
   "execution_count": 183,
   "metadata": {
    "collapsed": false
   },
   "outputs": [
    {
     "name": "stdout",
     "output_type": "stream",
     "text": [
      "DataSet:\n",
      "   mode     = DataMode.PULL_FROM_SERVER\n",
      "   location = '2016-12-23/#034_T1_data_17-24-03'\n",
      "   <Type>   | <array_id>           | <array.name>       | <array.shape>\n",
      "   Setpoint | dummy_set            | dummy              | (80,)\n",
      "   Measured | contrast             | contrast           | (80,)\n",
      "   Measured | dark_counts_0_1      | dark_counts        | (80,)\n",
      "   Measured | voltage_difference   | voltage_difference | (80,)\n",
      "   Measured | dark_counts_1        | dark_counts        | (80,)\n",
      "   Setpoint | T1_wait_time_ESR_set | T1_wait_time_ESR   | (80, 12)\n",
      "   Measured | up_proportion        | up_proportion      | (80, 12)\n",
      "   Measured | num_traces           | num_traces         | (80, 12)\n",
      "started at 2016-12-23 17:24:06\n"
     ]
    }
   ],
   "source": [
    "T1_parameter.samples = 50\n",
    "dark_counts_parameter.samples = 100\n",
    "adiabatic_ESR_parameter.samples = 100\n",
    "data = qc.Loop(\n",
    "    dummy_parameter[0:80:1]).each(\n",
    "    adiabatic_ESR_parameter,\n",
    "    dark_counts_parameter,\n",
    "    qc.Loop(T1_parameter[T1_wait_times]).each(T1_parameter),\n",
    "                    ).run(name='T1_data', progress_interval=True)"
   ]
  },
  {
   "cell_type": "code",
   "execution_count": 190,
   "metadata": {
    "collapsed": false
   },
   "outputs": [],
   "source": [
    "plot = qc.MatPlot(subplots=(1,3), figsize=(12,3.5))\n",
    "plot.add(data.up_proportion, subplot=1)\n",
    "# plot.subplots[0].set_xscale('log')\n",
    "# plot.add(data.T1_wait_time_set[0], np.nanmean(data.up_proportion_5_0_0, axis=0), subplot=2)\n",
    "# plot.subplots[1].set_xscale('log')\n",
    "# plot.subplots[1].set_xlim(10, 13000)\n",
    "plot.add(data.contrast, subplot=3)\n",
    "plot.add(data.dark_counts_1, subplot=3)\n",
    "# plot.add(data.dark_counts_0_1, subplot=3)\n",
    "plt.tight_layout()"
   ]
  },
  {
   "cell_type": "markdown",
   "metadata": {
    "heading_collapsed": true
   },
   "source": [
    "## T1 - Plunge voltage scan\n",
    "This scan measures the contrast for a fixed wait time as the plunge voltage is varied"
   ]
  },
  {
   "cell_type": "code",
   "execution_count": 76,
   "metadata": {
    "collapsed": true,
    "hidden": true
   },
   "outputs": [],
   "source": [
    "plunge_voltage_parameter = general_parameters.AttributeParameter(\n",
    "    object=T1_parameter.pulse_sequence['plunge'],\n",
    "    attribute='amplitude')"
   ]
  },
  {
   "cell_type": "code",
   "execution_count": null,
   "metadata": {
    "collapsed": false,
    "hidden": true
   },
   "outputs": [],
   "source": [
    "select_ESR_parameter.setup(samples=30, silent=True)\n",
    "T1_parameter.setup(samples=40, silent=True)\n",
    "adiabatic_ESR_parameter.setup(samples=150, silent=True)\n",
    "dark_counts_parameter.setup(samples=250, silent=True)\n",
    "\n",
    "T1_parameter(1200)\n",
    "data = qc.Loop(dummy_parameter[0:70:1]\n",
    "               ).each(qc.Loop(plunge_voltage_parameter[1:2.5:0.1]\n",
    "                              ).each(qc.Task(select_ESR_parameter.setup),\n",
    "                                     select_ESR_parameter,\n",
    "                                     qc.Task(T1_parameter.setup),\n",
    "                                     T1_parameter),\n",
    "                      autocal_parameter,\n",
    "                      qc.Task(dark_counts_parameter.setup),\n",
    "                      dark_counts_parameter\n",
    "                     ).run(name='T1_plunge_voltage', progress_interval=True)"
   ]
  },
  {
   "cell_type": "markdown",
   "metadata": {
    "heading_collapsed": true
   },
   "source": [
    "# Notes"
   ]
  },
  {
   "cell_type": "markdown",
   "metadata": {
    "hidden": true
   },
   "source": [
    "To save individual traces when performing a measurement, set:\n",
    "    \n",
    "EPR_parameter.setup(samples=100, data_manager=data_manager_raw)"
   ]
  },
  {
   "cell_type": "code",
   "execution_count": null,
   "metadata": {
    "collapsed": true,
    "hidden": true
   },
   "outputs": [],
   "source": [
    "steered_initialization = adiabatic_sweep_parameter.pulse_sequence['steered_initialization']"
   ]
  },
  {
   "cell_type": "code",
   "execution_count": null,
   "metadata": {
    "collapsed": false,
    "hidden": true
   },
   "outputs": [],
   "source": [
    "adiabatic_sweep_parameter.pulse_sequence['load'].t_stop=15"
   ]
  },
  {
   "cell_type": "code",
   "execution_count": null,
   "metadata": {
    "collapsed": false,
    "hidden": true
   },
   "outputs": [],
   "source": [
    "adiabatic_sweep_parameter.steered_initialization"
   ]
  },
  {
   "cell_type": "code",
   "execution_count": null,
   "metadata": {
    "collapsed": false,
    "hidden": true
   },
   "outputs": [],
   "source": [
    "steered_controller.record_initialization_traces"
   ]
  },
  {
   "cell_type": "markdown",
   "metadata": {
    "hidden": true
   },
   "source": [
    "To enable/disable steered initialization, use:\n",
    "\n",
    "adiabatic_sweep_parameter.steered_intialization = True/False\n",
    "\n",
    "This adds/removes the steered initialization \"pulse\" from the EPR_parameter.pulse_sequence\n",
    "If steered_initialization is enabled, you can access and modify its properties via\n",
    "\n",
    "steered_initialization = adiabatic_sweep_parameter.pulse_sequence['steered_initialization']\n",
    "\n",
    "Note that steered initialization is currently only implemented for the adiabatic sweep, but is easy to add for other parameters, such as T1_parameter (just add the pulse)"
   ]
  },
  {
   "cell_type": "markdown",
   "metadata": {
    "hidden": true
   },
   "source": [
    "steered_controller is the acquisition controller specifically for steered initialization\n",
    "You can look at the initialization traces when using steered initialization.\n",
    "\n",
    "First set the flag \n",
    "steered_controller.record_initialization_traces(True)\n",
    "\n",
    "The initialization traces can then be accessed\n",
    "steered_controller.initialization_traces()\n",
    "\n",
    "You can also look at the first buffer after the pulseblaster.start() command has been set via\n",
    "steered_controller.post_initialization_traces()\n",
    "This can be useful for checking the delay between sending the command and plunging\n",
    "\n",
    "To setup a parameter where steered initialization is enabled, you must pass it a readout threshold voltage every time.\n",
    "\n",
    "adiabatic_sweep_parameter.setup(readout_threshold_voltage=threshold_voltage)\n",
    "\n",
    "This threshold voltage can be obtained from an EPR scan (see T1_measurement):\n",
    "\n",
    "EPR_parameter.setup(samples=30)\n",
    "EPR_parameter()\n",
    "traces_read = EPR_parameter.trace_segments['output']['read']\n",
    "_, _, readout_threshold_voltage = analysis.find_high_low(traces_read)"
   ]
  },
  {
   "cell_type": "code",
   "execution_count": null,
   "metadata": {
    "collapsed": true,
    "hidden": true
   },
   "outputs": [],
   "source": [
    "adiabatic_sweep_parameter.pulse_sequence.add(adiabatic_sweep_parameter._steered_initialization)\n",
    "adiabatic_sweep_parameter.pulse_sequence.remove(adiabatic_sweep_parameter._steered_initialization)"
   ]
  },
  {
   "cell_type": "markdown",
   "metadata": {
    "hidden": true
   },
   "source": [
    "To save raw traces, use:\n",
    "\n",
    "EPR_parameter.setup(save_traces=True, data_manager=data_manager_raw)"
   ]
  }
 ],
 "metadata": {
  "anaconda-cloud": {},
  "kernelspec": {
   "display_name": "Python [Root]",
   "language": "python",
   "name": "Python [Root]"
  },
  "language_info": {
   "codemirror_mode": {
    "name": "ipython",
    "version": 3
   },
   "file_extension": ".py",
   "mimetype": "text/x-python",
   "name": "python",
   "nbconvert_exporter": "python",
   "pygments_lexer": "ipython3",
   "version": "3.5.2"
  },
  "nav_menu": {},
  "toc": {
   "navigate_menu": true,
   "number_sections": true,
   "sideBar": false,
   "threshold": 6,
   "toc_cell": false,
   "toc_section_display": "block",
   "toc_window_display": false
  },
  "toc_position": {
   "height": "640px",
   "left": "1327.88px",
   "right": "1080.23px",
   "top": "10.9219px",
   "width": "382px"
  }
 },
 "nbformat": 4,
 "nbformat_minor": 0
}
