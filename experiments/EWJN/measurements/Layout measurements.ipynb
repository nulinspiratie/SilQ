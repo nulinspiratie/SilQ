{
 "cells": [
  {
   "cell_type": "code",
   "execution_count": null,
   "metadata": {
    "code_folding": [
     0
    ],
    "collapsed": false
   },
   "outputs": [],
   "source": [
    "%%javascript\n",
    "\n",
    "Jupyter.keyboard_manager.command_shortcuts.add_shortcut('r', {\n",
    "    help : 'run cell',\n",
    "    help_index : 'zz',\n",
    "    handler : function (event) {\n",
    "        IPython.notebook.restart_run_all();\n",
    "        return false;\n",
    "    }}\n",
    ");"
   ]
  },
  {
   "cell_type": "code",
   "execution_count": null,
   "metadata": {
    "collapsed": false,
    "scrolled": false
   },
   "outputs": [],
   "source": [
    "import silq\n",
    "silq.initialize(\"EWJN\")\n",
    "\n",
    "qc.show_subprocess_widget()\n",
    "%matplotlib nbagg"
   ]
  },
  {
   "cell_type": "markdown",
   "metadata": {},
   "source": [
    "# Test ArbStudio ramping"
   ]
  },
  {
   "cell_type": "code",
   "execution_count": null,
   "metadata": {
    "collapsed": true
   },
   "outputs": [],
   "source": [
    "### Layout and connectivity\n",
    "layout = Layout(name='layout',\n",
    "                instrument_interfaces=list(interfaces.values()),\n",
    "                server_name='layout_server')\n",
    "\n",
    "layout.primary_instrument('pulseblaster')\n",
    "layout.acquisition_instrument('ATS')\n",
    "\n",
    "# Pulseblaster output connections\n",
    "layout.add_connection(output_arg='pulseblaster.ch1',\n",
    "                      input_arg='arbstudio.trig_in',\n",
    "                      trigger=True)\n",
    "layout.add_connection(output_arg='pulseblaster.ch4',\n",
    "                      input_arg='ATS.trig_in',\n",
    "                      trigger=True)\n",
    "\n",
    "# Arbstudio output connections\n",
    "c3 = layout.add_connection(output_arg='arbstudio.ch3',\n",
    "                           input_arg='ATS.chC', default=True)\n",
    "\n",
    "\n",
    "# Specify acquisition channels\n",
    "layout.acquisition_outputs([('arbstudio.ch3', 'pulses')])"
   ]
  },
  {
   "cell_type": "code",
   "execution_count": null,
   "metadata": {
    "collapsed": true
   },
   "outputs": [],
   "source": [
    "ramp_pulse1 = DCRampPulse(amplitude_start=-1, amplitude_stop=1,\n",
    "                          duration=10, acquire=True)\n",
    "ramp_pulse2 = DCRampPulse(amplitude_start=-1, amplitude_stop=1,\n",
    "                          duration=20, acquire=True)\n",
    "ramp_pulse3 = DCRampPulse(amplitude_start=-1, amplitude_stop=1,\n",
    "                          duration=30, acquire=True)\n",
    "final_pulse = DCPulse(name='final', amplitude=0,\n",
    "                      duration=2)\n",
    "pulses = [ramp_pulse1, ramp_pulse2, ramp_pulse3, final_pulse]\n",
    "\n",
    "pulse_sequence = PulseSequence()\n",
    "pulse_sequence.add(pulses)"
   ]
  },
  {
   "cell_type": "code",
   "execution_count": null,
   "metadata": {
    "collapsed": true
   },
   "outputs": [],
   "source": [
    "layout.target_pulse_sequence(pulse_sequence)\n",
    "layout.setup()\n",
    "layout.start()\n",
    "result = layout.acquisition()"
   ]
  },
  {
   "cell_type": "markdown",
   "metadata": {},
   "source": [
    "# Test PulseBlaster"
   ]
  },
  {
   "cell_type": "code",
   "execution_count": null,
   "metadata": {
    "collapsed": true
   },
   "outputs": [],
   "source": [
    "### Layout and connectivity\n",
    "layout = Layout(name='layout',\n",
    "                instrument_interfaces=list(interfaces.values()),\n",
    "                server_name='layout_server')\n",
    "\n",
    "layout.primary_instrument('pulseblaster')\n",
    "layout.acquisition_instrument('ATS')\n",
    "\n",
    "# Pulseblaster output connections\n",
    "layout.add_connection(output_arg='pulseblaster.ch1',\n",
    "                      input_arg='arbstudio.trig_in',\n",
    "                      trigger=True)\n",
    "layout.add_connection(output_arg='pulseblaster.ch4',\n",
    "                      input_arg='ATS.trig_in',\n",
    "                      trigger=True)\n",
    "\n",
    "# Arbstudio output connections\n",
    "c3 = layout.add_connection(output_arg='arbstudio.ch3',\n",
    "                           input_arg='ATS.chC', default=True)\n",
    "\n",
    "# Specify acquisition channels\n",
    "layout.acquisition_outputs([('arbstudio.ch3', 'pulses')])"
   ]
  },
  {
   "cell_type": "code",
   "execution_count": null,
   "metadata": {
    "collapsed": true
   },
   "outputs": [],
   "source": [
    "ramp_pulse1 = DCRampPulse(amplitude_start=-1, amplitude_stop=1,\n",
    "                          duration=10, acquire=True)\n",
    "ramp_pulse2 = DCRampPulse(amplitude_start=-1, amplitude_stop=1,\n",
    "                          duration=20, acquire=True)\n",
    "ramp_pulse3 = DCRampPulse(amplitude_start=-1, amplitude_stop=1,\n",
    "                          duration=30, acquire=True)\n",
    "final_pulse = DCPulse(name='final', amplitude=0,\n",
    "                      duration=2)\n",
    "pulses = [ramp_pulse1, ramp_pulse2, ramp_pulse3, final_pulse]\n",
    "\n",
    "pulse_sequence = PulseSequence()\n",
    "pulse_sequence.add(pulses)"
   ]
  },
  {
   "cell_type": "code",
   "execution_count": null,
   "metadata": {
    "collapsed": true
   },
   "outputs": [],
   "source": [
    "layout.target_pulse_sequence(pulse_sequence)\n",
    "layout.setup()\n",
    "layout.start()\n",
    "result = layout.acquisition()"
   ]
  },
  {
   "cell_type": "code",
   "execution_count": null,
   "metadata": {
    "collapsed": true
   },
   "outputs": [],
   "source": []
  }
 ],
 "metadata": {
  "anaconda-cloud": {},
  "kernelspec": {
   "display_name": "Python [Root]",
   "language": "python",
   "name": "Python [Root]"
  },
  "language_info": {
   "codemirror_mode": {
    "name": "ipython",
    "version": 3
   },
   "file_extension": ".py",
   "mimetype": "text/x-python",
   "name": "python",
   "nbconvert_exporter": "python",
   "pygments_lexer": "ipython3",
   "version": "3.5.2"
  }
 },
 "nbformat": 4,
 "nbformat_minor": 0
}
