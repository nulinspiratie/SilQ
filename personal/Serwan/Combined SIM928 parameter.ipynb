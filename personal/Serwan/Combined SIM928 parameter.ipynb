{
 "cells": [
  {
   "cell_type": "code",
   "execution_count": 1,
   "metadata": {
    "collapsed": false
   },
   "outputs": [
    {
     "name": "stdout",
     "output_type": "stream",
     "text": [
      "Initializing imports\n",
      "Initializing functions\n",
      "Initializing data\n",
      "Initialization complete\n"
     ]
    }
   ],
   "source": [
    "import silq\n",
    "silq.initialize('Antimony', mode='analysis')\n",
    "qc.data.data_set.DataSet.default_io.base_location = r'C:\\Users\\serwa_000\\Documents\\data'"
   ]
  },
  {
   "cell_type": "code",
   "execution_count": 5,
   "metadata": {
    "collapsed": true
   },
   "outputs": [],
   "source": [
    "class C:\n",
    "    def __init__(self):\n",
    "        print(self.f())\n",
    "    def f(self):\n",
    "        return 42"
   ]
  },
  {
   "cell_type": "code",
   "execution_count": 2,
   "metadata": {
    "collapsed": false
   },
   "outputs": [],
   "source": [
    "def get_standard():\n",
    "    print('getting standard')\n",
    "    return 42\n",
    "def set_standard(val):\n",
    "    print(f'setting standard to {val}')\n",
    "\n",
    "dummy_standard = StandardParameter(name='dummy_standard', get_cmd=get_standard, set_cmd=set_standard)"
   ]
  },
  {
   "cell_type": "code",
   "execution_count": 3,
   "metadata": {
    "collapsed": false
   },
   "outputs": [],
   "source": [
    "combined_parameter = qc.combine(dummy_standard, dummy_standard, name='combined')"
   ]
  },
  {
   "cell_type": "code",
   "execution_count": 4,
   "metadata": {
    "collapsed": false
   },
   "outputs": [
    {
     "name": "stdout",
     "output_type": "stream",
     "text": [
      "DataSet:\n",
      "   data = load_data('2017-05-04/#002_{name}_15-12-23')\n",
      "   <Type>   | <array_id>       | <array.name>   | <array.shape>\n",
      "   Setpoint | combined_set     | combined       | (2,)\n",
      "   Measured | dummy_standard_0 | dummy_standard | (2,)\n",
      "   Measured | dummy_standard_1 | dummy_standard | (2,)\n",
      "   Measured | dummy_standard_2 | dummy_standard | (2,)\n",
      "started at 2017-05-04 15:12:23\n",
      "setting standard to 1\n",
      "setting standard to 2\n",
      "getting standard\n",
      "setting standard to 3\n",
      "setting standard to 4\n",
      "getting standard\n"
     ]
    }
   ],
   "source": [
    "sweep_vals = [[1,2], [3,4]]\n",
    "dataset = qc.Loop(combined_parameter.sweep(sweep_vals)).each(dummy_standard).run()"
   ]
  },
  {
   "cell_type": "code",
   "execution_count": null,
   "metadata": {
    "collapsed": true
   },
   "outputs": [],
   "source": []
  }
 ],
 "metadata": {
  "kernelspec": {
   "display_name": "Python 3",
   "language": "python",
   "name": "python3"
  },
  "language_info": {
   "codemirror_mode": {
    "name": "ipython",
    "version": 3
   },
   "file_extension": ".py",
   "mimetype": "text/x-python",
   "name": "python",
   "nbconvert_exporter": "python",
   "pygments_lexer": "ipython3",
   "version": "3.6.0"
  }
 },
 "nbformat": 4,
 "nbformat_minor": 2
}
