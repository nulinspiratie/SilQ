{
 "cells": [
  {
   "cell_type": "code",
   "execution_count": null,
   "metadata": {
    "collapsed": true,
    "deletable": true,
    "editable": true
   },
   "outputs": [],
   "source": [
    "%%javascript\n",
    "\n",
    "Jupyter.keyboard_manager.command_shortcuts.add_shortcut('r', {\n",
    "    help : 'run cell',\n",
    "    help_index : 'zz',\n",
    "    handler : function (event) {\n",
    "        IPython.notebook.restart_run_all();\n",
    "        return false;\n",
    "    }}\n",
    ");"
   ]
  },
  {
   "cell_type": "code",
   "execution_count": null,
   "metadata": {
    "collapsed": true,
    "deletable": true,
    "editable": true
   },
   "outputs": [],
   "source": [
    "# General functions\n",
    "def print_function(*args, **kwargs):\n",
    "    print('args={args}, kwargs={kwargs}'.format(args=args, kwargs=kwargs))\n",
    "\n",
    "class AddChannelFunctions:\n",
    "    def __init__(self, channels, functions):\n",
    "        self.channels = channels\n",
    "        self.functions = functions\n",
    "    \n",
    "    def __call__(self, cls):\n",
    "        def print_function(*args, **kwargs):\n",
    "            print('args={args}, kwargs={kwargs}'.format(args=args, kwargs=kwargs))\n",
    "            \n",
    "        for channel in self.channels:\n",
    "            for function in self.functions:\n",
    "                print_function_targeted = partial(print_function, ch=channel, function=function)\n",
    "                exec(\"cls.{ch}_{fn} = print_function_targeted\".format(ch=str(channel), fn=function))\n",
    "#         cls.ch1_trig_in = print_function\n",
    "        return cls\n"
   ]
  }
 ],
 "metadata": {
  "anaconda-cloud": {},
  "kernelspec": {
   "display_name": "Python 3",
   "language": "python",
   "name": "python3"
  },
  "language_info": {
   "codemirror_mode": {
    "name": "ipython",
    "version": 3
   },
   "file_extension": ".py",
   "mimetype": "text/x-python",
   "name": "python",
   "nbconvert_exporter": "python",
   "pygments_lexer": "ipython3",
   "version": "3.6.0"
  }
 },
 "nbformat": 4,
 "nbformat_minor": 0
}
