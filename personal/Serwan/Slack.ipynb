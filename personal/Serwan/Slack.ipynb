{
 "cells": [
  {
   "cell_type": "code",
   "execution_count": 25,
   "metadata": {
    "collapsed": false
   },
   "outputs": [],
   "source": [
    "from qcodes import config\n",
    "slack_config = config['user']['slack']"
   ]
  },
  {
   "cell_type": "code",
   "execution_count": 40,
   "metadata": {
    "collapsed": false
   },
   "outputs": [
    {
     "data": {
      "text/plain": [
       "'C:\\\\Users\\\\Serwan\\\\AppData\\\\Local\\\\Temp\\\\tmpros1jrxv.jpg'"
      ]
     },
     "execution_count": 40,
     "metadata": {},
     "output_type": "execute_result"
    }
   ],
   "source": [
    "import tempfile\n",
    "temp_filename = tempfile.mktemp(suffix='.jpg')\n",
    "temp_filename"
   ]
  },
  {
   "cell_type": "code",
   "execution_count": 32,
   "metadata": {
    "collapsed": false
   },
   "outputs": [
    {
     "data": {
      "text/plain": [
       "[<matplotlib.lines.Line2D at 0x270b0bf0358>]"
      ]
     },
     "execution_count": 32,
     "metadata": {},
     "output_type": "execute_result"
    }
   ],
   "source": [
    "from matplotlib import pyplot as plt\n",
    "fig = plt.figure()\n",
    "plt.plot(range(5))\n",
    "\n",
    "fig.savefig(temp_filename)"
   ]
  },
  {
   "cell_type": "code",
   "execution_count": 143,
   "metadata": {
    "collapsed": true
   },
   "outputs": [],
   "source": [
    "class Slack:\n",
    "    def __init__(self):\n",
    "        self.slack = Slacker(slack_config['token'])\n",
    "        self.bot_id = self.slack.users.get_user_id(slack_config['bot_name'])\n",
    "        self.users = self.get_users(slack_config['names'])\n",
    "        self.get_im_ids(self.users)\n",
    "        \n",
    "    def get_users(self, names):\n",
    "        users = {}\n",
    "        response = self.slack.users.list()\n",
    "        for member in response.body['members']:\n",
    "            if member['name'] in names:\n",
    "                users[member['name']] = member\n",
    "        if len(users) != len(names):\n",
    "            remaining_names = [name for name in names if name not in users]\n",
    "            raise RuntimeError('Could not find names {}'.format(remaining_names))\n",
    "        return users\n",
    "\n",
    "    def get_im_ids(self, users):\n",
    "        response = self.slack.im.list()\n",
    "        user_ids = {user: users[user]['id'] for user in users}\n",
    "        im_ids = {im['user']: im['id'] for im in response.body['ims']}\n",
    "        for user, user_id in user_ids.items():\n",
    "            if user_id in im_ids:\n",
    "                users[user]['im_id'] = im_ids[user_id]\n",
    "                \n",
    "    def get_ims(self, name, count=1):\n",
    "        response = self.slack.im.history(channel=users[name]['im_id'], count=count)\n",
    "        return response.body['messages']"
   ]
  },
  {
   "cell_type": "code",
   "execution_count": 144,
   "metadata": {
    "collapsed": false
   },
   "outputs": [],
   "source": [
    "slack = Slack()"
   ]
  },
  {
   "cell_type": "code",
   "execution_count": 145,
   "metadata": {
    "collapsed": false
   },
   "outputs": [
    {
     "data": {
      "text/plain": [
       "[{'text': 'hi',\n",
       "  'ts': '1482398730.000003',\n",
       "  'type': 'message',\n",
       "  'user': 'U3HGVP9J8'}]"
      ]
     },
     "execution_count": 145,
     "metadata": {},
     "output_type": "execute_result"
    }
   ],
   "source": [
    "slack.get_ims('serwan')"
   ]
  },
  {
   "cell_type": "code",
   "execution_count": null,
   "metadata": {
    "collapsed": true
   },
   "outputs": [],
   "source": []
  }
 ],
 "metadata": {
  "kernelspec": {
   "display_name": "Python [default]",
   "language": "python",
   "name": "python3"
  },
  "language_info": {
   "codemirror_mode": {
    "name": "ipython",
    "version": 3
   },
   "file_extension": ".py",
   "mimetype": "text/x-python",
   "name": "python",
   "nbconvert_exporter": "python",
   "pygments_lexer": "ipython3",
   "version": "3.5.2"
  }
 },
 "nbformat": 4,
 "nbformat_minor": 2
}
