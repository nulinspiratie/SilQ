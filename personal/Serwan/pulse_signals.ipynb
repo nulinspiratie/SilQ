{
 "cells": [
  {
   "cell_type": "code",
   "execution_count": 1,
   "metadata": {
    "collapsed": false,
    "deletable": true,
    "editable": true,
    "init_cell": true
   },
   "outputs": [
    {
     "name": "stdout",
     "output_type": "stream",
     "text": [
      "Initializing imports\n",
      "Initialization complete\n"
     ]
    },
    {
     "name": "stderr",
     "output_type": "stream",
     "text": [
      "C:\\ProgramData\\Anaconda3\\lib\\site-packages\\matplotlib\\__init__.py:1401: UserWarning:  This call to matplotlib.use() has no effect\n",
      "because the backend has already been chosen;\n",
      "matplotlib.use() must be called *before* pylab, matplotlib.pyplot,\n",
      "or matplotlib.backends is imported for the first time.\n",
      "\n",
      "  warnings.warn(_use_error_msg)\n",
      "c:\\users\\serwa_000\\documents\\github\\silq\\silq\\__init__.py:124: UserWarning: 'properties' should be added to SilQ config\n",
      "  warnings.warn(\"'properties' should be added to SilQ config\")\n"
     ]
    }
   ],
   "source": [
    "import unittest\n",
    "from blinker import signal, Signal\n",
    "import tempfile\n",
    "import silq\n",
    "from silq.tools.config import *\n",
    "silq.initialize('Serwan')"
   ]
  },
  {
   "cell_type": "code",
   "execution_count": 3,
   "metadata": {
    "code_folding": [
     0
    ],
    "collapsed": false,
    "deletable": true,
    "editable": true,
    "scrolled": true
   },
   "outputs": [
    {
     "data": {
      "application/javascript": [
       "\n",
       "Jupyter.keyboard_manager.command_shortcuts.add_shortcut('r', {\n",
       "    help : 'run cell',\n",
       "    help_index : 'zz',\n",
       "    handler : function (event) {\n",
       "        IPython.notebook.restart_run_all();\n",
       "        return false;\n",
       "    }}\n",
       ");"
      ],
      "text/plain": [
       "<IPython.core.display.Javascript object>"
      ]
     },
     "metadata": {},
     "output_type": "display_data"
    }
   ],
   "source": [
    "%%javascript\n",
    "\n",
    "Jupyter.keyboard_manager.command_shortcuts.add_shortcut('r', {\n",
    "    help : 'run cell',\n",
    "    help_index : 'zz',\n",
    "    handler : function (event) {\n",
    "        IPython.notebook.restart_run_all();\n",
    "        return false;\n",
    "    }}\n",
    ");"
   ]
  },
  {
   "cell_type": "code",
   "execution_count": 4,
   "metadata": {
    "code_folding": [
     1,
     6,
     11,
     18,
     48,
     51
    ],
    "collapsed": false,
    "deletable": true,
    "editable": true
   },
   "outputs": [],
   "source": [
    "class TestPulseSignals(unittest.TestCase):\n",
    "    def setUp(self):\n",
    "        self.signal = signal('pulse')\n",
    "        self.is_set = False \n",
    "        self.dict = {}\n",
    "\n",
    "    def test_set_val(self):\n",
    "        self.assertFalse(self.is_set)\n",
    "        self.set_val(self)\n",
    "        self.assertTrue(self.is_set)\n",
    "\n",
    "    def test_signal_emit(self):\n",
    "        p = Pulse()\n",
    "        self.signal.connect(self.set_dict)\n",
    "        self.assertFalse('t_start' in self.dict)\n",
    "        p.t_start = 1\n",
    "        self.assertEqual(1, self.dict['t_start'])\n",
    "\n",
    "    def test_subsequent_pulses(self):\n",
    "        p1 = Pulse(t_start=0, t_stop=10)\n",
    "        self.assertEqual(p1.t_start, 0)\n",
    "        self.assertEqual(p1.duration, 10)\n",
    "        self.assertEqual(p1.t_stop, 10)\n",
    "        \n",
    "        p2 = Pulse(t_start=PulseMatch(p1, 't_stop', delay=1), duration=4)\n",
    "        self.assertEqual(p2.t_start, 11)\n",
    "        self.assertEqual(p2.duration, 4)\n",
    "        self.assertEqual(p2.t_stop, 15)\n",
    "        \n",
    "        p1.t_stop = 14\n",
    "        self.assertEqual(p1.t_start, 0)\n",
    "        self.assertEqual(p1.duration, 14)\n",
    "        self.assertEqual(p1.t_stop, 14)\n",
    "        \n",
    "        self.assertEqual(p2.t_start, 15)\n",
    "        self.assertEqual(p2.duration, 4)\n",
    "        self.assertEqual(p2.t_stop, 19)\n",
    "        \n",
    "        p2.t_start = 0\n",
    "        self.assertEqual(p2.t_start, 0)\n",
    "        self.assertEqual(p2.duration, 4)\n",
    "        self.assertEqual(p2.t_stop, 4)\n",
    "        \n",
    "        p1.t_stop = 20\n",
    "        self.assertEqual(p2.t_start, 0)\n",
    "        self.assertEqual(p2.duration, 4)\n",
    "        self.assertEqual(p2.t_stop, 4)\n",
    "\n",
    "    def set_val(self, sender, **kwargs):\n",
    "        self.is_set = True\n",
    "\n",
    "    def set_dict(self, sender, **kwargs):\n",
    "        self.dict.update(**kwargs)"
   ]
  },
  {
   "cell_type": "code",
   "execution_count": 5,
   "metadata": {
    "code_folding": [
     1,
     13,
     17,
     24,
     48,
     62,
     89
    ],
    "collapsed": false,
    "deletable": true,
    "editable": true
   },
   "outputs": [],
   "source": [
    "class TestPulseConfig(unittest.TestCase):\n",
    "    def setUp(self):\n",
    "        self.signal = signal('config:pulses.read')\n",
    "        \n",
    "        pulses_dict = {'read': {}}\n",
    "        self.pulses_config = DictConfig(name='pulses',\n",
    "                                        folder=None,\n",
    "                                        config=pulses_dict)\n",
    "        qc.config.user.pulses = self.pulses_config\n",
    "        self.pulse_config = self.pulses_config.read\n",
    "        self.dict = {}\n",
    "        Pulse.pulses_config = self.pulses_config\n",
    "\n",
    "    def tearDown(self):\n",
    "        for key in self.pulses_config:\n",
    "            signal('config:pulses.'+key).receivers = {}\n",
    "\n",
    "    def test_set_item(self):\n",
    "        with self.assertRaises(KeyError):\n",
    "            self.pulse_config['duration']\n",
    "        self.pulse_config['duration'] = 1\n",
    "        self.assertEqual(self.pulse_config['duration'], 1)\n",
    "        self.assertEqual(self.pulse_config.duration, 1)\n",
    "\n",
    "    def test_signal(self):\n",
    "        self.signal.connect(self.set_dict)\n",
    "        self.pulse_config.duration = 1\n",
    "        self.assertIn('duration', self.pulse_config)\n",
    "        self.assertEqual(self.pulse_config.duration, 1)\n",
    "        \n",
    "        self.pulses_config.read2 = {'t_start': 'config:pulses.read.duration'}\n",
    "        self.assertIsInstance(self.pulses_config.read2, DictConfig)\n",
    "        \n",
    "        self.assertEqual(self.pulses_config.read2.t_start, 1)\n",
    "        \n",
    "        signal('config:pulses.read').connect(self.set_dict)\n",
    "        signal('config:pulses.read2').connect(self.set_dict)\n",
    "        \n",
    "        self.pulse_config.duration = 3\n",
    "        self.assertEqual(self.dict['duration'], 3)\n",
    "        self.assertEqual(self.dict['t_start'], 3)\n",
    "        \n",
    "        self.pulses_config.read2.t_start = 20\n",
    "        self.dict = {}\n",
    "        self.pulse_config.duration = 5\n",
    "        self.assertEqual(self.dict['duration'], 5)\n",
    "        self.assertNotIn('t_start', self.dict)\n",
    "\n",
    "    def test_config(self):\n",
    "        self.assertIsInstance(self.pulse_config, DictConfig)\n",
    "        self.pulse_config.t_start = 4\n",
    "        self.assertEqual(self.pulse_config.t_start, 4)\n",
    "        self.assertEqual(self.pulses_config.read.t_start, 4)\n",
    "        \n",
    "        # Create new dict\n",
    "        d = {'read2': {'t_start': 1, 'subdict': {'t_start': 2}}}\n",
    "        dict_config = DictConfig(name='iterdict', config=d)\n",
    "        self.assertIsInstance(dict_config.read2, DictConfig)\n",
    "        self.assertIsInstance(dict_config.read2.subdict, DictConfig)\n",
    "        self.assertEqual(dict_config.read2.t_start, 1)\n",
    "        self.assertEqual(dict_config.read2.subdict.t_start, 2)\n",
    "\n",
    "    def test_pulse_from_config(self):\n",
    "        self.pulse_config.t_start = 10\n",
    "        p = Pulse(name='read')\n",
    "        self.assertEqual(p.t_start, 10)\n",
    "        \n",
    "        p.t_start = 20\n",
    "        self.assertEqual(p.t_start, 20)\n",
    "        \n",
    "        self.pulse_config.t_start = 0\n",
    "        self.assertEqual(p.t_start, 0)\n",
    "        \n",
    "        self.pulse_config.t_start = 'config:pulses.read.t_stop'\n",
    "        with self.assertRaises(AttributeError):\n",
    "            self.pulse_config.t_start\n",
    "            \n",
    "        self.pulse_config.t_stop = 50\n",
    "        self.assertEqual(self.pulse_config.t_start, 50)\n",
    "        self.assertEqual(p.t_start, 50)\n",
    "        \n",
    "        self.pulse_config.t_start = 40\n",
    "        self.assertEqual(self.pulse_config.t_start, 40)\n",
    "        self.assertEqual(p.t_start, 40)\n",
    "        \n",
    "        self.pulse_config.t_stop = 60\n",
    "        self.assertEqual(self.pulse_config.t_start, 40)\n",
    "        self.assertEqual(p.t_start, 40)\n",
    "\n",
    "    def set_dict(self, sender, **kwargs):\n",
    "        self.dict.update(**kwargs)"
   ]
  },
  {
   "cell_type": "code",
   "execution_count": 13,
   "metadata": {
    "collapsed": false,
    "deletable": true,
    "editable": true,
    "scrolled": false
   },
   "outputs": [
    {
     "name": "stderr",
     "output_type": "stream",
     "text": [
      "test_set_val (__main__.TestPulseSignals) ... ok\n",
      "test_signal_emit (__main__.TestPulseSignals) ... ok\n",
      "test_subsequent_pulses (__main__.TestPulseSignals) ... ok\n",
      "test_config (__main__.TestPulseConfig) ... ok\n",
      "test_pulse_from_config (__main__.TestPulseConfig) ... ok\n",
      "test_set_item (__main__.TestPulseConfig) ... ok\n",
      "test_signal (__main__.TestPulseConfig) ... ok\n",
      "test_dicts_equal (__main__.TestConfig) ... ok\n",
      "test_save_load_dir (__main__.TestConfig) ... ok\n",
      "test_save_load_file (__main__.TestConfig) ... ok\n",
      "\n",
      "----------------------------------------------------------------------\n",
      "Ran 10 tests in 0.046s\n",
      "\n",
      "OK\n"
     ]
    },
    {
     "data": {
      "text/plain": [
       "<unittest.runner.TextTestResult run=10 errors=0 failures=0>"
      ]
     },
     "execution_count": 13,
     "metadata": {},
     "output_type": "execute_result"
    }
   ],
   "source": [
    "# Run tests    \n",
    "suite_pulse_signals = unittest.TestLoader().loadTestsFromModule(TestPulseSignals())\n",
    "suite_pulse_config = unittest.TestLoader().loadTestsFromModule(TestPulseConfig())\n",
    "suite_config = unittest.TestLoader().loadTestsFromModule(TestConfig())\n",
    "suite = unittest.TestSuite([suite_pulse_signals, suite_pulse_config, suite_config])\n",
    "unittest.TextTestRunner(verbosity=2, failfast=True).run(suite)"
   ]
  },
  {
   "cell_type": "code",
   "execution_count": null,
   "metadata": {
    "collapsed": true,
    "deletable": true,
    "editable": true
   },
   "outputs": [],
   "source": []
  }
 ],
 "metadata": {
  "kernelspec": {
   "display_name": "Python 3",
   "language": "python",
   "name": "python3"
  },
  "language_info": {
   "codemirror_mode": {
    "name": "ipython",
    "version": 3
   },
   "file_extension": ".py",
   "mimetype": "text/x-python",
   "name": "python",
   "nbconvert_exporter": "python",
   "pygments_lexer": "ipython3",
   "version": "3.6.0"
  },
  "toc": {
   "nav_menu": {
    "height": "12px",
    "width": "252px"
   },
   "navigate_menu": true,
   "number_sections": true,
   "sideBar": true,
   "threshold": 4,
   "toc_cell": false,
   "toc_section_display": "block",
   "toc_window_display": false
  }
 },
 "nbformat": 4,
 "nbformat_minor": 2
}
