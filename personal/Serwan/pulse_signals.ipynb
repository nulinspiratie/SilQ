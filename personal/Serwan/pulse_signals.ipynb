{
 "cells": [
  {
   "cell_type": "code",
   "execution_count": 1,
   "metadata": {
    "collapsed": false,
    "deletable": true,
    "editable": true
   },
   "outputs": [
    {
     "name": "stdout",
     "output_type": "stream",
     "text": [
      "Initializing imports\n",
      "Initialization complete\n"
     ]
    },
    {
     "name": "stderr",
     "output_type": "stream",
     "text": [
      "C:\\Anaconda3\\lib\\site-packages\\matplotlib\\__init__.py:1357: UserWarning:  This call to matplotlib.use() has no effect\n",
      "because the backend has already been chosen;\n",
      "matplotlib.use() must be called *before* pylab, matplotlib.pyplot,\n",
      "or matplotlib.backends is imported for the first time.\n",
      "\n",
      "  warnings.warn(_use_error_msg)\n"
     ]
    }
   ],
   "source": [
    "import unittest\n",
    "from blinker import signal, Signal\n",
    "import silq\n",
    "silq.initialize('Serwan')"
   ]
  },
  {
   "cell_type": "code",
   "execution_count": 2,
   "metadata": {
    "code_folding": [
     0
    ],
    "collapsed": false
   },
   "outputs": [
    {
     "data": {
      "application/javascript": [
       "\n",
       "Jupyter.keyboard_manager.command_shortcuts.add_shortcut('r', {\n",
       "    help : 'run cell',\n",
       "    help_index : 'zz',\n",
       "    handler : function (event) {\n",
       "        IPython.notebook.restart_run_all();\n",
       "        return false;\n",
       "    }}\n",
       ");"
      ],
      "text/plain": [
       "<IPython.core.display.Javascript object>"
      ]
     },
     "metadata": {},
     "output_type": "display_data"
    }
   ],
   "source": [
    "%%javascript\n",
    "\n",
    "Jupyter.keyboard_manager.command_shortcuts.add_shortcut('r', {\n",
    "    help : 'run cell',\n",
    "    help_index : 'zz',\n",
    "    handler : function (event) {\n",
    "        IPython.notebook.restart_run_all();\n",
    "        return false;\n",
    "    }}\n",
    ");"
   ]
  },
  {
   "cell_type": "code",
   "execution_count": 3,
   "metadata": {
    "collapsed": true
   },
   "outputs": [],
   "source": [
    "from silq.tools.config import *"
   ]
  },
  {
   "cell_type": "code",
   "execution_count": 4,
   "metadata": {
    "code_folding": [
     1,
     6,
     11,
     18
    ],
    "collapsed": false,
    "deletable": true,
    "editable": true
   },
   "outputs": [],
   "source": [
    "class TestPulseSignals(unittest.TestCase):\n",
    "    def setUp(self):\n",
    "        self.signal = signal('pulse')\n",
    "        self.is_set = False \n",
    "        self.dict = {}\n",
    "\n",
    "    def test_set_val(self):\n",
    "        self.assertFalse(self.is_set)\n",
    "        self.set_val(self)\n",
    "        self.assertTrue(self.is_set)\n",
    "\n",
    "    def test_signal_emit(self):\n",
    "        p = Pulse()\n",
    "        self.signal.connect(self.set_dict)\n",
    "        self.assertFalse('t_start' in self.dict)\n",
    "        p.t_start = 1\n",
    "        self.assertEqual(1, self.dict['t_start'])\n",
    "\n",
    "    def test_subsequent_pulses(self):\n",
    "        p1 = Pulse(t_start=0, t_stop=10)\n",
    "        self.assertEqual(p1.t_start, 0)\n",
    "        self.assertEqual(p1.duration, 10)\n",
    "        self.assertEqual(p1.t_stop, 10)\n",
    "        \n",
    "        p2 = Pulse(t_start=PulseMatch(p1, 't_stop', delay=1), duration=4)\n",
    "        self.assertEqual(p2.t_start, 11)\n",
    "        self.assertEqual(p2.duration, 4)\n",
    "        self.assertEqual(p2.t_stop, 15)\n",
    "        \n",
    "        p1.t_stop = 14\n",
    "        self.assertEqual(p1.t_start, 0)\n",
    "        self.assertEqual(p1.duration, 14)\n",
    "        self.assertEqual(p1.t_stop, 14)\n",
    "        \n",
    "        self.assertEqual(p2.t_start, 15)\n",
    "        self.assertEqual(p2.duration, 4)\n",
    "        self.assertEqual(p2.t_stop, 19)\n",
    "        \n",
    "        p2.t_start = 0\n",
    "        self.assertEqual(p2.t_start, 0)\n",
    "        self.assertEqual(p2.duration, 4)\n",
    "        self.assertEqual(p2.t_stop, 4)\n",
    "        \n",
    "        p1.t_stop = 20\n",
    "        self.assertEqual(p2.t_start, 0)\n",
    "        self.assertEqual(p2.duration, 4)\n",
    "        self.assertEqual(p2.t_stop, 4)\n",
    "\n",
    "    def set_val(self, sender, **kwargs):\n",
    "        self.is_set = True\n",
    "        \n",
    "    def set_dict(self, sender, **kwargs):\n",
    "        self.dict.update(**kwargs)"
   ]
  },
  {
   "cell_type": "code",
   "execution_count": 5,
   "metadata": {
    "code_folding": [],
    "collapsed": false
   },
   "outputs": [],
   "source": [
    "class TestPulseConfig(unittest.TestCase):\n",
    "    def setUp(self):\n",
    "        self.signal = signal('pulse_config:read')\n",
    "        \n",
    "        pulses_dict = {'read': {}}\n",
    "        self.pulses_config = DictConfig(name='pulses',\n",
    "                                        filepath=None,\n",
    "                                        config=pulses_dict,\n",
    "                                        item_class=PulseConfig)\n",
    "        qc.config.user.pulses = self.pulses_config\n",
    "        self.pulse_config = self.pulses_config['read']\n",
    "        self.dict = {}\n",
    "        Pulse.pulses_config = self.pulses_config\n",
    "\n",
    "    def test_set_item(self):\n",
    "        with self.assertRaises(KeyError):\n",
    "            self.pulse_config['duration']\n",
    "        self.pulse_config['duration'] = 1\n",
    "        self.assertEqual(self.pulse_config['duration'], 1)\n",
    "        self.assertEqual(self.pulse_config.duration, 1)\n",
    "\n",
    "    def test_signal(self):\n",
    "        self.signal.connect(self.set_dict)\n",
    "        self.pulse_config.duration = 1\n",
    "        self.assertIn('duration', self.pulse_config)\n",
    "        self.assertEqual(self.pulse_config.get('duration', None), 1)\n",
    "\n",
    "    def test_pulse_from_config(self):\n",
    "        self.pulse_config.t_start = 10\n",
    "        p = Pulse(name='read')\n",
    "        self.assertEqual(p.t_start, 10)\n",
    "        \n",
    "        p.t_start = 20\n",
    "        self.assertEqual(p.t_start, 20)\n",
    "        \n",
    "        self.pulse_config.t_start = 0\n",
    "        self.assertEqual(p.t_start, 0)\n",
    "        \n",
    "        self.pulse_config.t_start = 'config:pulses.read.t_stop'\n",
    "        with self.assertRaises(AttributeError):\n",
    "            self.pulse_config.t_start\n",
    "            \n",
    "        self.pulse_config.t_stop = 50\n",
    "        self.assertEqual(self.pulse_config.t_start, 50)\n",
    "\n",
    "    def set_dict(self, sender, **kwargs):\n",
    "        self.dict.update(**kwargs)"
   ]
  },
  {
   "cell_type": "code",
   "execution_count": 6,
   "metadata": {
    "collapsed": false,
    "deletable": true,
    "editable": true
   },
   "outputs": [
    {
     "name": "stderr",
     "output_type": "stream",
     "text": [
      "test_set_val (__main__.TestPulseSignals) ... ok\n",
      "test_signal_emit (__main__.TestPulseSignals) ... ok\n",
      "test_subsequent_pulses (__main__.TestPulseSignals) ... ok\n",
      "test_pulse_from_config (__main__.TestPulseConfig) ... ERROR\n",
      "\n",
      "======================================================================\n",
      "ERROR: test_pulse_from_config (__main__.TestPulseConfig)\n",
      "----------------------------------------------------------------------\n",
      "Traceback (most recent call last):\n",
      "  File \"<ipython-input-5-ea20e9c744c5>\", line 43, in test_pulse_from_config\n",
      "    self.pulse_config.t_stop = 50\n",
      "  File \"c:\\users\\serwan\\documents\\github\\silq\\silq\\tools\\config.py\", line 57, in __setitem__\n",
      "    self.signal.send(self, **{key: val})\n",
      "  File \"C:\\Anaconda3\\lib\\site-packages\\blinker\\base.py\", line 267, in send\n",
      "    for receiver in self.receivers_for(sender)]\n",
      "  File \"C:\\Anaconda3\\lib\\site-packages\\blinker\\base.py\", line 267, in <listcomp>\n",
      "    for receiver in self.receivers_for(sender)]\n",
      "  File \"c:\\users\\serwan\\documents\\github\\silq\\silq\\pulses\\pulse_types.py\", line 75, in _handle_config_signal\n",
      "    setattr(self, key, val)\n",
      "  File \"c:\\users\\serwan\\documents\\github\\silq\\silq\\pulses\\pulse_types.py\", line 179, in __setattr__\n",
      "    super().__setattr__(key, value)\n",
      "  File \"c:\\users\\serwan\\documents\\github\\silq\\silq\\pulses\\pulse_types.py\", line 241, in t_stop\n",
      "    self.duration = t_stop - self.t_start\n",
      "TypeError: unsupported operand type(s) for -: 'int' and 'str'\n",
      "\n",
      "----------------------------------------------------------------------\n",
      "Ran 4 tests in 0.012s\n",
      "\n",
      "FAILED (errors=1)\n"
     ]
    },
    {
     "data": {
      "text/plain": [
       "<unittest.runner.TextTestResult run=4 errors=1 failures=0>"
      ]
     },
     "execution_count": 6,
     "metadata": {},
     "output_type": "execute_result"
    }
   ],
   "source": [
    "# Run tests    \n",
    "suite_pulse_signals = unittest.TestLoader().loadTestsFromModule(TestPulseSignals())\n",
    "suite_pulse_config = unittest.TestLoader().loadTestsFromModule(TestPulseConfig())\n",
    "suite = unittest.TestSuite([suite_pulse_signals, suite_pulse_config])\n",
    "unittest.TextTestRunner(verbosity=2, failfast=True).run(suite)"
   ]
  },
  {
   "cell_type": "code",
   "execution_count": 7,
   "metadata": {
    "collapsed": false
   },
   "outputs": [],
   "source": [
    "\n",
    "\n",
    "pulses_dict = {'read': {}}\n",
    "pulses_config = DictConfig(name='pulses',\n",
    "                                filepath=None,\n",
    "                                config=pulses_dict,\n",
    "                                item_class=PulseConfig)\n",
    "qc.config.user.pulses = pulses_config\n",
    "pulse_config = pulses_config['read']\n",
    "dict = {}\n",
    "Pulse.pulses_config = pulses_config\n",
    "p = Pulse(name='read')"
   ]
  },
  {
   "cell_type": "code",
   "execution_count": 10,
   "metadata": {
    "collapsed": true
   },
   "outputs": [],
   "source": [
    "pulse_config.t_start = 'config:pulses.read.t_stop'"
   ]
  },
  {
   "cell_type": "code",
   "execution_count": 13,
   "metadata": {
    "collapsed": false
   },
   "outputs": [
    {
     "data": {
      "text/plain": [
       "{'name': 'read',\n",
       " 'signal': <blinker.base.NamedSignal object at 0x000001B286B8C160; 'pulse_config:read'>}"
      ]
     },
     "execution_count": 13,
     "metadata": {},
     "output_type": "execute_result"
    }
   ],
   "source": [
    "pulse_config.__dict__"
   ]
  },
  {
   "cell_type": "code",
   "execution_count": 9,
   "metadata": {
    "collapsed": false
   },
   "outputs": [
    {
     "ename": "TypeError",
     "evalue": "unsupported operand type(s) for -: 'int' and 'str'",
     "output_type": "error",
     "traceback": [
      "\u001b[0;31m---------------------------------------------------------------------------\u001b[0m",
      "\u001b[0;31mTypeError\u001b[0m                                 Traceback (most recent call last)",
      "\u001b[0;32m<ipython-input-9-5e0b5fee0557>\u001b[0m in \u001b[0;36m<module>\u001b[0;34m()\u001b[0m\n\u001b[1;32m      1\u001b[0m \u001b[1;33m\u001b[0m\u001b[0m\n\u001b[1;32m      2\u001b[0m \u001b[0mpulse_config\u001b[0m\u001b[1;33m.\u001b[0m\u001b[0mt_start\u001b[0m \u001b[1;33m=\u001b[0m \u001b[1;34m'config:pulses.read.t_stop'\u001b[0m\u001b[1;33m\u001b[0m\u001b[0m\n\u001b[0;32m----> 3\u001b[0;31m \u001b[0mpulse_config\u001b[0m\u001b[1;33m.\u001b[0m\u001b[0mt_stop\u001b[0m \u001b[1;33m=\u001b[0m \u001b[1;36m50\u001b[0m\u001b[1;33m\u001b[0m\u001b[0m\n\u001b[0m",
      "\u001b[0;32mc:\\users\\serwan\\documents\\github\\silq\\silq\\tools\\config.py\u001b[0m in \u001b[0;36m__setitem__\u001b[0;34m(self, key, val)\u001b[0m\n\u001b[1;32m     55\u001b[0m     \u001b[1;32mdef\u001b[0m \u001b[0m__setitem__\u001b[0m\u001b[1;33m(\u001b[0m\u001b[0mself\u001b[0m\u001b[1;33m,\u001b[0m \u001b[0mkey\u001b[0m\u001b[1;33m,\u001b[0m \u001b[0mval\u001b[0m\u001b[1;33m)\u001b[0m\u001b[1;33m:\u001b[0m\u001b[1;33m\u001b[0m\u001b[0m\n\u001b[1;32m     56\u001b[0m         \u001b[0msuper\u001b[0m\u001b[1;33m(\u001b[0m\u001b[1;33m)\u001b[0m\u001b[1;33m.\u001b[0m\u001b[0m__setitem__\u001b[0m\u001b[1;33m(\u001b[0m\u001b[0mkey\u001b[0m\u001b[1;33m,\u001b[0m \u001b[0mval\u001b[0m\u001b[1;33m)\u001b[0m\u001b[1;33m\u001b[0m\u001b[0m\n\u001b[0;32m---> 57\u001b[0;31m         \u001b[0mself\u001b[0m\u001b[1;33m.\u001b[0m\u001b[0msignal\u001b[0m\u001b[1;33m.\u001b[0m\u001b[0msend\u001b[0m\u001b[1;33m(\u001b[0m\u001b[0mself\u001b[0m\u001b[1;33m,\u001b[0m \u001b[1;33m**\u001b[0m\u001b[1;33m{\u001b[0m\u001b[0mkey\u001b[0m\u001b[1;33m:\u001b[0m \u001b[0mval\u001b[0m\u001b[1;33m}\u001b[0m\u001b[1;33m)\u001b[0m\u001b[1;33m\u001b[0m\u001b[0m\n\u001b[0m\u001b[1;32m     58\u001b[0m \u001b[1;33m\u001b[0m\u001b[0m\n\u001b[1;32m     59\u001b[0m     \u001b[0m__setattr__\u001b[0m \u001b[1;33m=\u001b[0m \u001b[0m__setitem__\u001b[0m\u001b[1;33m\u001b[0m\u001b[0m\n",
      "\u001b[0;32mC:\\Anaconda3\\lib\\site-packages\\blinker\\base.py\u001b[0m in \u001b[0;36msend\u001b[0;34m(self, *sender, **kwargs)\u001b[0m\n\u001b[1;32m    265\u001b[0m         \u001b[1;32melse\u001b[0m\u001b[1;33m:\u001b[0m\u001b[1;33m\u001b[0m\u001b[0m\n\u001b[1;32m    266\u001b[0m             return [(receiver, receiver(sender, **kwargs))\n\u001b[0;32m--> 267\u001b[0;31m                     for receiver in self.receivers_for(sender)]\n\u001b[0m\u001b[1;32m    268\u001b[0m \u001b[1;33m\u001b[0m\u001b[0m\n\u001b[1;32m    269\u001b[0m     \u001b[1;32mdef\u001b[0m \u001b[0mhas_receivers_for\u001b[0m\u001b[1;33m(\u001b[0m\u001b[0mself\u001b[0m\u001b[1;33m,\u001b[0m \u001b[0msender\u001b[0m\u001b[1;33m)\u001b[0m\u001b[1;33m:\u001b[0m\u001b[1;33m\u001b[0m\u001b[0m\n",
      "\u001b[0;32mC:\\Anaconda3\\lib\\site-packages\\blinker\\base.py\u001b[0m in \u001b[0;36m<listcomp>\u001b[0;34m(.0)\u001b[0m\n\u001b[1;32m    265\u001b[0m         \u001b[1;32melse\u001b[0m\u001b[1;33m:\u001b[0m\u001b[1;33m\u001b[0m\u001b[0m\n\u001b[1;32m    266\u001b[0m             return [(receiver, receiver(sender, **kwargs))\n\u001b[0;32m--> 267\u001b[0;31m                     for receiver in self.receivers_for(sender)]\n\u001b[0m\u001b[1;32m    268\u001b[0m \u001b[1;33m\u001b[0m\u001b[0m\n\u001b[1;32m    269\u001b[0m     \u001b[1;32mdef\u001b[0m \u001b[0mhas_receivers_for\u001b[0m\u001b[1;33m(\u001b[0m\u001b[0mself\u001b[0m\u001b[1;33m,\u001b[0m \u001b[0msender\u001b[0m\u001b[1;33m)\u001b[0m\u001b[1;33m:\u001b[0m\u001b[1;33m\u001b[0m\u001b[0m\n",
      "\u001b[0;32mc:\\users\\serwan\\documents\\github\\silq\\silq\\pulses\\pulse_types.py\u001b[0m in \u001b[0;36m_handle_config_signal\u001b[0;34m(self, pulse_config, **kwargs)\u001b[0m\n\u001b[1;32m     73\u001b[0m     \u001b[1;32mdef\u001b[0m \u001b[0m_handle_config_signal\u001b[0m\u001b[1;33m(\u001b[0m\u001b[0mself\u001b[0m\u001b[1;33m,\u001b[0m \u001b[0mpulse_config\u001b[0m\u001b[1;33m,\u001b[0m \u001b[1;33m**\u001b[0m\u001b[0mkwargs\u001b[0m\u001b[1;33m)\u001b[0m\u001b[1;33m:\u001b[0m\u001b[1;33m\u001b[0m\u001b[0m\n\u001b[1;32m     74\u001b[0m         \u001b[0mkey\u001b[0m\u001b[1;33m,\u001b[0m \u001b[0mval\u001b[0m \u001b[1;33m=\u001b[0m \u001b[0mkwargs\u001b[0m\u001b[1;33m.\u001b[0m\u001b[0mpopitem\u001b[0m\u001b[1;33m(\u001b[0m\u001b[1;33m)\u001b[0m\u001b[1;33m\u001b[0m\u001b[0m\n\u001b[0;32m---> 75\u001b[0;31m         \u001b[0msetattr\u001b[0m\u001b[1;33m(\u001b[0m\u001b[0mself\u001b[0m\u001b[1;33m,\u001b[0m \u001b[0mkey\u001b[0m\u001b[1;33m,\u001b[0m \u001b[0mval\u001b[0m\u001b[1;33m)\u001b[0m\u001b[1;33m\u001b[0m\u001b[0m\n\u001b[0m\u001b[1;32m     76\u001b[0m \u001b[1;33m\u001b[0m\u001b[0m\n\u001b[1;32m     77\u001b[0m     \u001b[1;32mdef\u001b[0m \u001b[0m__eq__\u001b[0m\u001b[1;33m(\u001b[0m\u001b[0mself\u001b[0m\u001b[1;33m,\u001b[0m \u001b[0mother\u001b[0m\u001b[1;33m)\u001b[0m\u001b[1;33m:\u001b[0m\u001b[1;33m\u001b[0m\u001b[0m\n",
      "\u001b[0;32mc:\\users\\serwan\\documents\\github\\silq\\silq\\pulses\\pulse_types.py\u001b[0m in \u001b[0;36m__setattr__\u001b[0;34m(self, key, value)\u001b[0m\n\u001b[1;32m    177\u001b[0m             \u001b[0msignal\u001b[0m\u001b[1;33m(\u001b[0m\u001b[1;34m'pulse'\u001b[0m\u001b[1;33m)\u001b[0m\u001b[1;33m.\u001b[0m\u001b[0mconnect\u001b[0m\u001b[1;33m(\u001b[0m\u001b[0mset_fun\u001b[0m\u001b[1;33m,\u001b[0m \u001b[0msender\u001b[0m\u001b[1;33m=\u001b[0m\u001b[0mvalue\u001b[0m\u001b[1;33m.\u001b[0m\u001b[0mpulse\u001b[0m\u001b[1;33m)\u001b[0m\u001b[1;33m\u001b[0m\u001b[0m\n\u001b[1;32m    178\u001b[0m         \u001b[1;32melse\u001b[0m\u001b[1;33m:\u001b[0m\u001b[1;33m\u001b[0m\u001b[0m\n\u001b[0;32m--> 179\u001b[0;31m             \u001b[0msuper\u001b[0m\u001b[1;33m(\u001b[0m\u001b[1;33m)\u001b[0m\u001b[1;33m.\u001b[0m\u001b[0m__setattr__\u001b[0m\u001b[1;33m(\u001b[0m\u001b[0mkey\u001b[0m\u001b[1;33m,\u001b[0m \u001b[0mvalue\u001b[0m\u001b[1;33m)\u001b[0m\u001b[1;33m\u001b[0m\u001b[0m\n\u001b[0m\u001b[1;32m    180\u001b[0m \u001b[1;33m\u001b[0m\u001b[0m\n\u001b[1;32m    181\u001b[0m             \u001b[1;32mif\u001b[0m \u001b[0mkey\u001b[0m \u001b[1;32min\u001b[0m \u001b[0mself\u001b[0m\u001b[1;33m.\u001b[0m\u001b[0m_connected_attrs\u001b[0m\u001b[1;33m:\u001b[0m\u001b[1;33m\u001b[0m\u001b[0m\n",
      "\u001b[0;32mc:\\users\\serwan\\documents\\github\\silq\\silq\\pulses\\pulse_types.py\u001b[0m in \u001b[0;36mt_stop\u001b[0;34m(self, t_stop)\u001b[0m\n\u001b[1;32m    239\u001b[0m         \u001b[1;32mif\u001b[0m \u001b[0mt_stop\u001b[0m \u001b[1;32mis\u001b[0m \u001b[1;32mnot\u001b[0m \u001b[1;32mNone\u001b[0m\u001b[1;33m:\u001b[0m\u001b[1;33m\u001b[0m\u001b[0m\n\u001b[1;32m    240\u001b[0m             \u001b[1;31m# Setting duration sends a signal for duration and also t_stop\u001b[0m\u001b[1;33m\u001b[0m\u001b[1;33m\u001b[0m\u001b[0m\n\u001b[0;32m--> 241\u001b[0;31m             \u001b[0mself\u001b[0m\u001b[1;33m.\u001b[0m\u001b[0mduration\u001b[0m \u001b[1;33m=\u001b[0m \u001b[0mt_stop\u001b[0m \u001b[1;33m-\u001b[0m \u001b[0mself\u001b[0m\u001b[1;33m.\u001b[0m\u001b[0mt_start\u001b[0m\u001b[1;33m\u001b[0m\u001b[0m\n\u001b[0m\u001b[1;32m    242\u001b[0m \u001b[1;33m\u001b[0m\u001b[0m\n\u001b[1;32m    243\u001b[0m     \u001b[1;32mdef\u001b[0m \u001b[0m_get_repr\u001b[0m\u001b[1;33m(\u001b[0m\u001b[0mself\u001b[0m\u001b[1;33m,\u001b[0m \u001b[0mproperties_str\u001b[0m\u001b[1;33m)\u001b[0m\u001b[1;33m:\u001b[0m\u001b[1;33m\u001b[0m\u001b[0m\n",
      "\u001b[0;31mTypeError\u001b[0m: unsupported operand type(s) for -: 'int' and 'str'"
     ]
    }
   ],
   "source": [
    "pulse_config.t_stop = 50"
   ]
  }
 ],
 "metadata": {
  "kernelspec": {
   "display_name": "Python [default]",
   "language": "python",
   "name": "python3"
  },
  "language_info": {
   "codemirror_mode": {
    "name": "ipython",
    "version": 3
   },
   "file_extension": ".py",
   "mimetype": "text/x-python",
   "name": "python",
   "nbconvert_exporter": "python",
   "pygments_lexer": "ipython3",
   "version": "3.5.2"
  },
  "toc": {
   "nav_menu": {
    "height": "12px",
    "width": "252px"
   },
   "navigate_menu": true,
   "number_sections": true,
   "sideBar": true,
   "threshold": 4,
   "toc_cell": false,
   "toc_section_display": "block",
   "toc_window_display": false
  }
 },
 "nbformat": 4,
 "nbformat_minor": 2
}
