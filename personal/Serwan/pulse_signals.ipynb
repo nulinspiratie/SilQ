{
 "cells": [
  {
   "cell_type": "code",
   "execution_count": 1,
   "metadata": {
    "collapsed": false,
    "deletable": true,
    "editable": true
   },
   "outputs": [],
   "source": [
    "import unittest\n",
    "from blinker import signal, Signal\n",
    "import silq\n",
    "from silq.pulses import Pulse, PulseMatch"
   ]
  },
  {
   "cell_type": "code",
   "execution_count": 2,
   "metadata": {
    "code_folding": [
     0
    ],
    "collapsed": false
   },
   "outputs": [
    {
     "data": {
      "application/javascript": [
       "\n",
       "Jupyter.keyboard_manager.command_shortcuts.add_shortcut('r', {\n",
       "    help : 'run cell',\n",
       "    help_index : 'zz',\n",
       "    handler : function (event) {\n",
       "        IPython.notebook.restart_run_all();\n",
       "        return false;\n",
       "    }}\n",
       ");"
      ],
      "text/plain": [
       "<IPython.core.display.Javascript object>"
      ]
     },
     "metadata": {},
     "output_type": "display_data"
    }
   ],
   "source": [
    "%%javascript\n",
    "\n",
    "Jupyter.keyboard_manager.command_shortcuts.add_shortcut('r', {\n",
    "    help : 'run cell',\n",
    "    help_index : 'zz',\n",
    "    handler : function (event) {\n",
    "        IPython.notebook.restart_run_all();\n",
    "        return false;\n",
    "    }}\n",
    ");"
   ]
  },
  {
   "cell_type": "code",
   "execution_count": 3,
   "metadata": {
    "collapsed": false
   },
   "outputs": [],
   "source": [
    "from qcodes.config.config import DotDict\n",
    "class PulseConfig(DotDict):\n",
    "    def __init__(self, name):\n",
    "        self.__dict__['name'] = name\n",
    "        self.__dict__['signal'] = signal('pulse_config:'+self.name)\n",
    "        \n",
    "    def __setitem__(self, key, val):\n",
    "        super().__setitem__(key, val)\n",
    "        self.signal.send(self, **{key: val})\n",
    "        \n",
    "    __setattr__ = __setitem__"
   ]
  },
  {
   "cell_type": "code",
   "execution_count": 4,
   "metadata": {
    "code_folding": [
     1,
     6,
     11,
     18
    ],
    "collapsed": false,
    "deletable": true,
    "editable": true
   },
   "outputs": [],
   "source": [
    "class TestPulseSignals(unittest.TestCase):\n",
    "    def setUp(self):\n",
    "        self.signal = signal('pulse')\n",
    "        self.is_set = False \n",
    "        self.dict = {}\n",
    "\n",
    "    def test_set_val(self):\n",
    "        self.assertFalse(self.is_set)\n",
    "        self.set_val(self)\n",
    "        self.assertTrue(self.is_set)\n",
    "\n",
    "    def test_signal_emit(self):\n",
    "        p = Pulse()\n",
    "        self.signal.connect(self.set_dict)\n",
    "        self.assertFalse('t_start' in self.dict)\n",
    "        p.t_start = 1\n",
    "        self.assertEqual(1, self.dict['t_start'])\n",
    "\n",
    "    def test_subsequent_pulses(self):\n",
    "        p1 = Pulse(t_start=0, t_stop=10)\n",
    "        self.assertEqual(p1.t_start, 0)\n",
    "        self.assertEqual(p1.duration, 10)\n",
    "        self.assertEqual(p1.t_stop, 10)\n",
    "        \n",
    "        p2 = Pulse(t_start=PulseMatch(p1, 't_stop', delay=1), duration=4)\n",
    "        self.assertEqual(p2.t_start, 11)\n",
    "        self.assertEqual(p2.duration, 4)\n",
    "        self.assertEqual(p2.t_stop, 15)\n",
    "        \n",
    "        p1.t_stop = 14\n",
    "        self.assertEqual(p1.t_start, 0)\n",
    "        self.assertEqual(p1.duration, 14)\n",
    "        self.assertEqual(p1.t_stop, 14)\n",
    "        \n",
    "        self.assertEqual(p2.t_start, 15)\n",
    "        self.assertEqual(p2.duration, 4)\n",
    "        self.assertEqual(p2.t_stop, 19)\n",
    "        \n",
    "        p2.t_start = 0\n",
    "        self.assertEqual(p2.t_start, 0)\n",
    "        self.assertEqual(p2.duration, 4)\n",
    "        self.assertEqual(p2.t_stop, 4)\n",
    "        \n",
    "        p1.t_stop = 20\n",
    "        self.assertEqual(p2.t_start, 0)\n",
    "        self.assertEqual(p2.duration, 4)\n",
    "        self.assertEqual(p2.t_stop, 4)\n",
    "\n",
    "    def set_val(self, sender, **kwargs):\n",
    "        self.is_set = True\n",
    "        \n",
    "    def set_dict(self, sender, **kwargs):\n",
    "        self.dict.update(**kwargs)"
   ]
  },
  {
   "cell_type": "code",
   "execution_count": 5,
   "metadata": {
    "code_folding": [
     1,
     7
    ],
    "collapsed": false
   },
   "outputs": [],
   "source": [
    "class TestPulseConfig(unittest.TestCase):\n",
    "    def setUp(self):\n",
    "        self.signal = signal('pulse_config:read')\n",
    "        self.pulse_config = PulseConfig('read')\n",
    "        self.pulses_config = {'read': self.pulse_config}\n",
    "        self.dict = {}\n",
    "\n",
    "    def testSetItem(self):\n",
    "        with self.assertRaises(KeyError):\n",
    "            self.pulse_config['duration']\n",
    "        self.pulse_config['duration'] = 1\n",
    "        self.assertEqual(self.pulse_config['duration'], 1)\n",
    "        self.assertEqual(self.pulse_config.duration, 1)\n",
    "\n",
    "    def testSignal(self):\n",
    "        self.signal.connect(self.set_dict)\n",
    "        self.pulse_config.duration = 1\n",
    "        self.assertIn('duration', self.pulse_config)\n",
    "        self.assertEqual(self.pulse_config.get('duration', None), 1)\n",
    "\n",
    "    def testPulseFromConfig(self):\n",
    "        Pulse.pulses_config = self.pulses_config\n",
    "        self.pulse_config.t_start = 10\n",
    "        p = Pulse(name='read')\n",
    "        self.assertEqual(p.t_start, 10)\n",
    "        \n",
    "        p.t_start = 20\n",
    "        self.assertEqual(p.t_start, 20)\n",
    "        \n",
    "        self.pulse_config.t_start = 0\n",
    "        self.assertEqual(p.t_start, 0)\n",
    "\n",
    "    def set_dict(self, sender, **kwargs):\n",
    "        self.dict.update(**kwargs)"
   ]
  },
  {
   "cell_type": "code",
   "execution_count": 6,
   "metadata": {
    "collapsed": false,
    "deletable": true,
    "editable": true
   },
   "outputs": [
    {
     "name": "stderr",
     "output_type": "stream",
     "text": [
      "test_set_val (__main__.TestPulseSignals) ... ok\n",
      "test_signal_emit (__main__.TestPulseSignals) ... ok\n",
      "test_subsequent_pulses (__main__.TestPulseSignals) ... ok\n",
      "testPulseFromConfig (__main__.TestPulseConfig) ... ok\n",
      "testSetItem (__main__.TestPulseConfig) ... ok\n",
      "testSignal (__main__.TestPulseConfig) ... ok\n",
      "\n",
      "----------------------------------------------------------------------\n",
      "Ran 6 tests in 0.011s\n",
      "\n",
      "OK\n"
     ]
    },
    {
     "data": {
      "text/plain": [
       "<unittest.runner.TextTestResult run=6 errors=0 failures=0>"
      ]
     },
     "execution_count": 6,
     "metadata": {},
     "output_type": "execute_result"
    }
   ],
   "source": [
    "# Run tests    \n",
    "suite_pulse_signals = unittest.TestLoader().loadTestsFromModule(TestPulseSignals())\n",
    "suite_pulse_config = unittest.TestLoader().loadTestsFromModule(TestPulseConfig())\n",
    "suite = unittest.TestSuite([suite_pulse_signals, suite_pulse_config])\n",
    "unittest.TextTestRunner(verbosity=2, failfast=True).run(suite)"
   ]
  },
  {
   "cell_type": "code",
   "execution_count": null,
   "metadata": {
    "collapsed": true
   },
   "outputs": [],
   "source": []
  }
 ],
 "metadata": {
  "kernelspec": {
   "display_name": "Python 3",
   "language": "python",
   "name": "python3"
  },
  "language_info": {
   "codemirror_mode": {
    "name": "ipython",
    "version": 3
   },
   "file_extension": ".py",
   "mimetype": "text/x-python",
   "name": "python",
   "nbconvert_exporter": "python",
   "pygments_lexer": "ipython3",
   "version": "3.6.0"
  }
 },
 "nbformat": 4,
 "nbformat_minor": 2
}
