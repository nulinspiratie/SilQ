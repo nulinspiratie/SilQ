{
 "cells": [
  {
   "cell_type": "code",
   "execution_count": 1,
   "metadata": {
    "collapsed": true,
    "deletable": true,
    "editable": true
   },
   "outputs": [],
   "source": [
    "import unittest\n",
    "from blinker import signal, Signal\n",
    "import silq\n",
    "from silq.pulses import Pulse, PulseMatch"
   ]
  },
  {
   "cell_type": "code",
   "execution_count": 2,
   "metadata": {
    "code_folding": [
     0
    ],
    "collapsed": false
   },
   "outputs": [
    {
     "data": {
      "application/javascript": [
       "\n",
       "Jupyter.keyboard_manager.command_shortcuts.add_shortcut('r', {\n",
       "    help : 'run cell',\n",
       "    help_index : 'zz',\n",
       "    handler : function (event) {\n",
       "        IPython.notebook.restart_run_all();\n",
       "        return false;\n",
       "    }}\n",
       ");"
      ],
      "text/plain": [
       "<IPython.core.display.Javascript object>"
      ]
     },
     "metadata": {},
     "output_type": "display_data"
    }
   ],
   "source": [
    "%%javascript\n",
    "\n",
    "Jupyter.keyboard_manager.command_shortcuts.add_shortcut('r', {\n",
    "    help : 'run cell',\n",
    "    help_index : 'zz',\n",
    "    handler : function (event) {\n",
    "        IPython.notebook.restart_run_all();\n",
    "        return false;\n",
    "    }}\n",
    ");"
   ]
  },
  {
   "cell_type": "code",
   "execution_count": 21,
   "metadata": {
    "collapsed": false,
    "deletable": true,
    "editable": true
   },
   "outputs": [],
   "source": [
    "class TestPulseSignals(unittest.TestCase):\n",
    "    def setUp(self):\n",
    "        self.signal = signal('pulse')\n",
    "        self.is_set = False \n",
    "        self.dict = {}\n",
    "        \n",
    "    def test_set_val(self):\n",
    "        self.assertFalse(self.is_set)\n",
    "        self.set_val(self)\n",
    "        self.assertTrue(self.is_set)\n",
    "        \n",
    "    \n",
    "    def test_signal_emit(self):\n",
    "        p = Pulse()\n",
    "        self.signal.connect(self.set_dict)\n",
    "        self.assertFalse('t_start' in self.dict)\n",
    "        p.t_start = 1\n",
    "        self.assertEqual(1, self.dict['t_start'])\n",
    "        \n",
    "    def test_subsequent_pulses(self):\n",
    "        p1 = Pulse(t_start=0, t_stop=10)\n",
    "        self.assertEqual(p1.t_start, 0)\n",
    "        self.assertEqual(p1.duration, 10)\n",
    "        self.assertEqual(p1.t_stop, 10)\n",
    "        \n",
    "        p2 = Pulse(t_start=PulseMatch(p1, 't_stop', delay=1), duration=4)\n",
    "        self.assertEqual(p2.t_start, 11)\n",
    "        self.assertEqual(p2.duration, 4)\n",
    "        self.assertEqual(p2.t_stop, 15)\n",
    "        \n",
    "        p1.t_stop = 14\n",
    "        self.assertEqual(p1.t_start, 0)\n",
    "        self.assertEqual(p1.duration, 14)\n",
    "        self.assertEqual(p1.t_stop, 14)\n",
    "        \n",
    "        self.assertEqual(p2.t_start, 15)\n",
    "        self.assertEqual(p2.duration, 4)\n",
    "        self.assertEqual(p2.t_stop, 19)\n",
    "        \n",
    "        p2.t_start = 0\n",
    "        self.assertEqual(p2.t_start, 0)\n",
    "        self.assertEqual(p2.duration, 4)\n",
    "        self.assertEqual(p2.t_stop, 4)\n",
    "        \n",
    "        p1.t_stop = 20\n",
    "        self.assertEqual(p2.t_start, 0)\n",
    "        self.assertEqual(p2.duration, 4)\n",
    "        self.assertEqual(p2.t_stop, 4)\n",
    "        \n",
    "    def set_val(self, sender, **kwargs):\n",
    "        self.is_set = True\n",
    "        \n",
    "    def set_dict(self, sender, **kwargs):\n",
    "        self.dict.update(**kwargs)"
   ]
  },
  {
   "cell_type": "code",
   "execution_count": 22,
   "metadata": {
    "collapsed": false,
    "deletable": true,
    "editable": true
   },
   "outputs": [
    {
     "name": "stderr",
     "output_type": "stream",
     "text": [
      "test_set_val (__main__.TestPulseSignals) ... ok\n",
      "test_signal_emit (__main__.TestPulseSignals) ... ok\n",
      "test_subsequent_pulses (__main__.TestPulseSignals) ... "
     ]
    },
    {
     "name": "stdout",
     "output_type": "stream",
     "text": [
      "disconnecting t_start: 15\n"
     ]
    },
    {
     "name": "stderr",
     "output_type": "stream",
     "text": [
      "ok\n",
      "\n",
      "----------------------------------------------------------------------\n",
      "Ran 3 tests in 0.004s\n",
      "\n",
      "OK\n"
     ]
    },
    {
     "data": {
      "text/plain": [
       "<unittest.runner.TextTestResult run=3 errors=0 failures=0>"
      ]
     },
     "execution_count": 22,
     "metadata": {},
     "output_type": "execute_result"
    }
   ],
   "source": [
    "# Run tests    \n",
    "suite_pulse_signals = unittest.TestLoader().loadTestsFromModule(TestPulseSignals())\n",
    "suite = unittest.TestSuite([suite_pulse_signals])\n",
    "unittest.TextTestRunner(verbosity=2, failfast=True).run(suite)"
   ]
  },
  {
   "cell_type": "code",
   "execution_count": 18,
   "metadata": {
    "collapsed": false
   },
   "outputs": [],
   "source": [
    "\n",
    "p1 = Pulse(t_start=0, t_stop=14)\n",
    "p2 = Pulse(t_start=PulseMatch(p1, 't_stop', delay=1), duration=4)"
   ]
  },
  {
   "cell_type": "code",
   "execution_count": 19,
   "metadata": {
    "collapsed": false
   },
   "outputs": [
    {
     "name": "stdout",
     "output_type": "stream",
     "text": [
      "disconnecting t_start: 1\n"
     ]
    }
   ],
   "source": [
    "p2.t_start = 1\n",
    "p1.t_stop = 20"
   ]
  },
  {
   "cell_type": "code",
   "execution_count": 20,
   "metadata": {
    "collapsed": false
   },
   "outputs": [
    {
     "data": {
      "text/plain": [
       "1"
      ]
     },
     "execution_count": 20,
     "metadata": {},
     "output_type": "execute_result"
    }
   ],
   "source": [
    "p2.t_start"
   ]
  },
  {
   "cell_type": "code",
   "execution_count": 6,
   "metadata": {
    "collapsed": false
   },
   "outputs": [],
   "source": [
    "def outer_fun():\n",
    "    def print_sender(sender):\n",
    "        print(f'sender: {sender}')\n",
    "    return print_sender"
   ]
  },
  {
   "cell_type": "code",
   "execution_count": 7,
   "metadata": {
    "collapsed": true
   },
   "outputs": [],
   "source": [
    "s = signal('pulse')"
   ]
  },
  {
   "cell_type": "markdown",
   "metadata": {},
   "source": [
    "f1 = outer_fun()\n",
    "f2 = outer_fun()\n",
    "s.connect(f1)\n",
    "s.connect(f2)"
   ]
  },
  {
   "cell_type": "code",
   "execution_count": 32,
   "metadata": {
    "collapsed": false
   },
   "outputs": [
    {
     "data": {
      "text/plain": [
       "{}"
      ]
     },
     "execution_count": 32,
     "metadata": {},
     "output_type": "execute_result"
    }
   ],
   "source": [
    "s.receivers"
   ]
  }
 ],
 "metadata": {
  "kernelspec": {
   "display_name": "Python 3",
   "language": "python",
   "name": "python3"
  },
  "language_info": {
   "codemirror_mode": {
    "name": "ipython",
    "version": 3
   },
   "file_extension": ".py",
   "mimetype": "text/x-python",
   "name": "python",
   "nbconvert_exporter": "python",
   "pygments_lexer": "ipython3",
   "version": "3.6.0"
  }
 },
 "nbformat": 4,
 "nbformat_minor": 2
}
