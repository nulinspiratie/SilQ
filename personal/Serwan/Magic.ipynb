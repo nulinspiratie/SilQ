{
 "cells": [
  {
   "cell_type": "code",
   "execution_count": 25,
   "metadata": {},
   "outputs": [
    {
     "name": "stdout",
     "output_type": "stream",
     "text": [
      "Initializing imports\n",
      "Initialization complete\n"
     ]
    }
   ],
   "source": [
    "import silq\n",
    "silq.initialize('Serwan')"
   ]
  },
  {
   "cell_type": "code",
   "execution_count": 32,
   "metadata": {},
   "outputs": [],
   "source": [
    "import logging\n",
    "logger = logging.getLogger()\n",
    "logger.level = logging.DEBUG"
   ]
  },
  {
   "cell_type": "code",
   "execution_count": 2,
   "metadata": {
    "collapsed": true
   },
   "outputs": [],
   "source": [
    "from IPython.core.magic import Magics, magics_class, line_magic"
   ]
  },
  {
   "cell_type": "code",
   "execution_count": 82,
   "metadata": {},
   "outputs": [
    {
     "name": "stdout",
     "output_type": "stream",
     "text": [
      "DataSet:\n",
      "   data = load_data('data/2017-05-28/#001_{name}_17-48-11')\n",
      "   <Type>   | <array_id> | <array.name> | <array.shape>\n",
      "   Setpoint | dummy_set  | dummy        | (10,)\n",
      "   Measured | dummy      | dummy        | (10,)\n",
      "Started at 2017-05-28 17:48:11\n",
      "Finished at 2017-05-28 17:48:11\n"
     ]
    },
    {
     "data": {
      "text/plain": [
       "DataSet:\n",
       "   data = load_data('data/2017-05-28/#001_{name}_17-48-11')\n",
       "   <Type>   | <array_id> | <array.name> | <array.shape>\n",
       "   Setpoint | dummy_set  | dummy        | (10,)\n",
       "   Measured | dummy      | dummy        | (10,)"
      ]
     },
     "execution_count": 82,
     "metadata": {},
     "output_type": "execute_result"
    }
   ],
   "source": [
    "p_dummy = ManualParameter('dummy')\n",
    "Loop(p_dummy[0:10:1]).each(p_dummy).run('test')"
   ]
  },
  {
   "cell_type": "code",
   "execution_count": 91,
   "metadata": {},
   "outputs": [
    {
     "data": {
      "text/plain": [
       "('C:\\\\Users\\\\Serwan\\\\Documents', 'data')"
      ]
     },
     "execution_count": 91,
     "metadata": {},
     "output_type": "execute_result"
    }
   ],
   "source": [
    "base_path = config.properties.data_folder\n",
    "base_path\n",
    "os.path.split(base_path)"
   ]
  },
  {
   "cell_type": "code",
   "execution_count": 110,
   "metadata": {},
   "outputs": [],
   "source": [
    "from dateutil.parser import parse\n",
    "\n",
    "@magics_class\n",
    "class CustomMagics(Magics):\n",
    "    \"\"\"Magics related to code management (loading, saving, editing, ...).\"\"\"\n",
    "\n",
    "    def __init__(self, *args, **kwargs):\n",
    "        self._knowntemps = set()\n",
    "        super(CustomMagics, self).__init__(*args, **kwargs)\n",
    "\n",
    "    @line_magic\n",
    "    def data(self, line):\n",
    "        line = line.replace('\\\\', '/')\n",
    "        \n",
    "        base_path = config.properties.data_folder\n",
    "        base_path = base_path.replace('\\\\', '/')\n",
    "        base_folder = os.path.split(base_path)[1]\n",
    "        \n",
    "        logging.debug(f'Dirs: {os.listdir(base_path)}')\n",
    "        \n",
    "        if '/' not in line:\n",
    "            logging.debug('No date provided, getting latest date folder')\n",
    "            date_folders = reversed(os.listdir(base_path))\n",
    "            for date_folder in date_folders:\n",
    "                logging.debug(f'Date folder: {date_folder}')\n",
    "                try:\n",
    "                    parse(date_folder)\n",
    "                    # date_folder has date format, exit loop\n",
    "                    break\n",
    "                except:\n",
    "                    # date_folder does not have date format, continuing to next\n",
    "                    continue\n",
    "            else:\n",
    "                raise RuntimeError(f'No date folder found in {base_path}')\n",
    "            # No data arg provided, any data folder will match data_str\n",
    "            data_str = ''\n",
    "        elif ':' in line:\n",
    "            raise NotImplementedError('Full paths not yet implemented')\n",
    "        else:\n",
    "            date_folder, data_str = line.split('/')[-2:]\n",
    "        date_path = os.path.join(base_path, date_folder)\n",
    "        \n",
    "        data_folders = reversed(os.listdir(date_path))\n",
    "        data_folder = next(folder for folder in data_folders if data_str in folder)\n",
    "        data_path = os.path.join(base_folder, date_folder, data_folder)\n",
    "        logging.debug(f'Data path: {data_path}')\n",
    "\n",
    "        "
   ]
  },
  {
   "cell_type": "code",
   "execution_count": 111,
   "metadata": {
    "collapsed": true
   },
   "outputs": [],
   "source": [
    "ip = get_ipython()\n",
    "mm = ip.magics_manager\n",
    "mm.register(CustomMagics)"
   ]
  },
  {
   "cell_type": "code",
   "execution_count": 112,
   "metadata": {},
   "outputs": [
    {
     "name": "stderr",
     "output_type": "stream",
     "text": [
      "DEBUG:root:Dirs: ['2016-12-11', '2016-12-23', '2016-12-26', '2016-12-31', '2017-01-01', '2017-01-02']\n",
      "DEBUG:root:No date provided, getting latest date folder\n",
      "DEBUG:root:Date folder: 2017-01-02\n",
      "DEBUG:root:Data path: data\\2017-01-02\\#425_track_dummy_gaussian_12-33-50\n",
      "DEBUG:root:<ipykernel.zmqshell.ZMQInteractiveShell object at 0x000002A60F1200B8>\n"
     ]
    }
   ],
   "source": [
    "%data #425"
   ]
  },
  {
   "cell_type": "code",
   "execution_count": null,
   "metadata": {
    "collapsed": true
   },
   "outputs": [],
   "source": []
  }
 ],
 "metadata": {
  "kernelspec": {
   "display_name": "Python 3",
   "language": "python",
   "name": "python3"
  },
  "language_info": {
   "codemirror_mode": {
    "name": "ipython",
    "version": 3
   },
   "file_extension": ".py",
   "mimetype": "text/x-python",
   "name": "python",
   "nbconvert_exporter": "python",
   "pygments_lexer": "ipython3",
   "version": "3.6.0"
  }
 },
 "nbformat": 4,
 "nbformat_minor": 2
}
