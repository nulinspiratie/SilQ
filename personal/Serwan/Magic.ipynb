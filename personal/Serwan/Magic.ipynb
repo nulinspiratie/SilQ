{
 "cells": [
  {
   "cell_type": "code",
   "execution_count": 1,
   "metadata": {},
   "outputs": [
    {
     "name": "stdout",
     "output_type": "stream",
     "text": [
      "Initializing imports\n",
      "Initializing functions\n",
      "Initializing data\n",
      "Initialization complete\n"
     ]
    }
   ],
   "source": [
    "import silq\n",
    "silq.initialize('Antimony', mode='analysis')"
   ]
  },
  {
   "cell_type": "code",
   "execution_count": 2,
   "metadata": {
    "collapsed": true
   },
   "outputs": [],
   "source": [
    "import logging\n",
    "logger = logging.getLogger()\n",
    "logger.level = logging.DEBUG"
   ]
  },
  {
   "cell_type": "code",
   "execution_count": 3,
   "metadata": {
    "collapsed": true
   },
   "outputs": [],
   "source": [
    "from IPython.core.magic import Magics, magics_class, line_magic"
   ]
  },
  {
   "cell_type": "code",
   "execution_count": 74,
   "metadata": {
    "collapsed": true
   },
   "outputs": [],
   "source": [
    "from dateutil.parser import parse\n",
    "\n",
    "@magics_class\n",
    "class CustomMagics(Magics):\n",
    "    \"\"\"Magics related to code management (loading, saving, editing, ...).\"\"\"\n",
    "\n",
    "    def __init__(self, *args, **kwargs):\n",
    "        self._knowntemps = set()\n",
    "        super(CustomMagics, self).__init__(*args, **kwargs)\n",
    "\n",
    "    @line_magic\n",
    "    def data(self, line):\n",
    "        line = line.replace('\\\\', '/')\n",
    "        \n",
    "        base_path = config.properties.data_folder\n",
    "        base_path = base_path.replace('\\\\', '/')\n",
    "        # base_folder = os.path.split(base_path)[1]\n",
    "        \n",
    "        logging.debug(f'Dirs: {os.listdir(base_path)}')\n",
    "        \n",
    "        if '/' not in line:\n",
    "            logging.debug('No date provided, getting latest date folder')\n",
    "            date_folders = reversed(os.listdir(base_path))\n",
    "            for date_folder in date_folders:\n",
    "                try:\n",
    "                    parse(date_folder)\n",
    "                    logging.debug(f'Date folder: {date_folder}')\n",
    "                    # date_folder has date format, exit loop\n",
    "                    break\n",
    "                except:\n",
    "                    # date_folder does not have date format, continuing to next\n",
    "                    continue\n",
    "            else:\n",
    "                raise RuntimeError(f'No date folder found in {base_path}')\n",
    "            # No date provided, so any data folder must match line\n",
    "            data_str = line\n",
    "        elif ':' in line:\n",
    "            raise NotImplementedError('Full paths not yet implemented')\n",
    "        else:\n",
    "            date_folder, data_str = line.split('/')[-2:]\n",
    "        date_path = os.path.join(base_path, date_folder)\n",
    "        \n",
    "        data_folders = reversed(os.listdir(date_path))\n",
    "        data_folder = next(folder for folder in data_folders if data_str in folder)\n",
    "        data_path = os.path.join(date_folder, data_folder)\n",
    "        logging.debug(f'Data path: {data_path}')\n",
    "\n",
    "        # Update cell\n",
    "        contents = f\"data = load_data(r'{data_path}')\"\n",
    "        self.shell.set_next_input(contents, replace=True)\n",
    "        self.shell.run_cell(contents, store_history=False)"
   ]
  },
  {
   "cell_type": "code",
   "execution_count": 75,
   "metadata": {
    "collapsed": true
   },
   "outputs": [],
   "source": [
    "ip = get_ipython()\n",
    "mm = ip.magics_manager\n",
    "mm.register(CustomMagics)"
   ]
  },
  {
   "cell_type": "code",
   "execution_count": 71,
   "metadata": {},
   "outputs": [],
   "source": [
    "data = 1"
   ]
  }
 ],
 "metadata": {
  "kernelspec": {
   "display_name": "Python 3",
   "language": "python",
   "name": "python3"
  },
  "language_info": {
   "codemirror_mode": {
    "name": "ipython",
    "version": 3
   },
   "file_extension": ".py",
   "mimetype": "text/x-python",
   "name": "python",
   "nbconvert_exporter": "python",
   "pygments_lexer": "ipython3",
   "version": "3.6.0"
  }
 },
 "nbformat": 4,
 "nbformat_minor": 2
}
