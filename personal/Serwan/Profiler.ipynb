{
 "cells": [
  {
   "cell_type": "code",
   "execution_count": 7,
   "metadata": {
    "collapsed": false
   },
   "outputs": [
    {
     "name": "stdout",
     "output_type": "stream",
     "text": [
      "Initializing imports\n",
      "Initialization complete\n"
     ]
    }
   ],
   "source": [
    "import silq\n",
    "silq.initialize('Serwan')\n",
    "from blinker import signal\n",
    "\n",
    "%matplotlib notebook\n",
    "%load_ext line_profiler"
   ]
  },
  {
   "cell_type": "code",
   "execution_count": null,
   "metadata": {
    "collapsed": true
   },
   "outputs": [],
   "source": [
    "s.connect()"
   ]
  },
  {
   "cell_type": "code",
   "execution_count": 8,
   "metadata": {
    "collapsed": false,
    "deletable": true,
    "editable": true
   },
   "outputs": [],
   "source": [
    "s = signal('pulse')"
   ]
  },
  {
   "cell_type": "code",
   "execution_count": 10,
   "metadata": {
    "collapsed": true
   },
   "outputs": [],
   "source": [
    "from blinker._utilities import (\n",
    "    WeakTypes,\n",
    "    contextmanager,\n",
    "    defaultdict,\n",
    "    hashable_identity,\n",
    "    lazy_property,\n",
    "    reference,\n",
    "    symbol,\n",
    "    )"
   ]
  },
  {
   "cell_type": "code",
   "execution_count": 11,
   "metadata": {
    "collapsed": false
   },
   "outputs": [],
   "source": [
    "pulse_sequence = PulseSequence()\n",
    "pulses = [DCPulse(name='pulse', duration=10, amplitude=1) for k in range(200)]\n",
    "# %lprun -f s.connect pulse_sequence.add(*pulses)\n",
    "%lprun -f reference pulse_sequence.add(*pulses)"
   ]
  },
  {
   "cell_type": "code",
   "execution_count": 24,
   "metadata": {
    "collapsed": true
   },
   "outputs": [],
   "source": [
    "%lprun -f s.connect pulse_sequence.add(*pulses)"
   ]
  },
  {
   "cell_type": "code",
   "execution_count": 14,
   "metadata": {
    "collapsed": false
   },
   "outputs": [
    {
     "name": "stderr",
     "output_type": "stream",
     "text": [
      "ERROR:root:Cell magic `%%lprun` not found (But line magic `%lprun` exists, did you mean that instead?).\n"
     ]
    }
   ],
   "source": [
    "%%lprun\n",
    "loops = 100\n",
    "\n",
    "pulse_sequence = PulseSequence()\n",
    "for k in range(loops):\n",
    "    pulse = DCPulse(name='pulse', duration=10, amplitude=1)\n",
    "    pulse_sequence.add(pulse)"
   ]
  },
  {
   "cell_type": "markdown",
   "metadata": {},
   "source": [
    "# Testing"
   ]
  }
 ],
 "metadata": {
  "kernelspec": {
   "display_name": "Python 3",
   "language": "python",
   "name": "python3"
  },
  "language_info": {
   "codemirror_mode": {
    "name": "ipython",
    "version": 3
   },
   "file_extension": ".py",
   "mimetype": "text/x-python",
   "name": "python",
   "nbconvert_exporter": "python",
   "pygments_lexer": "ipython3",
   "version": "3.6.0"
  }
 },
 "nbformat": 4,
 "nbformat_minor": 2
}
