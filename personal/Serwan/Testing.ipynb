{
 "cells": [
  {
   "cell_type": "code",
   "execution_count": 1,
   "metadata": {
    "collapsed": true
   },
   "outputs": [],
   "source": [
    "import numpy as np"
   ]
  },
  {
   "cell_type": "code",
   "execution_count": 48,
   "metadata": {},
   "outputs": [
    {
     "data": {
      "text/plain": [
       "array([[ 0,  1,  2,  3,  4,  5,  6,  7,  8,  9, 10, 11, 12, 13],\n",
       "       [ 0,  1,  2,  3,  4,  5,  6,  7,  8,  9, 10, 11, 12, 13],\n",
       "       [ 0,  1,  2,  3,  4,  5,  6,  7,  8,  9, 10, 11, 12, 13],\n",
       "       [ 0,  1,  2,  3,  4,  5,  6,  7,  8,  9, 10, 11, 12, 13]])"
      ]
     },
     "execution_count": 48,
     "metadata": {},
     "output_type": "execute_result"
    }
   ],
   "source": [
    "pulse_trace = np.arange(14)\n",
    "pulse_trace = np.tile(pulse_trace, (4, 1))\n",
    "pulse_trace"
   ]
  },
  {
   "cell_type": "code",
   "execution_count": 59,
   "metadata": {},
   "outputs": [
    {
     "data": {
      "text/plain": [
       "[12, 14]"
      ]
     },
     "execution_count": 59,
     "metadata": {},
     "output_type": "execute_result"
    }
   ],
   "source": [
    "segments_idx[k:k+2]"
   ]
  },
  {
   "cell_type": "code",
   "execution_count": 62,
   "metadata": {},
   "outputs": [
    {
     "name": "stdout",
     "output_type": "stream",
     "text": [
      "segments_idx: [0, 2, 5, 7, 9, 12, 14]\n",
      "slice: [0, 2]\n",
      "slice: [2, 5]\n",
      "slice: [5, 7]\n",
      "slice: [7, 9]\n",
      "slice: [9, 12]\n",
      "slice: [12, 14]\n"
     ]
    }
   ],
   "source": [
    "pts = pulse_trace.shape[1]\n",
    "segments = 6\n",
    "segments_idx = [int(round(pts * idx / segments)) for idx in np.arange(segments+1)]\n",
    "print(f'segments_idx: {segments_idx}')\n",
    "\n",
    "arr = np.zeros(segments)\n",
    "for k in range(segments):\n",
    "    print(f'slice: {segments_idx[k:k+2]}')\n",
    "#     print(f'arr: {pulse_trace[:,segments_idx[k]:segments_idx[k+1]]}')\n",
    "    arr[k] = np.mean(pulse_trace[:,segments_idx[k:k+1]])"
   ]
  },
  {
   "cell_type": "code",
   "execution_count": 34,
   "metadata": {
    "collapsed": true
   },
   "outputs": [],
   "source": [
    "ch = 'chA'\n",
    "pulse_traces = {'pulse_name': {}}"
   ]
  },
  {
   "cell_type": "code",
   "execution_count": 20,
   "metadata": {},
   "outputs": [
    {
     "data": {
      "text/plain": [
       "[array([[0, 1],\n",
       "        [0, 1],\n",
       "        [0, 1],\n",
       "        [0, 1]]), array([[2, 3],\n",
       "        [2, 3],\n",
       "        [2, 3],\n",
       "        [2, 3]]), array([[4, 5],\n",
       "        [4, 5],\n",
       "        [4, 5],\n",
       "        [4, 5]]), array([[6, 7],\n",
       "        [6, 7],\n",
       "        [6, 7],\n",
       "        [6, 7]]), array([[8, 9],\n",
       "        [8, 9],\n",
       "        [8, 9],\n",
       "        [8, 9]])]"
      ]
     },
     "execution_count": 20,
     "metadata": {},
     "output_type": "execute_result"
    }
   ],
   "source": [
    "arr = "
   ]
  }
 ],
 "metadata": {
  "kernelspec": {
   "display_name": "Python 3",
   "language": "python",
   "name": "python3"
  },
  "language_info": {
   "codemirror_mode": {
    "name": "ipython",
    "version": 3
   },
   "file_extension": ".py",
   "mimetype": "text/x-python",
   "name": "python",
   "nbconvert_exporter": "python",
   "pygments_lexer": "ipython3",
   "version": "3.6.0"
  }
 },
 "nbformat": 4,
 "nbformat_minor": 2
}
