{
 "cells": [
  {
   "cell_type": "code",
   "execution_count": 2,
   "metadata": {
    "collapsed": false,
    "init_cell": true
   },
   "outputs": [
    {
     "name": "stdout",
     "output_type": "stream",
     "text": [
      "Initializing imports\n",
      "Initializing functions\n",
      "Initializing data\n",
      "Initializing analysis\n",
      "Initializing plotting\n",
      "Initialization complete\n"
     ]
    }
   ],
   "source": [
    "# %matplotlib notebook\n",
    "import silq\n",
    "silq.initialize(\"EWJN\", mode='analysis')\n",
    "\n",
    "from silq.tests.test_parameters import GaussianParameter, Gaussian2DParameter\n",
    "from silq.measurements.measurement_modules import *\n",
    "from silq.measurements.measurement_types import *\n",
    "\n",
    "dummy_parameter = ManualParameter(name='dummy', initial_value=0)\n",
    "dummy_parameter2 = ManualParameter(name='dummy2', initial_value=0)\n",
    "gaussian_parameter = GaussianParameter('gaussian', set_parameter=dummy_parameter, std=4)\n",
    "gaussian_2D_parameter = Gaussian2DParameter('gaussian', set_parameters=[dummy_parameter, dummy_parameter2], std=4)\n",
    "\n",
    "qc.show_subprocess_widget()"
   ]
  },
  {
   "cell_type": "markdown",
   "metadata": {
    "heading_collapsed": true
   },
   "source": [
    "# Loop measurements"
   ]
  },
  {
   "cell_type": "markdown",
   "metadata": {
    "heading_collapsed": true,
    "hidden": true
   },
   "source": [
    "## Loop 0D measurement"
   ]
  },
  {
   "cell_type": "code",
   "execution_count": 3,
   "metadata": {
    "collapsed": false,
    "hidden": true
   },
   "outputs": [
    {
     "name": "stdout",
     "output_type": "stream",
     "text": [
      "DataSet:\n",
      "data = qc.load_data('2017-01-04/#030_loop_0D_gaussian_11-21-08')\n",
      "   mode = DataMode.LOCAL\n",
      "   <Type>   | <array_id> | <array.name> | <array.shape>\n",
      "   Setpoint | single_set | single       | (1,)\n",
      "   Measured | gaussian   | gaussian     | (1,)\n",
      "acquired at 2017-01-04 11:21:09\n"
     ]
    },
    {
     "data": {
      "text/plain": [
       "({}, 1.0)"
      ]
     },
     "execution_count": 3,
     "metadata": {},
     "output_type": "execute_result"
    }
   ],
   "source": [
    "dummy_parameter[0]\n",
    "\n",
    "loop0D_msmt = Loop0DMeasurement('loop_0D', acquisition_parameter=gaussian_parameter,\n",
    "                                discriminant='gaussian')\n",
    "condition_set = ConditionSet(('gaussian', '>', 0.9))\n",
    "loop0D_msmt.condition_sets = [condition_set]\n",
    "data =loop0D_msmt()\n",
    "\n",
    "loop0D_msmt.get_optimum()"
   ]
  },
  {
   "cell_type": "code",
   "execution_count": 4,
   "metadata": {
    "collapsed": false,
    "hidden": true
   },
   "outputs": [
    {
     "name": "stdout",
     "output_type": "stream",
     "text": [
      "DataSet:\n",
      "data = qc.load_data('2017-01-04/#031_loop_0D_gaussian_11-21-09')\n",
      "   mode = DataMode.LOCAL\n",
      "   <Type>   | <array_id> | <array.name> | <array.shape>\n",
      "   Setpoint | single_set | single       | (1,)\n",
      "   Measured | gaussian   | gaussian     | (1,)\n",
      "acquired at 2017-01-04 11:21:09\n"
     ]
    },
    {
     "data": {
      "text/plain": [
       "({}, nan)"
      ]
     },
     "execution_count": 4,
     "metadata": {},
     "output_type": "execute_result"
    }
   ],
   "source": [
    "dummy_parameter(3)\n",
    "data =loop0D_msmt()\n",
    "loop0D_msmt.get_optimum()"
   ]
  },
  {
   "cell_type": "markdown",
   "metadata": {
    "heading_collapsed": true,
    "hidden": true
   },
   "source": [
    "## Loop 1D measurement"
   ]
  },
  {
   "cell_type": "code",
   "execution_count": 5,
   "metadata": {
    "collapsed": false,
    "hidden": true
   },
   "outputs": [],
   "source": [
    "loop1D_msmt = Loop1DMeasurement('loop_1D', acquisition_parameter=gaussian_parameter, \n",
    "                                set_parameter=dummy_parameter, discriminant='gaussian')\n",
    "condition_set = ConditionSet(('gaussian', '>', 0.9))\n",
    "loop1D_msmt.condition_sets = [condition_set]\n",
    "\n",
    "data = loop1D_msmt(step=0.1, points=10)\n",
    "data =loop1D_msmt()"
   ]
  },
  {
   "cell_type": "code",
   "execution_count": 6,
   "metadata": {
    "collapsed": false,
    "hidden": true
   },
   "outputs": [
    {
     "data": {
      "text/plain": [
       "DataArray[10]: gaussian\n",
       "array([ 0.666,  0.645,  0.623,  0.602,  0.58 ,  0.559,  0.538,  0.517,\n",
       "        0.496,  0.475])"
      ]
     },
     "execution_count": 6,
     "metadata": {},
     "output_type": "execute_result"
    }
   ],
   "source": [
    "data.sync()\n",
    "data.gaussian"
   ]
  },
  {
   "cell_type": "markdown",
   "metadata": {
    "heading_collapsed": true,
    "hidden": true
   },
   "source": [
    "## Loop 2D measurement"
   ]
  },
  {
   "cell_type": "code",
   "execution_count": 7,
   "metadata": {
    "collapsed": false,
    "hidden": true
   },
   "outputs": [
    {
     "name": "stdout",
     "output_type": "stream",
     "text": [
      "DataSet:\n",
      "data = qc.load_data('2017-01-04/#033_loop_2D_dummy2_dummy_gaussian_11-21-09')\n",
      "   mode = DataMode.LOCAL\n",
      "   <Type>   | <array_id> | <array.name> | <array.shape>\n",
      "   Setpoint | dummy2_set | dummy2       | (11,)\n",
      "   Setpoint | dummy_set  | dummy        | (11, 11)\n",
      "   Measured | gaussian   | gaussian     | (11, 11)\n",
      "started at 2017-01-04 11:21:09\n",
      "Updating set parameters to optimal values\n"
     ]
    }
   ],
   "source": [
    "loop2D_msmt = Loop2DMeasurement('loop_2D', acquisition_parameter=gaussian_2D_parameter, \n",
    "                                set_parameters=[dummy_parameter2, dummy_parameter],\n",
    "                                discriminant='gaussian', silent=False)\n",
    "condition_set = ConditionSet(('gaussian', '>', 0.99), update=True)\n",
    "loop2D_msmt.condition_sets = [condition_set]\n",
    "loop2D_msmt(step=1, points=11)\n",
    "data =loop2D_msmt()"
   ]
  },
  {
   "cell_type": "code",
   "execution_count": 8,
   "metadata": {
    "collapsed": false,
    "hidden": true
   },
   "outputs": [
    {
     "data": {
      "text/plain": [
       "<qcodes.plots.qcmatplotlib.MatPlot at 0x49e8780>"
      ]
     },
     "execution_count": 8,
     "metadata": {},
     "output_type": "execute_result"
    }
   ],
   "source": [
    "data.sync()\n",
    "qc.MatPlot(data.gaussian)"
   ]
  },
  {
   "cell_type": "markdown",
   "metadata": {},
   "source": [
    "# Measurement Parameters"
   ]
  },
  {
   "cell_type": "markdown",
   "metadata": {
    "heading_collapsed": true
   },
   "source": [
    "## Peak parameter"
   ]
  },
  {
   "cell_type": "code",
   "execution_count": 9,
   "metadata": {
    "collapsed": false,
    "hidden": true
   },
   "outputs": [],
   "source": [
    "dummy_parameter2(3)\n"
   ]
  },
  {
   "cell_type": "code",
   "execution_count": 10,
   "metadata": {
    "collapsed": false,
    "hidden": true
   },
   "outputs": [],
   "source": [
    "from silq.parameters.measurement_parameters import TrackPeakParameter\n",
    "\n",
    "peak_parameter = TrackPeakParameter('track', \n",
    "                                    set_parameter=dummy_parameter2,\n",
    "                                    acquisition_parameter=gaussian_2D_parameter,\n",
    "                                    peak_width=3, points=11,\n",
    "                                    discriminant='gaussian',\n",
    "                                    silent=False, threshold=0.2)"
   ]
  },
  {
   "cell_type": "code",
   "execution_count": 11,
   "metadata": {
    "collapsed": false,
    "hidden": true,
    "scrolled": false
   },
   "outputs": [
    {
     "name": "stdout",
     "output_type": "stream",
     "text": [
      "Updating set parameters to initial values\n",
      "Updating set parameters to initial values\n",
      "Updating set parameters to initial values\n",
      "Updating set parameters to optimal values\n",
      "Updating set parameters to optimal values\n",
      "Updating set parameters to optimal values\n",
      "Updating set parameters to optimal values\n",
      "Updating set parameters to optimal values\n",
      "Updating set parameters to optimal values\n",
      "Updating set parameters to optimal values\n",
      "Updating set parameters to optimal values\n",
      "Updating set parameters to initial values\n",
      "Updating set parameters to initial values\n",
      "Updating set parameters to initial values\n",
      "Updating set parameters to initial values\n",
      "Updating set parameters to initial values\n",
      "Updating set parameters to initial values\n",
      "Updating set parameters to initial values\n",
      "DataSet:\n",
      "data = qc.load_data('2017-01-04/#034_test_11-21-10')\n",
      "   mode = DataMode.LOCAL\n",
      "   <Type>   | <array_id>       | <array.name>     | <array.shape>\n",
      "   Setpoint | dummy_set        | dummy            | (18,)\n",
      "   Measured | index0           | index0           | (18, 11)\n",
      "   Measured | optimal_set_vals | optimal_set_vals | (18,)\n",
      "   Measured | dummy2_set       | dummy2_set       | (18, 11)\n",
      "   Measured | gaussian         | gaussian         | (18, 11)\n",
      "started at 2017-01-04 11:21:10\n"
     ]
    }
   ],
   "source": [
    "data = qc.Loop(dummy_parameter[-3:6:0.5]).each(peak_parameter).run(name='test', background=False)"
   ]
  },
  {
   "cell_type": "code",
   "execution_count": 12,
   "metadata": {
    "collapsed": false,
    "hidden": true
   },
   "outputs": [
    {
     "data": {
      "text/plain": [
       "DataArray[18]: optimal_set_vals\n",
       "array([ nan,  nan,  nan,  1.5,  0. ,  0. ,  0. ,  0. ,  0. ,  0. ,  0. ,\n",
       "        nan,  nan,  nan,  nan,  nan,  nan,  nan])"
      ]
     },
     "execution_count": 12,
     "metadata": {},
     "output_type": "execute_result"
    }
   ],
   "source": [
    "data.sync()\n",
    "data.optimal_set_vals"
   ]
  },
  {
   "cell_type": "code",
   "execution_count": 13,
   "metadata": {
    "collapsed": false,
    "hidden": true
   },
   "outputs": [],
   "source": [
    "plot = qc.MatPlot(subplots=2)\n",
    "plot[0].add(data.gaussian)\n",
    "plot[1].add(data.optimal_set_vals)"
   ]
  },
  {
   "cell_type": "markdown",
   "metadata": {},
   "source": [
    "## Calibration parameter"
   ]
  },
  {
   "cell_type": "code",
   "execution_count": 14,
   "metadata": {
    "collapsed": false
   },
   "outputs": [
    {
     "name": "stdout",
     "output_type": "stream",
     "text": [
      "DataSet:\n",
      "data = qc.load_data('2017-01-04/#053_test_2D_11-21-11')\n",
      "   mode = DataMode.LOCAL\n",
      "   <Type>   | <array_id> | <array.name> | <array.shape>\n",
      "   Setpoint | dummy_set  | dummy        | (100,)\n",
      "   Setpoint | dummy2_set | dummy2       | (100, 100)\n",
      "   Measured | gaussian   | gaussian     | (100, 100)\n",
      "started at 2017-01-04 11:21:13\n"
     ]
    },
    {
     "data": {
      "text/plain": [
       "<qcodes.plots.qcmatplotlib.MatPlot at 0xbb21a58>"
      ]
     },
     "execution_count": 14,
     "metadata": {},
     "output_type": "execute_result"
    }
   ],
   "source": [
    "data = qc.Loop(\n",
    "    dummy_parameter[-5:5:0.1]).loop(\n",
    "    dummy_parameter2[-5:5:0.1]).each(\n",
    "    gaussian_2D_parameter).run(\n",
    "    name='test_2D', background=False)\n",
    "qc.MatPlot(data.gaussian)"
   ]
  },
  {
   "cell_type": "code",
   "execution_count": null,
   "metadata": {
    "collapsed": true
   },
   "outputs": [],
   "source": [
    "dummy_parameter(2)\n",
    "dummy_parameter2(3)"
   ]
  },
  {
   "cell_type": "code",
   "execution_count": 29,
   "metadata": {
    "collapsed": false
   },
   "outputs": [],
   "source": [
    "condition_sets = [ConditionSet(('gaussian', '>', 0.4), on_success='success', update=True)]\n",
    "measurements = [Loop2DMeasurement('detailed', set_parameters),\n",
    "                Loop2DMeasurement('rough',set_vals=[dummy_parameter[-5:5:1], dummy_parameter2[-5:5:1]])]\n",
    "measurement_sequence = MeasurementSequence('retune', measurements=measurements,\n",
    "                                           acquisition_parameter=gaussian_2D_parameter,\n",
    "                                           condition_sets=condition_sets, silent=False)"
   ]
  },
  {
   "cell_type": "code",
   "execution_count": 30,
   "metadata": {
    "collapsed": false
   },
   "outputs": [],
   "source": [
    "from silq.parameters.measurement_parameters import MeasurementSequenceParameter\n",
    "\n",
    "retune_parameter = MeasurementSequenceParameter('retune_parameter', measurement_sequence,\n",
    "                                                set_parameters=[dummy_parameter, dummy_parameter2])"
   ]
  },
  {
   "cell_type": "code",
   "execution_count": 31,
   "metadata": {
    "collapsed": false
   },
   "outputs": [
    {
     "name": "stdout",
     "output_type": "stream",
     "text": [
      "Performing measurement detailed measurement\n",
      "DataSet:\n",
      "data = qc.load_data('2017-01-04/#058_detailed_dummy_dummy2_gaussian_11-24-37')\n",
      "   mode = DataMode.LOCAL\n",
      "   <Type>   | <array_id> | <array.name> | <array.shape>\n",
      "   Setpoint | dummy_set  | dummy        | (3,)\n",
      "   Setpoint | dummy2_set | dummy2       | (3, 10)\n",
      "   Measured | gaussian   | gaussian     | (3, 10)\n",
      "started at 2017-01-04 11:24:37\n",
      "Performing measurement rough measurement\n",
      "DataSet:\n",
      "data = qc.load_data('2017-01-04/#059_rough_dummy_dummy2_gaussian_11-24-37')\n",
      "   mode = DataMode.LOCAL\n",
      "   <Type>   | <array_id> | <array.name> | <array.shape>\n",
      "   Setpoint | dummy_set  | dummy        | (10,)\n",
      "   Setpoint | dummy2_set | dummy2       | (10, 10)\n",
      "   Measured | gaussian   | gaussian     | (10, 10)\n",
      "started at 2017-01-04 11:24:37\n",
      "Finished measurements\n"
     ]
    },
    {
     "data": {
      "text/plain": [
       "(2, [0, 0], 1.0)"
      ]
     },
     "execution_count": 31,
     "metadata": {},
     "output_type": "execute_result"
    }
   ],
   "source": [
    "retune_parameter()"
   ]
  },
  {
   "cell_type": "code",
   "execution_count": 33,
   "metadata": {
    "collapsed": false
   },
   "outputs": [
    {
     "data": {
      "text/plain": [
       "<qcodes.plots.qcmatplotlib.MatPlot at 0xbabb198>"
      ]
     },
     "execution_count": 33,
     "metadata": {},
     "output_type": "execute_result"
    }
   ],
   "source": [
    "dataset = measurement_sequence.datasets[0]\n",
    "qc.MatPlot(dataset.gaussian)"
   ]
  }
 ],
 "metadata": {
  "anaconda-cloud": {},
  "kernelspec": {
   "display_name": "Python [Root]",
   "language": "python",
   "name": "Python [Root]"
  },
  "language_info": {
   "codemirror_mode": {
    "name": "ipython",
    "version": 3
   },
   "file_extension": ".py",
   "mimetype": "text/x-python",
   "name": "python",
   "nbconvert_exporter": "python",
   "pygments_lexer": "ipython3",
   "version": "3.5.2"
  },
  "nav_menu": {},
  "toc": {
   "navigate_menu": false,
   "number_sections": true,
   "sideBar": false,
   "threshold": 6,
   "toc_cell": false,
   "toc_section_display": "block",
   "toc_window_display": false
  }
 },
 "nbformat": 4,
 "nbformat_minor": 0
}
