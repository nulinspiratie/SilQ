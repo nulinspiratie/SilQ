{
 "cells": [
  {
   "cell_type": "code",
   "execution_count": 2,
   "metadata": {
    "collapsed": false,
    "init_cell": true
   },
   "outputs": [
    {
     "name": "stdout",
     "output_type": "stream",
     "text": [
      "Initializing imports\n",
      "Initializing functions\n",
      "Initializing data\n",
      "Initializing analysis\n",
      "Initializing plotting\n",
      "Initialization complete\n"
     ]
    }
   ],
   "source": [
    "import silq\n",
    "silq.initialize(\"EWJN\", mode='analysis')"
   ]
  },
  {
   "cell_type": "code",
   "execution_count": 3,
   "metadata": {
    "collapsed": true
   },
   "outputs": [],
   "source": [
    "from silq.measurements.measurement_modules import *\n",
    "from silq.measurements.measurement_types import *"
   ]
  },
  {
   "cell_type": "code",
   "execution_count": 4,
   "metadata": {
    "collapsed": false
   },
   "outputs": [],
   "source": [
    "adiabatic_ESR_parameter = ManualParameter(name='adiabatic_ESR', initial_value=42)\n",
    "dummy_parameter = ManualParameter(name='dummy', initial_value=42)\n",
    "dummy_parameter2 = ManualParameter(name='dummy2', initial_value=42)\n",
    "adiabatic_ESR_parameter.get = np.random.random\n",
    "\n",
    "condition_sets = [ConditionSet(('contrast', '>', 0.4), on_success='update')]\n",
    "measurements = [Loop2DMeasurement('detailed', acquisition_parameter=adiabatic_ESR_parameter),\n",
    "                Loop2DMeasurement('rough', acquisition_parameter=adiabatic_ESR_parameter)]\n",
    "measurement_sequence = MeasurementSequence('retune', measurements=measurements,\n",
    "                                           condition_sets=condition_sets)"
   ]
  },
  {
   "cell_type": "markdown",
   "metadata": {},
   "source": [
    "# Loop measurements"
   ]
  },
  {
   "cell_type": "markdown",
   "metadata": {},
   "source": [
    "## Loop 0D measurement"
   ]
  },
  {
   "cell_type": "code",
   "execution_count": 5,
   "metadata": {
    "collapsed": false
   },
   "outputs": [],
   "source": [
    "loop0D_msmt = Loop0DMeasurement('loop_0D', acquisition_parameter=adiabatic_ESR_parameter, \n",
    "                                base_folder='2016-12-29/#028_test_measure_adiabatic_ESR_16-28-37')\n",
    "# data =loop0D_msmt()"
   ]
  },
  {
   "cell_type": "markdown",
   "metadata": {},
   "source": [
    "## Loop 1D measurement"
   ]
  },
  {
   "cell_type": "code",
   "execution_count": 22,
   "metadata": {
    "collapsed": false
   },
   "outputs": [
    {
     "name": "stdout",
     "output_type": "stream",
     "text": [
      "DataSet:\n",
      "   mode     = DataMode.LOCAL\n",
      "   location = '2016-12-29/#028_test_measure_adiabatic_ESR_16-28-37/#084_loop_1D_dummy_adiabatic_ESR_18-09-55'\n",
      "   <Type>   | <array_id>    | <array.name>  | <array.shape>\n",
      "   Setpoint | dummy_set     | dummy         | (10,)\n",
      "   Measured | adiabatic_ESR | adiabatic_ESR | (10,)\n",
      "started at 2016-12-29 18:09:55\n"
     ]
    }
   ],
   "source": [
    "loop1D_msmt = Loop1DMeasurement('loop_1D', acquisition_parameter=adiabatic_ESR_parameter, \n",
    "                                base_folder='2016-12-29/#028_test_measure_adiabatic_ESR_16-28-37',\n",
    "                                set_parameter=dummy_parameter)\n",
    "loop1D_msmt(range(10))\n",
    "# data =loop1D_msmt()\n",
    "\n",
    "data = loop1D_msmt(step=1, points=10)\n",
    "data =loop1D_msmt()"
   ]
  },
  {
   "cell_type": "code",
   "execution_count": 23,
   "metadata": {
    "collapsed": false
   },
   "outputs": [
    {
     "data": {
      "text/plain": [
       "{'action': None,\n",
       " 'is_satisfied': True,\n",
       " 'measurement': 'loop_1D',\n",
       " 'satisfied_arr': array([False, False, False, False, False, False, False,  True, False, False], dtype=bool)}"
      ]
     },
     "execution_count": 23,
     "metadata": {},
     "output_type": "execute_result"
    }
   ],
   "source": [
    "condition_set = ConditionSet(('adiabatic_ESR', '>', 0.9))\n",
    "loop1D_msmt.check_condition_sets(condition_set)"
   ]
  },
  {
   "cell_type": "code",
   "execution_count": 24,
   "metadata": {
    "collapsed": false
   },
   "outputs": [
    {
     "data": {
      "text/plain": [
       "DataArray[10]: adiabatic_ESR\n",
       "array([ 0.45 ,  0.744,  0.297,  0.049,  0.191,  0.605,  0.181,  0.935,\n",
       "        0.362,  0.227])"
      ]
     },
     "execution_count": 24,
     "metadata": {},
     "output_type": "execute_result"
    }
   ],
   "source": [
    "data.adiabatic_ESR"
   ]
  },
  {
   "cell_type": "markdown",
   "metadata": {},
   "source": [
    "## Loop 2D measurement"
   ]
  },
  {
   "cell_type": "code",
   "execution_count": 9,
   "metadata": {
    "collapsed": false
   },
   "outputs": [
    {
     "name": "stdout",
     "output_type": "stream",
     "text": [
      "DataSet:\n",
      "   mode = DataMode.LOCAL\n",
      "   data = qc.load_data('2016-12-29/#028_test_measure_adiabatic_ESR_16-28-37/#085_loop_1D_dummy_dummy2_adiabatic_ESR_09-30-13')\n",
      "   <Type>   | <array_id>    | <array.name>  | <array.shape>\n",
      "   Setpoint | dummy_set     | dummy         | (10,)\n",
      "   Setpoint | dummy2_set    | dummy2        | (10, 10)\n",
      "   Measured | adiabatic_ESR | adiabatic_ESR | (10, 10)\n",
      "started at 2016-12-31 09:30:14\n"
     ]
    }
   ],
   "source": [
    "loop2D_msmt = Loop2DMeasurement('loop_1D', acquisition_parameter=adiabatic_ESR_parameter, \n",
    "                                base_folder='2016-12-29/#028_test_measure_adiabatic_ESR_16-28-37',\n",
    "                                set_parameters=[dummy_parameter, dummy_parameter2])\n",
    "loop2D_msmt(steps=1, points=10)\n",
    "data =loop2D_msmt()"
   ]
  }
 ],
 "metadata": {
  "anaconda-cloud": {},
  "kernelspec": {
   "display_name": "Python [Root]",
   "language": "python",
   "name": "Python [Root]"
  },
  "language_info": {
   "codemirror_mode": {
    "name": "ipython",
    "version": 3
   },
   "file_extension": ".py",
   "mimetype": "text/x-python",
   "name": "python",
   "nbconvert_exporter": "python",
   "pygments_lexer": "ipython3",
   "version": "3.5.2"
  },
  "nav_menu": {},
  "toc": {
   "navigate_menu": false,
   "number_sections": true,
   "sideBar": false,
   "threshold": 6,
   "toc_cell": false,
   "toc_section_display": "block",
   "toc_window_display": false
  }
 },
 "nbformat": 4,
 "nbformat_minor": 0
}
