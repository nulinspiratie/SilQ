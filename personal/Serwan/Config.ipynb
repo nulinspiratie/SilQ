{
 "cells": [
  {
   "cell_type": "code",
   "execution_count": 1,
   "metadata": {
    "collapsed": false
   },
   "outputs": [
    {
     "name": "stdout",
     "output_type": "stream",
     "text": [
      "Initializing imports\n",
      "Initialization complete\n"
     ]
    },
    {
     "name": "stderr",
     "output_type": "stream",
     "text": [
      "C:\\ProgramData\\Anaconda3\\lib\\site-packages\\matplotlib\\__init__.py:1401: UserWarning:  This call to matplotlib.use() has no effect\n",
      "because the backend has already been chosen;\n",
      "matplotlib.use() must be called *before* pylab, matplotlib.pyplot,\n",
      "or matplotlib.backends is imported for the first time.\n",
      "\n",
      "  warnings.warn(_use_error_msg)\n",
      "c:\\users\\serwa_000\\documents\\github\\silq\\silq\\__init__.py:124: UserWarning: 'properties' should be added to SilQ config\n",
      "  warnings.warn(\"'properties' should be added to SilQ config\")\n"
     ]
    }
   ],
   "source": [
    "import unittest\n",
    "from blinker import signal, Signal\n",
    "import tempfile\n",
    "import silq\n",
    "from silq.tools.config import *\n",
    "silq.initialize('Serwan')"
   ]
  },
  {
   "cell_type": "code",
   "execution_count": 2,
   "metadata": {
    "collapsed": false
   },
   "outputs": [
    {
     "data": {
      "application/javascript": [
       "\n",
       "Jupyter.keyboard_manager.command_shortcuts.add_shortcut('r', {\n",
       "    help : 'run cell',\n",
       "    help_index : 'zz',\n",
       "    handler : function (event) {\n",
       "        IPython.notebook.restart_run_all();\n",
       "        return false;\n",
       "    }}\n",
       ");"
      ],
      "text/plain": [
       "<IPython.core.display.Javascript object>"
      ]
     },
     "metadata": {},
     "output_type": "display_data"
    }
   ],
   "source": [
    "%%javascript\n",
    "\n",
    "Jupyter.keyboard_manager.command_shortcuts.add_shortcut('r', {\n",
    "    help : 'run cell',\n",
    "    help_index : 'zz',\n",
    "    handler : function (event) {\n",
    "        IPython.notebook.restart_run_all();\n",
    "        return false;\n",
    "    }}\n",
    ");"
   ]
  },
  {
   "cell_type": "code",
   "execution_count": 24,
   "metadata": {
    "collapsed": true
   },
   "outputs": [],
   "source": [
    "class TestConfig(unittest.TestCase):\n",
    "    def setUp(self):\n",
    "        self.folder = tempfile.TemporaryDirectory()\n",
    "        self.d = {\n",
    "            'pulses': {\n",
    "                'read': {'t_start': 0,\n",
    "                         't_stop': 10}},\n",
    "            'connections': ['connection1', 'connection2']}\n",
    "        self.config = DictConfig('env1', folder=self.folder.name,\n",
    "                                 config=self.d)\n",
    "\n",
    "    def tearDown(self):\n",
    "        self.folder.cleanup()\n",
    "\n",
    "    def test_dicts_equal(self):\n",
    "        self.assertTrue(self.dicts_equal(self.d, self.d))\n",
    "        self.assertTrue(self.dicts_equal(self.d, self.config))\n",
    "        self.assertTrue(self.dicts_equal(self.config, self.config))\n",
    "        self.config.x = 2\n",
    "        self.assertFalse(self.dicts_equal(self.d, self.config))\n",
    "\n",
    "    def test_save_load_dir(self):\n",
    "        self.config.save(folder=self.folder.name, save_as_dir=True)\n",
    "        \n",
    "        filepath = os.path.join(self.folder.name, '{}.json'.format(self.config.name))\n",
    "        folderpath = os.path.join(self.folder.name, self.config.name)\n",
    "        self.assertFalse(os.path.exists(filepath))\n",
    "        self.assertTrue(os.path.isdir(folderpath))\n",
    "        for filename in self.config.keys():\n",
    "            filepath = os.path.join(folderpath, '{}.json'.format(filename))\n",
    "            self.assertTrue(os.path.exists(filepath))\n",
    "        \n",
    "        config_loaded = DictConfig('env1', folder=self.folder.name)\n",
    "        self.assertTrue(config_loaded.save_as_dir)\n",
    "        self.assertTrue(self.dicts_equal(self.config, config_loaded))\n",
    "        \n",
    "        new_folder = tempfile.TemporaryDirectory()\n",
    "        config_loaded.pulses.save_as_dir = True\n",
    "        config_loaded.save(folder=new_folder.name)\n",
    "        \n",
    "        os.path.isdir(os.path.join(new_folder.name, 'pulses'))\n",
    "        os.path.isfile(os.path.join(new_folder.name, 'pulses', 'read.json'))\n",
    "        os.path.isfile(os.path.join(new_folder.name, 'connections.json'))\n",
    "        \n",
    "        config_loaded2 = DictConfig('env1', folder=new_folder.name)\n",
    "        self.assertTrue(self.dicts_equal(self.config, config_loaded2))\n",
    "        self.assertIsInstance(config_loaded2.connections, ListConfig)\n",
    "        \n",
    "        \n",
    "    def test_save_load_file(self):\n",
    "        self.config.save(folder=self.folder.name)\n",
    "        \n",
    "        filepath = os.path.join(self.folder.name, '{}.json'.format(self.config.name))\n",
    "        folderpath = os.path.join(self.folder.name, self.config.name)\n",
    "        self.assertTrue(os.path.exists(filepath))\n",
    "        self.assertFalse(os.path.exists(folderpath))\n",
    "        \n",
    "        config_loaded = DictConfig('env1', folder=self.folder.name)\n",
    "        self.assertFalse(config_loaded.save_as_dir)\n",
    "        self.assertTrue(self.dicts_equal(self.config, config_loaded))\n",
    "\n",
    "    def dicts_equal(self, d1, d2):\n",
    "        d1_keys = list(d1.keys())\n",
    "        for d2_key, d2_val in d2.items():\n",
    "            if d2_key not in d1_keys:\n",
    "                return False\n",
    "            else:\n",
    "                d1_keys.remove(d2_key)\n",
    "                d1_val = d1[d2_key]\n",
    "                if isinstance(d1_val, dict):\n",
    "                    if not isinstance(d2_val, dict):\n",
    "                        return False\n",
    "                    if not self.dicts_equal(d1_val, d2_val):\n",
    "                        return False\n",
    "                elif not d1_val == d2_val:\n",
    "                    return False\n",
    "        return True"
   ]
  },
  {
   "cell_type": "code",
   "execution_count": 25,
   "metadata": {
    "collapsed": false
   },
   "outputs": [
    {
     "name": "stderr",
     "output_type": "stream",
     "text": [
      "test_dicts_equal (__main__.TestConfig) ... ok\n",
      "test_save_load_dir (__main__.TestConfig) ... ok\n",
      "test_save_load_file (__main__.TestConfig) ... ok\n",
      "\n",
      "----------------------------------------------------------------------\n",
      "Ran 3 tests in 0.017s\n",
      "\n",
      "OK\n"
     ]
    },
    {
     "data": {
      "text/plain": [
       "<unittest.runner.TextTestResult run=3 errors=0 failures=0>"
      ]
     },
     "execution_count": 25,
     "metadata": {},
     "output_type": "execute_result"
    }
   ],
   "source": [
    "suite_config = unittest.TestLoader().loadTestsFromModule(TestConfig())\n",
    "suite = unittest.TestSuite([suite_config])\n",
    "unittest.TextTestRunner(verbosity=2, failfast=True).run(suite)"
   ]
  },
  {
   "cell_type": "code",
   "execution_count": 5,
   "metadata": {
    "collapsed": false
   },
   "outputs": [
    {
     "ename": "FileNotFoundError",
     "evalue": "[WinError 3] The system cannot find the path specified: 'C:\\\\Users\\\\SERWA_~1\\\\AppData\\\\Local\\\\Temp\\\\tmpsp1zc3e0\\\\env1'",
     "output_type": "error",
     "traceback": [
      "\u001b[0;31m---------------------------------------------------------------------------\u001b[0m",
      "\u001b[0;31mFileNotFoundError\u001b[0m                         Traceback (most recent call last)",
      "\u001b[0;32m<ipython-input-5-dd5db490b8d3>\u001b[0m in \u001b[0;36m<module>\u001b[0;34m()\u001b[0m\n\u001b[1;32m      1\u001b[0m \u001b[0mtest\u001b[0m \u001b[1;33m=\u001b[0m \u001b[0mTestConfig\u001b[0m\u001b[1;33m(\u001b[0m\u001b[1;33m)\u001b[0m\u001b[1;33m\u001b[0m\u001b[0m\n\u001b[1;32m      2\u001b[0m \u001b[0mtest\u001b[0m\u001b[1;33m.\u001b[0m\u001b[0msetUp\u001b[0m\u001b[1;33m(\u001b[0m\u001b[1;33m)\u001b[0m\u001b[1;33m\u001b[0m\u001b[0m\n\u001b[0;32m----> 3\u001b[0;31m \u001b[0mtest\u001b[0m\u001b[1;33m.\u001b[0m\u001b[0mtest_save_load_dir\u001b[0m\u001b[1;33m(\u001b[0m\u001b[1;33m)\u001b[0m\u001b[1;33m\u001b[0m\u001b[0m\n\u001b[0m",
      "\u001b[0;32m<ipython-input-3-651130c79582>\u001b[0m in \u001b[0;36mtest_save_load_dir\u001b[0;34m(self)\u001b[0m\n\u001b[1;32m     37\u001b[0m         \u001b[0mself\u001b[0m\u001b[1;33m.\u001b[0m\u001b[0mfolder\u001b[0m\u001b[1;33m.\u001b[0m\u001b[0mcleanup\u001b[0m\u001b[1;33m(\u001b[0m\u001b[1;33m)\u001b[0m\u001b[1;33m\u001b[0m\u001b[0m\n\u001b[1;32m     38\u001b[0m         \u001b[0mconfig_loaded\u001b[0m\u001b[1;33m.\u001b[0m\u001b[0mpulses\u001b[0m\u001b[1;33m.\u001b[0m\u001b[0msave_as_dir\u001b[0m \u001b[1;33m=\u001b[0m \u001b[1;32mTrue\u001b[0m\u001b[1;33m\u001b[0m\u001b[0m\n\u001b[0;32m---> 39\u001b[0;31m         \u001b[0mconfig_loaded\u001b[0m\u001b[1;33m.\u001b[0m\u001b[0msave\u001b[0m\u001b[1;33m(\u001b[0m\u001b[1;33m)\u001b[0m\u001b[1;33m\u001b[0m\u001b[0m\n\u001b[0m\u001b[1;32m     40\u001b[0m \u001b[1;33m\u001b[0m\u001b[0m\n\u001b[1;32m     41\u001b[0m \u001b[1;33m\u001b[0m\u001b[0m\n",
      "\u001b[0;32mc:\\users\\serwa_000\\documents\\github\\silq\\silq\\tools\\config.py\u001b[0m in \u001b[0;36msave\u001b[0;34m(self, folder, save_as_dir)\u001b[0m\n\u001b[1;32m    126\u001b[0m             \u001b[0mfolderpath\u001b[0m \u001b[1;33m=\u001b[0m \u001b[0mos\u001b[0m\u001b[1;33m.\u001b[0m\u001b[0mpath\u001b[0m\u001b[1;33m.\u001b[0m\u001b[0mjoin\u001b[0m\u001b[1;33m(\u001b[0m\u001b[0mfolder\u001b[0m\u001b[1;33m,\u001b[0m \u001b[0mself\u001b[0m\u001b[1;33m.\u001b[0m\u001b[0mname\u001b[0m\u001b[1;33m)\u001b[0m\u001b[1;33m\u001b[0m\u001b[0m\n\u001b[1;32m    127\u001b[0m             \u001b[1;32mif\u001b[0m \u001b[1;32mnot\u001b[0m \u001b[0mos\u001b[0m\u001b[1;33m.\u001b[0m\u001b[0mpath\u001b[0m\u001b[1;33m.\u001b[0m\u001b[0misdir\u001b[0m\u001b[1;33m(\u001b[0m\u001b[0mfolderpath\u001b[0m\u001b[1;33m)\u001b[0m\u001b[1;33m:\u001b[0m\u001b[1;33m\u001b[0m\u001b[0m\n\u001b[0;32m--> 128\u001b[0;31m                 \u001b[0mos\u001b[0m\u001b[1;33m.\u001b[0m\u001b[0mmkdir\u001b[0m\u001b[1;33m(\u001b[0m\u001b[1;33m(\u001b[0m\u001b[0mfolderpath\u001b[0m\u001b[1;33m)\u001b[0m\u001b[1;33m)\u001b[0m\u001b[1;33m\u001b[0m\u001b[0m\n\u001b[0m\u001b[1;32m    129\u001b[0m             \u001b[1;32mfor\u001b[0m \u001b[0mfilename\u001b[0m\u001b[1;33m,\u001b[0m \u001b[0mval\u001b[0m \u001b[1;32min\u001b[0m \u001b[0mself\u001b[0m\u001b[1;33m.\u001b[0m\u001b[0mitems\u001b[0m\u001b[1;33m(\u001b[0m\u001b[1;33m)\u001b[0m\u001b[1;33m:\u001b[0m\u001b[1;33m\u001b[0m\u001b[0m\n\u001b[1;32m    130\u001b[0m                 \u001b[0mfilepath\u001b[0m \u001b[1;33m=\u001b[0m \u001b[0mos\u001b[0m\u001b[1;33m.\u001b[0m\u001b[0mpath\u001b[0m\u001b[1;33m.\u001b[0m\u001b[0mjoin\u001b[0m\u001b[1;33m(\u001b[0m\u001b[0mfolderpath\u001b[0m\u001b[1;33m,\u001b[0m \u001b[1;34m'{}.json'\u001b[0m\u001b[1;33m.\u001b[0m\u001b[0mformat\u001b[0m\u001b[1;33m(\u001b[0m\u001b[0mfilename\u001b[0m\u001b[1;33m)\u001b[0m\u001b[1;33m)\u001b[0m\u001b[1;33m\u001b[0m\u001b[0m\n",
      "\u001b[0;31mFileNotFoundError\u001b[0m: [WinError 3] The system cannot find the path specified: 'C:\\\\Users\\\\SERWA_~1\\\\AppData\\\\Local\\\\Temp\\\\tmpsp1zc3e0\\\\env1'"
     ]
    }
   ],
   "source": [
    "test = TestConfig()\n",
    "test.setUp()\n",
    "test.test_save_load_dir()"
   ]
  },
  {
   "cell_type": "code",
   "execution_count": null,
   "metadata": {
    "collapsed": false
   },
   "outputs": [],
   "source": [
    "%debug"
   ]
  }
 ],
 "metadata": {
  "kernelspec": {
   "display_name": "Python 3",
   "language": "python",
   "name": "python3"
  },
  "language_info": {
   "codemirror_mode": {
    "name": "ipython",
    "version": 3
   },
   "file_extension": ".py",
   "mimetype": "text/x-python",
   "name": "python",
   "nbconvert_exporter": "python",
   "pygments_lexer": "ipython3",
   "version": "3.6.0"
  }
 },
 "nbformat": 4,
 "nbformat_minor": 2
}
