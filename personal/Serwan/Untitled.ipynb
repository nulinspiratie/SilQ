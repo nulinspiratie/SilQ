{
 "cells": [
  {
   "cell_type": "code",
   "execution_count": 1,
   "metadata": {
    "collapsed": false
   },
   "outputs": [],
   "source": [
    "import unittest\n",
    "\n",
    "import silq\n",
    "from silq import config\n",
    "from silq.pulses import Pulse\n",
    "from silq import DictConfig"
   ]
  },
  {
   "cell_type": "code",
   "execution_count": 2,
   "metadata": {
    "code_folding": [
     0
    ],
    "collapsed": false
   },
   "outputs": [
    {
     "data": {
      "application/javascript": [
       "\n",
       "Jupyter.keyboard_manager.command_shortcuts.add_shortcut('r', {\n",
       "    help : 'run cell',\n",
       "    help_index : 'zz',\n",
       "    handler : function (event) {\n",
       "        IPython.notebook.restart_run_all();\n",
       "        return false;\n",
       "    }}\n",
       ");"
      ],
      "text/plain": [
       "<IPython.core.display.Javascript object>"
      ]
     },
     "metadata": {},
     "output_type": "display_data"
    }
   ],
   "source": [
    "%%javascript\n",
    "\n",
    "Jupyter.keyboard_manager.command_shortcuts.add_shortcut('r', {\n",
    "    help : 'run cell',\n",
    "    help_index : 'zz',\n",
    "    handler : function (event) {\n",
    "        IPython.notebook.restart_run_all();\n",
    "        return false;\n",
    "    }}\n",
    ");"
   ]
  },
  {
   "cell_type": "code",
   "execution_count": 3,
   "metadata": {
    "collapsed": true
   },
   "outputs": [],
   "source": [
    "class TestPulseEnvironment(unittest.TestCase):\n",
    "    def setUp(self):\n",
    "        config\n",
    "        config.properties = DictConfig('properties')\n",
    "        config.env1 = {\n",
    "            'pulses': {\n",
    "                'read': {}}}\n",
    "        config.properties.default_environment = 'env1'\n",
    "        self.p = Pulse(name='read')\n",
    "        \n",
    "        self.pulse_config = silq.config.env1.pulses.read\n",
    "        \n",
    "    def test_attribute_from_config(self):\n",
    "        self.assertEqual(self.p.environment, 'env1')\n",
    "        self.assertIsNone(self.p.t_start)\n",
    "\n",
    "        self.pulse_config.t_start = 0\n",
    "        self.assertEqual(self.p.t_start, 0)\n",
    "        self.p.t_start = 5\n",
    "        self.assertEqual(self.p.t_start, 5)\n",
    "        self.pulse_config.t_start = 0\n",
    "        self.assertEqual(self.p.t_start, 0)\n",
    "        \n",
    "    def test_change_environment(self):\n",
    "        config.env2 = {\n",
    "            'pulses': {\n",
    "                'read': {}}}\n",
    "        self.pulse_config.t_start = 0\n",
    "        self.assertEqual(self.p.t_start, 0)\n",
    "        \n",
    "        self.p.environment = 'env2'\n",
    "        self.assertEqual(self.p.t_start, 0)\n",
    "        config.env2.pulses.read.t_start = 1\n",
    "        self.assertEqual(self.p.t_start, 1)\n",
    "        \n",
    "        config.env1.pulses.read.t_start = 2\n",
    "        self.assertEqual(self.p.t_start, 1)\n",
    "        \n",
    "        self.p.environment = 'env1'\n",
    "        self.assertEqual(self.p.t_start, 2)"
   ]
  },
  {
   "cell_type": "code",
   "execution_count": 4,
   "metadata": {
    "collapsed": false
   },
   "outputs": [
    {
     "name": "stderr",
     "output_type": "stream",
     "text": [
      "test_attribute_from_config (__main__.TestPulseEnvironment) ... ok\n",
      "test_change_environment (__main__.TestPulseEnvironment) ... ok\n",
      "\n",
      "----------------------------------------------------------------------\n",
      "Ran 2 tests in 0.012s\n",
      "\n",
      "OK\n"
     ]
    },
    {
     "data": {
      "text/plain": [
       "<unittest.runner.TextTestResult run=2 errors=0 failures=0>"
      ]
     },
     "execution_count": 4,
     "metadata": {},
     "output_type": "execute_result"
    }
   ],
   "source": [
    "# Run tests    \n",
    "suite_pulse_environment = unittest.TestLoader().loadTestsFromModule(TestPulseEnvironment())\n",
    "suite = unittest.TestSuite([suite_pulse_environment])\n",
    "unittest.TextTestRunner(verbosity=2, failfast=True).run(suite)"
   ]
  },
  {
   "cell_type": "markdown",
   "metadata": {},
   "source": [
    "test = TestPulseEnvironment()\n",
    "test.setUp()\n",
    "test.attribute_from_config()"
   ]
  }
 ],
 "metadata": {
  "kernelspec": {
   "display_name": "Python [default]",
   "language": "python",
   "name": "python3"
  },
  "language_info": {
   "codemirror_mode": {
    "name": "ipython",
    "version": 3
   },
   "file_extension": ".py",
   "mimetype": "text/x-python",
   "name": "python",
   "nbconvert_exporter": "python",
   "pygments_lexer": "ipython3",
   "version": "3.5.2"
  },
  "toc": {
   "nav_menu": {
    "height": "12px",
    "width": "252px"
   },
   "navigate_menu": true,
   "number_sections": true,
   "sideBar": true,
   "threshold": 4,
   "toc_cell": false,
   "toc_section_display": "block",
   "toc_window_display": false
  }
 },
 "nbformat": 4,
 "nbformat_minor": 2
}
