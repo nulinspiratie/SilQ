{
 "cells": [
  {
   "cell_type": "code",
   "execution_count": 1,
   "metadata": {
    "collapsed": false
   },
   "outputs": [],
   "source": [
    "from winsound import Beep\n",
    "import sys\n",
    "import numpy as np\n",
    "\n",
    "import ipympl\n",
    "from matplotlib.widgets import Button\n",
    "import matplotlib.pyplot as plt\n",
    "\n",
    "plt.ion()"
   ]
  },
  {
   "cell_type": "code",
   "execution_count": 2,
   "metadata": {
    "collapsed": false
   },
   "outputs": [],
   "source": [
    "from IPython.display import display_javascript\n",
    "\n",
    "def cell_create_below_execute(text):\n",
    "    display_javascript(\"\"\"\n",
    "    var current_cell = Jupyter.notebook.get_selected_cell();\n",
    "    var current_index = Jupyter.notebook.find_cell_index(current_cell);\n",
    "    var new_cell = Jupyter.notebook.insert_cell_below('code', current_index);\n",
    "    new_cell.set_text('{}');\n",
    "    new_cell.execute();\"\"\".format(text), raw=True)"
   ]
  },
  {
   "cell_type": "code",
   "execution_count": 3,
   "metadata": {
    "collapsed": false
   },
   "outputs": [
    {
     "data": {
      "text/plain": [
       "0"
      ]
     },
     "execution_count": 3,
     "metadata": {},
     "output_type": "execute_result"
    },
    {
     "name": "stdout",
     "output_type": "stream",
     "text": [
      "hi\n"
     ]
    },
    {
     "data": {
      "application/javascript": [
       "\n",
       "    var current_cell = Jupyter.notebook.get_selected_cell();\n",
       "    var current_index = Jupyter.notebook.find_cell_index(current_cell);\n",
       "    var new_cell = Jupyter.notebook.insert_cell_below('code', current_index);\n",
       "    new_cell.set_text('print(\"hi\")');\n",
       "    new_cell.execute();"
      ]
     },
     "metadata": {},
     "output_type": "display_data"
    }
   ],
   "source": [
    "def callback(event):\n",
    "    try:\n",
    "        print('hi')\n",
    "        cell_create_below_execute('print(\"hi\")')\n",
    "        plt.text(event.xdata, event.ydata, 'hi')\n",
    "        Beep(2000, 100)\n",
    "    except Exception as e:\n",
    "        plt.text(event.xdata, event.ydata, \"Unexpected error: {}\".format(e))\n",
    "#         Beep(8000, 500)\n",
    "    \n",
    "f,a = plt.subplots(1)\n",
    "b1 = Button(a,'Button1')\n",
    "b1.on_clicked(callback)\n",
    "# plt.show()"
   ]
  },
  {
   "cell_type": "code",
   "execution_count": 4,
   "metadata": {
    "collapsed": false
   },
   "outputs": [
    {
     "name": "stdout",
     "output_type": "stream",
     "text": [
      "hi\n"
     ]
    }
   ],
   "source": [
    "print(\"hi\")"
   ]
  },
  {
   "cell_type": "code",
   "execution_count": 8,
   "metadata": {
    "collapsed": false
   },
   "outputs": [
    {
     "name": "stdout",
     "output_type": "stream",
     "text": [
      "hi\n"
     ]
    }
   ],
   "source": [
    "print(\"hi\")"
   ]
  },
  {
   "cell_type": "code",
   "execution_count": 7,
   "metadata": {
    "collapsed": false
   },
   "outputs": [
    {
     "name": "stdout",
     "output_type": "stream",
     "text": [
      "hi\n"
     ]
    }
   ],
   "source": [
    "print(\"hi\")"
   ]
  },
  {
   "cell_type": "code",
   "execution_count": 20,
   "metadata": {
    "collapsed": false
   },
   "outputs": [
    {
     "data": {
      "application/javascript": [
       "var cell = Jupyter.notebook.get_selected_cell();\n",
       "// var cell_type = Jupyter.notebook.get_selected_cell().cell_type\n",
       "// element.text(Jupyter.notebook.find_cell_index(cell))\n",
       "element.text(cell_type)\n",
       "var index = Jupyter.notebook.find_cell_index(cell)\n",
       "var newcell = Jupyter.notebook.insert_cell_below('code', index)\n",
       "element.text(newcell)"
      ],
      "text/plain": [
       "<IPython.core.display.Javascript object>"
      ]
     },
     "metadata": {},
     "output_type": "display_data"
    }
   ],
   "source": [
    "%%javascript\n",
    "var cell = Jupyter.notebook.get_selected_cell();\n",
    "// var cell_type = Jupyter.notebook.get_selected_cell().cell_type\n",
    "// element.text(Jupyter.notebook.find_cell_index(cell))\n",
    "element.text(cell_type)\n",
    "var index = Jupyter.notebook.find_cell_index(cell)\n",
    "var newcell = Jupyter.notebook.insert_cell_below('code', index)\n",
    "element.text(newcell)"
   ]
  }
 ],
 "metadata": {
  "anaconda-cloud": {},
  "kernelspec": {
   "display_name": "Python [default]",
   "language": "python",
   "name": "python3"
  },
  "language_info": {
   "codemirror_mode": {
    "name": "ipython",
    "version": 3
   },
   "file_extension": ".py",
   "mimetype": "text/x-python",
   "name": "python",
   "nbconvert_exporter": "python",
   "pygments_lexer": "ipython3",
   "version": "3.5.2"
  },
  "widgets": {
   "state": {
    "4656d623fcd0424f94ef0f2ced801d85": {
     "views": [
      {
       "cell_index": 2
      }
     ]
    },
    "5b93a559af354cac9937594cf52d3794": {
     "views": [
      {
       "cell_index": 2
      }
     ]
    },
    "87419f8ad8dd4017ae9424bf8082b983": {
     "views": [
      {
       "cell_index": 2
      }
     ]
    },
    "acf842b1b1e6473fba132561414fbd20": {
     "views": [
      {
       "cell_index": 2
      }
     ]
    },
    "c5fdd8f750bf4d7192e4fae82a2889ea": {
     "views": [
      {
       "cell_index": 3
      }
     ]
    }
   },
   "version": "1.2.0"
  }
 },
 "nbformat": 4,
 "nbformat_minor": 0
}
