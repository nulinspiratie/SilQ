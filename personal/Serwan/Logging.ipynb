{
 "cells": [
  {
   "cell_type": "code",
   "execution_count": 1,
   "metadata": {
    "collapsed": true
   },
   "outputs": [],
   "source": [
    "import logging"
   ]
  },
  {
   "cell_type": "code",
   "execution_count": 2,
   "metadata": {},
   "outputs": [],
   "source": [
    "note_formatter = logging.Formatter('%(asctime)s - %(message)s',\n",
    "                                  datefmt='%Y-%m-%d %H:%M:%S')\n",
    "\n",
    "file_handler = logging.handlers.TimedRotatingFileHandler(\n",
    "    'notes.log', when='M')\n",
    "file_handler.setLevel(logging.INFO)\n",
    "file_handler.setFormatter(note_formatter)\n",
    "\n",
    "note_logger = logging.getLogger('notes')\n",
    "note_logger.setLevel(logging.INFO)\n",
    "\n",
    "note_logger.addHandler(file_handler)\n",
    "note_logger.addFilter(logging.Filter(name='notes'))\n",
    "# logging.basicConfig(filename='notes.log', level=logging.INFO)"
   ]
  },
  {
   "cell_type": "code",
   "execution_count": 7,
   "metadata": {
    "collapsed": true
   },
   "outputs": [],
   "source": [
    "class C:\n",
    "    def __init__(self):\n",
    "        pass\n",
    "\n",
    "c = C()"
   ]
  },
  {
   "cell_type": "code",
   "execution_count": 20,
   "metadata": {
    "scrolled": false
   },
   "outputs": [],
   "source": [
    "note_logger.info(f'first_note')"
   ]
  },
  {
   "cell_type": "code",
   "execution_count": 14,
   "metadata": {
    "collapsed": true
   },
   "outputs": [],
   "source": [
    "logger = logging.getLogger()"
   ]
  },
  {
   "cell_type": "code",
   "execution_count": 15,
   "metadata": {
    "collapsed": true
   },
   "outputs": [],
   "source": [
    "logger.info('sadf')"
   ]
  }
 ],
 "metadata": {
  "kernelspec": {
   "display_name": "Python 3",
   "language": "python",
   "name": "python3"
  },
  "language_info": {
   "codemirror_mode": {
    "name": "ipython",
    "version": 3
   },
   "file_extension": ".py",
   "mimetype": "text/x-python",
   "name": "python",
   "nbconvert_exporter": "python",
   "pygments_lexer": "ipython3",
   "version": "3.6.0"
  }
 },
 "nbformat": 4,
 "nbformat_minor": 2
}
