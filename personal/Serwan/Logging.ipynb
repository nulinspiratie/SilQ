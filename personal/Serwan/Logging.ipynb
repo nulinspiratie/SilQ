{
 "cells": [
  {
   "cell_type": "code",
   "execution_count": 2,
   "metadata": {
    "collapsed": true
   },
   "outputs": [],
   "source": [
    "import logging"
   ]
  },
  {
   "cell_type": "code",
   "execution_count": 3,
   "metadata": {},
   "outputs": [],
   "source": [
    "\n",
    "from silq.tools.general_tools import ParallelTimedRotatingFileHandler\n",
    "note_formatter = logging.Formatter('%(asctime)s - %(message)s',\n",
    "                                  datefmt='%Y-%m-%d %H:%M:%S')\n",
    "\n",
    "# file_handler = logging.FileHandler(\n",
    "#     os.path.join(config.properties.data_folder, r'notes\\notes.log'))\n",
    "# filename = os.path.join(config.properties.data_folder, r'notes\\notes')\n",
    "filename = r'F:\\Antimony\\data\\notes\\notes'\n",
    "file_handler = ParallelTimedRotatingFileHandler(filename=filename,\n",
    "                                                when='midnight')\n",
    "file_handler.setLevel(logging.INFO)\n",
    "file_handler.setFormatter(note_formatter)\n",
    "\n",
    "note_logger = logging.getLogger('notes')\n",
    "note_logger.setLevel(logging.INFO)\n",
    "\n",
    "note_logger.addHandler(file_handler)\n",
    "note_logger.addFilter(logging.Filter(name='notes'))"
   ]
  },
  {
   "cell_type": "code",
   "execution_count": 4,
   "metadata": {},
   "outputs": [],
   "source": [
    "note_logger.info('test')"
   ]
  },
  {
   "cell_type": "code",
   "execution_count": null,
   "metadata": {
    "collapsed": true
   },
   "outputs": [],
   "source": []
  }
 ],
 "metadata": {
  "kernelspec": {
   "display_name": "Python 3",
   "language": "python",
   "name": "python3"
  },
  "language_info": {
   "codemirror_mode": {
    "name": "ipython",
    "version": 3
   },
   "file_extension": ".py",
   "mimetype": "text/x-python",
   "name": "python",
   "nbconvert_exporter": "python",
   "pygments_lexer": "ipython3",
   "version": "3.6.0"
  }
 },
 "nbformat": 4,
 "nbformat_minor": 2
}
