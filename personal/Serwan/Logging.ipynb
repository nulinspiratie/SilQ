{
 "cells": [
  {
   "cell_type": "code",
   "execution_count": 3,
   "metadata": {
    "collapsed": true
   },
   "outputs": [],
   "source": [
    "\n",
    "from silq.tools.general_tools import ParallelTimedRotatingFileHandler\n",
    "note_formatter = logging.Formatter('%(asctime)s - %(message)s',\n",
    "                                  datefmt='%Y-%m-%d %H:%M:%S')\n",
    "\n",
    "# file_handler = logging.FileHandler(\n",
    "#     os.path.join(config.properties.data_folder, r'notes\\notes.log'))\n",
    "# filename = os.path.join(config.properties.data_folder, r'notes\\notes')\n",
    "filename = r'F:\\Antimony\\data\\notes\\notes'\n",
    "file_handler = ParallelTimedRotatingFileHandler(filename=filename,\n",
    "                                                when='midnight')\n",
    "file_handler.setLevel(logging.INFO)\n",
    "file_handler.setFormatter(note_formatter)\n",
    "\n",
    "note_logger = logging.getLogger('notes')\n",
    "note_logger.setLevel(logging.INFO)\n",
    "\n",
    "note_logger.addHandler(file_handler)\n",
    "note_logger.addFilter(logging.Filter(name='notes'))"
   ]
  },
  {
   "cell_type": "markdown",
   "metadata": {},
   "source": [
    "Logger functionality\n",
    "\n",
    "- Objects should have property silent. If silent is False, any log message from debug onwards should be printed.\n",
    "  `silent=True` indicates that log messages should not be printed.\n",
    "- When emitting a log, a string representation of the object must be added. When a log with object is emitted, this should also be noted in the log file.\n",
    "- "
   ]
  },
  {
   "cell_type": "code",
   "execution_count": 4,
   "metadata": {
    "collapsed": true
   },
   "outputs": [],
   "source": [
    "import logging\n",
    "\n",
    "import weakref"
   ]
  },
  {
   "cell_type": "code",
   "execution_count": null,
   "metadata": {
    "collapsed": true
   },
   "outputs": [],
   "source": [
    "class LoggerFilter(logging.Filter):\n",
    "    _loggers = weakref.WeakKeyDictionary()\n",
    "    \n",
    "    def filter(self, record):\n",
    "        "
   ]
  },
  {
   "cell_type": "code",
   "execution_count": 6,
   "metadata": {
    "collapsed": true
   },
   "outputs": [],
   "source": [
    "class Logger():\n",
    "    _loggers = weakref.WeakKeyDictionary()\n",
    "    \n",
    "    def __init__(self, *args, **kwargs):\n",
    "        self.logger = logging.getLogger(__name__)\n",
    "    \n",
    "    @property\n",
    "    def silent(self):\n",
    "        return self in self._loggers\n",
    "    \n",
    "    @silent.setter\n",
    "    def silent(self, silent):\n",
    "        if silent is False or silent == 'debug':\n",
    "            self._loggers[self] = logging.DEBUG\n",
    "        elif silent == 'info':\n",
    "            self._loggers[self] = logging.INFO\n",
    "        elif silent == 'error':\n",
    "            self._loggers[self] = logging.ERROR\n",
    "        elif silent == 'critical':\n",
    "            self._loggers[self] = logging.CRITICAL\n",
    "        else:\n",
    "            self._loggers.pop(self, None)\n",
    "    "
   ]
  },
  {
   "cell_type": "code",
   "execution_count": null,
   "metadata": {
    "collapsed": true
   },
   "outputs": [],
   "source": []
  }
 ],
 "metadata": {
  "kernelspec": {
   "display_name": "Python 3",
   "language": "python",
   "name": "python3"
  },
  "language_info": {
   "codemirror_mode": {
    "name": "ipython",
    "version": 3
   },
   "file_extension": ".py",
   "mimetype": "text/x-python",
   "name": "python",
   "nbconvert_exporter": "python",
   "pygments_lexer": "ipython3",
   "version": "3.6.0"
  }
 },
 "nbformat": 4,
 "nbformat_minor": 2
}
