{
 "cells": [
  {
   "cell_type": "code",
   "execution_count": 1,
   "metadata": {
    "collapsed": false
   },
   "outputs": [],
   "source": [
    "from functools import partial\n",
    "from importlib import reload\n",
    "import unittest\n",
    "\n",
    "from silq.pulses import PulseSequence, DCPulse, TriggerPulse, SinePulse\n",
    "from silq.instrument_interfaces import get_instrument_interface\n",
    "from silq.meta_instruments.chip import Chip\n",
    "from silq.meta_instruments.layout import Layout\n",
    "from silq.meta_instruments.mock_instruments import MockArbStudio, MockPulseBlaster\n",
    "\n",
    "from qcodes import Instrument"
   ]
  },
  {
   "cell_type": "code",
   "execution_count": 2,
   "metadata": {
    "code_folding": [
     0
    ],
    "collapsed": false
   },
   "outputs": [
    {
     "data": {
      "application/javascript": [
       "\n",
       "Jupyter.keyboard_manager.command_shortcuts.add_shortcut('r', {\n",
       "    help : 'run cell',\n",
       "    help_index : 'zz',\n",
       "    handler : function (event) {\n",
       "        IPython.notebook.restart_run_all();\n",
       "        return false;\n",
       "    }}\n",
       ");"
      ],
      "text/plain": [
       "<IPython.core.display.Javascript object>"
      ]
     },
     "metadata": {},
     "output_type": "display_data"
    }
   ],
   "source": [
    "%%javascript\n",
    "\n",
    "Jupyter.keyboard_manager.command_shortcuts.add_shortcut('r', {\n",
    "    help : 'run cell',\n",
    "    help_index : 'zz',\n",
    "    handler : function (event) {\n",
    "        IPython.notebook.restart_run_all();\n",
    "        return false;\n",
    "    }}\n",
    ");"
   ]
  },
  {
   "cell_type": "code",
   "execution_count": 3,
   "metadata": {
    "collapsed": true
   },
   "outputs": [],
   "source": [
    "import qcodes as qc\n",
    "qc.show_subprocess_widget()"
   ]
  },
  {
   "cell_type": "code",
   "execution_count": 4,
   "metadata": {
    "collapsed": true
   },
   "outputs": [],
   "source": [
    "# class cls:\n",
    "#     def __init__(self):\n",
    "#         self.x = 2\n",
    "\n",
    "# arbstudio = MockArbStudio('mock_arbstudio')\n",
    "\n",
    "# chip = Chip('chip')\n",
    "\n",
    "# layout = Layout('layout', instruments=[arbstudio, chip], server_name='layout')\n",
    "\n",
    "# from silq.tests.test_instruments import TestConnectedInstrument\n",
    "# test_instrument = TestConnectedInstrument(name='test', instrument_name='layout', server_name='layout')\n",
    "# # test_instrument.get_interfaces()\n",
    "# # test_instrument.add_function\n",
    "# obj = cls()\n",
    "# test_instrument.add_object(obj)\n",
    "\n",
    "# instruments = [arbstudio, chip, layout, test_instrument]\n",
    "# for instrument in instruments:\n",
    "#     instrument.close()"
   ]
  },
  {
   "cell_type": "code",
   "execution_count": 5,
   "metadata": {
    "code_folding": [
     0
    ],
    "collapsed": true
   },
   "outputs": [],
   "source": [
    "class TestPulseSequence(unittest.TestCase):\n",
    "    def setUp(self):\n",
    "        self.pulse_sequence = PulseSequence()\n",
    "        \n",
    "    def test_add_remove_pulse(self):\n",
    "        pulse = DCPulse(name='dc', amplitude=1.5, duration=10, t_start=0)\n",
    "        self.pulse_sequence.add(pulse)\n",
    "        self.assertIn(pulse, self.pulse_sequence)\n",
    "\n",
    "        # Remove pulses\n",
    "        self.pulse_sequence.clear()\n",
    "        self.assertEqual(len(self.pulse_sequence.pulses), 0)\n",
    "        \n",
    "    def test_sort(self):\n",
    "        pulse1 = DCPulse(name='dc1', amplitude=1.5, duration=10, t_start=1)\n",
    "        pulse2 = DCPulse(name='dc2', amplitude=1.5, duration=10, t_start=0)\n",
    "        self.pulse_sequence.add(pulse1)\n",
    "        self.pulse_sequence.add(pulse2)\n",
    "        self.assertEqual(pulse2, self.pulse_sequence[0])"
   ]
  },
  {
   "cell_type": "code",
   "execution_count": 6,
   "metadata": {
    "code_folding": [
     0
    ],
    "collapsed": true
   },
   "outputs": [],
   "source": [
    "class TestArbStudio(unittest.TestCase):\n",
    "    def setUp(self):\n",
    "        self.pulse_sequence = PulseSequence()\n",
    "        self.arbstudio = MockArbStudio(name='mock_arbstudio')\n",
    "        self.arbstudio_interface = get_instrument_interface(self.arbstudio)\n",
    "        \n",
    "    def tearDown(self):\n",
    "        self.arbstudio.close()\n",
    "    \n",
    "    def test_pulse_implementation(self):\n",
    "        sine_pulse = SinePulse(t_start=0, duration=10, frequency=1e6, amplitude=1)\n",
    "        self.assertIsNone(self.arbstudio_interface.get_pulse_implementation(sine_pulse))\n",
    "        \n",
    "        DC_pulse = DCPulse(t_start=0, duration=10, amplitude=1)\n",
    "        self.assertIsNotNone(self.arbstudio_interface.get_pulse_implementation(DC_pulse))\n",
    "        DC_pulse.amplitude=3\n",
    "        self.assertIsNone(self.arbstudio_interface.get_pulse_implementation(DC_pulse))\n",
    "        \n",
    "    def test_ELR_programming(self):\n",
    "        empty_pulse = DCPulse(name='empty', t_start=0, duration=10, amplitude=1.5)\n",
    "        load_pulse = DCPulse(name='load', t_start=10, duration=10, amplitude=-1.5)\n",
    "        read_pulse = DCPulse(name='read', t_start=20, duration=10, amplitude=0)\n",
    "        pulses = [empty_pulse, load_pulse, read_pulse]\n",
    "        for pulse in pulses:\n",
    "            self.arbstudio_interface.pulse_sequence.add(pulse)\n",
    "        self.assertEqual(pulses, self.arbstudio_interface.pulse_sequence.pulses)"
   ]
  },
  {
   "cell_type": "code",
   "execution_count": 7,
   "metadata": {
    "collapsed": false
   },
   "outputs": [],
   "source": [
    "class TestLayout(unittest.TestCase):\n",
    "    def setUp(self):\n",
    "        self.arbstudio = MockArbStudio(name='arbstudio')\n",
    "        self.pulseblaster = MockPulseBlaster(name='pulseblaster')\n",
    "        self.chip = Chip(name='chip')\n",
    "        \n",
    "        self.layout = Layout(name='Layout',\n",
    "                             instruments = [self.arbstudio, self.pulseblaster, self.chip],\n",
    "                             server_name='layout')\n",
    "        self.layout.trigger_instrument('arbstudio')\n",
    "#         print('Layout instruments: {}'.format(self.layout.instruments()))\n",
    "        \n",
    "        # instruments that need to be closed during tear down\n",
    "        self.instruments = [self.arbstudio, self.chip, self.layout]\n",
    "        \n",
    "    def tearDown(self):\n",
    "        for instrument in self.instruments:\n",
    "            instrument.close()\n",
    "            \n",
    "    def test_connections(self):\n",
    "        self.layout.add_connection(output='arbstudio.ch1',\n",
    "                                   input='device.TGAC', default=True)\n",
    "        self.layout.add_connection(output='arbstudio.ch2',\n",
    "                                   input='device.DF')\n",
    "        connections = self.layout.get_connections()\n",
    "        self.assertEqual(len(connections), 2)\n",
    "        \n",
    "        connections = self.layout.get_connections(input_channel='DF')\n",
    "        self.assertEqual(len(connections), 1)\n",
    "        self.assertEqual(connections[0].input['channel'], 'DF')\n",
    "        \n",
    "        DC_pulse = DCPulse(t_start=0, duration=10, amplitude=1)\n",
    "        connection = self.layout.get_pulse_connection(DC_pulse)\n",
    "        self.assertEqual(connection.output['channel'], 'ch1')\n",
    "        \n",
    "    def test_pulse_implementation(self):\n",
    "        sine_pulse = SinePulse(t_start=0, duration=10, frequency=1e6, amplitude=1)\n",
    "        with self.assertRaises(Exception):\n",
    "            pulse_instrument = self.layout.get_pulse_instrument_name(sine_pulse)\n",
    "            \n",
    "        DC_pulse = DCPulse(t_start=0, duration=10, amplitude=1)\n",
    "        pulse_instrument = self.layout.get_pulse_instrument_name(DC_pulse)\n",
    "        self.assertEqual(pulse_instrument, 'arbstudio')\n",
    "        \n",
    "        DC_pulse2 = DCPulse(t_start=0, duration=10, amplitude=4)\n",
    "        with self.assertRaises(Exception):\n",
    "            pulse_instrument = self.layout.get_pulse_instrument_name(DC_pulse2)\n",
    "        \n",
    "    def test_setup_pulses(self):\n",
    "        self.layout.add_connection(output='arbstudio.ch1',\n",
    "                                   input='device.TGAC')\n",
    "        self.layout.add_connection(output='arbstudio.ch2',\n",
    "                                   input='device.DF', default=True)\n",
    "        \n",
    "        pulse_sequence = PulseSequence()\n",
    "        empty_pulse = DCPulse(name='empty', t_start=0, duration=10, amplitude=1.5)\n",
    "        load_pulse = DCPulse(name='load', t_start=10, duration=10, amplitude=-1.5)\n",
    "        read_pulse = DCPulse(name='read', t_start=20, duration=10, amplitude=0)\n",
    "        pulses = [empty_pulse, load_pulse, read_pulse]\n",
    "        for pulse in pulses:\n",
    "            pulse_sequence.add(pulse)\n",
    "            \n",
    "        self.layout.target_pulse_sequence(pulse_sequence)\n",
    "        waveforms = self.arbstudio.get_waveforms()\n",
    "        for channel in [0,2,3]:\n",
    "            self.assertEqual(len(waveforms[channel]), 0)\n",
    "        self.assertEqual(len(waveforms[1]), 3)\n",
    "        sequence = [self.arbstudio.ch1_sequence(),\n",
    "                    self.arbstudio.ch2_sequence(),\n",
    "                    self.arbstudio.ch3_sequence(),\n",
    "                    self.arbstudio.ch4_sequence()]\n",
    "        for channel in [0,2,3]:\n",
    "            self.assertEqual(len(sequence[channel]), 0)\n",
    "        self.assertEqual(len(sequence[1]), 3)\n",
    "        \n",
    "    def test_combined_channel(self):\n",
    "        c1 = self.layout.add_connection(output='arbstudio.ch1',\n",
    "                                        input='device.TGAC')\n",
    "        c2 = self.layout.add_connection(output='arbstudio.ch2',\n",
    "                                        input='device.DF')\n",
    "        c3 = self.layout.add_connection(output='arbstudio.ch3',\n",
    "                                        input='device.none')\n",
    "        c12 = self.layout.combine_connections(c1, c2, default=True)\n",
    "        \n",
    "        pulse_sequence = PulseSequence()\n",
    "        empty_pulse = DCPulse(name='empty', t_start=0, duration=10, amplitude=1.5)\n",
    "        load_pulse = DCPulse(name='load', t_start=10, duration=10, amplitude=-1.5)\n",
    "        read_pulse = DCPulse(name='read', t_start=20, duration=10, amplitude=0)\n",
    "        pulses = [empty_pulse, load_pulse, read_pulse]\n",
    "        for pulse in pulses:\n",
    "            pulse_sequence.add(pulse)\n",
    "            \n",
    "        self.layout.target_pulse_sequence(pulse_sequence)\n",
    "        waveforms = self.arbstudio.get_waveforms()\n",
    "        for channel in [2,3]:\n",
    "            self.assertEqual(len(waveforms[channel]), 0)\n",
    "        for channel in [0,1]:\n",
    "            self.assertEqual(len(waveforms[channel]), 3)\n",
    "        sequence = [self.arbstudio.ch1_sequence(),\n",
    "                    self.arbstudio.ch2_sequence(),\n",
    "                    self.arbstudio.ch3_sequence(),\n",
    "                    self.arbstudio.ch4_sequence()]\n",
    "        for channel in [2,3]:\n",
    "            self.assertEqual(len(sequence[channel]), 0)\n",
    "        for channel in [0,1]:\n",
    "            self.assertEqual(len(sequence[channel]), 3)\n",
    "            \n"
   ]
  },
  {
   "cell_type": "code",
   "execution_count": 8,
   "metadata": {
    "code_folding": [],
    "collapsed": false,
    "scrolled": false
   },
   "outputs": [
    {
     "name": "stderr",
     "output_type": "stream",
     "text": [
      "........\n",
      "----------------------------------------------------------------------\n",
      "Ran 8 tests in 6.456s\n",
      "\n",
      "OK\n"
     ]
    },
    {
     "data": {
      "text/plain": [
       "<unittest.runner.TextTestResult run=8 errors=0 failures=0>"
      ]
     },
     "execution_count": 8,
     "metadata": {},
     "output_type": "execute_result"
    }
   ],
   "source": [
    "# Run tests    \n",
    "suite_pulse_sequence = unittest.TestLoader().loadTestsFromModule(TestPulseSequence())\n",
    "suite_arbstudio = unittest.TestLoader().loadTestsFromModule(TestArbStudio())\n",
    "suite_layout = unittest.TestLoader().loadTestsFromModule(TestLayout())\n",
    "suite = unittest.TestSuite([suite_pulse_sequence, suite_arbstudio, suite_layout])\n",
    "unittest.TextTestRunner().run(suite)"
   ]
  },
  {
   "cell_type": "code",
   "execution_count": null,
   "metadata": {
    "collapsed": true
   },
   "outputs": [],
   "source": [
    "pulseblaster = MockPulseBlaster('pulseblaster')\n",
    "\n",
    "pulseblaster.send_instruction\n",
    "\n",
    "pulseblaster.instructions()"
   ]
  }
 ],
 "metadata": {
  "anaconda-cloud": {},
  "kernelspec": {
   "display_name": "Python [Root]",
   "language": "python",
   "name": "Python [Root]"
  },
  "language_info": {
   "codemirror_mode": {
    "name": "ipython",
    "version": 3
   },
   "file_extension": ".py",
   "mimetype": "text/x-python",
   "name": "python",
   "nbconvert_exporter": "python",
   "pygments_lexer": "ipython3",
   "version": "3.5.2"
  }
 },
 "nbformat": 4,
 "nbformat_minor": 0
}
