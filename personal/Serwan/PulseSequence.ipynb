{
 "cells": [
  {
   "cell_type": "code",
   "execution_count": 1,
   "metadata": {
    "collapsed": true
   },
   "outputs": [],
   "source": [
    "from functools import partial\n",
    "from importlib import reload\n",
    "import unittest\n",
    "\n",
    "from silq.pulses import PulseSequence, DCPulse, TriggerPulse, SinePulse\n",
    "from silq.instrument_interfaces import get_instrument_interface"
   ]
  },
  {
   "cell_type": "code",
   "execution_count": 2,
   "metadata": {
    "code_folding": [
     0
    ],
    "collapsed": false
   },
   "outputs": [
    {
     "data": {
      "application/javascript": [
       "\n",
       "Jupyter.keyboard_manager.command_shortcuts.add_shortcut('r', {\n",
       "    help : 'run cell',\n",
       "    help_index : 'zz',\n",
       "    handler : function (event) {\n",
       "        IPython.notebook.restart_run_all();\n",
       "        return false;\n",
       "    }}\n",
       ");"
      ],
      "text/plain": [
       "<IPython.core.display.Javascript object>"
      ]
     },
     "metadata": {},
     "output_type": "display_data"
    }
   ],
   "source": [
    "%%javascript\n",
    "\n",
    "Jupyter.keyboard_manager.command_shortcuts.add_shortcut('r', {\n",
    "    help : 'run cell',\n",
    "    help_index : 'zz',\n",
    "    handler : function (event) {\n",
    "        IPython.notebook.restart_run_all();\n",
    "        return false;\n",
    "    }}\n",
    ");"
   ]
  },
  {
   "cell_type": "code",
   "execution_count": 3,
   "metadata": {
    "code_folding": [
     0
    ],
    "collapsed": true
   },
   "outputs": [],
   "source": [
    "# General functions\n",
    "def print_function(*args, **kwargs):\n",
    "    print('args={args}, kwargs={kwargs}'.format(args=args, kwargs=kwargs))\n",
    "\n",
    "class AddChannelFunctions:\n",
    "    def __init__(self, channels, functions):\n",
    "        self.channels = channels\n",
    "        self.functions = functions\n",
    "    \n",
    "    def __call__(self, cls):\n",
    "        def print_function(*args, **kwargs):\n",
    "            print('args={args}, kwargs={kwargs}'.format(args=args, kwargs=kwargs))\n",
    "            \n",
    "        for channel in self.channels:\n",
    "            for function in self.functions:\n",
    "                print_function_targeted = partial(print_function, ch=channel, function=function)\n",
    "                exec(\"cls.{ch}_{fn} = print_function_targeted\".format(ch=str(channel), fn=function))\n",
    "#         cls.ch1_trig_in = print_function\n",
    "        return cls"
   ]
  },
  {
   "cell_type": "code",
   "execution_count": null,
   "metadata": {
    "code_folding": [
     0
    ],
    "collapsed": true
   },
   "outputs": [],
   "source": [
    "# Test PulseSequence\n",
    "class TestPulseSequence(unittest.TestCase):\n",
    "    def setUp(self):\n",
    "        self.pulse_sequence = PulseSequence()\n",
    "        \n",
    "    def test_add_remove_pulse(self):\n",
    "        pulse = DCPulse(name='dc', amplitude=1.5, duration=10, t_start=0)\n",
    "        self.pulse_sequence.add(pulse)\n",
    "        self.assertIn(pulse, self.pulse_sequence)\n",
    "\n",
    "        # Remove pulses\n",
    "        self.pulse_sequence.clear()\n",
    "        self.assertEqual(len(self.pulse_sequence.pulses), 0)\n",
    "        \n",
    "    def test_sort(self):\n",
    "        pulse1 = DCPulse(name='dc1', amplitude=1.5, duration=10, t_start=1)\n",
    "        pulse2 = DCPulse(name='dc2', amplitude=1.5, duration=10, t_start=0)\n",
    "        self.pulse_sequence.add(pulse1)\n",
    "        self.pulse_sequence.add(pulse2)\n",
    "        self.assertEqual(pulse2, self.pulse_sequence[0])\n"
   ]
  },
  {
   "cell_type": "code",
   "execution_count": null,
   "metadata": {
    "code_folding": [
     0
    ],
    "collapsed": true
   },
   "outputs": [],
   "source": [
    "# Test ArbStudio\n",
    "\n",
    "channels = ['ch1', 'ch2', 'ch3', 'ch4']\n",
    "functions = ['trigger_source', 'trigger_mode', 'add_waveform', 'sequence']\n",
    "\n",
    "@AddChannelFunctions(channels, functions)\n",
    "class MockArbStudio:\n",
    "    def __init__(self):\n",
    "        pass\n",
    "    \n",
    "class TestArbStudio(unittest.TestCase):\n",
    "    def setUp(self):\n",
    "        self.pulse_sequence = PulseSequence()\n",
    "        self.arbstudio = MockArbStudio()\n",
    "        self.arbstudio_interface = get_instrument_interface(self.arbstudio)\n",
    "        \n",
    "    def test_pulse_implementation(self):\n",
    "        sine_pulse = SinePulse(t_start=0, duration=10, frequency=1e6, amplitude=1)\n",
    "        self.assertIsNone(self.arbstudio_interface.get_pulse_implementation(sine_pulse))\n",
    "        \n",
    "        DC_pulse = DCPulse(t_start=0, duration=10, amplitude=1)\n",
    "        self.assertIsNotNone(self.arbstudio_interface.get_pulse_implementation(DC_pulse))\n",
    "        DC_pulse.amplitude=3\n",
    "        self.assertIsNone(self.arbstudio_interface.get_pulse_implementation(DC_pulse))\n",
    "        \n",
    "    def test_ELR_programming(self):\n",
    "        empty_pulse = DCPulse(name='empty', t_start=0, duration=10, amplitude=1.5)\n",
    "        load_pulse = DCPulse(name='load', t_start=10, duration=10, amplitude=-1.5)\n",
    "        read_pulse = DCPulse(name='read', t_start=20, duration=10, amplitude=0)\n",
    "        pulses = [empty_pulse, load_pulse, read_pulse]\n",
    "        for pulse in pulses:\n",
    "            self.arbstudio_interface.pulse_sequence.add(pulse)\n",
    "        self.assertEqual(pulses, self.arbstudio_interface.pulse_sequence.pulses)\n",
    "\n",
    "    "
   ]
  },
  {
   "cell_type": "code",
   "execution_count": 21,
   "metadata": {
    "code_folding": [],
    "collapsed": false
   },
   "outputs": [
    {
     "name": "stderr",
     "output_type": "stream",
     "text": [
      "....\n",
      "----------------------------------------------------------------------\n",
      "Ran 4 tests in 0.003s\n",
      "\n",
      "OK\n"
     ]
    },
    {
     "data": {
      "text/plain": [
       "<unittest.runner.TextTestResult run=4 errors=0 failures=0>"
      ]
     },
     "execution_count": 21,
     "metadata": {},
     "output_type": "execute_result"
    }
   ],
   "source": [
    "# Run tests    \n",
    "suite_pulse_sequence = unittest.TestLoader().loadTestsFromModule(TestPulseSequence())\n",
    "suite_arbstudio = unittest.TestLoader().loadTestsFromModule(TestArbStudio())\n",
    "suite = unittest.TestSuite([suite_pulse_sequence, suite_arbstudio])\n",
    "unittest.TextTestRunner().run(suite)"
   ]
  },
  {
   "cell_type": "code",
   "execution_count": null,
   "metadata": {
    "collapsed": true
   },
   "outputs": [],
   "source": []
  }
 ],
 "metadata": {
  "anaconda-cloud": {},
  "kernelspec": {
   "display_name": "Python [Root]",
   "language": "python",
   "name": "Python [Root]"
  },
  "language_info": {
   "codemirror_mode": {
    "name": "ipython",
    "version": 3
   },
   "file_extension": ".py",
   "mimetype": "text/x-python",
   "name": "python",
   "nbconvert_exporter": "python",
   "pygments_lexer": "ipython3",
   "version": "3.5.2"
  }
 },
 "nbformat": 4,
 "nbformat_minor": 0
}
