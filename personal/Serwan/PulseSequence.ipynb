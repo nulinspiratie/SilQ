{
 "cells": [
  {
   "cell_type": "code",
   "execution_count": 1,
   "metadata": {
    "collapsed": true
   },
   "outputs": [],
   "source": [
    "from functools import partial\n",
    "from importlib import reload\n",
    "import unittest"
   ]
  },
  {
   "cell_type": "code",
   "execution_count": 2,
   "metadata": {
    "code_folding": [
     0
    ],
    "collapsed": false
   },
   "outputs": [
    {
     "data": {
      "application/javascript": [
       "\n",
       "Jupyter.keyboard_manager.command_shortcuts.add_shortcut('r', {\n",
       "    help : 'run cell',\n",
       "    help_index : 'zz',\n",
       "    handler : function (event) {\n",
       "        IPython.notebook.restart_run_all();\n",
       "        return false;\n",
       "    }}\n",
       ");"
      ],
      "text/plain": [
       "<IPython.core.display.Javascript object>"
      ]
     },
     "metadata": {},
     "output_type": "display_data"
    }
   ],
   "source": [
    "%%javascript\n",
    "\n",
    "Jupyter.keyboard_manager.command_shortcuts.add_shortcut('r', {\n",
    "    help : 'run cell',\n",
    "    help_index : 'zz',\n",
    "    handler : function (event) {\n",
    "        IPython.notebook.restart_run_all();\n",
    "        return false;\n",
    "    }}\n",
    ");"
   ]
  },
  {
   "cell_type": "code",
   "execution_count": 3,
   "metadata": {
    "collapsed": true
   },
   "outputs": [],
   "source": [
    "def print_function(*args, **kwargs):\n",
    "    print('args={args}, kwargs={kwargs}'.format(args=args, kwargs=kwargs))\n",
    "\n",
    "class AddChannelFunctions:\n",
    "    def __init__(self, channels, functions):\n",
    "        self.channels = channels\n",
    "        self.functions = functions\n",
    "    \n",
    "    def __call__(self, cls):\n",
    "        def print_function(*args, **kwargs):\n",
    "            print('args={args}, kwargs={kwargs}'.format(args=args, kwargs=kwargs))\n",
    "            \n",
    "        for channel in self.channels:\n",
    "            for function in self.functions:\n",
    "                print_function_targeted = partial(print_function, ch=channel, function=function)\n",
    "                exec(\"cls.{ch}_{fn} = print_function_targeted\".format(ch=str(channel), fn=function))\n",
    "#         cls.ch1_trig_in = print_function\n",
    "        return cls"
   ]
  },
  {
   "cell_type": "markdown",
   "metadata": {},
   "source": [
    "# Test PulseSequence"
   ]
  },
  {
   "cell_type": "code",
   "execution_count": 11,
   "metadata": {
    "collapsed": false
   },
   "outputs": [],
   "source": [
    "from silq.pulses import PulseSequence, DCPulse, TriggerPulse, SinePulse\n",
    "\n",
    "class TestPulseSequence(unittest.TestCase):\n",
    "    def setUp(self):\n",
    "        self.pulse_sequence = PulseSequence()\n",
    "        \n",
    "    def test_add_remove_pulse(self):\n",
    "        pulse = DCPulse(name='dc', amplitude=1.5, duration=10, t_start=0)\n",
    "        self.pulse_sequence.add(pulse)\n",
    "        self.assertIn(pulse, self.pulse_sequence)\n",
    "\n",
    "        # Remove pulses\n",
    "        self.pulse_sequence.clear()\n",
    "        self.assertEqual(len(self.pulse_sequence.pulses), 0)\n",
    "        \n",
    "    def test_sort(self):\n",
    "        pulse1 = DCPulse(name='dc1', amplitude=1.5, duration=10, t_start=1)\n",
    "        pulse2 = DCPulse(name='dc2', amplitude=1.5, duration=10, t_start=0)\n",
    "        self.pulse_sequence.add(pulse1)\n",
    "        self.pulse_sequence.add(pulse2)\n",
    "        self.assertEqual(pulse2, self.pulse_sequence[0])"
   ]
  },
  {
   "cell_type": "code",
   "execution_count": 12,
   "metadata": {
    "collapsed": false
   },
   "outputs": [
    {
     "name": "stderr",
     "output_type": "stream",
     "text": [
      "..\n",
      "----------------------------------------------------------------------\n",
      "Ran 2 tests in 0.001s\n",
      "\n",
      "OK\n"
     ]
    },
    {
     "data": {
      "text/plain": [
       "<unittest.runner.TextTestResult run=2 errors=0 failures=0>"
      ]
     },
     "execution_count": 12,
     "metadata": {},
     "output_type": "execute_result"
    }
   ],
   "source": [
    "test_pulse_sequence = TestPulseSequence()\n",
    "\n",
    "suite = unittest.TestLoader().loadTestsFromModule(test_pulse_sequence)\n",
    "unittest.TextTestRunner().run(suite)"
   ]
  },
  {
   "cell_type": "markdown",
   "metadata": {},
   "source": [
    "# Test ArbStudio"
   ]
  },
  {
   "cell_type": "code",
   "execution_count": 13,
   "metadata": {
    "collapsed": false
   },
   "outputs": [],
   "source": [
    "channels = ['ch1', 'ch2', 'ch3', 'ch4']\n",
    "functions = ['trigger_source', 'trigger_mode', 'add_waveform', 'sequence']\n",
    "\n",
    "@AddChannelFunctions(channels, functions)\n",
    "class MockArbStudio:\n",
    "    def __init__(self):\n",
    "        pass\n",
    "    \n",
    "arbstudio = MockArbStudio()"
   ]
  },
  {
   "cell_type": "code",
   "execution_count": 19,
   "metadata": {
    "collapsed": false
   },
   "outputs": [],
   "source": [
    "from silq.meta_instruments.instrument_interfaces import get_instrument_interface\n",
    "\n",
    "class TestArbStudio(unittest.TestCase):\n",
    "    def setUp(self):\n",
    "        self.pulse_sequence = PulseSequence()\n",
    "        self.arbstudio = MockArbStudio()\n",
    "        self.arbstudio_interface = get_instrument_interface(self.arbstudio)\n",
    "        \n",
    "    def test_pulse_implementation(self):\n",
    "        sine_pulse = SinePulse(t_start=0, duration=10, frequency=1e6, amplitude=1)\n",
    "        self.assertIsNone(self.arbstudio_interface.get_pulse_implementation(sine_pulse))\n",
    "        \n",
    "        DC_pulse = DCPulse(t_start=0, duration=10, amplitude=1)\n",
    "        self.assertIsNotNone(self.arbstudio_interface.get_pulse_implementation(DC_pulse))\n",
    "        DC_pulse.amplitude=3\n",
    "        self.assertIsNone(self.arbstudio_interface.get_pulse_implementation(DC_pulse))\n",
    "        \n",
    "    def test_ELR_programming(self):\n",
    "        empty_pulse = DCPulse(name='empty', t_start=0, duration=10, amplitude=1.5)\n",
    "        load_pulse = DCPulse(name='load', t_start=10, duration=10, amplitude=-1.5)\n",
    "        read_pulse = DCPulse(name='read', t_start=20, duration=10, amplitude=0)\n",
    "        pulses = [empty_pulse, load_pulse, read_pulse]\n",
    "        for pulse in pulses:\n",
    "            self.arbstudio_interface.pulse_sequence.add(pulse)\n",
    "        self.arbstudio_interface.setup()"
   ]
  },
  {
   "cell_type": "code",
   "execution_count": 20,
   "metadata": {
    "collapsed": false
   },
   "outputs": [
    {
     "name": "stderr",
     "output_type": "stream",
     "text": [
      "E.\n",
      "======================================================================\n",
      "ERROR: test_ELR_programming (__main__.TestArbStudio)\n",
      "----------------------------------------------------------------------\n",
      "Traceback (most recent call last):\n",
      "  File \"<ipython-input-19-c9392912dd3b>\", line 25, in test_ELR_programming\n",
      "    self.arbstudio_interface.setup()\n",
      "  File \"C:\\Users\\serwa_000\\Documents\\GitHub\\SilQ\\silq\\meta_instruments\\instrument_interfaces\\lecroy\\ArbStudio1104.py\", line 37, in setup\n",
      "    for pulse in self.pulse_sequence])\n",
      "  File \"C:\\Users\\serwa_000\\Documents\\GitHub\\SilQ\\silq\\meta_instruments\\instrument_interfaces\\lecroy\\ArbStudio1104.py\", line 37, in <listcomp>\n",
      "    for pulse in self.pulse_sequence])\n",
      "AttributeError: 'NoneType' object has no attribute 'output_channel'\n",
      "\n",
      "----------------------------------------------------------------------\n",
      "Ran 2 tests in 0.001s\n",
      "\n",
      "FAILED (errors=1)\n"
     ]
    },
    {
     "data": {
      "text/plain": [
       "<unittest.runner.TextTestResult run=2 errors=1 failures=0>"
      ]
     },
     "execution_count": 20,
     "metadata": {},
     "output_type": "execute_result"
    }
   ],
   "source": [
    "test_arbstudio = TestArbStudio()\n",
    "\n",
    "suite = unittest.TestLoader().loadTestsFromModule(test_arbstudio)\n",
    "unittest.TextTestRunner().run(suite)"
   ]
  },
  {
   "cell_type": "markdown",
   "metadata": {},
   "source": [
    "# Other"
   ]
  },
  {
   "cell_type": "code",
   "execution_count": 10,
   "metadata": {
    "collapsed": false
   },
   "outputs": [
    {
     "ename": "ImportError",
     "evalue": "No module named 'silq.meta_instruments.PulseSequence'",
     "output_type": "error",
     "traceback": [
      "\u001b[1;31m---------------------------------------------------------------------------\u001b[0m",
      "\u001b[1;31mImportError\u001b[0m                               Traceback (most recent call last)",
      "\u001b[1;32m<ipython-input-10-08a7d9965b68>\u001b[0m in \u001b[0;36m<module>\u001b[1;34m()\u001b[0m\n\u001b[1;32m----> 1\u001b[1;33m \u001b[1;32mfrom\u001b[0m \u001b[0msilq\u001b[0m\u001b[1;33m.\u001b[0m\u001b[0mmeta_instruments\u001b[0m\u001b[1;33m.\u001b[0m\u001b[0mPulseSequence\u001b[0m \u001b[1;32mimport\u001b[0m \u001b[0mPulseSequence\u001b[0m\u001b[1;33m\u001b[0m\u001b[0m\n\u001b[0m\u001b[0;32m      2\u001b[0m \u001b[1;32mfrom\u001b[0m \u001b[0msilq\u001b[0m\u001b[1;33m.\u001b[0m\u001b[0mmeta_instruments\u001b[0m \u001b[1;32mimport\u001b[0m \u001b[0mpulses\u001b[0m\u001b[1;33m\u001b[0m\u001b[0m\n",
      "\u001b[1;31mImportError\u001b[0m: No module named 'silq.meta_instruments.PulseSequence'"
     ]
    }
   ],
   "source": [
    "from silq.meta_instruments.PulseSequence import PulseSequence\n",
    "from silq.meta_instruments import pulses"
   ]
  },
  {
   "cell_type": "code",
   "execution_count": null,
   "metadata": {
    "collapsed": true
   },
   "outputs": [],
   "source": [
    "pulse_sequence = PulseSequence()"
   ]
  },
  {
   "cell_type": "code",
   "execution_count": null,
   "metadata": {
    "collapsed": false
   },
   "outputs": [],
   "source": [
    "sine_pulse1 = pulses.SinePulse(frequency=1e6, amplitude=1, t_start=0, t_stop=2)\n",
    "sine_pulse2 = pulses.SinePulse(frequency=.4e6, amplitude=1, t_start=1, t_stop=3)"
   ]
  },
  {
   "cell_type": "code",
   "execution_count": null,
   "metadata": {
    "collapsed": false
   },
   "outputs": [],
   "source": [
    "pulse_sequence.add_pulse(sine_pulse2)\n",
    "pulse_sequence.add_pulse(sine_pulse1)\n",
    "pulse_sequence.sort_pulses()"
   ]
  },
  {
   "cell_type": "code",
   "execution_count": null,
   "metadata": {
    "collapsed": false
   },
   "outputs": [],
   "source": [
    "x = [[],[],[]]"
   ]
  },
  {
   "cell_type": "code",
   "execution_count": null,
   "metadata": {
    "collapsed": false
   },
   "outputs": [],
   "source": [
    "x[0] += [2]"
   ]
  },
  {
   "cell_type": "code",
   "execution_count": null,
   "metadata": {
    "collapsed": false
   },
   "outputs": [],
   "source": [
    "x.sort()"
   ]
  },
  {
   "cell_type": "code",
   "execution_count": null,
   "metadata": {
    "collapsed": false
   },
   "outputs": [],
   "source": [
    "class TestClass:\n",
    "    def __init__(self, pulses):\n",
    "        self.pulses = pulses\n",
    "        \n",
    "    def __getitem__(self, index):\n",
    "        return self.pulses[index]\n",
    "    \n",
    "    def fun1(self):\n",
    "        print('fun1')\n",
    "        \n",
    "    @staticmethod\n",
    "    def fun2():\n",
    "        print('fun2')"
   ]
  },
  {
   "cell_type": "code",
   "execution_count": null,
   "metadata": {
    "collapsed": true
   },
   "outputs": [],
   "source": [
    "class TestClassChild(TestClass):\n",
    "    def __init__(self, pulses):\n",
    "        self.pulses = pulses\n",
    "        \n",
    "    def __getitem__(self, index):\n",
    "        return self.pulses[index]\n",
    "    \n",
    "    def fun1(self):\n",
    "        print('fun1')\n",
    "        \n",
    "    @staticmethod\n",
    "    def fun2():\n",
    "        print('fun2')"
   ]
  },
  {
   "cell_type": "code",
   "execution_count": null,
   "metadata": {
    "collapsed": false
   },
   "outputs": [],
   "source": [
    "test_class = TestClassChild([1,2,3])"
   ]
  },
  {
   "cell_type": "code",
   "execution_count": null,
   "metadata": {
    "collapsed": false
   },
   "outputs": [],
   "source": [
    "isinstance(test_class, TestClass)"
   ]
  }
 ],
 "metadata": {
  "anaconda-cloud": {},
  "kernelspec": {
   "display_name": "Python [Root]",
   "language": "python",
   "name": "Python [Root]"
  },
  "language_info": {
   "codemirror_mode": {
    "name": "ipython",
    "version": 3
   },
   "file_extension": ".py",
   "mimetype": "text/x-python",
   "name": "python",
   "nbconvert_exporter": "python",
   "pygments_lexer": "ipython3",
   "version": "3.5.2"
  }
 },
 "nbformat": 4,
 "nbformat_minor": 0
}
